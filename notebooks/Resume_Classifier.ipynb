{
 "cells": [
  {
   "cell_type": "code",
   "execution_count": 20,
   "id": "fea70643-0527-4763-bfb4-10c03cbc4a38",
   "metadata": {},
   "outputs": [
    {
     "name": "stdout",
     "output_type": "stream",
     "text": [
      "C:\\Users\\gopko\\Documents\\GitHub\\ML-Resume-Classifier\\resume-ml-env\\Scripts\\python.exe\n"
     ]
    }
   ],
   "source": [
    "import sys\n",
    "print(sys.executable)"
   ]
  },
  {
   "cell_type": "code",
   "execution_count": 19,
   "id": "04c5b6fe-431c-4d38-bc50-2d033dce7ecc",
   "metadata": {},
   "outputs": [
    {
     "name": "stdout",
     "output_type": "stream",
     "text": [
      "True\n"
     ]
    }
   ],
   "source": [
    "import os\n",
    "print(os.path.exists(\"../data/resume_data.csv\"))\n"
   ]
  },
  {
   "cell_type": "code",
   "execution_count": 23,
   "id": "23db4751-2e35-48e7-ac8a-09052a5a8b50",
   "metadata": {},
   "outputs": [
    {
     "name": "stdout",
     "output_type": "stream",
     "text": [
      "True\n"
     ]
    }
   ],
   "source": [
    "import os\n",
    "print(os.path.exists(r\"C:\\Users\\gopko\\Documents\\GitHub\\ML-Resume-Classifier\\data\\resume_data.csv\"))\n"
   ]
  },
  {
   "cell_type": "code",
   "execution_count": 24,
   "id": "df4e5353-7b7d-4fd8-979f-c8dde84fea35",
   "metadata": {
    "scrolled": true
   },
   "outputs": [
    {
     "data": {
      "text/html": [
       "<div>\n",
       "<style scoped>\n",
       "    .dataframe tbody tr th:only-of-type {\n",
       "        vertical-align: middle;\n",
       "    }\n",
       "\n",
       "    .dataframe tbody tr th {\n",
       "        vertical-align: top;\n",
       "    }\n",
       "\n",
       "    .dataframe thead th {\n",
       "        text-align: right;\n",
       "    }\n",
       "</style>\n",
       "<table border=\"1\" class=\"dataframe\">\n",
       "  <thead>\n",
       "    <tr style=\"text-align: right;\">\n",
       "      <th></th>\n",
       "      <th>index</th>\n",
       "      <th>category</th>\n",
       "      <th>linkedin</th>\n",
       "      <th>profile_picture</th>\n",
       "      <th>description</th>\n",
       "      <th>Experience</th>\n",
       "      <th>Name</th>\n",
       "      <th>position</th>\n",
       "      <th>location</th>\n",
       "      <th>skills</th>\n",
       "      <th>clean_skills</th>\n",
       "    </tr>\n",
       "  </thead>\n",
       "  <tbody>\n",
       "    <tr>\n",
       "      <th>0</th>\n",
       "      <td>1</td>\n",
       "      <td>HR</td>\n",
       "      <td>https://in.linkedin.com/in/sameer-wadhawan-b55...</td>\n",
       "      <td>https://media-exp1.licdn.com/dms/image/C5603AQ...</td>\n",
       "      <td>An experienced HR professional,  HR mentor and...</td>\n",
       "      <td>Senior Vice President &amp; Head of HRCompany Name...</td>\n",
       "      <td>Sameer Wadhawan</td>\n",
       "      <td>Senior Vice President and Head of HR- Samsung ...</td>\n",
       "      <td>Gurgaon, Haryana, India</td>\n",
       "      <td>['\\nPerformance Management\\n', '\\nHuman Resour...</td>\n",
       "      <td>['Performance Management', 'Human Resources', ...</td>\n",
       "    </tr>\n",
       "    <tr>\n",
       "      <th>1</th>\n",
       "      <td>2</td>\n",
       "      <td>HR</td>\n",
       "      <td>https://in.linkedin.com/in/adarsh-krishna-a4ab0a5</td>\n",
       "      <td>https://media-exp1.licdn.com/dms/image/C5103AQ...</td>\n",
       "      <td>Head Talent Acquisition, HR Leader and Strateg...</td>\n",
       "      <td>Head of Talent Acquisition - India &amp; APAC and ...</td>\n",
       "      <td>Adarsh Krishna</td>\n",
       "      <td>Head Talent Acquisition and HR Leader for Heal...</td>\n",
       "      <td>Pune, Maharashtra, India</td>\n",
       "      <td>['\\nTalent Acquisition\\n', '\\nEmployee Engagem...</td>\n",
       "      <td>['Talent Acquisition', 'Employee Engagement', ...</td>\n",
       "    </tr>\n",
       "    <tr>\n",
       "      <th>2</th>\n",
       "      <td>3</td>\n",
       "      <td>HR</td>\n",
       "      <td>https://in.linkedin.com/in/shrivas-mohit</td>\n",
       "      <td>data:image/gif;base64,R0lGODlhAQABAIAAAAAAAP//...</td>\n",
       "      <td>A Talent Acquisition and HR professional with ...</td>\n",
       "      <td>Company NameIBM INDIA Pvt LtdTotal Duration8 y...</td>\n",
       "      <td>Shrivas Mohit</td>\n",
       "      <td>HR@IBM</td>\n",
       "      <td>Bengaluru, Karnataka, India</td>\n",
       "      <td>['\\nHuman Resources\\n', '\\nRecruiting\\n', '\\nT...</td>\n",
       "      <td>['Human Resources', 'Recruiting', 'Team Manage...</td>\n",
       "    </tr>\n",
       "    <tr>\n",
       "      <th>3</th>\n",
       "      <td>4</td>\n",
       "      <td>HR</td>\n",
       "      <td>https://in.linkedin.com/in/hr-hopes-086734b8</td>\n",
       "      <td>data:image/gif;base64,R0lGODlhAQABAIAAAAAAAP//...</td>\n",
       "      <td>NaN</td>\n",
       "      <td>HR/Admin/Personnel/LegalCompany NameHR and HR ...</td>\n",
       "      <td>HR Hopes</td>\n",
       "      <td>HR</td>\n",
       "      <td>Pune Area, India</td>\n",
       "      <td>[]</td>\n",
       "      <td>['']</td>\n",
       "    </tr>\n",
       "    <tr>\n",
       "      <th>4</th>\n",
       "      <td>5</td>\n",
       "      <td>HR</td>\n",
       "      <td>https://in.linkedin.com/in/rakeshkumar01</td>\n",
       "      <td>https://media-exp1.licdn.com/dms/image/C5103AQ...</td>\n",
       "      <td>Over 18 Years of experience in IT /ITES  / BPO...</td>\n",
       "      <td>Company NameEXLTotal Duration6 yrs 4 mosTitleV...</td>\n",
       "      <td>Rakesh Kumar</td>\n",
       "      <td>Vice President - Digital HR Transformation Lea...</td>\n",
       "      <td>Central Delhi, Delhi, India</td>\n",
       "      <td>['\\nTeam Management\\n', '\\nHuman Resources\\n',...</td>\n",
       "      <td>['Team Management', 'Human Resources', 'Employ...</td>\n",
       "    </tr>\n",
       "  </tbody>\n",
       "</table>\n",
       "</div>"
      ],
      "text/plain": [
       "   index category                                           linkedin  \\\n",
       "0      1       HR  https://in.linkedin.com/in/sameer-wadhawan-b55...   \n",
       "1      2       HR  https://in.linkedin.com/in/adarsh-krishna-a4ab0a5   \n",
       "2      3       HR           https://in.linkedin.com/in/shrivas-mohit   \n",
       "3      4       HR       https://in.linkedin.com/in/hr-hopes-086734b8   \n",
       "4      5       HR           https://in.linkedin.com/in/rakeshkumar01   \n",
       "\n",
       "                                     profile_picture  \\\n",
       "0  https://media-exp1.licdn.com/dms/image/C5603AQ...   \n",
       "1  https://media-exp1.licdn.com/dms/image/C5103AQ...   \n",
       "2  data:image/gif;base64,R0lGODlhAQABAIAAAAAAAP//...   \n",
       "3  data:image/gif;base64,R0lGODlhAQABAIAAAAAAAP//...   \n",
       "4  https://media-exp1.licdn.com/dms/image/C5103AQ...   \n",
       "\n",
       "                                         description  \\\n",
       "0  An experienced HR professional,  HR mentor and...   \n",
       "1  Head Talent Acquisition, HR Leader and Strateg...   \n",
       "2  A Talent Acquisition and HR professional with ...   \n",
       "3                                                NaN   \n",
       "4  Over 18 Years of experience in IT /ITES  / BPO...   \n",
       "\n",
       "                                          Experience             Name  \\\n",
       "0  Senior Vice President & Head of HRCompany Name...  Sameer Wadhawan   \n",
       "1  Head of Talent Acquisition - India & APAC and ...   Adarsh Krishna   \n",
       "2  Company NameIBM INDIA Pvt LtdTotal Duration8 y...    Shrivas Mohit   \n",
       "3  HR/Admin/Personnel/LegalCompany NameHR and HR ...         HR Hopes   \n",
       "4  Company NameEXLTotal Duration6 yrs 4 mosTitleV...     Rakesh Kumar   \n",
       "\n",
       "                                            position  \\\n",
       "0  Senior Vice President and Head of HR- Samsung ...   \n",
       "1  Head Talent Acquisition and HR Leader for Heal...   \n",
       "2                                             HR@IBM   \n",
       "3                                                 HR   \n",
       "4  Vice President - Digital HR Transformation Lea...   \n",
       "\n",
       "                      location  \\\n",
       "0      Gurgaon, Haryana, India   \n",
       "1     Pune, Maharashtra, India   \n",
       "2  Bengaluru, Karnataka, India   \n",
       "3             Pune Area, India   \n",
       "4  Central Delhi, Delhi, India   \n",
       "\n",
       "                                              skills  \\\n",
       "0  ['\\nPerformance Management\\n', '\\nHuman Resour...   \n",
       "1  ['\\nTalent Acquisition\\n', '\\nEmployee Engagem...   \n",
       "2  ['\\nHuman Resources\\n', '\\nRecruiting\\n', '\\nT...   \n",
       "3                                                 []   \n",
       "4  ['\\nTeam Management\\n', '\\nHuman Resources\\n',...   \n",
       "\n",
       "                                        clean_skills  \n",
       "0  ['Performance Management', 'Human Resources', ...  \n",
       "1  ['Talent Acquisition', 'Employee Engagement', ...  \n",
       "2  ['Human Resources', 'Recruiting', 'Team Manage...  \n",
       "3                                               ['']  \n",
       "4  ['Team Management', 'Human Resources', 'Employ...  "
      ]
     },
     "execution_count": 24,
     "metadata": {},
     "output_type": "execute_result"
    }
   ],
   "source": [
    "import pandas as pd\n",
    "file_path = r\"C:\\Users\\gopko\\Documents\\GitHub\\ML-Resume-Classifier\\data\\resume_data.csv\"\n",
    "df = pd.read_csv(file_path)\n",
    "df.head()\n"
   ]
  },
  {
   "cell_type": "code",
   "execution_count": 25,
   "id": "caf0ef2a-61ff-46e9-91db-cfab2b7f5e21",
   "metadata": {},
   "outputs": [
    {
     "name": "stdout",
     "output_type": "stream",
     "text": [
      "<class 'pandas.core.frame.DataFrame'>\n",
      "RangeIndex: 1251 entries, 0 to 1250\n",
      "Data columns (total 11 columns):\n",
      " #   Column           Non-Null Count  Dtype \n",
      "---  ------           --------------  ----- \n",
      " 0   index            1251 non-null   int64 \n",
      " 1   category         1251 non-null   object\n",
      " 2   linkedin         1251 non-null   object\n",
      " 3   profile_picture  1239 non-null   object\n",
      " 4   description      670 non-null    object\n",
      " 5   Experience       1226 non-null   object\n",
      " 6   Name             1239 non-null   object\n",
      " 7   position         1239 non-null   object\n",
      " 8   location         1239 non-null   object\n",
      " 9   skills           1251 non-null   object\n",
      " 10  clean_skills     1251 non-null   object\n",
      "dtypes: int64(1), object(10)\n",
      "memory usage: 107.6+ KB\n"
     ]
    }
   ],
   "source": [
    "df.info()\n"
   ]
  },
  {
   "cell_type": "code",
   "execution_count": 26,
   "id": "1f9f637e-846c-4b7a-8a5e-b0cc9003afe3",
   "metadata": {},
   "outputs": [
    {
     "name": "stdout",
     "output_type": "stream",
     "text": [
      "index                0\n",
      "category             0\n",
      "linkedin             0\n",
      "profile_picture     12\n",
      "description        581\n",
      "Experience          25\n",
      "Name                12\n",
      "position            12\n",
      "location            12\n",
      "skills               0\n",
      "clean_skills         0\n",
      "dtype: int64\n"
     ]
    }
   ],
   "source": [
    "print(df.isnull().sum())\n"
   ]
  },
  {
   "cell_type": "code",
   "execution_count": 28,
   "id": "cd77c606-53b8-4848-b314-b04657cf8b74",
   "metadata": {},
   "outputs": [
    {
     "name": "stdout",
     "output_type": "stream",
     "text": [
      "Index(['index', 'category', 'linkedin', 'profile_picture', 'description',\n",
      "       'Experience', 'Name', 'position', 'location', 'skills', 'clean_skills'],\n",
      "      dtype='object')\n"
     ]
    }
   ],
   "source": [
    "print(df.columns)\n"
   ]
  },
  {
   "cell_type": "code",
   "execution_count": 29,
   "id": "241a1337-ba97-4420-b887-01b9d2b9708f",
   "metadata": {},
   "outputs": [
    {
     "name": "stdout",
     "output_type": "stream",
     "text": [
      "  category                                        description  \\\n",
      "0       HR  An experienced HR professional,  HR mentor and...   \n",
      "1       HR  Head Talent Acquisition, HR Leader and Strateg...   \n",
      "2       HR  A Talent Acquisition and HR professional with ...   \n",
      "3       HR                                                NaN   \n",
      "4       HR  Over 18 Years of experience in IT /ITES  / BPO...   \n",
      "\n",
      "                                          Experience             Name  \\\n",
      "0  Senior Vice President & Head of HRCompany Name...  Sameer Wadhawan   \n",
      "1  Head of Talent Acquisition - India & APAC and ...   Adarsh Krishna   \n",
      "2  Company NameIBM INDIA Pvt LtdTotal Duration8 y...    Shrivas Mohit   \n",
      "3  HR/Admin/Personnel/LegalCompany NameHR and HR ...         HR Hopes   \n",
      "4  Company NameEXLTotal Duration6 yrs 4 mosTitleV...     Rakesh Kumar   \n",
      "\n",
      "                                            position  \\\n",
      "0  Senior Vice President and Head of HR- Samsung ...   \n",
      "1  Head Talent Acquisition and HR Leader for Heal...   \n",
      "2                                             HR@IBM   \n",
      "3                                                 HR   \n",
      "4  Vice President - Digital HR Transformation Lea...   \n",
      "\n",
      "                      location  \\\n",
      "0      Gurgaon, Haryana, India   \n",
      "1     Pune, Maharashtra, India   \n",
      "2  Bengaluru, Karnataka, India   \n",
      "3             Pune Area, India   \n",
      "4  Central Delhi, Delhi, India   \n",
      "\n",
      "                                              skills  \\\n",
      "0  ['\\nPerformance Management\\n', '\\nHuman Resour...   \n",
      "1  ['\\nTalent Acquisition\\n', '\\nEmployee Engagem...   \n",
      "2  ['\\nHuman Resources\\n', '\\nRecruiting\\n', '\\nT...   \n",
      "3                                                 []   \n",
      "4  ['\\nTeam Management\\n', '\\nHuman Resources\\n',...   \n",
      "\n",
      "                                        clean_skills  \n",
      "0  ['Performance Management', 'Human Resources', ...  \n",
      "1  ['Talent Acquisition', 'Employee Engagement', ...  \n",
      "2  ['Human Resources', 'Recruiting', 'Team Manage...  \n",
      "3                                               ['']  \n",
      "4  ['Team Management', 'Human Resources', 'Employ...  \n"
     ]
    }
   ],
   "source": [
    "df = df.drop(columns=['index', 'profile_picture', 'linkedin'])\n",
    "print(df.head())"
   ]
  },
  {
   "cell_type": "code",
   "execution_count": 30,
   "id": "5a0e54d9-aafc-4091-85b6-6e8f0ba326de",
   "metadata": {},
   "outputs": [
    {
     "name": "stdout",
     "output_type": "stream",
     "text": [
      "category        0\n",
      "description     0\n",
      "Experience      0\n",
      "Name            0\n",
      "position        0\n",
      "location        0\n",
      "skills          0\n",
      "clean_skills    0\n",
      "dtype: int64\n"
     ]
    }
   ],
   "source": [
    "df = df.fillna(\"Unknown\")\n",
    "print(df.isnull().sum())  \n"
   ]
  },
  {
   "cell_type": "code",
   "execution_count": 31,
   "id": "5826eb9b-cf87-4b07-b775-8b70b477d39b",
   "metadata": {},
   "outputs": [
    {
     "name": "stdout",
     "output_type": "stream",
     "text": [
      "['HR' 'Designing' 'Managment' 'Information Technology' 'Education'\n",
      " 'Advocate' 'Business Development' 'Health & Fitness' 'Agricultural' 'BPO'\n",
      " 'Sales' 'Consultant' 'Digital Media' 'Building & Construction'\n",
      " 'Automobile' 'Banking' 'Engineering' 'Food & Beverages' 'Finance'\n",
      " 'Apparel' 'Accountant' 'Architects' 'Public Relations' 'Arts' 'Aviation']\n"
     ]
    }
   ],
   "source": [
    "print(df[\"category\"].unique())\n"
   ]
  },
  {
   "cell_type": "code",
   "execution_count": 33,
   "id": "670a4c88-ff08-4885-83c4-4c0d274db45a",
   "metadata": {},
   "outputs": [
    {
     "data": {
      "image/png": "[encoded data removed]",
      "text/plain": [
       "<Figure size 1000x500 with 1 Axes>"
      ]
     },
     "metadata": {},
     "output_type": "display_data"
    }
   ],
   "source": [
    "import seaborn as sns\n",
    "import matplotlib.pyplot as plt\n",
    "\n",
    "# Count the number of resumes per job category\n",
    "plt.figure(figsize=(10, 5))\n",
    "sns.countplot(y=df[\"category\"], order=df[\"category\"].value_counts().index)\n",
    "plt.xlabel(\"Number of Resumes\")\n",
    "plt.ylabel(\"Job Category\")\n",
    "plt.title(\"Distribution of Resume Categories\")\n",
    "plt.show()\n"
   ]
  },
  {
   "cell_type": "code",
   "execution_count": 34,
   "id": "70a77090-f582-40b0-bac9-6fa66725af70",
   "metadata": {},
   "outputs": [
    {
     "data": {
      "text/html": [
       "<div>\n",
       "<style scoped>\n",
       "    .dataframe tbody tr th:only-of-type {\n",
       "        vertical-align: middle;\n",
       "    }\n",
       "\n",
       "    .dataframe tbody tr th {\n",
       "        vertical-align: top;\n",
       "    }\n",
       "\n",
       "    .dataframe thead th {\n",
       "        text-align: right;\n",
       "    }\n",
       "</style>\n",
       "<table border=\"1\" class=\"dataframe\">\n",
       "  <thead>\n",
       "    <tr style=\"text-align: right;\">\n",
       "      <th></th>\n",
       "      <th>description_length</th>\n",
       "    </tr>\n",
       "    <tr>\n",
       "      <th>category</th>\n",
       "      <th></th>\n",
       "    </tr>\n",
       "  </thead>\n",
       "  <tbody>\n",
       "    <tr>\n",
       "      <th>Accountant</th>\n",
       "      <td>87.480000</td>\n",
       "    </tr>\n",
       "    <tr>\n",
       "      <th>Advocate</th>\n",
       "      <td>130.886792</td>\n",
       "    </tr>\n",
       "    <tr>\n",
       "      <th>Agricultural</th>\n",
       "      <td>118.714286</td>\n",
       "    </tr>\n",
       "    <tr>\n",
       "      <th>Apparel</th>\n",
       "      <td>54.480000</td>\n",
       "    </tr>\n",
       "    <tr>\n",
       "      <th>Architects</th>\n",
       "      <td>73.440000</td>\n",
       "    </tr>\n",
       "    <tr>\n",
       "      <th>Arts</th>\n",
       "      <td>63.120000</td>\n",
       "    </tr>\n",
       "    <tr>\n",
       "      <th>Automobile</th>\n",
       "      <td>44.580000</td>\n",
       "    </tr>\n",
       "    <tr>\n",
       "      <th>Aviation</th>\n",
       "      <td>69.240000</td>\n",
       "    </tr>\n",
       "    <tr>\n",
       "      <th>BPO</th>\n",
       "      <td>51.980000</td>\n",
       "    </tr>\n",
       "    <tr>\n",
       "      <th>Banking</th>\n",
       "      <td>105.040816</td>\n",
       "    </tr>\n",
       "    <tr>\n",
       "      <th>Building &amp; Construction</th>\n",
       "      <td>71.240000</td>\n",
       "    </tr>\n",
       "    <tr>\n",
       "      <th>Business Development</th>\n",
       "      <td>182.280000</td>\n",
       "    </tr>\n",
       "    <tr>\n",
       "      <th>Consultant</th>\n",
       "      <td>170.380000</td>\n",
       "    </tr>\n",
       "    <tr>\n",
       "      <th>Designing</th>\n",
       "      <td>122.580000</td>\n",
       "    </tr>\n",
       "    <tr>\n",
       "      <th>Digital Media</th>\n",
       "      <td>157.540000</td>\n",
       "    </tr>\n",
       "    <tr>\n",
       "      <th>Education</th>\n",
       "      <td>119.800000</td>\n",
       "    </tr>\n",
       "    <tr>\n",
       "      <th>Engineering</th>\n",
       "      <td>134.400000</td>\n",
       "    </tr>\n",
       "    <tr>\n",
       "      <th>Finance</th>\n",
       "      <td>61.180000</td>\n",
       "    </tr>\n",
       "    <tr>\n",
       "      <th>Food &amp; Beverages</th>\n",
       "      <td>105.340000</td>\n",
       "    </tr>\n",
       "    <tr>\n",
       "      <th>HR</th>\n",
       "      <td>191.100000</td>\n",
       "    </tr>\n",
       "    <tr>\n",
       "      <th>Health &amp; Fitness</th>\n",
       "      <td>211.820000</td>\n",
       "    </tr>\n",
       "    <tr>\n",
       "      <th>Information Technology</th>\n",
       "      <td>155.820000</td>\n",
       "    </tr>\n",
       "    <tr>\n",
       "      <th>Managment</th>\n",
       "      <td>71.660000</td>\n",
       "    </tr>\n",
       "    <tr>\n",
       "      <th>Public Relations</th>\n",
       "      <td>175.780000</td>\n",
       "    </tr>\n",
       "    <tr>\n",
       "      <th>Sales</th>\n",
       "      <td>172.860000</td>\n",
       "    </tr>\n",
       "  </tbody>\n",
       "</table>\n",
       "</div>"
      ],
      "text/plain": [
       "                         description_length\n",
       "category                                   \n",
       "Accountant                        87.480000\n",
       "Advocate                         130.886792\n",
       "Agricultural                     118.714286\n",
       "Apparel                           54.480000\n",
       "Architects                        73.440000\n",
       "Arts                              63.120000\n",
       "Automobile                        44.580000\n",
       "Aviation                          69.240000\n",
       "BPO                               51.980000\n",
       "Banking                          105.040816\n",
       "Building & Construction           71.240000\n",
       "Business Development             182.280000\n",
       "Consultant                       170.380000\n",
       "Designing                        122.580000\n",
       "Digital Media                    157.540000\n",
       "Education                        119.800000\n",
       "Engineering                      134.400000\n",
       "Finance                           61.180000\n",
       "Food & Beverages                 105.340000\n",
       "HR                               191.100000\n",
       "Health & Fitness                 211.820000\n",
       "Information Technology           155.820000\n",
       "Managment                         71.660000\n",
       "Public Relations                 175.780000\n",
       "Sales                            172.860000"
      ]
     },
     "execution_count": 34,
     "metadata": {},
     "output_type": "execute_result"
    }
   ],
   "source": [
    "df[\"description_length\"] = df[\"description\"].apply(lambda x: len(x) if x != \"Unknown\" else 0)\n",
    "df[[\"category\", \"description_length\"]].groupby(\"category\").mean()"
   ]
  },
  {
   "cell_type": "code",
   "execution_count": 35,
   "id": "a0d72762-96bb-4421-921e-d05385cecb88",
   "metadata": {},
   "outputs": [
    {
     "name": "stdout",
     "output_type": "stream",
     "text": [
      "Cleaned dataset saved successfully!\n"
     ]
    }
   ],
   "source": [
    "df.to_csv(\"../data/resume_data_cleaned.csv\", index=False)\n",
    "\n",
    "print(\"Cleaned dataset saved successfully!\")\n"
   ]
  },
  {
   "cell_type": "code",
   "execution_count": 4,
   "id": "0f7d2cea-2e22-4e6e-826f-a05c8bb41dfb",
   "metadata": {},
   "outputs": [
    {
     "data": {
      "text/html": [
       "<div>\n",
       "<style scoped>\n",
       "    .dataframe tbody tr th:only-of-type {\n",
       "        vertical-align: middle;\n",
       "    }\n",
       "\n",
       "    .dataframe tbody tr th {\n",
       "        vertical-align: top;\n",
       "    }\n",
       "\n",
       "    .dataframe thead th {\n",
       "        text-align: right;\n",
       "    }\n",
       "</style>\n",
       "<table border=\"1\" class=\"dataframe\">\n",
       "  <thead>\n",
       "    <tr style=\"text-align: right;\">\n",
       "      <th></th>\n",
       "      <th>description</th>\n",
       "      <th>clean_description</th>\n",
       "    </tr>\n",
       "  </thead>\n",
       "  <tbody>\n",
       "    <tr>\n",
       "      <th>0</th>\n",
       "      <td>An experienced HR professional,  HR mentor and...</td>\n",
       "      <td>an experienced hr professional hr mentor and c...</td>\n",
       "    </tr>\n",
       "    <tr>\n",
       "      <th>1</th>\n",
       "      <td>Head Talent Acquisition, HR Leader and Strateg...</td>\n",
       "      <td>head talent acquisition hr leader and strategi...</td>\n",
       "    </tr>\n",
       "    <tr>\n",
       "      <th>2</th>\n",
       "      <td>A Talent Acquisition and HR professional with ...</td>\n",
       "      <td>a talent acquisition and hr professional with ...</td>\n",
       "    </tr>\n",
       "    <tr>\n",
       "      <th>3</th>\n",
       "      <td>Unknown</td>\n",
       "      <td>unknown</td>\n",
       "    </tr>\n",
       "    <tr>\n",
       "      <th>4</th>\n",
       "      <td>Over 18 Years of experience in IT /ITES  / BPO...</td>\n",
       "      <td>over years of experience in it ites bpo with l...</td>\n",
       "    </tr>\n",
       "  </tbody>\n",
       "</table>\n",
       "</div>"
      ],
      "text/plain": [
       "                                         description  \\\n",
       "0  An experienced HR professional,  HR mentor and...   \n",
       "1  Head Talent Acquisition, HR Leader and Strateg...   \n",
       "2  A Talent Acquisition and HR professional with ...   \n",
       "3                                            Unknown   \n",
       "4  Over 18 Years of experience in IT /ITES  / BPO...   \n",
       "\n",
       "                                   clean_description  \n",
       "0  an experienced hr professional hr mentor and c...  \n",
       "1  head talent acquisition hr leader and strategi...  \n",
       "2  a talent acquisition and hr professional with ...  \n",
       "3                                            unknown  \n",
       "4  over years of experience in it ites bpo with l...  "
      ]
     },
     "execution_count": 4,
     "metadata": {},
     "output_type": "execute_result"
    }
   ],
   "source": [
    "import re\n",
    "\n",
    "# Function to clean text further\n",
    "def clean_text(text):\n",
    "    text = text.lower()  # Convert to lowercase\n",
    "    text = re.sub(r\"\\d+\", \"\", text)  # Remove numbers\n",
    "    text = re.sub(r\"[^\\w\\s]\", \"\", text)  # Remove punctuation\n",
    "    text = re.sub(r\"\\s+\", \" \", text).strip()  # Remove extra spaces\n",
    "    return text\n",
    "\n",
    "# Apply text cleaning to the \"description\" column\n",
    "df[\"clean_description\"] = df[\"description\"].apply(clean_text)\n",
    "\n",
    "# Show cleaned text examples\n",
    "df[[\"description\", \"clean_description\"]].head()"
   ]
  },
  {
   "cell_type": "code",
   "execution_count": 3,
   "id": "cdd18ea4-2b21-4f2f-87ca-2218bba00e10",
   "metadata": {},
   "outputs": [
    {
     "data": {
      "text/html": [
       "<div>\n",
       "<style scoped>\n",
       "    .dataframe tbody tr th:only-of-type {\n",
       "        vertical-align: middle;\n",
       "    }\n",
       "\n",
       "    .dataframe tbody tr th {\n",
       "        vertical-align: top;\n",
       "    }\n",
       "\n",
       "    .dataframe thead th {\n",
       "        text-align: right;\n",
       "    }\n",
       "</style>\n",
       "<table border=\"1\" class=\"dataframe\">\n",
       "  <thead>\n",
       "    <tr style=\"text-align: right;\">\n",
       "      <th></th>\n",
       "      <th>category</th>\n",
       "      <th>description</th>\n",
       "      <th>Experience</th>\n",
       "      <th>Name</th>\n",
       "      <th>position</th>\n",
       "      <th>location</th>\n",
       "      <th>skills</th>\n",
       "      <th>clean_skills</th>\n",
       "      <th>description_length</th>\n",
       "    </tr>\n",
       "  </thead>\n",
       "  <tbody>\n",
       "    <tr>\n",
       "      <th>0</th>\n",
       "      <td>HR</td>\n",
       "      <td>An experienced HR professional,  HR mentor and...</td>\n",
       "      <td>Senior Vice President &amp; Head of HRCompany Name...</td>\n",
       "      <td>Sameer Wadhawan</td>\n",
       "      <td>Senior Vice President and Head of HR- Samsung ...</td>\n",
       "      <td>Gurgaon, Haryana, India</td>\n",
       "      <td>['\\nPerformance Management\\n', '\\nHuman Resour...</td>\n",
       "      <td>['Performance Management', 'Human Resources', ...</td>\n",
       "      <td>100</td>\n",
       "    </tr>\n",
       "    <tr>\n",
       "      <th>1</th>\n",
       "      <td>HR</td>\n",
       "      <td>Head Talent Acquisition, HR Leader and Strateg...</td>\n",
       "      <td>Head of Talent Acquisition - India &amp; APAC and ...</td>\n",
       "      <td>Adarsh Krishna</td>\n",
       "      <td>Head Talent Acquisition and HR Leader for Heal...</td>\n",
       "      <td>Pune, Maharashtra, India</td>\n",
       "      <td>['\\nTalent Acquisition\\n', '\\nEmployee Engagem...</td>\n",
       "      <td>['Talent Acquisition', 'Employee Engagement', ...</td>\n",
       "      <td>211</td>\n",
       "    </tr>\n",
       "    <tr>\n",
       "      <th>2</th>\n",
       "      <td>HR</td>\n",
       "      <td>A Talent Acquisition and HR professional with ...</td>\n",
       "      <td>Company NameIBM INDIA Pvt LtdTotal Duration8 y...</td>\n",
       "      <td>Shrivas Mohit</td>\n",
       "      <td>HR@IBM</td>\n",
       "      <td>Bengaluru, Karnataka, India</td>\n",
       "      <td>['\\nHuman Resources\\n', '\\nRecruiting\\n', '\\nT...</td>\n",
       "      <td>['Human Resources', 'Recruiting', 'Team Manage...</td>\n",
       "      <td>312</td>\n",
       "    </tr>\n",
       "    <tr>\n",
       "      <th>3</th>\n",
       "      <td>HR</td>\n",
       "      <td>Unknown</td>\n",
       "      <td>HR/Admin/Personnel/LegalCompany NameHR and HR ...</td>\n",
       "      <td>HR Hopes</td>\n",
       "      <td>HR</td>\n",
       "      <td>Pune Area, India</td>\n",
       "      <td>[]</td>\n",
       "      <td>['']</td>\n",
       "      <td>0</td>\n",
       "    </tr>\n",
       "    <tr>\n",
       "      <th>4</th>\n",
       "      <td>HR</td>\n",
       "      <td>Over 18 Years of experience in IT /ITES  / BPO...</td>\n",
       "      <td>Company NameEXLTotal Duration6 yrs 4 mosTitleV...</td>\n",
       "      <td>Rakesh Kumar</td>\n",
       "      <td>Vice President - Digital HR Transformation Lea...</td>\n",
       "      <td>Central Delhi, Delhi, India</td>\n",
       "      <td>['\\nTeam Management\\n', '\\nHuman Resources\\n',...</td>\n",
       "      <td>['Team Management', 'Human Resources', 'Employ...</td>\n",
       "      <td>208</td>\n",
       "    </tr>\n",
       "  </tbody>\n",
       "</table>\n",
       "</div>"
      ],
      "text/plain": [
       "  category                                        description  \\\n",
       "0       HR  An experienced HR professional,  HR mentor and...   \n",
       "1       HR  Head Talent Acquisition, HR Leader and Strateg...   \n",
       "2       HR  A Talent Acquisition and HR professional with ...   \n",
       "3       HR                                            Unknown   \n",
       "4       HR  Over 18 Years of experience in IT /ITES  / BPO...   \n",
       "\n",
       "                                          Experience             Name  \\\n",
       "0  Senior Vice President & Head of HRCompany Name...  Sameer Wadhawan   \n",
       "1  Head of Talent Acquisition - India & APAC and ...   Adarsh Krishna   \n",
       "2  Company NameIBM INDIA Pvt LtdTotal Duration8 y...    Shrivas Mohit   \n",
       "3  HR/Admin/Personnel/LegalCompany NameHR and HR ...         HR Hopes   \n",
       "4  Company NameEXLTotal Duration6 yrs 4 mosTitleV...     Rakesh Kumar   \n",
       "\n",
       "                                            position  \\\n",
       "0  Senior Vice President and Head of HR- Samsung ...   \n",
       "1  Head Talent Acquisition and HR Leader for Heal...   \n",
       "2                                             HR@IBM   \n",
       "3                                                 HR   \n",
       "4  Vice President - Digital HR Transformation Lea...   \n",
       "\n",
       "                      location  \\\n",
       "0      Gurgaon, Haryana, India   \n",
       "1     Pune, Maharashtra, India   \n",
       "2  Bengaluru, Karnataka, India   \n",
       "3             Pune Area, India   \n",
       "4  Central Delhi, Delhi, India   \n",
       "\n",
       "                                              skills  \\\n",
       "0  ['\\nPerformance Management\\n', '\\nHuman Resour...   \n",
       "1  ['\\nTalent Acquisition\\n', '\\nEmployee Engagem...   \n",
       "2  ['\\nHuman Resources\\n', '\\nRecruiting\\n', '\\nT...   \n",
       "3                                                 []   \n",
       "4  ['\\nTeam Management\\n', '\\nHuman Resources\\n',...   \n",
       "\n",
       "                                        clean_skills  description_length  \n",
       "0  ['Performance Management', 'Human Resources', ...                 100  \n",
       "1  ['Talent Acquisition', 'Employee Engagement', ...                 211  \n",
       "2  ['Human Resources', 'Recruiting', 'Team Manage...                 312  \n",
       "3                                               ['']                   0  \n",
       "4  ['Team Management', 'Human Resources', 'Employ...                 208  "
      ]
     },
     "execution_count": 3,
     "metadata": {},
     "output_type": "execute_result"
    }
   ],
   "source": [
    "import pandas as pd\n",
    "\n",
    "# Define the file path\n",
    "file_path = r\"C:\\Users\\gopko\\Documents\\GitHub\\ML-Resume-Classifier\\data\\resume_data_cleaned.csv\"\n",
    "\n",
    "# Load the dataset\n",
    "df = pd.read_csv(file_path)\n",
    "\n",
    "# Show first few rows to confirm it's loaded\n",
    "df.head()\n"
   ]
  },
  {
   "cell_type": "code",
   "execution_count": 6,
   "id": "3ed79080-392f-4ede-b37c-25356ac29ed8",
   "metadata": {},
   "outputs": [
    {
     "name": "stdout",
     "output_type": "stream",
     "text": [
      "TF-IDF matrix shape: (1251, 4088)\n"
     ]
    }
   ],
   "source": [
    "from sklearn.feature_extraction.text import TfidfVectorizer\n",
    "\n",
    "# Initialize TF-IDF Vectorizer\n",
    "vectorizer = TfidfVectorizer(stop_words=\"english\", max_features=5000)\n",
    "\n",
    "# Convert cleaned text into numerical vectors\n",
    "X = vectorizer.fit_transform(df[\"clean_description\"])\n",
    "\n",
    "# Show shape of transformed data\n",
    "print(\"TF-IDF matrix shape:\", X.shape)\n"
   ]
  },
  {
   "cell_type": "code",
   "execution_count": 7,
   "id": "537d5209-28e1-4e82-ba12-d85a9eef17fa",
   "metadata": {},
   "outputs": [
    {
     "name": "stdout",
     "output_type": "stream",
     "text": [
      "Training data shape: (1000, 4088)\n",
      "Testing data shape: (251, 4088)\n"
     ]
    }
   ],
   "source": [
    "from sklearn.model_selection import train_test_split\n",
    "\n",
    "# Define features (X) and target labels (y)\n",
    "y = df[\"category\"]  # Job category is the target\n",
    "X_train, X_test, y_train, y_test = train_test_split(X, y, test_size=0.2, random_state=42)\n",
    "\n",
    "print(\"Training data shape:\", X_train.shape)\n",
    "print(\"Testing data shape:\", X_test.shape)\n"
   ]
  },
  {
   "cell_type": "code",
   "execution_count": 8,
   "id": "cb383482-5f08-447c-8623-df6101ac477d",
   "metadata": {},
   "outputs": [
    {
     "name": "stdout",
     "output_type": "stream",
     "text": [
      "Accuracy: 0.25\n",
      "                         precision    recall  f1-score   support\n",
      "\n",
      "             Accountant       1.00      0.40      0.57        10\n",
      "               Advocate       1.00      0.31      0.47        13\n",
      "           Agricultural       1.00      0.09      0.17        11\n",
      "                Apparel       0.00      0.00      0.00        10\n",
      "             Architects       0.33      0.10      0.15        10\n",
      "                   Arts       0.00      0.00      0.00        12\n",
      "             Automobile       0.00      0.00      0.00         5\n",
      "               Aviation       0.00      0.00      0.00         8\n",
      "                    BPO       0.04      0.62      0.08         8\n",
      "                Banking       0.50      0.08      0.14        12\n",
      "Building & Construction       1.00      0.13      0.24        15\n",
      "   Business Development       0.33      0.50      0.40        10\n",
      "             Consultant       0.19      0.40      0.26        10\n",
      "              Designing       0.00      0.00      0.00        12\n",
      "          Digital Media       0.33      0.25      0.29         8\n",
      "              Education       0.00      0.00      0.00        12\n",
      "            Engineering       0.27      0.50      0.35        12\n",
      "                Finance       0.50      0.08      0.13        13\n",
      "       Food & Beverages       0.25      0.33      0.29         3\n",
      "                     HR       0.40      0.29      0.33         7\n",
      "       Health & Fitness       0.60      0.67      0.63         9\n",
      " Information Technology       0.60      0.27      0.38        11\n",
      "              Managment       1.00      0.11      0.20         9\n",
      "       Public Relations       0.67      0.67      0.67        12\n",
      "                  Sales       0.38      0.56      0.45         9\n",
      "\n",
      "               accuracy                           0.25       251\n",
      "              macro avg       0.42      0.25      0.25       251\n",
      "           weighted avg       0.45      0.25      0.25       251\n",
      "\n"
     ]
    },
    {
     "name": "stderr",
     "output_type": "stream",
     "text": [
      "C:\\Users\\gopko\\Documents\\GitHub\\ML-Resume-Classifier\\resume-ml-env\\Lib\\site-packages\\sklearn\\metrics\\_classification.py:1565: UndefinedMetricWarning: Precision is ill-defined and being set to 0.0 in labels with no predicted samples. Use `zero_division` parameter to control this behavior.\n",
      "  _warn_prf(average, modifier, f\"{metric.capitalize()} is\", len(result))\n",
      "C:\\Users\\gopko\\Documents\\GitHub\\ML-Resume-Classifier\\resume-ml-env\\Lib\\site-packages\\sklearn\\metrics\\_classification.py:1565: UndefinedMetricWarning: Precision is ill-defined and being set to 0.0 in labels with no predicted samples. Use `zero_division` parameter to control this behavior.\n",
      "  _warn_prf(average, modifier, f\"{metric.capitalize()} is\", len(result))\n",
      "C:\\Users\\gopko\\Documents\\GitHub\\ML-Resume-Classifier\\resume-ml-env\\Lib\\site-packages\\sklearn\\metrics\\_classification.py:1565: UndefinedMetricWarning: Precision is ill-defined and being set to 0.0 in labels with no predicted samples. Use `zero_division` parameter to control this behavior.\n",
      "  _warn_prf(average, modifier, f\"{metric.capitalize()} is\", len(result))\n"
     ]
    }
   ],
   "source": [
    "from sklearn.linear_model import LogisticRegression\n",
    "from sklearn.metrics import accuracy_score, classification_report\n",
    "\n",
    "# Initialize the Logistic Regression model\n",
    "log_reg = LogisticRegression(max_iter=1000, random_state=42)\n",
    "\n",
    "# Train the model\n",
    "log_reg.fit(X_train, y_train)\n",
    "\n",
    "# Make predictions\n",
    "y_pred = log_reg.predict(X_test)\n",
    "\n",
    "# Evaluate the model\n",
    "accuracy = accuracy_score(y_test, y_pred)\n",
    "print(f\"Accuracy: {accuracy:.2f}\")\n",
    "\n",
    "# Show detailed classification metrics\n",
    "print(classification_report(y_test, y_pred))"
   ]
  },
  {
   "cell_type": "code",
   "execution_count": 9,
   "id": "93787310-d5ad-4b8d-8037-994efd50af84",
   "metadata": {},
   "outputs": [
    {
     "name": "stdout",
     "output_type": "stream",
     "text": [
      "TF-IDF matrix shape: (1251, 4088)\n"
     ]
    }
   ],
   "source": [
    "from sklearn.feature_extraction.text import TfidfVectorizer\n",
    "\n",
    "# Initialize TF-IDF Vectorizer\n",
    "vectorizer = TfidfVectorizer(stop_words=\"english\", max_features=5000)\n",
    "\n",
    "# Convert cleaned descriptions into numerical vectors\n",
    "X = vectorizer.fit_transform(df[\"clean_description\"])\n",
    "\n",
    "# Show the shape of transformed data\n",
    "print(\"TF-IDF matrix shape:\", X.shape)\n"
   ]
  },
  {
   "cell_type": "code",
   "execution_count": 10,
   "id": "949f41b4-b6bf-4614-a574-673bf1ee7c77",
   "metadata": {},
   "outputs": [
    {
     "name": "stdout",
     "output_type": "stream",
     "text": [
      "['_avp' 'aarti' 'aas' 'aat' 'abhijeet' 'abilities' 'ability' 'abilityto'\n",
      " 'able' 'aboutnational' 'abridging' 'abroad' 'absolute'\n",
      " 'absorptionspectroscopy' 'academia' 'academic' 'academics' 'academy'\n",
      " 'acb' 'accept']\n"
     ]
    }
   ],
   "source": [
    "# Get feature names (words)\n",
    "feature_names = vectorizer.get_feature_names_out()\n",
    "\n",
    "# Print the first 20 important words\n",
    "print(feature_names[:20])"
   ]
  },
  {
   "cell_type": "code",
   "execution_count": 11,
   "id": "312c1c5a-d7be-47a8-b4c3-a0cec2c40e56",
   "metadata": {},
   "outputs": [
    {
     "name": "stdout",
     "output_type": "stream",
     "text": [
      "0    experienced professional mentor and coach tale...\n",
      "1    head talent acquisition leader and strategic p...\n",
      "2    talent acquisition and professional with exper...\n",
      "3                                              unknown\n",
      "4    over years experience ites bpo with leading gl...\n",
      "Name: clean_description, dtype: object\n"
     ]
    }
   ],
   "source": [
    "import re\n",
    "\n",
    "def clean_text(text):\n",
    "    text = text.lower()  # Convert to lowercase\n",
    "    text = re.sub(r\"\\d+\", \"\", text)  # Remove numbers\n",
    "    text = re.sub(r\"[^\\w\\s]\", \" \", text)  # Remove punctuation\n",
    "    text = re.sub(r\"\\s+\", \" \", text).strip()  # Remove extra spaces\n",
    "    text = \" \".join([word for word in text.split() if len(word) > 2])  # Remove short words\n",
    "    return text\n",
    "\n",
    "# Apply cleaning function to text data\n",
    "df[\"clean_description\"] = df[\"description\"].apply(clean_text)\n",
    "\n",
    "# Check cleaned data\n",
    "print(df[\"clean_description\"].head())"
   ]
  },
  {
   "cell_type": "code",
   "execution_count": 12,
   "id": "e684f472-a841-404d-b533-b133f1eecd91",
   "metadata": {},
   "outputs": [
    {
     "name": "stdout",
     "output_type": "stream",
     "text": [
      "['_avp' 'aarti' 'aas' 'aat' 'abhijeet' 'abilities' 'ability' 'abilityto'\n",
      " 'able' 'aboutnational' 'abridging' 'abroad' 'absolute'\n",
      " 'absorptionspectroscopy' 'academia' 'academic' 'academics' 'academy'\n",
      " 'acb' 'accept']\n"
     ]
    }
   ],
   "source": [
    "vectorizer = TfidfVectorizer(stop_words=\"english\", max_features=5000)\n",
    "X = vectorizer.fit_transform(df[\"clean_description\"])\n",
    "feature_names = vectorizer.get_feature_names_out()\n",
    "print(feature_names[:20])"
   ]
  },
  {
   "cell_type": "code",
   "execution_count": 13,
   "id": "6c65bd54-48cb-47e8-aed3-23aa7e48d638",
   "metadata": {},
   "outputs": [
    {
     "name": "stdout",
     "output_type": "stream",
     "text": [
      "['_avp' 'aarti' 'aas' 'aat' 'abhijeet' 'able' 'aboutnational' 'above'\n",
      " 'abridging' 'abroad' 'absolute' 'absorptionspectroscopy' 'academia'\n",
      " 'academics' 'academy' 'access' 'accessories' 'accompanied' 'accomplish'\n",
      " 'accomplished']\n"
     ]
    }
   ],
   "source": [
    "custom_stop_words = [\n",
    "    \"abilities\", \"ability\", \"about\", \"academic\", \"acb\", \"accept\", \"abilityto\"\n",
    "]  # Add more stopwords if needed\n",
    "\n",
    "vectorizer = TfidfVectorizer(stop_words=custom_stop_words, max_features=5000)\n",
    "X = vectorizer.fit_transform(df[\"clean_description\"])\n",
    "feature_names = vectorizer.get_feature_names_out()\n",
    "print(feature_names[:20])"
   ]
  },
  {
   "cell_type": "code",
   "execution_count": 14,
   "id": "f4b86794-17b4-4a8d-8f0e-d05f1f1c2b3e",
   "metadata": {},
   "outputs": [
    {
     "name": "stdout",
     "output_type": "stream",
     "text": [
      "['_avp' 'aarti' 'aas' 'aat' 'abhijeet' 'abilities' 'ability' 'abilityto'\n",
      " 'able' 'aboutnational' 'abridging' 'abroad' 'absolute'\n",
      " 'absorptionspectroscopy' 'academia' 'academic' 'academics' 'academy'\n",
      " 'acb' 'accept']\n"
     ]
    }
   ],
   "source": [
    "from sklearn.feature_extraction.text import CountVectorizer\n",
    "\n",
    "vectorizer = CountVectorizer(stop_words=\"english\", max_features=5000)\n",
    "X = vectorizer.fit_transform(df[\"clean_description\"])\n",
    "feature_names = vectorizer.get_feature_names_out()\n",
    "print(feature_names[:20])"
   ]
  },
  {
   "cell_type": "code",
   "execution_count": 15,
   "id": "31382634-177b-4025-be66-f2a6d6b112b8",
   "metadata": {},
   "outputs": [
    {
     "name": "stdout",
     "output_type": "stream",
     "text": [
      "0    experienced professional mentor and coach tale...\n",
      "1    head talent acquisition leader and strategic p...\n",
      "2    talent acquisition and professional with exper...\n",
      "3                                              unknown\n",
      "4    over years experience ites bpo with leading gl...\n",
      "Name: clean_description, dtype: object\n"
     ]
    }
   ],
   "source": [
    "print(df[\"clean_description\"].head())\n"
   ]
  },
  {
   "cell_type": "code",
   "execution_count": 16,
   "id": "c806efb2-dc65-4286-b4e9-944fe017c185",
   "metadata": {},
   "outputs": [
    {
     "name": "stdout",
     "output_type": "stream",
     "text": [
      "0    experienced professional mentor and coach tale...\n",
      "1    head talent acquisition leader and strategic p...\n",
      "2    talent acquisition and professional with exper...\n",
      "3                                              unknown\n",
      "4    over years experience ites bpo with leading gl...\n",
      "5    human resources business partner with demonstr...\n",
      "6    seasoned professional and experienced banker w...\n",
      "7    have been working practitioner for the past ye...\n",
      "8    passionate developing people and building comp...\n",
      "9    performance driven and accomplished profession...\n",
      "Name: clean_description, dtype: object\n"
     ]
    }
   ],
   "source": [
    "print(df[\"clean_description\"].head(10))  # Show first 10 rows\n"
   ]
  },
  {
   "cell_type": "code",
   "execution_count": 17,
   "id": "1e892c8a-cb84-4f72-ae58-f3b4c3f0fc37",
   "metadata": {},
   "outputs": [
    {
     "name": "stdout",
     "output_type": "stream",
     "text": [
      "Original Text:\n",
      " An experienced HR professional,  HR mentor and Coach , Talent advisory and HR strategist... see more\n",
      "\n",
      "Cleaned Text:\n",
      " experienced professional mentor coach talent advisory strategist more\n"
     ]
    }
   ],
   "source": [
    "import re\n",
    "\n",
    "def clean_text(text):\n",
    "    text = str(text).lower()  # Convert text to lowercase\n",
    "    text = re.sub(r\"\\d+\", \"\", text)  # Remove numbers\n",
    "    text = re.sub(r\"[^\\w\\s]\", \" \", text)  # Remove punctuation\n",
    "    text = re.sub(r\"\\s+\", \" \", text).strip()  # Remove extra spaces\n",
    "    words = [word for word in text.split() if len(word) > 3]  # Remove words shorter than 4 letters\n",
    "    return \" \".join(words)  # Join cleaned words back\n",
    "\n",
    "# Apply cleaning function to a small sample of text\n",
    "sample_text = df[\"description\"].iloc[0]  # Pick first resume text\n",
    "\n",
    "print(\"Original Text:\\n\", sample_text)\n",
    "print(\"\\nCleaned Text:\\n\", clean_text(sample_text))"
   ]
  },
  {
   "cell_type": "code",
   "execution_count": 18,
   "id": "e4f0ee79-4b4e-4344-bdf8-237931fa43e5",
   "metadata": {},
   "outputs": [
    {
     "name": "stderr",
     "output_type": "stream",
     "text": [
      "[nltk_data] Downloading package stopwords to\n",
      "[nltk_data]     C:\\Users\\gopko\\AppData\\Roaming\\nltk_data...\n",
      "[nltk_data]   Unzipping corpora\\stopwords.zip.\n"
     ]
    },
    {
     "name": "stdout",
     "output_type": "stream",
     "text": [
      "Original Text:\n",
      " An experienced HR professional,  HR mentor and Coach , Talent advisory and HR strategist... see more\n",
      "\n",
      "Cleaned Text:\n",
      " experienced professional mentor coach talent advisory strategist\n"
     ]
    }
   ],
   "source": [
    "import re\n",
    "import nltk\n",
    "from nltk.corpus import stopwords\n",
    "\n",
    "# Download stopwords if not already present\n",
    "nltk.download(\"stopwords\")\n",
    "stop_words = set(stopwords.words(\"english\"))\n",
    "\n",
    "def clean_text(text):\n",
    "    text = str(text).lower()  # Convert to lowercase\n",
    "    text = re.sub(r\"\\d+\", \"\", text)  # Remove numbers\n",
    "    text = re.sub(r\"[^\\w\\s]\", \" \", text)  # Remove punctuation\n",
    "    text = re.sub(r\"\\s+\", \" \", text).strip()  # Remove extra spaces\n",
    "    words = [word for word in text.split() if len(word) > 3 and word not in stop_words]  # Remove short words & stopwords\n",
    "    return \" \".join(words)  # Join cleaned words back\n",
    "\n",
    "# Apply improved cleaning function to the first resume text\n",
    "print(\"Original Text:\\n\", df[\"description\"].iloc[0])\n",
    "print(\"\\nCleaned Text:\\n\", clean_text(df[\"description\"].iloc[0]))"
   ]
  },
  {
   "cell_type": "code",
   "execution_count": 19,
   "id": "9cf5c7dd-f982-4eb5-918b-0d93483a356b",
   "metadata": {},
   "outputs": [
    {
     "name": "stdout",
     "output_type": "stream",
     "text": [
      "['_avp' 'aarti' 'aas' 'aat' 'abhijeet' 'abilities' 'ability' 'abilityto'\n",
      " 'able' 'aboutnational' 'abridging' 'abroad' 'absolute'\n",
      " 'absorptionspectroscopy' 'academia' 'academic' 'academics' 'academy'\n",
      " 'acb' 'accept']\n"
     ]
    }
   ],
   "source": [
    "from sklearn.feature_extraction.text import TfidfVectorizer\n",
    "\n",
    "# Initialize TF-IDF Vectorizer\n",
    "vectorizer = TfidfVectorizer(stop_words=\"english\", max_features=5000)\n",
    "\n",
    "# Convert cleaned descriptions into numerical vectors\n",
    "X = vectorizer.fit_transform(df[\"clean_description\"])\n",
    "\n",
    "# Print first 20 TF-IDF feature words\n",
    "feature_names = vectorizer.get_feature_names_out()\n",
    "print(feature_names[:20])  # Check the first 20 words"
   ]
  },
  {
   "cell_type": "code",
   "execution_count": 20,
   "id": "73111ab2-486c-4629-b806-a9acbc8fbe5f",
   "metadata": {},
   "outputs": [
    {
     "name": "stdout",
     "output_type": "stream",
     "text": [
      "Top 20 Words in TF-IDF Feature List:\n",
      " ['_avp' 'aarti' 'aas' 'aat' 'abhijeet' 'abilities' 'ability' 'abilityto'\n",
      " 'able' 'aboutnational' 'abridging' 'abroad' 'absolute'\n",
      " 'absorptionspectroscopy' 'academia' 'academic' 'academics' 'academy'\n",
      " 'acb' 'accept']\n"
     ]
    }
   ],
   "source": [
    "print(\"Top 20 Words in TF-IDF Feature List:\\n\", feature_names[:20])\n"
   ]
  },
  {
   "cell_type": "code",
   "execution_count": 21,
   "id": "e8dc0dc8-c221-482f-829b-a1143af085e4",
   "metadata": {},
   "outputs": [
    {
     "name": "stdout",
     "output_type": "stream",
     "text": [
      "0     experienced professional mentor and coach tale...\n",
      "1     head talent acquisition leader and strategic p...\n",
      "2     talent acquisition and professional with exper...\n",
      "3                                               unknown\n",
      "4     over years experience ites bpo with leading gl...\n",
      "5     human resources business partner with demonstr...\n",
      "6     seasoned professional and experienced banker w...\n",
      "7     have been working practitioner for the past ye...\n",
      "8     passionate developing people and building comp...\n",
      "9     performance driven and accomplished profession...\n",
      "10                                              unknown\n",
      "11    administration coordinating handling operation...\n",
      "12                                              unknown\n",
      "13    experienced head rewards and operations with d...\n",
      "14    over years progressive experience domain acros...\n",
      "15    professional with years experience business pa...\n",
      "16                                              unknown\n",
      "17    recruitment professional years work experience...\n",
      "18                                              unknown\n",
      "19                                              unknown\n",
      "Name: clean_description, dtype: object\n"
     ]
    }
   ],
   "source": [
    "print(df[\"clean_description\"].head(20))\n"
   ]
  },
  {
   "cell_type": "code",
   "execution_count": 22,
   "id": "86b2d061-f757-4c79-b499-9dd2b7feefc3",
   "metadata": {},
   "outputs": [
    {
     "name": "stdout",
     "output_type": "stream",
     "text": [
      "Top 20 Words in TF-IDF Feature List:\n",
      " ['_avp' 'aarti' 'aas' 'aat' 'abhijeet' 'abilities' 'ability' 'abilityto'\n",
      " 'able' 'aboutnational' 'abridging' 'abroad' 'absolute'\n",
      " 'absorptionspectroscopy' 'academia' 'academic' 'academics' 'academy'\n",
      " 'acb' 'accept']\n"
     ]
    }
   ],
   "source": [
    "vectorizer = TfidfVectorizer(stop_words=\"english\", max_features=5000)\n",
    "X = vectorizer.fit_transform(df[\"clean_description\"])\n",
    "feature_names = vectorizer.get_feature_names_out()\n",
    "print(\"Top 20 Words in TF-IDF Feature List:\\n\", feature_names[:20])\n"
   ]
  },
  {
   "cell_type": "code",
   "execution_count": 23,
   "id": "43c399b5-720d-42a4-b78a-7812ddc48e0d",
   "metadata": {},
   "outputs": [
    {
     "name": "stdout",
     "output_type": "stream",
     "text": [
      "   index category                                           linkedin  \\\n",
      "0      1       HR  https://in.linkedin.com/in/sameer-wadhawan-b55...   \n",
      "1      2       HR  https://in.linkedin.com/in/adarsh-krishna-a4ab0a5   \n",
      "2      3       HR           https://in.linkedin.com/in/shrivas-mohit   \n",
      "3      4       HR       https://in.linkedin.com/in/hr-hopes-086734b8   \n",
      "4      5       HR           https://in.linkedin.com/in/rakeshkumar01   \n",
      "\n",
      "                                     profile_picture  \\\n",
      "0  https://media-exp1.licdn.com/dms/image/C5603AQ...   \n",
      "1  https://media-exp1.licdn.com/dms/image/C5103AQ...   \n",
      "2  data:image/gif;base64,R0lGODlhAQABAIAAAAAAAP//...   \n",
      "3  data:image/gif;base64,R0lGODlhAQABAIAAAAAAAP//...   \n",
      "4  https://media-exp1.licdn.com/dms/image/C5103AQ...   \n",
      "\n",
      "                                         description  \\\n",
      "0  An experienced HR professional,  HR mentor and...   \n",
      "1  Head Talent Acquisition, HR Leader and Strateg...   \n",
      "2  A Talent Acquisition and HR professional with ...   \n",
      "3                                                NaN   \n",
      "4  Over 18 Years of experience in IT /ITES  / BPO...   \n",
      "\n",
      "                                          Experience             Name  \\\n",
      "0  Senior Vice President & Head of HRCompany Name...  Sameer Wadhawan   \n",
      "1  Head of Talent Acquisition - India & APAC and ...   Adarsh Krishna   \n",
      "2  Company NameIBM INDIA Pvt LtdTotal Duration8 y...    Shrivas Mohit   \n",
      "3  HR/Admin/Personnel/LegalCompany NameHR and HR ...         HR Hopes   \n",
      "4  Company NameEXLTotal Duration6 yrs 4 mosTitleV...     Rakesh Kumar   \n",
      "\n",
      "                                            position  \\\n",
      "0  Senior Vice President and Head of HR- Samsung ...   \n",
      "1  Head Talent Acquisition and HR Leader for Heal...   \n",
      "2                                             HR@IBM   \n",
      "3                                                 HR   \n",
      "4  Vice President - Digital HR Transformation Lea...   \n",
      "\n",
      "                      location  \\\n",
      "0      Gurgaon, Haryana, India   \n",
      "1     Pune, Maharashtra, India   \n",
      "2  Bengaluru, Karnataka, India   \n",
      "3             Pune Area, India   \n",
      "4  Central Delhi, Delhi, India   \n",
      "\n",
      "                                              skills  \\\n",
      "0  ['\\nPerformance Management\\n', '\\nHuman Resour...   \n",
      "1  ['\\nTalent Acquisition\\n', '\\nEmployee Engagem...   \n",
      "2  ['\\nHuman Resources\\n', '\\nRecruiting\\n', '\\nT...   \n",
      "3                                                 []   \n",
      "4  ['\\nTeam Management\\n', '\\nHuman Resources\\n',...   \n",
      "\n",
      "                                        clean_skills  \n",
      "0  ['Performance Management', 'Human Resources', ...  \n",
      "1  ['Talent Acquisition', 'Employee Engagement', ...  \n",
      "2  ['Human Resources', 'Recruiting', 'Team Manage...  \n",
      "3                                               ['']  \n",
      "4  ['Team Management', 'Human Resources', 'Employ...  \n"
     ]
    }
   ],
   "source": [
    "import pandas as pd\n",
    "\n",
    "# Reload original dataset\n",
    "file_path = r\"C:\\Users\\gopko\\Documents\\GitHub\\ML-Resume-Classifier\\data\\resume_data.csv\"\n",
    "df = pd.read_csv(file_path)\n",
    "\n",
    "# Show first 5 rows to confirm it's reset\n",
    "print(df.head())\n"
   ]
  },
  {
   "cell_type": "code",
   "execution_count": 24,
   "id": "067fe79a-f9e9-4326-8344-904265b96571",
   "metadata": {},
   "outputs": [
    {
     "name": "stdout",
     "output_type": "stream",
     "text": [
      "<class 'pandas.core.frame.DataFrame'>\n",
      "RangeIndex: 1251 entries, 0 to 1250\n",
      "Data columns (total 11 columns):\n",
      " #   Column           Non-Null Count  Dtype \n",
      "---  ------           --------------  ----- \n",
      " 0   index            1251 non-null   int64 \n",
      " 1   category         1251 non-null   object\n",
      " 2   linkedin         1251 non-null   object\n",
      " 3   profile_picture  1239 non-null   object\n",
      " 4   description      670 non-null    object\n",
      " 5   Experience       1226 non-null   object\n",
      " 6   Name             1239 non-null   object\n",
      " 7   position         1239 non-null   object\n",
      " 8   location         1239 non-null   object\n",
      " 9   skills           1251 non-null   object\n",
      " 10  clean_skills     1251 non-null   object\n",
      "dtypes: int64(1), object(10)\n",
      "memory usage: 107.6+ KB\n",
      "None\n",
      "index                0\n",
      "category             0\n",
      "linkedin             0\n",
      "profile_picture     12\n",
      "description        581\n",
      "Experience          25\n",
      "Name                12\n",
      "position            12\n",
      "location            12\n",
      "skills               0\n",
      "clean_skills         0\n",
      "dtype: int64\n"
     ]
    }
   ],
   "source": [
    "print(df.info())  # Check columns & data types\n",
    "print(df.isnull().sum())  # Check missing values\n"
   ]
  },
  {
   "cell_type": "code",
   "execution_count": 25,
   "id": "f2825a8a-6c5f-49c0-8638-65333bdd9e94",
   "metadata": {},
   "outputs": [
    {
     "name": "stdout",
     "output_type": "stream",
     "text": [
      "0    an experienced hr professional,  hr mentor and...\n",
      "1    head talent acquisition, hr leader and strateg...\n",
      "2    a talent acquisition and hr professional with ...\n",
      "3                                                  NaN\n",
      "4    over 18 years of experience in it /ites  / bpo...\n",
      "Name: clean_description, dtype: object\n"
     ]
    }
   ],
   "source": [
    "df[\"clean_description\"] = df[\"description\"].str.lower()\n",
    "print(df[\"clean_description\"].head(5))"
   ]
  },
  {
   "cell_type": "code",
   "execution_count": 26,
   "id": "306a33c1-6686-4062-8d65-90669031f183",
   "metadata": {},
   "outputs": [
    {
     "ename": "TypeError",
     "evalue": "expected string or bytes-like object, got 'float'",
     "output_type": "error",
     "traceback": [
      "\u001b[1;31m---------------------------------------------------------------------------\u001b[0m",
      "\u001b[1;31mTypeError\u001b[0m                                 Traceback (most recent call last)",
      "Cell \u001b[1;32mIn[26], line 6\u001b[0m\n\u001b[0;32m      3\u001b[0m \u001b[38;5;28;01mdef\u001b[39;00m\u001b[38;5;250m \u001b[39m\u001b[38;5;21mremove_punctuations_numbers\u001b[39m(text):\n\u001b[0;32m      4\u001b[0m     \u001b[38;5;28;01mreturn\u001b[39;00m re\u001b[38;5;241m.\u001b[39msub(\u001b[38;5;124mr\u001b[39m\u001b[38;5;124m\"\u001b[39m\u001b[38;5;124m[^a-z\u001b[39m\u001b[38;5;124m\\\u001b[39m\u001b[38;5;124ms]\u001b[39m\u001b[38;5;124m\"\u001b[39m, \u001b[38;5;124m\"\u001b[39m\u001b[38;5;124m\"\u001b[39m, text)  \u001b[38;5;66;03m# Keep only letters & spaces\u001b[39;00m\n\u001b[1;32m----> 6\u001b[0m df[\u001b[38;5;124m\"\u001b[39m\u001b[38;5;124mclean_description\u001b[39m\u001b[38;5;124m\"\u001b[39m] \u001b[38;5;241m=\u001b[39m \u001b[43mdf\u001b[49m\u001b[43m[\u001b[49m\u001b[38;5;124;43m\"\u001b[39;49m\u001b[38;5;124;43mclean_description\u001b[39;49m\u001b[38;5;124;43m\"\u001b[39;49m\u001b[43m]\u001b[49m\u001b[38;5;241;43m.\u001b[39;49m\u001b[43mapply\u001b[49m\u001b[43m(\u001b[49m\u001b[43mremove_punctuations_numbers\u001b[49m\u001b[43m)\u001b[49m\n\u001b[0;32m      7\u001b[0m \u001b[38;5;28mprint\u001b[39m(df[\u001b[38;5;124m\"\u001b[39m\u001b[38;5;124mclean_description\u001b[39m\u001b[38;5;124m\"\u001b[39m]\u001b[38;5;241m.\u001b[39mhead(\u001b[38;5;241m5\u001b[39m))\n",
      "File \u001b[1;32m~\\Documents\\GitHub\\ML-Resume-Classifier\\resume-ml-env\\Lib\\site-packages\\pandas\\core\\series.py:4924\u001b[0m, in \u001b[0;36mSeries.apply\u001b[1;34m(self, func, convert_dtype, args, by_row, **kwargs)\u001b[0m\n\u001b[0;32m   4789\u001b[0m \u001b[38;5;28;01mdef\u001b[39;00m\u001b[38;5;250m \u001b[39m\u001b[38;5;21mapply\u001b[39m(\n\u001b[0;32m   4790\u001b[0m     \u001b[38;5;28mself\u001b[39m,\n\u001b[0;32m   4791\u001b[0m     func: AggFuncType,\n\u001b[1;32m   (...)\u001b[0m\n\u001b[0;32m   4796\u001b[0m     \u001b[38;5;241m*\u001b[39m\u001b[38;5;241m*\u001b[39mkwargs,\n\u001b[0;32m   4797\u001b[0m ) \u001b[38;5;241m-\u001b[39m\u001b[38;5;241m>\u001b[39m DataFrame \u001b[38;5;241m|\u001b[39m Series:\n\u001b[0;32m   4798\u001b[0m \u001b[38;5;250m    \u001b[39m\u001b[38;5;124;03m\"\"\"\u001b[39;00m\n\u001b[0;32m   4799\u001b[0m \u001b[38;5;124;03m    Invoke function on values of Series.\u001b[39;00m\n\u001b[0;32m   4800\u001b[0m \n\u001b[1;32m   (...)\u001b[0m\n\u001b[0;32m   4915\u001b[0m \u001b[38;5;124;03m    dtype: float64\u001b[39;00m\n\u001b[0;32m   4916\u001b[0m \u001b[38;5;124;03m    \"\"\"\u001b[39;00m\n\u001b[0;32m   4917\u001b[0m     \u001b[38;5;28;01mreturn\u001b[39;00m \u001b[43mSeriesApply\u001b[49m\u001b[43m(\u001b[49m\n\u001b[0;32m   4918\u001b[0m \u001b[43m        \u001b[49m\u001b[38;5;28;43mself\u001b[39;49m\u001b[43m,\u001b[49m\n\u001b[0;32m   4919\u001b[0m \u001b[43m        \u001b[49m\u001b[43mfunc\u001b[49m\u001b[43m,\u001b[49m\n\u001b[0;32m   4920\u001b[0m \u001b[43m        \u001b[49m\u001b[43mconvert_dtype\u001b[49m\u001b[38;5;241;43m=\u001b[39;49m\u001b[43mconvert_dtype\u001b[49m\u001b[43m,\u001b[49m\n\u001b[0;32m   4921\u001b[0m \u001b[43m        \u001b[49m\u001b[43mby_row\u001b[49m\u001b[38;5;241;43m=\u001b[39;49m\u001b[43mby_row\u001b[49m\u001b[43m,\u001b[49m\n\u001b[0;32m   4922\u001b[0m \u001b[43m        \u001b[49m\u001b[43margs\u001b[49m\u001b[38;5;241;43m=\u001b[39;49m\u001b[43margs\u001b[49m\u001b[43m,\u001b[49m\n\u001b[0;32m   4923\u001b[0m \u001b[43m        \u001b[49m\u001b[43mkwargs\u001b[49m\u001b[38;5;241;43m=\u001b[39;49m\u001b[43mkwargs\u001b[49m\u001b[43m,\u001b[49m\n\u001b[1;32m-> 4924\u001b[0m \u001b[43m    \u001b[49m\u001b[43m)\u001b[49m\u001b[38;5;241;43m.\u001b[39;49m\u001b[43mapply\u001b[49m\u001b[43m(\u001b[49m\u001b[43m)\u001b[49m\n",
      "File \u001b[1;32m~\\Documents\\GitHub\\ML-Resume-Classifier\\resume-ml-env\\Lib\\site-packages\\pandas\\core\\apply.py:1427\u001b[0m, in \u001b[0;36mSeriesApply.apply\u001b[1;34m(self)\u001b[0m\n\u001b[0;32m   1424\u001b[0m     \u001b[38;5;28;01mreturn\u001b[39;00m \u001b[38;5;28mself\u001b[39m\u001b[38;5;241m.\u001b[39mapply_compat()\n\u001b[0;32m   1426\u001b[0m \u001b[38;5;66;03m# self.func is Callable\u001b[39;00m\n\u001b[1;32m-> 1427\u001b[0m \u001b[38;5;28;01mreturn\u001b[39;00m \u001b[38;5;28;43mself\u001b[39;49m\u001b[38;5;241;43m.\u001b[39;49m\u001b[43mapply_standard\u001b[49m\u001b[43m(\u001b[49m\u001b[43m)\u001b[49m\n",
      "File \u001b[1;32m~\\Documents\\GitHub\\ML-Resume-Classifier\\resume-ml-env\\Lib\\site-packages\\pandas\\core\\apply.py:1507\u001b[0m, in \u001b[0;36mSeriesApply.apply_standard\u001b[1;34m(self)\u001b[0m\n\u001b[0;32m   1501\u001b[0m \u001b[38;5;66;03m# row-wise access\u001b[39;00m\n\u001b[0;32m   1502\u001b[0m \u001b[38;5;66;03m# apply doesn't have a `na_action` keyword and for backward compat reasons\u001b[39;00m\n\u001b[0;32m   1503\u001b[0m \u001b[38;5;66;03m# we need to give `na_action=\"ignore\"` for categorical data.\u001b[39;00m\n\u001b[0;32m   1504\u001b[0m \u001b[38;5;66;03m# TODO: remove the `na_action=\"ignore\"` when that default has been changed in\u001b[39;00m\n\u001b[0;32m   1505\u001b[0m \u001b[38;5;66;03m#  Categorical (GH51645).\u001b[39;00m\n\u001b[0;32m   1506\u001b[0m action \u001b[38;5;241m=\u001b[39m \u001b[38;5;124m\"\u001b[39m\u001b[38;5;124mignore\u001b[39m\u001b[38;5;124m\"\u001b[39m \u001b[38;5;28;01mif\u001b[39;00m \u001b[38;5;28misinstance\u001b[39m(obj\u001b[38;5;241m.\u001b[39mdtype, CategoricalDtype) \u001b[38;5;28;01melse\u001b[39;00m \u001b[38;5;28;01mNone\u001b[39;00m\n\u001b[1;32m-> 1507\u001b[0m mapped \u001b[38;5;241m=\u001b[39m \u001b[43mobj\u001b[49m\u001b[38;5;241;43m.\u001b[39;49m\u001b[43m_map_values\u001b[49m\u001b[43m(\u001b[49m\n\u001b[0;32m   1508\u001b[0m \u001b[43m    \u001b[49m\u001b[43mmapper\u001b[49m\u001b[38;5;241;43m=\u001b[39;49m\u001b[43mcurried\u001b[49m\u001b[43m,\u001b[49m\u001b[43m \u001b[49m\u001b[43mna_action\u001b[49m\u001b[38;5;241;43m=\u001b[39;49m\u001b[43maction\u001b[49m\u001b[43m,\u001b[49m\u001b[43m \u001b[49m\u001b[43mconvert\u001b[49m\u001b[38;5;241;43m=\u001b[39;49m\u001b[38;5;28;43mself\u001b[39;49m\u001b[38;5;241;43m.\u001b[39;49m\u001b[43mconvert_dtype\u001b[49m\n\u001b[0;32m   1509\u001b[0m \u001b[43m\u001b[49m\u001b[43m)\u001b[49m\n\u001b[0;32m   1511\u001b[0m \u001b[38;5;28;01mif\u001b[39;00m \u001b[38;5;28mlen\u001b[39m(mapped) \u001b[38;5;129;01mand\u001b[39;00m \u001b[38;5;28misinstance\u001b[39m(mapped[\u001b[38;5;241m0\u001b[39m], ABCSeries):\n\u001b[0;32m   1512\u001b[0m     \u001b[38;5;66;03m# GH#43986 Need to do list(mapped) in order to get treated as nested\u001b[39;00m\n\u001b[0;32m   1513\u001b[0m     \u001b[38;5;66;03m#  See also GH#25959 regarding EA support\u001b[39;00m\n\u001b[0;32m   1514\u001b[0m     \u001b[38;5;28;01mreturn\u001b[39;00m obj\u001b[38;5;241m.\u001b[39m_constructor_expanddim(\u001b[38;5;28mlist\u001b[39m(mapped), index\u001b[38;5;241m=\u001b[39mobj\u001b[38;5;241m.\u001b[39mindex)\n",
      "File \u001b[1;32m~\\Documents\\GitHub\\ML-Resume-Classifier\\resume-ml-env\\Lib\\site-packages\\pandas\\core\\base.py:921\u001b[0m, in \u001b[0;36mIndexOpsMixin._map_values\u001b[1;34m(self, mapper, na_action, convert)\u001b[0m\n\u001b[0;32m    918\u001b[0m \u001b[38;5;28;01mif\u001b[39;00m \u001b[38;5;28misinstance\u001b[39m(arr, ExtensionArray):\n\u001b[0;32m    919\u001b[0m     \u001b[38;5;28;01mreturn\u001b[39;00m arr\u001b[38;5;241m.\u001b[39mmap(mapper, na_action\u001b[38;5;241m=\u001b[39mna_action)\n\u001b[1;32m--> 921\u001b[0m \u001b[38;5;28;01mreturn\u001b[39;00m \u001b[43malgorithms\u001b[49m\u001b[38;5;241;43m.\u001b[39;49m\u001b[43mmap_array\u001b[49m\u001b[43m(\u001b[49m\u001b[43marr\u001b[49m\u001b[43m,\u001b[49m\u001b[43m \u001b[49m\u001b[43mmapper\u001b[49m\u001b[43m,\u001b[49m\u001b[43m \u001b[49m\u001b[43mna_action\u001b[49m\u001b[38;5;241;43m=\u001b[39;49m\u001b[43mna_action\u001b[49m\u001b[43m,\u001b[49m\u001b[43m \u001b[49m\u001b[43mconvert\u001b[49m\u001b[38;5;241;43m=\u001b[39;49m\u001b[43mconvert\u001b[49m\u001b[43m)\u001b[49m\n",
      "File \u001b[1;32m~\\Documents\\GitHub\\ML-Resume-Classifier\\resume-ml-env\\Lib\\site-packages\\pandas\\core\\algorithms.py:1743\u001b[0m, in \u001b[0;36mmap_array\u001b[1;34m(arr, mapper, na_action, convert)\u001b[0m\n\u001b[0;32m   1741\u001b[0m values \u001b[38;5;241m=\u001b[39m arr\u001b[38;5;241m.\u001b[39mastype(\u001b[38;5;28mobject\u001b[39m, copy\u001b[38;5;241m=\u001b[39m\u001b[38;5;28;01mFalse\u001b[39;00m)\n\u001b[0;32m   1742\u001b[0m \u001b[38;5;28;01mif\u001b[39;00m na_action \u001b[38;5;129;01mis\u001b[39;00m \u001b[38;5;28;01mNone\u001b[39;00m:\n\u001b[1;32m-> 1743\u001b[0m     \u001b[38;5;28;01mreturn\u001b[39;00m \u001b[43mlib\u001b[49m\u001b[38;5;241;43m.\u001b[39;49m\u001b[43mmap_infer\u001b[49m\u001b[43m(\u001b[49m\u001b[43mvalues\u001b[49m\u001b[43m,\u001b[49m\u001b[43m \u001b[49m\u001b[43mmapper\u001b[49m\u001b[43m,\u001b[49m\u001b[43m \u001b[49m\u001b[43mconvert\u001b[49m\u001b[38;5;241;43m=\u001b[39;49m\u001b[43mconvert\u001b[49m\u001b[43m)\u001b[49m\n\u001b[0;32m   1744\u001b[0m \u001b[38;5;28;01melse\u001b[39;00m:\n\u001b[0;32m   1745\u001b[0m     \u001b[38;5;28;01mreturn\u001b[39;00m lib\u001b[38;5;241m.\u001b[39mmap_infer_mask(\n\u001b[0;32m   1746\u001b[0m         values, mapper, mask\u001b[38;5;241m=\u001b[39misna(values)\u001b[38;5;241m.\u001b[39mview(np\u001b[38;5;241m.\u001b[39muint8), convert\u001b[38;5;241m=\u001b[39mconvert\n\u001b[0;32m   1747\u001b[0m     )\n",
      "File \u001b[1;32mlib.pyx:2972\u001b[0m, in \u001b[0;36mpandas._libs.lib.map_infer\u001b[1;34m()\u001b[0m\n",
      "Cell \u001b[1;32mIn[26], line 4\u001b[0m, in \u001b[0;36mremove_punctuations_numbers\u001b[1;34m(text)\u001b[0m\n\u001b[0;32m      3\u001b[0m \u001b[38;5;28;01mdef\u001b[39;00m\u001b[38;5;250m \u001b[39m\u001b[38;5;21mremove_punctuations_numbers\u001b[39m(text):\n\u001b[1;32m----> 4\u001b[0m     \u001b[38;5;28;01mreturn\u001b[39;00m \u001b[43mre\u001b[49m\u001b[38;5;241;43m.\u001b[39;49m\u001b[43msub\u001b[49m\u001b[43m(\u001b[49m\u001b[38;5;124;43mr\u001b[39;49m\u001b[38;5;124;43m\"\u001b[39;49m\u001b[38;5;124;43m[^a-z\u001b[39;49m\u001b[38;5;124;43m\\\u001b[39;49m\u001b[38;5;124;43ms]\u001b[39;49m\u001b[38;5;124;43m\"\u001b[39;49m\u001b[43m,\u001b[49m\u001b[43m \u001b[49m\u001b[38;5;124;43m\"\u001b[39;49m\u001b[38;5;124;43m\"\u001b[39;49m\u001b[43m,\u001b[49m\u001b[43m \u001b[49m\u001b[43mtext\u001b[49m\u001b[43m)\u001b[49m\n",
      "File \u001b[1;32mC:\\Program Files\\Python311\\Lib\\re\\__init__.py:185\u001b[0m, in \u001b[0;36msub\u001b[1;34m(pattern, repl, string, count, flags)\u001b[0m\n\u001b[0;32m    178\u001b[0m \u001b[38;5;28;01mdef\u001b[39;00m\u001b[38;5;250m \u001b[39m\u001b[38;5;21msub\u001b[39m(pattern, repl, string, count\u001b[38;5;241m=\u001b[39m\u001b[38;5;241m0\u001b[39m, flags\u001b[38;5;241m=\u001b[39m\u001b[38;5;241m0\u001b[39m):\n\u001b[0;32m    179\u001b[0m \u001b[38;5;250m    \u001b[39m\u001b[38;5;124;03m\"\"\"Return the string obtained by replacing the leftmost\u001b[39;00m\n\u001b[0;32m    180\u001b[0m \u001b[38;5;124;03m    non-overlapping occurrences of the pattern in string by the\u001b[39;00m\n\u001b[0;32m    181\u001b[0m \u001b[38;5;124;03m    replacement repl.  repl can be either a string or a callable;\u001b[39;00m\n\u001b[0;32m    182\u001b[0m \u001b[38;5;124;03m    if a string, backslash escapes in it are processed.  If it is\u001b[39;00m\n\u001b[0;32m    183\u001b[0m \u001b[38;5;124;03m    a callable, it's passed the Match object and must return\u001b[39;00m\n\u001b[0;32m    184\u001b[0m \u001b[38;5;124;03m    a replacement string to be used.\"\"\"\u001b[39;00m\n\u001b[1;32m--> 185\u001b[0m     \u001b[38;5;28;01mreturn\u001b[39;00m \u001b[43m_compile\u001b[49m\u001b[43m(\u001b[49m\u001b[43mpattern\u001b[49m\u001b[43m,\u001b[49m\u001b[43m \u001b[49m\u001b[43mflags\u001b[49m\u001b[43m)\u001b[49m\u001b[38;5;241;43m.\u001b[39;49m\u001b[43msub\u001b[49m\u001b[43m(\u001b[49m\u001b[43mrepl\u001b[49m\u001b[43m,\u001b[49m\u001b[43m \u001b[49m\u001b[43mstring\u001b[49m\u001b[43m,\u001b[49m\u001b[43m \u001b[49m\u001b[43mcount\u001b[49m\u001b[43m)\u001b[49m\n",
      "\u001b[1;31mTypeError\u001b[0m: expected string or bytes-like object, got 'float'"
     ]
    }
   ],
   "source": [
    "import re\n",
    "\n",
    "def remove_punctuations_numbers(text):\n",
    "    return re.sub(r\"[^a-z\\s]\", \"\", text)  # Keep only letters & spaces\n",
    "\n",
    "df[\"clean_description\"] = df[\"clean_description\"].apply(remove_punctuations_numbers)\n",
    "print(df[\"clean_description\"].head(5))\n"
   ]
  },
  {
   "cell_type": "code",
   "execution_count": 27,
   "id": "a2b8064b-1ecf-497b-bccf-ecd0f521255f",
   "metadata": {},
   "outputs": [
    {
     "name": "stdout",
     "output_type": "stream",
     "text": [
      "0    an experienced hr professional  hr mentor and ...\n",
      "1    head talent acquisition hr leader and strategi...\n",
      "2    a talent acquisition and hr professional with ...\n",
      "3                                                     \n",
      "4    over  years of experience in it ites   bpo wit...\n",
      "Name: clean_description, dtype: object\n"
     ]
    }
   ],
   "source": [
    "import re\n",
    "\n",
    "def remove_punctuations_numbers(text):\n",
    "    if not isinstance(text, str):  # If text is NaN or not a string, convert it\n",
    "        return \"\"\n",
    "    return re.sub(r\"[^a-z\\s]\", \"\", text)  # Keep only letters & spaces\n",
    "\n",
    "df[\"clean_description\"] = df[\"clean_description\"].apply(remove_punctuations_numbers)\n",
    "print(df[\"clean_description\"].head(5))\n"
   ]
  },
  {
   "cell_type": "code",
   "execution_count": 28,
   "id": "a028196c-dbec-4bcd-946b-2bddd2784ce5",
   "metadata": {},
   "outputs": [
    {
     "name": "stdout",
     "output_type": "stream",
     "text": [
      "0    an experienced hr professional  hr mentor and ...\n",
      "1    head talent acquisition hr leader and strategi...\n",
      "2    a talent acquisition and hr professional with ...\n",
      "3                                                     \n",
      "4    over  years of experience in it ites   bpo wit...\n",
      "5    human resources business partner with a demons...\n",
      "6    a seasoned hr professional and an experienced ...\n",
      "7    i have been working as an hr practitioner for ...\n",
      "8    passionate in developing people and building c...\n",
      "9    performance driven and accomplished profession...\n",
      "Name: clean_description, dtype: object\n"
     ]
    }
   ],
   "source": [
    "print(df[\"clean_description\"].head(10))\n"
   ]
  },
  {
   "cell_type": "code",
   "execution_count": 31,
   "id": "def17347-b955-45a1-a455-02fbe1380bf5",
   "metadata": {},
   "outputs": [
    {
     "name": "stdout",
     "output_type": "stream",
     "text": [
      "0\n",
      "0\n"
     ]
    }
   ],
   "source": [
    "print(df[\"clean_description\"].isnull().sum())  # Check for NaN (missing) values\n",
    "print((df[\"clean_description\"] == \"\").sum())  # Count fully empty rows\n"
   ]
  },
  {
   "cell_type": "code",
   "execution_count": 30,
   "id": "c94cb5ea-5053-4ed2-83b6-3ce7d007257e",
   "metadata": {},
   "outputs": [],
   "source": [
    "df = df[df[\"clean_description\"] != \"\"]\n"
   ]
  },
  {
   "cell_type": "code",
   "execution_count": 32,
   "id": "22b32684-5cdc-4407-a287-1842048ded7e",
   "metadata": {},
   "outputs": [
    {
     "name": "stdout",
     "output_type": "stream",
     "text": [
      "0     experienced professional mentor coach talent a...\n",
      "1     head talent acquisition leader strategic partn...\n",
      "2     talent acquisition professional experience soc...\n",
      "4     years experience ites leading global organizat...\n",
      "5     human resources business partner demonstrated ...\n",
      "6     seasoned professional experienced banker years...\n",
      "7     working practitioner past years attract engage...\n",
      "8     passionate developing people building competen...\n",
      "9     performance driven accomplished professional c...\n",
      "11    administration coordinating handling operation...\n",
      "Name: clean_description, dtype: object\n"
     ]
    },
    {
     "name": "stderr",
     "output_type": "stream",
     "text": [
      "[nltk_data] Downloading package stopwords to\n",
      "[nltk_data]     C:\\Users\\gopko\\AppData\\Roaming\\nltk_data...\n",
      "[nltk_data]   Package stopwords is already up-to-date!\n"
     ]
    }
   ],
   "source": [
    "import nltk\n",
    "from nltk.corpus import stopwords\n",
    "\n",
    "nltk.download(\"stopwords\")\n",
    "stop_words = set(stopwords.words(\"english\"))\n",
    "\n",
    "def clean_text(text):\n",
    "    if not isinstance(text, str):\n",
    "        return \"Unknown\"  # Handle missing values\n",
    "    \n",
    "    text = text.lower()  # Convert to lowercase\n",
    "    text = re.sub(r\"\\d+\", \"\", text)  # Remove numbers\n",
    "    text = re.sub(r\"[^\\w\\s]\", \" \", text)  # Remove punctuation\n",
    "    text = re.sub(r\"\\s+\", \" \", text).strip()  # Remove extra spaces\n",
    "    words = [word for word in text.split() if word not in stop_words and len(word) > 3]  # Remove stopwords & short words\n",
    "    return \" \".join(words)\n",
    "\n",
    "# Apply improved cleaning function\n",
    "df[\"clean_description\"] = df[\"description\"].apply(clean_text)\n",
    "\n",
    "# Check results\n",
    "print(df[\"clean_description\"].head(10))"
   ]
  },
  {
   "cell_type": "code",
   "execution_count": 35,
   "id": "786f6110-b357-4cc8-9dbb-3a945c1ae5d7",
   "metadata": {},
   "outputs": [
    {
     "name": "stdout",
     "output_type": "stream",
     "text": [
      "0\n",
      "0\n"
     ]
    }
   ],
   "source": [
    "print(df[\"clean_description\"].isnull().sum())  # Check for missing values\n",
    "print((df[\"clean_description\"] == \"\").sum())  # Check for fully empty rows\n"
   ]
  },
  {
   "cell_type": "code",
   "execution_count": 34,
   "id": "0d761afd-d65c-4ede-b637-aa3dd20fd214",
   "metadata": {},
   "outputs": [],
   "source": [
    "df = df[df[\"clean_description\"] != \"\"]  # Remove fully empty rows\n",
    "df = df.dropna(subset=[\"clean_description\"])  # Remove NaN values\n"
   ]
  },
  {
   "cell_type": "code",
   "execution_count": 36,
   "id": "ca0c2c65-56d4-4dd9-be80-75b9743612dc",
   "metadata": {},
   "outputs": [
    {
     "name": "stdout",
     "output_type": "stream",
     "text": [
      "Cleaned dataset saved successfully!\n"
     ]
    }
   ],
   "source": [
    "df.to_csv(\"../data/resume_data_cleaned.csv\", index=False)\n",
    "print(\"Cleaned dataset saved successfully!\")"
   ]
  },
  {
   "cell_type": "code",
   "execution_count": 37,
   "id": "1c40ee39-ac12-4947-a170-a4d87db9920a",
   "metadata": {},
   "outputs": [
    {
     "name": "stdout",
     "output_type": "stream",
     "text": [
      "Requirement already satisfied: scikit-learn in c:\\users\\gopko\\documents\\github\\ml-resume-classifier\\resume-ml-env\\lib\\site-packages (1.6.1)\n",
      "Requirement already satisfied: numpy>=1.19.5 in c:\\users\\gopko\\documents\\github\\ml-resume-classifier\\resume-ml-env\\lib\\site-packages (from scikit-learn) (2.0.2)\n",
      "Requirement already satisfied: scipy>=1.6.0 in c:\\users\\gopko\\documents\\github\\ml-resume-classifier\\resume-ml-env\\lib\\site-packages (from scikit-learn) (1.15.2)\n",
      "Requirement already satisfied: joblib>=1.2.0 in c:\\users\\gopko\\documents\\github\\ml-resume-classifier\\resume-ml-env\\lib\\site-packages (from scikit-learn) (1.4.2)\n",
      "Requirement already satisfied: threadpoolctl>=3.1.0 in c:\\users\\gopko\\documents\\github\\ml-resume-classifier\\resume-ml-env\\lib\\site-packages (from scikit-learn) (3.5.0)\n",
      "Note: you may need to restart the kernel to use updated packages.\n"
     ]
    }
   ],
   "source": [
    "pip install scikit-learn\n"
   ]
  },
  {
   "cell_type": "code",
   "execution_count": 38,
   "id": "1b2bb26a-59fc-4e26-870b-86e4767327df",
   "metadata": {},
   "outputs": [],
   "source": [
    "from sklearn.feature_extraction.text import TfidfVectorizer\n"
   ]
  },
  {
   "cell_type": "code",
   "execution_count": 39,
   "id": "9cb16d1e-49d1-4802-a3fa-317545fc9469",
   "metadata": {},
   "outputs": [
    {
     "name": "stdout",
     "output_type": "stream",
     "text": [
      "TF-IDF matrix shape: (668, 3585)\n"
     ]
    }
   ],
   "source": [
    "# Initialize TF-IDF Vectorizer\n",
    "vectorizer = TfidfVectorizer(stop_words=\"english\", max_features=5000)\n",
    "\n",
    "# Convert cleaned descriptions into numerical vectors\n",
    "X = vectorizer.fit_transform(df[\"clean_description\"])\n",
    "\n",
    "# Print the shape of transformed data\n",
    "print(\"TF-IDF matrix shape:\", X.shape)"
   ]
  },
  {
   "cell_type": "code",
   "execution_count": 40,
   "id": "dc0ea752-2c2c-4e68-a3fc-bfe3e8ef9cf7",
   "metadata": {},
   "outputs": [
    {
     "name": "stdout",
     "output_type": "stream",
     "text": [
      "Top 20 Words in TF-IDF Feature List:\n",
      " ['_avp' 'aarti' 'abhijeet' 'abilities' 'ability' 'abilityto' 'able'\n",
      " 'aboutnational' 'abridging' 'abroad' 'absolute' 'absorptionspectroscopy'\n",
      " 'academia' 'academic' 'academics' 'academy' 'accept' 'access'\n",
      " 'accessories' 'accompanied']\n"
     ]
    }
   ],
   "source": [
    "# Get feature names (words)\n",
    "feature_names = vectorizer.get_feature_names_out()\n",
    "\n",
    "# Print the first 20 important words\n",
    "print(\"Top 20 Words in TF-IDF Feature List:\\n\", feature_names[:20])"
   ]
  },
  {
   "cell_type": "code",
   "execution_count": 41,
   "id": "4cc8d309-6e61-489e-945a-8a54c043c375",
   "metadata": {},
   "outputs": [
    {
     "name": "stdout",
     "output_type": "stream",
     "text": [
      "_avp         0.0\n",
      "aarti        0.0\n",
      "abhijeet     0.0\n",
      "abilities    0.0\n",
      "ability      0.0\n",
      "            ... \n",
      "youtube      0.0\n",
      "yuva         0.0\n",
      "zealand      0.0\n",
      "zettler      0.0\n",
      "zone         0.0\n",
      "Name: 0, Length: 3585, dtype: float64\n"
     ]
    }
   ],
   "source": [
    "import pandas as pd\n",
    "\n",
    "# Convert TF-IDF matrix to a DataFrame\n",
    "tfidf_df = pd.DataFrame(X.toarray(), columns=vectorizer.get_feature_names_out())\n",
    "\n",
    "# Print first resume vector\n",
    "print(tfidf_df.iloc[0])"
   ]
  },
  {
   "cell_type": "code",
   "execution_count": 42,
   "id": "e6b0f699-acdf-4eec-adde-b79a1fc35ce6",
   "metadata": {},
   "outputs": [
    {
     "name": "stdout",
     "output_type": "stream",
     "text": [
      "0     experienced professional mentor coach talent a...\n",
      "1     head talent acquisition leader strategic partn...\n",
      "2     talent acquisition professional experience soc...\n",
      "4     years experience ites leading global organizat...\n",
      "5     human resources business partner demonstrated ...\n",
      "6     seasoned professional experienced banker years...\n",
      "7     working practitioner past years attract engage...\n",
      "8     passionate developing people building competen...\n",
      "9     performance driven accomplished professional c...\n",
      "11    administration coordinating handling operation...\n",
      "13    experienced head rewards operations demonstrat...\n",
      "14    years progressive experience domain across div...\n",
      "15    professional years experience business partner...\n",
      "17       recruitment professional years work experience\n",
      "20    proficient hrms implementation administration ...\n",
      "21    dynamic executive years comprehensive experien...\n",
      "22    analytics modeling expert business partner dat...\n",
      "25    experienced human resource capital management ...\n",
      "28    payroll attendance kronos management recruitme...\n",
      "29    firm believer human potential collectively cha...\n",
      "Name: clean_description, dtype: object\n"
     ]
    }
   ],
   "source": [
    "print(df[\"clean_description\"].head(20))  # Show first 20 cleaned resumes\n"
   ]
  },
  {
   "cell_type": "code",
   "execution_count": 43,
   "id": "a0220234-204e-45a5-89e0-d2d43a342f71",
   "metadata": {},
   "outputs": [
    {
     "name": "stdout",
     "output_type": "stream",
     "text": [
      "Top 20 Words in TF-IDF Feature List:\n",
      " ['ability' 'able' 'academy' 'accomplished' 'account' 'accountant'\n",
      " 'accounting' 'accounts' 'achieve' 'achieved' 'acquisition' 'active'\n",
      " 'activities' 'administration' 'advertising' 'advisor' 'advisory'\n",
      " 'advocate' 'affairs' 'agencies']\n"
     ]
    }
   ],
   "source": [
    "vectorizer = TfidfVectorizer(\n",
    "    stop_words=\"english\", \n",
    "    max_features=3000,  # Reduce number of words\n",
    "    min_df=5,  # Ignore words that appear in fewer than 5 resumes\n",
    "    max_df=0.9  # Ignore words that appear in more than 90% of resumes (too common)\n",
    ")\n",
    "\n",
    "# Reapply TF-IDF transformation\n",
    "X = vectorizer.fit_transform(df[\"clean_description\"])\n",
    "\n",
    "# Print top words\n",
    "feature_names = vectorizer.get_feature_names_out()\n",
    "print(\"Top 20 Words in TF-IDF Feature List:\\n\", feature_names[:20])"
   ]
  },
  {
   "cell_type": "code",
   "execution_count": 44,
   "id": "861036f2-c866-4380-b96a-0571091f7925",
   "metadata": {},
   "outputs": [
    {
     "name": "stdout",
     "output_type": "stream",
     "text": [
      "Top 20 Words in TF-IDF Feature List:\n",
      " ['ability' 'able' 'academy' 'accomplished' 'account' 'accountant'\n",
      " 'accounting' 'accounts' 'achieve' 'achieved' 'acquisition' 'across'\n",
      " 'active' 'activities' 'administration' 'advertising' 'advisor' 'advisory'\n",
      " 'advocate' 'affairs']\n"
     ]
    }
   ],
   "source": [
    "custom_stop_words = [\"_avp\", \"aarti\", \"abhijeet\", \"zettler\", \"yuva\", \"zone\"]\n",
    "\n",
    "vectorizer = TfidfVectorizer(\n",
    "    stop_words=custom_stop_words,  \n",
    "    max_features=3000,\n",
    "    min_df=5,  \n",
    "    max_df=0.9\n",
    ")\n",
    "\n",
    "X = vectorizer.fit_transform(df[\"clean_description\"])\n",
    "feature_names = vectorizer.get_feature_names_out()\n",
    "print(\"Top 20 Words in TF-IDF Feature List:\\n\", feature_names[:20])"
   ]
  },
  {
   "cell_type": "code",
   "execution_count": 45,
   "id": "46ef89b2-34a8-472f-9e16-9f77d45ae9ed",
   "metadata": {},
   "outputs": [
    {
     "name": "stdout",
     "output_type": "stream",
     "text": [
      "Top 20 Words in TF-IDF Feature List:\n",
      " ['ability' 'able' 'academy' 'accomplished' 'account' 'accountant'\n",
      " 'accounting' 'accounts' 'achieve' 'achieved' 'acquisition' 'across'\n",
      " 'active' 'activities' 'administration' 'advertising' 'advisor' 'advisory'\n",
      " 'advocate' 'affairs']\n"
     ]
    }
   ],
   "source": [
    "print(\"Top 20 Words in TF-IDF Feature List:\\n\", feature_names[:20])\n"
   ]
  },
  {
   "cell_type": "code",
   "execution_count": 46,
   "id": "87386946-3728-45c7-8d29-b4e34caa5e89",
   "metadata": {},
   "outputs": [
    {
     "name": "stdout",
     "output_type": "stream",
     "text": [
      "Top 20 Words in TF-IDF Feature List:\n",
      " ['academy' 'accomplished' 'account' 'accountant' 'accounting' 'accounts'\n",
      " 'acquisition' 'active' 'administration' 'advertising' 'advisor'\n",
      " 'advisory' 'advocate' 'affairs' 'agencies' 'agency' 'agricultural'\n",
      " 'agriculture' 'airlines' 'also']\n"
     ]
    }
   ],
   "source": [
    "custom_stop_words = [\n",
    "    \"ability\", \"able\", \"across\", \"activities\", \"achieve\", \"achieved\"\n",
    "]\n",
    "\n",
    "vectorizer = TfidfVectorizer(\n",
    "    stop_words=custom_stop_words,  \n",
    "    max_features=3000,\n",
    "    min_df=5,  \n",
    "    max_df=0.9\n",
    ")\n",
    "\n",
    "# Apply TF-IDF again\n",
    "X = vectorizer.fit_transform(df[\"clean_description\"])\n",
    "feature_names = vectorizer.get_feature_names_out()\n",
    "\n",
    "# Check top words\n",
    "print(\"Top 20 Words in TF-IDF Feature List:\\n\", feature_names[:20])\n"
   ]
  },
  {
   "cell_type": "code",
   "execution_count": 47,
   "id": "150909b8-2c85-4c22-ae0b-5371600008ca",
   "metadata": {},
   "outputs": [
    {
     "name": "stdout",
     "output_type": "stream",
     "text": [
      "Top 20 Words in TF-IDF Feature List:\n",
      " ['ability' 'able' 'account' 'accountant' 'accounting' 'accounts' 'achieve'\n",
      " 'achieved' 'acquisition' 'across' 'activities' 'administration'\n",
      " 'advertising' 'advisor' 'advisory' 'advocate' 'always' 'analysis'\n",
      " 'analytical' 'analytics']\n"
     ]
    }
   ],
   "source": [
    "custom_stop_words = [\n",
    "    \"academy\", \"accomplished\", \"active\", \"affairs\", \"agencies\",\n",
    "    \"agency\", \"agricultural\", \"agriculture\", \"airlines\", \"also\"\n",
    "]\n",
    "\n",
    "vectorizer = TfidfVectorizer(\n",
    "    stop_words=custom_stop_words,  \n",
    "    max_features=3000,\n",
    "    min_df=5,  \n",
    "    max_df=0.9\n",
    ")\n",
    "\n",
    "# Apply TF-IDF again\n",
    "X = vectorizer.fit_transform(df[\"clean_description\"])\n",
    "feature_names = vectorizer.get_feature_names_out()\n",
    "\n",
    "# Check top words\n",
    "print(\"Top 20 Words in TF-IDF Feature List:\\n\", feature_names[:20])\n"
   ]
  },
  {
   "cell_type": "code",
   "execution_count": 48,
   "id": "36b89289-17c2-419c-84a9-9f78ef454849",
   "metadata": {},
   "outputs": [
    {
     "name": "stdout",
     "output_type": "stream",
     "text": [
      "Words before TF-IDF:\n",
      " ['experienced', 'professional', 'mentor', 'coach', 'talent', 'advisory', 'strategist']\n"
     ]
    },
    {
     "name": "stderr",
     "output_type": "stream",
     "text": [
      "[nltk_data] Downloading package stopwords to\n",
      "[nltk_data]     C:\\Users\\gopko\\AppData\\Roaming\\nltk_data...\n",
      "[nltk_data]   Package stopwords is already up-to-date!\n"
     ]
    }
   ],
   "source": [
    "from nltk.corpus import stopwords\n",
    "\n",
    "nltk.download(\"stopwords\")\n",
    "stop_words = set(stopwords.words(\"english\")).union(custom_stop_words)\n",
    "\n",
    "# Print first 30 words before TF-IDF to confirm stopwords are applied\n",
    "print(\"Words before TF-IDF:\\n\", df[\"clean_description\"].iloc[0].split()[:30])"
   ]
  },
  {
   "cell_type": "code",
   "execution_count": 49,
   "id": "5aaa0f2f-137b-438f-92c7-1df298a93a84",
   "metadata": {},
   "outputs": [
    {
     "name": "stdout",
     "output_type": "stream",
     "text": [
      "Words in first resume after stopword removal: ['talent']\n"
     ]
    },
    {
     "name": "stderr",
     "output_type": "stream",
     "text": [
      "[nltk_data] Downloading package stopwords to\n",
      "[nltk_data]     C:\\Users\\gopko\\AppData\\Roaming\\nltk_data...\n",
      "[nltk_data]   Package stopwords is already up-to-date!\n"
     ]
    }
   ],
   "source": [
    "import re\n",
    "import nltk\n",
    "from nltk.corpus import stopwords\n",
    "\n",
    "nltk.download(\"stopwords\")\n",
    "stop_words = set(stopwords.words(\"english\")).union(set([\n",
    "    \"experienced\", \"professional\", \"mentor\", \"coach\", \"strategist\", \"advisory\",\n",
    "    \"expertise\", \"specialist\", \"career\", \"success\", \"background\", \"certified\",\n",
    "    \"ability\", \"proven\", \"passionate\", \"dedicated\", \"hardworking\", \"teamwork\"\n",
    "]))\n",
    "\n",
    "def clean_text(text):\n",
    "    if not isinstance(text, str):\n",
    "        return \"Unknown\"  # Handle missing values\n",
    "    \n",
    "    text = text.lower()  # Convert to lowercase\n",
    "    text = re.sub(r\"\\d+\", \"\", text)  # Remove numbers\n",
    "    text = re.sub(r\"[^\\w\\s]\", \" \", text)  # Remove punctuation\n",
    "    text = re.sub(r\"\\s+\", \" \", text).strip()  # Remove extra spaces\n",
    "    words = [word for word in text.split() if word not in stop_words and len(word) > 3]  # Remove stopwords & short words\n",
    "    return \" \".join(words)\n",
    "\n",
    "# Apply improved cleaning function\n",
    "df[\"clean_description\"] = df[\"description\"].apply(clean_text)\n",
    "\n",
    "# Check if generic words are removed before TF-IDF\n",
    "print(\"Words in first resume after stopword removal:\", df[\"clean_description\"].iloc[0].split())"
   ]
  },
  {
   "cell_type": "code",
   "execution_count": 50,
   "id": "93f7283c-690e-403d-bf2c-bcdb6a6e88f5",
   "metadata": {},
   "outputs": [
    {
     "name": "stdout",
     "output_type": "stream",
     "text": [
      "Top 20 Words in TF-IDF Feature List:\n",
      " ['able' 'academy' 'accomplished' 'account' 'accountant' 'accounting'\n",
      " 'accounts' 'achieve' 'achieved' 'acquisition' 'active' 'activities'\n",
      " 'administration' 'advertising' 'advisor' 'advocate' 'affairs' 'agencies'\n",
      " 'agency' 'agricultural']\n"
     ]
    }
   ],
   "source": [
    "vectorizer = TfidfVectorizer(stop_words=\"english\", max_features=3000, min_df=5, max_df=0.9)\n",
    "X = vectorizer.fit_transform(df[\"clean_description\"])\n",
    "\n",
    "# Check top words\n",
    "feature_names = vectorizer.get_feature_names_out()\n",
    "print(\"Top 20 Words in TF-IDF Feature List:\\n\", feature_names[:20])\n"
   ]
  },
  {
   "cell_type": "code",
   "execution_count": 51,
   "id": "58e173a2-3d6c-4baf-8067-940df1ac51c2",
   "metadata": {},
   "outputs": [
    {
     "name": "stdout",
     "output_type": "stream",
     "text": [
      "Top 20 Words in TF-IDF Feature List:\n",
      " ['accountant' 'accounting' 'accounts' 'acquisition' 'across' 'agriculture'\n",
      " 'airlines' 'also' 'always' 'analysis' 'analytical' 'analytics' 'apparel'\n",
      " 'applications' 'approach' 'architect' 'architects' 'architecture' 'area'\n",
      " 'areas']\n"
     ]
    }
   ],
   "source": [
    "custom_stop_words = [\n",
    "    \"able\", \"academy\", \"accomplished\", \"active\", \"activities\",\n",
    "    \"administration\", \"affairs\", \"agencies\", \"agency\", \"agricultural\",\n",
    "    \"achieve\", \"achieved\", \"account\", \"advertising\", \"advisor\",\n",
    "    \"advocate\"\n",
    "]\n",
    "\n",
    "vectorizer = TfidfVectorizer(\n",
    "    stop_words=custom_stop_words,\n",
    "    max_features=3000,\n",
    "    min_df=5,\n",
    "    max_df=0.9\n",
    ")\n",
    "\n",
    "# Reapply TF-IDF transformation\n",
    "X = vectorizer.fit_transform(df[\"clean_description\"])\n",
    "\n",
    "# Print top words\n",
    "feature_names = vectorizer.get_feature_names_out()\n",
    "print(\"Top 20 Words in TF-IDF Feature List:\\n\", feature_names[:20])\n"
   ]
  },
  {
   "cell_type": "code",
   "execution_count": 52,
   "id": "823def2d-ec29-4286-a7a0-c522a9741e77",
   "metadata": {},
   "outputs": [
    {
     "name": "stdout",
     "output_type": "stream",
     "text": [
      "Words in first resume after stopword removal: ['talent']\n"
     ]
    }
   ],
   "source": [
    "print(\"Words in first resume after stopword removal:\", df[\"clean_description\"].iloc[0].split()[:30])\n"
   ]
  },
  {
   "cell_type": "code",
   "execution_count": 53,
   "id": "d38c37af-937f-4c60-8da5-0131986bd8f0",
   "metadata": {},
   "outputs": [
    {
     "name": "stdout",
     "output_type": "stream",
     "text": [
      "Top 20 Words in TF-IDF Feature List:\n",
      " ['accountant' 'accounting' 'accounts' 'acquisition' 'across' 'agriculture'\n",
      " 'airlines' 'also' 'always' 'analysis' 'analytical' 'analytics' 'apparel'\n",
      " 'applications' 'approach' 'architect' 'architects' 'architecture' 'area'\n",
      " 'areas']\n"
     ]
    }
   ],
   "source": [
    "X = vectorizer.fit_transform(df[\"clean_description\"])\n",
    "\n",
    "# Check top words\n",
    "feature_names = vectorizer.get_feature_names_out()\n",
    "print(\"Top 20 Words in TF-IDF Feature List:\\n\", feature_names[:20])"
   ]
  },
  {
   "cell_type": "code",
   "execution_count": 54,
   "id": "5c45d5a4-ea1f-441f-ae37-a232b460b67a",
   "metadata": {},
   "outputs": [
    {
     "name": "stdout",
     "output_type": "stream",
     "text": [
      "   index category                                           linkedin  \\\n",
      "0      1       HR  https://in.linkedin.com/in/sameer-wadhawan-b55...   \n",
      "1      2       HR  https://in.linkedin.com/in/adarsh-krishna-a4ab0a5   \n",
      "2      3       HR           https://in.linkedin.com/in/shrivas-mohit   \n",
      "3      4       HR       https://in.linkedin.com/in/hr-hopes-086734b8   \n",
      "4      5       HR           https://in.linkedin.com/in/rakeshkumar01   \n",
      "\n",
      "                                     profile_picture  \\\n",
      "0  https://media-exp1.licdn.com/dms/image/C5603AQ...   \n",
      "1  https://media-exp1.licdn.com/dms/image/C5103AQ...   \n",
      "2  data:image/gif;base64,R0lGODlhAQABAIAAAAAAAP//...   \n",
      "3  data:image/gif;base64,R0lGODlhAQABAIAAAAAAAP//...   \n",
      "4  https://media-exp1.licdn.com/dms/image/C5103AQ...   \n",
      "\n",
      "                                         description  \\\n",
      "0  An experienced HR professional,  HR mentor and...   \n",
      "1  Head Talent Acquisition, HR Leader and Strateg...   \n",
      "2  A Talent Acquisition and HR professional with ...   \n",
      "3                                                NaN   \n",
      "4  Over 18 Years of experience in IT /ITES  / BPO...   \n",
      "\n",
      "                                          Experience             Name  \\\n",
      "0  Senior Vice President & Head of HRCompany Name...  Sameer Wadhawan   \n",
      "1  Head of Talent Acquisition - India & APAC and ...   Adarsh Krishna   \n",
      "2  Company NameIBM INDIA Pvt LtdTotal Duration8 y...    Shrivas Mohit   \n",
      "3  HR/Admin/Personnel/LegalCompany NameHR and HR ...         HR Hopes   \n",
      "4  Company NameEXLTotal Duration6 yrs 4 mosTitleV...     Rakesh Kumar   \n",
      "\n",
      "                                            position  \\\n",
      "0  Senior Vice President and Head of HR- Samsung ...   \n",
      "1  Head Talent Acquisition and HR Leader for Heal...   \n",
      "2                                             HR@IBM   \n",
      "3                                                 HR   \n",
      "4  Vice President - Digital HR Transformation Lea...   \n",
      "\n",
      "                      location  \\\n",
      "0      Gurgaon, Haryana, India   \n",
      "1     Pune, Maharashtra, India   \n",
      "2  Bengaluru, Karnataka, India   \n",
      "3             Pune Area, India   \n",
      "4  Central Delhi, Delhi, India   \n",
      "\n",
      "                                              skills  \\\n",
      "0  ['\\nPerformance Management\\n', '\\nHuman Resour...   \n",
      "1  ['\\nTalent Acquisition\\n', '\\nEmployee Engagem...   \n",
      "2  ['\\nHuman Resources\\n', '\\nRecruiting\\n', '\\nT...   \n",
      "3                                                 []   \n",
      "4  ['\\nTeam Management\\n', '\\nHuman Resources\\n',...   \n",
      "\n",
      "                                        clean_skills  \n",
      "0  ['Performance Management', 'Human Resources', ...  \n",
      "1  ['Talent Acquisition', 'Employee Engagement', ...  \n",
      "2  ['Human Resources', 'Recruiting', 'Team Manage...  \n",
      "3                                               ['']  \n",
      "4  ['Team Management', 'Human Resources', 'Employ...  \n"
     ]
    }
   ],
   "source": [
    "import pandas as pd\n",
    "\n",
    "# Reload the original dataset\n",
    "file_path = r\"C:\\Users\\gopko\\Documents\\GitHub\\ML-Resume-Classifier\\data\\resume_data.csv\"\n",
    "df = pd.read_csv(file_path)\n",
    "\n",
    "# Show first few rows to confirm it's reset\n",
    "print(df.head())"
   ]
  },
  {
   "cell_type": "code",
   "execution_count": 55,
   "id": "5996d1ca-0b41-409f-96f6-6a5cc29347d6",
   "metadata": {},
   "outputs": [
    {
     "name": "stdout",
     "output_type": "stream",
     "text": [
      "Words in first resume after cleaning: ['talent']\n"
     ]
    },
    {
     "name": "stderr",
     "output_type": "stream",
     "text": [
      "[nltk_data] Downloading package stopwords to\n",
      "[nltk_data]     C:\\Users\\gopko\\AppData\\Roaming\\nltk_data...\n",
      "[nltk_data]   Package stopwords is already up-to-date!\n"
     ]
    }
   ],
   "source": [
    "import re\n",
    "import nltk\n",
    "from nltk.corpus import stopwords\n",
    "\n",
    "nltk.download(\"stopwords\")\n",
    "stop_words = set(stopwords.words(\"english\")).union(set([\n",
    "    \"experienced\", \"professional\", \"mentor\", \"coach\", \"strategist\", \"advisory\",\n",
    "    \"expertise\", \"specialist\", \"career\", \"success\", \"background\", \"certified\",\n",
    "    \"ability\", \"proven\", \"passionate\", \"dedicated\", \"hardworking\", \"teamwork\"\n",
    "]))\n",
    "\n",
    "def clean_text(text):\n",
    "    if not isinstance(text, str):\n",
    "        return \"Unknown\"  # Handle missing values\n",
    "    \n",
    "    text = text.lower()  # Convert to lowercase\n",
    "    text = re.sub(r\"\\d+\", \"\", text)  # Remove numbers\n",
    "    text = re.sub(r\"[^\\w\\s]\", \" \", text)  # Remove punctuation\n",
    "    text = re.sub(r\"\\s+\", \" \", text).strip()  # Remove extra spaces\n",
    "    words = [word for word in text.split() if word not in stop_words and len(word) > 3]  # Remove stopwords & short words\n",
    "    return \" \".join(words)\n",
    "\n",
    "# Apply cleaning function\n",
    "df[\"clean_description\"] = df[\"description\"].apply(clean_text)\n",
    "\n",
    "# Print cleaned descriptions before TF-IDF\n",
    "print(\"Words in first resume after cleaning:\", df[\"clean_description\"].iloc[0].split())"
   ]
  },
  {
   "cell_type": "code",
   "execution_count": 56,
   "id": "5e4e206f-339d-432a-bdcc-a581c40d846c",
   "metadata": {},
   "outputs": [
    {
     "name": "stdout",
     "output_type": "stream",
     "text": [
      "Top 20 Words in TF-IDF Feature List:\n",
      " ['account' 'accounting' 'acquisition' 'administration' 'agency' 'analysis'\n",
      " 'analytics' 'approach' 'architecture' 'areas' 'arts' 'automobile'\n",
      " 'aviation' 'bachelor' 'banking' 'based' 'believe' 'best' 'beverage'\n",
      " 'brand']\n"
     ]
    }
   ],
   "source": [
    "from sklearn.feature_extraction.text import TfidfVectorizer\n",
    "\n",
    "vectorizer = TfidfVectorizer(\n",
    "    stop_words=\"english\",  \n",
    "    max_features=3000,\n",
    "    min_df=10,  # Ignore words that appear in fewer than 10 resumes\n",
    "    max_df=0.9  # Ignore words that appear in more than 90% of resumes\n",
    ")\n",
    "\n",
    "# Apply TF-IDF again\n",
    "X = vectorizer.fit_transform(df[\"clean_description\"])\n",
    "feature_names = vectorizer.get_feature_names_out()\n",
    "\n",
    "# Print top words\n",
    "print(\"Top 20 Words in TF-IDF Feature List:\\n\", feature_names[:20])\n"
   ]
  },
  {
   "cell_type": "code",
   "execution_count": 57,
   "id": "a9a631ad-27ce-4102-9bdb-88922415f451",
   "metadata": {},
   "outputs": [
    {
     "name": "stdout",
     "output_type": "stream",
     "text": [
      "Top 20 Words in TF-IDF Feature List:\n",
      " ['account' 'accounting' 'acquisition' 'administration' 'agency' 'analysis'\n",
      " 'analytics' 'approach' 'architecture' 'areas' 'arts' 'automobile'\n",
      " 'aviation' 'bachelor' 'banking' 'based' 'believe' 'best' 'beverage'\n",
      " 'brand']\n"
     ]
    }
   ],
   "source": [
    "print(\"Top 20 Words in TF-IDF Feature List:\\n\", feature_names[:20])\n"
   ]
  },
  {
   "cell_type": "code",
   "execution_count": 58,
   "id": "e20937d5-2961-452d-a4a3-5e9a93a8940f",
   "metadata": {},
   "outputs": [
    {
     "name": "stdout",
     "output_type": "stream",
     "text": [
      "       Category                                             Resume\n",
      "0  Data Science  Skills * Programming Languages: Python (pandas...\n",
      "1  Data Science  Education Details \\r\\nMay 2013 to May 2017 B.E...\n",
      "2  Data Science  Areas of Interest Deep Learning, Control Syste...\n",
      "3  Data Science  Skills â¢ R â¢ Python â¢ SAP HANA â¢ Table...\n",
      "4  Data Science  Education Details \\r\\n MCA   YMCAUST,  Faridab...\n"
     ]
    }
   ],
   "source": [
    "import pandas as pd\n",
    "\n",
    "# Load the new dataset\n",
    "file_path = r\"C:\\Users\\gopko\\Documents\\GitHub\\ML-Resume-Classifier\\data\\Resume.csv\"\n",
    "df = pd.read_csv(file_path)\n",
    "\n",
    "# Show the first few rows\n",
    "print(df.head())\n"
   ]
  },
  {
   "cell_type": "code",
   "execution_count": 59,
   "id": "e12dd1ab-f196-4eff-848f-537ecfe916a0",
   "metadata": {},
   "outputs": [
    {
     "name": "stdout",
     "output_type": "stream",
     "text": [
      "Index(['Category', 'Resume'], dtype='object')\n"
     ]
    }
   ],
   "source": [
    "print(df.columns)\n"
   ]
  },
  {
   "cell_type": "code",
   "execution_count": 60,
   "id": "d03adc60-0bcd-4f74-b322-7a1b8a19587f",
   "metadata": {},
   "outputs": [
    {
     "name": "stdout",
     "output_type": "stream",
     "text": [
      "       Category                                             Resume\n",
      "0  Data Science  Skills * Programming Languages: Python (pandas...\n",
      "1  Data Science  Education Details \\r\\nMay 2013 to May 2017 B.E...\n",
      "2  Data Science  Areas of Interest Deep Learning, Control Syste...\n",
      "3  Data Science  Skills â¢ R â¢ Python â¢ SAP HANA â¢ Table...\n",
      "4  Data Science  Education Details \\r\\n MCA   YMCAUST,  Faridab...\n",
      "<class 'pandas.core.frame.DataFrame'>\n",
      "RangeIndex: 962 entries, 0 to 961\n",
      "Data columns (total 2 columns):\n",
      " #   Column    Non-Null Count  Dtype \n",
      "---  ------    --------------  ----- \n",
      " 0   Category  962 non-null    object\n",
      " 1   Resume    962 non-null    object\n",
      "dtypes: object(2)\n",
      "memory usage: 15.2+ KB\n",
      "None\n",
      "Columns in dataset: Index(['Category', 'Resume'], dtype='object')\n"
     ]
    }
   ],
   "source": [
    "import pandas as pd\n",
    "\n",
    "# Load the new dataset\n",
    "file_path = r\"C:\\Users\\gopko\\Documents\\GitHub\\ML-Resume-Classifier\\data\\Resume.csv\"\n",
    "df = pd.read_csv(file_path)\n",
    "\n",
    "# Show first few rows\n",
    "print(df.head())\n",
    "\n",
    "# Show dataset structure (columns, data types, missing values)\n",
    "print(df.info())\n",
    "\n",
    "# Show column names\n",
    "print(\"Columns in dataset:\", df.columns)\n"
   ]
  },
  {
   "cell_type": "code",
   "execution_count": 61,
   "id": "ccce58e1-8c17-4fb6-8b01-9f4ab6fa513e",
   "metadata": {},
   "outputs": [
    {
     "name": "stdout",
     "output_type": "stream",
     "text": [
      "Index(['Category', 'Resume'], dtype='object')\n"
     ]
    }
   ],
   "source": [
    "print(df.columns)\n"
   ]
  },
  {
   "cell_type": "code",
   "execution_count": 62,
   "id": "0d81e879-5d2c-4877-8083-fcbcf2921f83",
   "metadata": {},
   "outputs": [
    {
     "name": "stdout",
     "output_type": "stream",
     "text": [
      "       category                                  clean_description\n",
      "0  Data Science  Skills * Programming Languages: Python (pandas...\n",
      "1  Data Science  Education Details \\r\\nMay 2013 to May 2017 B.E...\n",
      "2  Data Science  Areas of Interest Deep Learning, Control Syste...\n",
      "3  Data Science  Skills â¢ R â¢ Python â¢ SAP HANA â¢ Table...\n",
      "4  Data Science  Education Details \\r\\n MCA   YMCAUST,  Faridab...\n"
     ]
    }
   ],
   "source": [
    "df.rename(columns={\"Resume\": \"clean_description\", \"Category\": \"category\"}, inplace=True)\n",
    "print(df.head())\n"
   ]
  },
  {
   "cell_type": "code",
   "execution_count": 63,
   "id": "d747f824-9ee9-4d61-9693-bbe38f066a8b",
   "metadata": {},
   "outputs": [
    {
     "name": "stderr",
     "output_type": "stream",
     "text": [
      "[nltk_data] Downloading package stopwords to\n",
      "[nltk_data]     C:\\Users\\gopko\\AppData\\Roaming\\nltk_data...\n",
      "[nltk_data]   Package stopwords is already up-to-date!\n"
     ]
    },
    {
     "ename": "KeyError",
     "evalue": "'Resume'",
     "output_type": "error",
     "traceback": [
      "\u001b[1;31m---------------------------------------------------------------------------\u001b[0m",
      "\u001b[1;31mKeyError\u001b[0m                                  Traceback (most recent call last)",
      "File \u001b[1;32m~\\Documents\\GitHub\\ML-Resume-Classifier\\resume-ml-env\\Lib\\site-packages\\pandas\\core\\indexes\\base.py:3805\u001b[0m, in \u001b[0;36mIndex.get_loc\u001b[1;34m(self, key)\u001b[0m\n\u001b[0;32m   3804\u001b[0m \u001b[38;5;28;01mtry\u001b[39;00m:\n\u001b[1;32m-> 3805\u001b[0m     \u001b[38;5;28;01mreturn\u001b[39;00m \u001b[38;5;28;43mself\u001b[39;49m\u001b[38;5;241;43m.\u001b[39;49m\u001b[43m_engine\u001b[49m\u001b[38;5;241;43m.\u001b[39;49m\u001b[43mget_loc\u001b[49m\u001b[43m(\u001b[49m\u001b[43mcasted_key\u001b[49m\u001b[43m)\u001b[49m\n\u001b[0;32m   3806\u001b[0m \u001b[38;5;28;01mexcept\u001b[39;00m \u001b[38;5;167;01mKeyError\u001b[39;00m \u001b[38;5;28;01mas\u001b[39;00m err:\n",
      "File \u001b[1;32mindex.pyx:167\u001b[0m, in \u001b[0;36mpandas._libs.index.IndexEngine.get_loc\u001b[1;34m()\u001b[0m\n",
      "File \u001b[1;32mindex.pyx:196\u001b[0m, in \u001b[0;36mpandas._libs.index.IndexEngine.get_loc\u001b[1;34m()\u001b[0m\n",
      "File \u001b[1;32mpandas\\\\_libs\\\\hashtable_class_helper.pxi:7081\u001b[0m, in \u001b[0;36mpandas._libs.hashtable.PyObjectHashTable.get_item\u001b[1;34m()\u001b[0m\n",
      "File \u001b[1;32mpandas\\\\_libs\\\\hashtable_class_helper.pxi:7089\u001b[0m, in \u001b[0;36mpandas._libs.hashtable.PyObjectHashTable.get_item\u001b[1;34m()\u001b[0m\n",
      "\u001b[1;31mKeyError\u001b[0m: 'Resume'",
      "\nThe above exception was the direct cause of the following exception:\n",
      "\u001b[1;31mKeyError\u001b[0m                                  Traceback (most recent call last)",
      "Cell \u001b[1;32mIn[63], line 24\u001b[0m\n\u001b[0;32m     21\u001b[0m     \u001b[38;5;28;01mreturn\u001b[39;00m \u001b[38;5;124m\"\u001b[39m\u001b[38;5;124m \u001b[39m\u001b[38;5;124m\"\u001b[39m\u001b[38;5;241m.\u001b[39mjoin(words)\n\u001b[0;32m     23\u001b[0m \u001b[38;5;66;03m# Apply cleaning function\u001b[39;00m\n\u001b[1;32m---> 24\u001b[0m df[\u001b[38;5;124m\"\u001b[39m\u001b[38;5;124mclean_description\u001b[39m\u001b[38;5;124m\"\u001b[39m] \u001b[38;5;241m=\u001b[39m \u001b[43mdf\u001b[49m\u001b[43m[\u001b[49m\u001b[38;5;124;43m\"\u001b[39;49m\u001b[38;5;124;43mResume\u001b[39;49m\u001b[38;5;124;43m\"\u001b[39;49m\u001b[43m]\u001b[49m\u001b[38;5;241m.\u001b[39mapply(clean_text)\n\u001b[0;32m     26\u001b[0m \u001b[38;5;66;03m# Show first cleaned resumes\u001b[39;00m\n\u001b[0;32m     27\u001b[0m \u001b[38;5;28mprint\u001b[39m(df[\u001b[38;5;124m\"\u001b[39m\u001b[38;5;124mclean_description\u001b[39m\u001b[38;5;124m\"\u001b[39m]\u001b[38;5;241m.\u001b[39mhead(\u001b[38;5;241m10\u001b[39m))\n",
      "File \u001b[1;32m~\\Documents\\GitHub\\ML-Resume-Classifier\\resume-ml-env\\Lib\\site-packages\\pandas\\core\\frame.py:4102\u001b[0m, in \u001b[0;36mDataFrame.__getitem__\u001b[1;34m(self, key)\u001b[0m\n\u001b[0;32m   4100\u001b[0m \u001b[38;5;28;01mif\u001b[39;00m \u001b[38;5;28mself\u001b[39m\u001b[38;5;241m.\u001b[39mcolumns\u001b[38;5;241m.\u001b[39mnlevels \u001b[38;5;241m>\u001b[39m \u001b[38;5;241m1\u001b[39m:\n\u001b[0;32m   4101\u001b[0m     \u001b[38;5;28;01mreturn\u001b[39;00m \u001b[38;5;28mself\u001b[39m\u001b[38;5;241m.\u001b[39m_getitem_multilevel(key)\n\u001b[1;32m-> 4102\u001b[0m indexer \u001b[38;5;241m=\u001b[39m \u001b[38;5;28;43mself\u001b[39;49m\u001b[38;5;241;43m.\u001b[39;49m\u001b[43mcolumns\u001b[49m\u001b[38;5;241;43m.\u001b[39;49m\u001b[43mget_loc\u001b[49m\u001b[43m(\u001b[49m\u001b[43mkey\u001b[49m\u001b[43m)\u001b[49m\n\u001b[0;32m   4103\u001b[0m \u001b[38;5;28;01mif\u001b[39;00m is_integer(indexer):\n\u001b[0;32m   4104\u001b[0m     indexer \u001b[38;5;241m=\u001b[39m [indexer]\n",
      "File \u001b[1;32m~\\Documents\\GitHub\\ML-Resume-Classifier\\resume-ml-env\\Lib\\site-packages\\pandas\\core\\indexes\\base.py:3812\u001b[0m, in \u001b[0;36mIndex.get_loc\u001b[1;34m(self, key)\u001b[0m\n\u001b[0;32m   3807\u001b[0m     \u001b[38;5;28;01mif\u001b[39;00m \u001b[38;5;28misinstance\u001b[39m(casted_key, \u001b[38;5;28mslice\u001b[39m) \u001b[38;5;129;01mor\u001b[39;00m (\n\u001b[0;32m   3808\u001b[0m         \u001b[38;5;28misinstance\u001b[39m(casted_key, abc\u001b[38;5;241m.\u001b[39mIterable)\n\u001b[0;32m   3809\u001b[0m         \u001b[38;5;129;01mand\u001b[39;00m \u001b[38;5;28many\u001b[39m(\u001b[38;5;28misinstance\u001b[39m(x, \u001b[38;5;28mslice\u001b[39m) \u001b[38;5;28;01mfor\u001b[39;00m x \u001b[38;5;129;01min\u001b[39;00m casted_key)\n\u001b[0;32m   3810\u001b[0m     ):\n\u001b[0;32m   3811\u001b[0m         \u001b[38;5;28;01mraise\u001b[39;00m InvalidIndexError(key)\n\u001b[1;32m-> 3812\u001b[0m     \u001b[38;5;28;01mraise\u001b[39;00m \u001b[38;5;167;01mKeyError\u001b[39;00m(key) \u001b[38;5;28;01mfrom\u001b[39;00m\u001b[38;5;250m \u001b[39m\u001b[38;5;21;01merr\u001b[39;00m\n\u001b[0;32m   3813\u001b[0m \u001b[38;5;28;01mexcept\u001b[39;00m \u001b[38;5;167;01mTypeError\u001b[39;00m:\n\u001b[0;32m   3814\u001b[0m     \u001b[38;5;66;03m# If we have a listlike key, _check_indexing_error will raise\u001b[39;00m\n\u001b[0;32m   3815\u001b[0m     \u001b[38;5;66;03m#  InvalidIndexError. Otherwise we fall through and re-raise\u001b[39;00m\n\u001b[0;32m   3816\u001b[0m     \u001b[38;5;66;03m#  the TypeError.\u001b[39;00m\n\u001b[0;32m   3817\u001b[0m     \u001b[38;5;28mself\u001b[39m\u001b[38;5;241m.\u001b[39m_check_indexing_error(key)\n",
      "\u001b[1;31mKeyError\u001b[0m: 'Resume'"
     ]
    }
   ],
   "source": [
    "import re\n",
    "import nltk\n",
    "from nltk.corpus import stopwords\n",
    "\n",
    "nltk.download(\"stopwords\")\n",
    "stop_words = set(stopwords.words(\"english\")).union(set([\n",
    "    \"experienced\", \"professional\", \"mentor\", \"coach\", \"strategist\", \"advisory\",\n",
    "    \"expertise\", \"specialist\", \"career\", \"success\", \"background\", \"certified\",\n",
    "    \"ability\", \"proven\", \"passionate\", \"dedicated\", \"hardworking\", \"teamwork\"\n",
    "]))\n",
    "\n",
    "def clean_text(text):\n",
    "    if not isinstance(text, str):\n",
    "        return \"Unknown\"  # Handle missing values\n",
    "    \n",
    "    text = text.lower()  # Convert to lowercase\n",
    "    text = re.sub(r\"\\d+\", \"\", text)  # Remove numbers\n",
    "    text = re.sub(r\"[^\\w\\s]\", \" \", text)  # Remove punctuation\n",
    "    text = re.sub(r\"\\s+\", \" \", text).strip()  # Remove extra spaces\n",
    "    words = [word for word in text.split() if word not in stop_words and len(word) > 3]  # Remove stopwords & short words\n",
    "    return \" \".join(words)\n",
    "\n",
    "# Apply cleaning function\n",
    "df[\"clean_description\"] = df[\"Resume\"].apply(clean_text)\n",
    "\n",
    "# Show first cleaned resumes\n",
    "print(df[\"clean_description\"].head(10))\n"
   ]
  },
  {
   "cell_type": "code",
   "execution_count": 64,
   "id": "a6613e4f-f5f5-49a9-b7c0-b5d062b41687",
   "metadata": {},
   "outputs": [
    {
     "name": "stdout",
     "output_type": "stream",
     "text": [
      "Dataset Columns: Index(['category', 'clean_description'], dtype='object')\n"
     ]
    }
   ],
   "source": [
    "print(\"Dataset Columns:\", df.columns)\n"
   ]
  },
  {
   "cell_type": "code",
   "execution_count": 65,
   "id": "f10b8c13-a68e-4f8f-a7c6-2949918c6a92",
   "metadata": {},
   "outputs": [
    {
     "name": "stdout",
     "output_type": "stream",
     "text": [
      "Updated Columns: Index(['category', 'clean_description'], dtype='object')\n"
     ]
    }
   ],
   "source": [
    "df.rename(columns={\"actual_column_name\": \"Resume\"}, inplace=True)\n",
    "print(\"Updated Columns:\", df.columns)\n"
   ]
  },
  {
   "cell_type": "code",
   "execution_count": 66,
   "id": "1731218d-6883-46da-b0b0-db55cda46ab8",
   "metadata": {},
   "outputs": [
    {
     "name": "stdout",
     "output_type": "stream",
     "text": [
      "       category                                  clean_description\n",
      "0  Data Science  Skills * Programming Languages: Python (pandas...\n",
      "1  Data Science  Education Details \\r\\nMay 2013 to May 2017 B.E...\n",
      "2  Data Science  Areas of Interest Deep Learning, Control Syste...\n",
      "3  Data Science  Skills â¢ R â¢ Python â¢ SAP HANA â¢ Table...\n",
      "4  Data Science  Education Details \\r\\n MCA   YMCAUST,  Faridab...\n",
      "<class 'pandas.core.frame.DataFrame'>\n",
      "RangeIndex: 962 entries, 0 to 961\n",
      "Data columns (total 2 columns):\n",
      " #   Column             Non-Null Count  Dtype \n",
      "---  ------             --------------  ----- \n",
      " 0   category           962 non-null    object\n",
      " 1   clean_description  962 non-null    object\n",
      "dtypes: object(2)\n",
      "memory usage: 15.2+ KB\n",
      "None\n"
     ]
    }
   ],
   "source": [
    "print(df.head())  # Show first few rows\n",
    "print(df.info())  # Show data types and missing values\n"
   ]
  },
  {
   "cell_type": "code",
   "execution_count": 67,
   "id": "f5cba2e3-1798-4392-89f1-69a9d2772f0c",
   "metadata": {},
   "outputs": [
    {
     "ename": "KeyError",
     "evalue": "'Resume'",
     "output_type": "error",
     "traceback": [
      "\u001b[1;31m---------------------------------------------------------------------------\u001b[0m",
      "\u001b[1;31mKeyError\u001b[0m                                  Traceback (most recent call last)",
      "File \u001b[1;32m~\\Documents\\GitHub\\ML-Resume-Classifier\\resume-ml-env\\Lib\\site-packages\\pandas\\core\\indexes\\base.py:3805\u001b[0m, in \u001b[0;36mIndex.get_loc\u001b[1;34m(self, key)\u001b[0m\n\u001b[0;32m   3804\u001b[0m \u001b[38;5;28;01mtry\u001b[39;00m:\n\u001b[1;32m-> 3805\u001b[0m     \u001b[38;5;28;01mreturn\u001b[39;00m \u001b[38;5;28;43mself\u001b[39;49m\u001b[38;5;241;43m.\u001b[39;49m\u001b[43m_engine\u001b[49m\u001b[38;5;241;43m.\u001b[39;49m\u001b[43mget_loc\u001b[49m\u001b[43m(\u001b[49m\u001b[43mcasted_key\u001b[49m\u001b[43m)\u001b[49m\n\u001b[0;32m   3806\u001b[0m \u001b[38;5;28;01mexcept\u001b[39;00m \u001b[38;5;167;01mKeyError\u001b[39;00m \u001b[38;5;28;01mas\u001b[39;00m err:\n",
      "File \u001b[1;32mindex.pyx:167\u001b[0m, in \u001b[0;36mpandas._libs.index.IndexEngine.get_loc\u001b[1;34m()\u001b[0m\n",
      "File \u001b[1;32mindex.pyx:196\u001b[0m, in \u001b[0;36mpandas._libs.index.IndexEngine.get_loc\u001b[1;34m()\u001b[0m\n",
      "File \u001b[1;32mpandas\\\\_libs\\\\hashtable_class_helper.pxi:7081\u001b[0m, in \u001b[0;36mpandas._libs.hashtable.PyObjectHashTable.get_item\u001b[1;34m()\u001b[0m\n",
      "File \u001b[1;32mpandas\\\\_libs\\\\hashtable_class_helper.pxi:7089\u001b[0m, in \u001b[0;36mpandas._libs.hashtable.PyObjectHashTable.get_item\u001b[1;34m()\u001b[0m\n",
      "\u001b[1;31mKeyError\u001b[0m: 'Resume'",
      "\nThe above exception was the direct cause of the following exception:\n",
      "\u001b[1;31mKeyError\u001b[0m                                  Traceback (most recent call last)",
      "Cell \u001b[1;32mIn[67], line 1\u001b[0m\n\u001b[1;32m----> 1\u001b[0m df[\u001b[38;5;124m\"\u001b[39m\u001b[38;5;124mclean_description\u001b[39m\u001b[38;5;124m\"\u001b[39m] \u001b[38;5;241m=\u001b[39m \u001b[43mdf\u001b[49m\u001b[43m[\u001b[49m\u001b[38;5;124;43m\"\u001b[39;49m\u001b[38;5;124;43mResume\u001b[39;49m\u001b[38;5;124;43m\"\u001b[39;49m\u001b[43m]\u001b[49m\u001b[38;5;241m.\u001b[39mastype(\u001b[38;5;28mstr\u001b[39m)\u001b[38;5;241m.\u001b[39mapply(clean_text)\n",
      "File \u001b[1;32m~\\Documents\\GitHub\\ML-Resume-Classifier\\resume-ml-env\\Lib\\site-packages\\pandas\\core\\frame.py:4102\u001b[0m, in \u001b[0;36mDataFrame.__getitem__\u001b[1;34m(self, key)\u001b[0m\n\u001b[0;32m   4100\u001b[0m \u001b[38;5;28;01mif\u001b[39;00m \u001b[38;5;28mself\u001b[39m\u001b[38;5;241m.\u001b[39mcolumns\u001b[38;5;241m.\u001b[39mnlevels \u001b[38;5;241m>\u001b[39m \u001b[38;5;241m1\u001b[39m:\n\u001b[0;32m   4101\u001b[0m     \u001b[38;5;28;01mreturn\u001b[39;00m \u001b[38;5;28mself\u001b[39m\u001b[38;5;241m.\u001b[39m_getitem_multilevel(key)\n\u001b[1;32m-> 4102\u001b[0m indexer \u001b[38;5;241m=\u001b[39m \u001b[38;5;28;43mself\u001b[39;49m\u001b[38;5;241;43m.\u001b[39;49m\u001b[43mcolumns\u001b[49m\u001b[38;5;241;43m.\u001b[39;49m\u001b[43mget_loc\u001b[49m\u001b[43m(\u001b[49m\u001b[43mkey\u001b[49m\u001b[43m)\u001b[49m\n\u001b[0;32m   4103\u001b[0m \u001b[38;5;28;01mif\u001b[39;00m is_integer(indexer):\n\u001b[0;32m   4104\u001b[0m     indexer \u001b[38;5;241m=\u001b[39m [indexer]\n",
      "File \u001b[1;32m~\\Documents\\GitHub\\ML-Resume-Classifier\\resume-ml-env\\Lib\\site-packages\\pandas\\core\\indexes\\base.py:3812\u001b[0m, in \u001b[0;36mIndex.get_loc\u001b[1;34m(self, key)\u001b[0m\n\u001b[0;32m   3807\u001b[0m     \u001b[38;5;28;01mif\u001b[39;00m \u001b[38;5;28misinstance\u001b[39m(casted_key, \u001b[38;5;28mslice\u001b[39m) \u001b[38;5;129;01mor\u001b[39;00m (\n\u001b[0;32m   3808\u001b[0m         \u001b[38;5;28misinstance\u001b[39m(casted_key, abc\u001b[38;5;241m.\u001b[39mIterable)\n\u001b[0;32m   3809\u001b[0m         \u001b[38;5;129;01mand\u001b[39;00m \u001b[38;5;28many\u001b[39m(\u001b[38;5;28misinstance\u001b[39m(x, \u001b[38;5;28mslice\u001b[39m) \u001b[38;5;28;01mfor\u001b[39;00m x \u001b[38;5;129;01min\u001b[39;00m casted_key)\n\u001b[0;32m   3810\u001b[0m     ):\n\u001b[0;32m   3811\u001b[0m         \u001b[38;5;28;01mraise\u001b[39;00m InvalidIndexError(key)\n\u001b[1;32m-> 3812\u001b[0m     \u001b[38;5;28;01mraise\u001b[39;00m \u001b[38;5;167;01mKeyError\u001b[39;00m(key) \u001b[38;5;28;01mfrom\u001b[39;00m\u001b[38;5;250m \u001b[39m\u001b[38;5;21;01merr\u001b[39;00m\n\u001b[0;32m   3813\u001b[0m \u001b[38;5;28;01mexcept\u001b[39;00m \u001b[38;5;167;01mTypeError\u001b[39;00m:\n\u001b[0;32m   3814\u001b[0m     \u001b[38;5;66;03m# If we have a listlike key, _check_indexing_error will raise\u001b[39;00m\n\u001b[0;32m   3815\u001b[0m     \u001b[38;5;66;03m#  InvalidIndexError. Otherwise we fall through and re-raise\u001b[39;00m\n\u001b[0;32m   3816\u001b[0m     \u001b[38;5;66;03m#  the TypeError.\u001b[39;00m\n\u001b[0;32m   3817\u001b[0m     \u001b[38;5;28mself\u001b[39m\u001b[38;5;241m.\u001b[39m_check_indexing_error(key)\n",
      "\u001b[1;31mKeyError\u001b[0m: 'Resume'"
     ]
    }
   ],
   "source": [
    "df[\"clean_description\"] = df[\"Resume\"].astype(str).apply(clean_text)\n"
   ]
  },
  {
   "cell_type": "code",
   "execution_count": 68,
   "id": "0160f78c-b672-4ff1-8a2e-07058d217b1d",
   "metadata": {},
   "outputs": [
    {
     "name": "stdout",
     "output_type": "stream",
     "text": [
      "Dataset Columns: Index(['category', 'clean_description'], dtype='object')\n"
     ]
    }
   ],
   "source": [
    "print(\"Dataset Columns:\", df.columns)\n"
   ]
  },
  {
   "cell_type": "code",
   "execution_count": 70,
   "id": "00fc45f3-22d8-449e-9501-63d69aa64d6b",
   "metadata": {},
   "outputs": [],
   "source": [
    "df[\"clean_description\"] = df[\"clean_description\"].astype(str).apply(clean_text)\n"
   ]
  },
  {
   "cell_type": "code",
   "execution_count": 71,
   "id": "3f333474-0f1e-4c99-b96c-e0063126472b",
   "metadata": {},
   "outputs": [
    {
     "name": "stdout",
     "output_type": "stream",
     "text": [
      "0    skills programming languages python pandas num...\n",
      "1    education details rgpv data scientist data sci...\n",
      "2    areas interest deep learning control system de...\n",
      "3    skills python hana tableau hana hana lumira li...\n",
      "4    education details ymcaust faridabad haryana da...\n",
      "5    skills basics python matlab data science machi...\n",
      "6    skills python tableau data visualization studi...\n",
      "7    education details tech rayat bahra institute e...\n",
      "8    personal skills quickly grasp technical aspect...\n",
      "9    data quantitative analysis decision analytics ...\n",
      "Name: clean_description, dtype: object\n"
     ]
    }
   ],
   "source": [
    "print(df[\"clean_description\"].head(10))\n"
   ]
  },
  {
   "cell_type": "code",
   "execution_count": 72,
   "id": "275cfb84-ff93-48b1-bacd-082d920613d9",
   "metadata": {},
   "outputs": [
    {
     "name": "stdout",
     "output_type": "stream",
     "text": [
      "Cleaned dataset saved successfully!\n"
     ]
    }
   ],
   "source": [
    "df.to_csv(r\"C:\\Users\\gopko\\Documents\\GitHub\\ML-Resume-Classifier\\data\\resume_data_cleaned.csv\", index=False)\n",
    "print(\"Cleaned dataset saved successfully!\")\n"
   ]
  },
  {
   "cell_type": "code",
   "execution_count": 73,
   "id": "c4e1d3f2-5415-438d-94e9-0f40c5eb4bc8",
   "metadata": {},
   "outputs": [
    {
     "name": "stdout",
     "output_type": "stream",
     "text": [
      "       category                                  clean_description\n",
      "0  Data Science  skills programming languages python pandas num...\n",
      "1  Data Science  education details rgpv data scientist data sci...\n",
      "2  Data Science  areas interest deep learning control system de...\n",
      "3  Data Science  skills python hana tableau hana hana lumira li...\n",
      "4  Data Science  education details ymcaust faridabad haryana da...\n"
     ]
    }
   ],
   "source": [
    "import pandas as pd\n",
    "\n",
    "# Load the cleaned dataset\n",
    "file_path = r\"C:\\Users\\gopko\\Documents\\GitHub\\ML-Resume-Classifier\\data\\resume_data_cleaned.csv\"\n",
    "df = pd.read_csv(file_path)\n",
    "\n",
    "# Show first few rows\n",
    "print(df.head())\n"
   ]
  },
  {
   "cell_type": "code",
   "execution_count": 74,
   "id": "afaf49d8-f0eb-43c3-a893-0505928cc65a",
   "metadata": {},
   "outputs": [
    {
     "name": "stdout",
     "output_type": "stream",
     "text": [
      "TF-IDF matrix shape: (962, 3000)\n"
     ]
    }
   ],
   "source": [
    "from sklearn.feature_extraction.text import TfidfVectorizer\n",
    "\n",
    "# Initialize TF-IDF Vectorizer\n",
    "vectorizer = TfidfVectorizer(\n",
    "    stop_words=\"english\",  # Removes common words (e.g., \"the\", \"is\", \"and\")\n",
    "    max_features=3000,  # Keep only the top 3000 most important words\n",
    "    min_df=10,  # Ignore words that appear in fewer than 10 resumes\n",
    "    max_df=0.9  # Ignore words that appear in more than 90% of resumes (too common)\n",
    ")\n",
    "\n",
    "# Convert cleaned resumes into numerical vectors\n",
    "X = vectorizer.fit_transform(df[\"clean_description\"])\n",
    "\n",
    "# Print the shape of transformed data\n",
    "print(\"TF-IDF matrix shape:\", X.shape)"
   ]
  },
  {
   "cell_type": "code",
   "execution_count": 75,
   "id": "b0934578-9328-462f-af50-3822a429c782",
   "metadata": {},
   "outputs": [
    {
     "name": "stdout",
     "output_type": "stream",
     "text": [
      "Top 20 Words in TF-IDF Feature List:\n",
      " ['abacus' 'abilities' 'able' 'abridged' 'absence' 'academic' 'academy'\n",
      " 'accenture' 'accept' 'acceptance' 'accepted' 'accepting' 'access'\n",
      " 'accesses' 'accessories' 'accordance' 'according' 'accordingly' 'account'\n",
      " 'accountability']\n"
     ]
    }
   ],
   "source": [
    "# Get feature names (words)\n",
    "feature_names = vectorizer.get_feature_names_out()\n",
    "\n",
    "# Print the first 20 important words\n",
    "print(\"Top 20 Words in TF-IDF Feature List:\\n\", feature_names[:20])\n"
   ]
  },
  {
   "cell_type": "code",
   "execution_count": 76,
   "id": "988d882c-c8f3-4121-b2ca-8a0ecf27e737",
   "metadata": {},
   "outputs": [
    {
     "name": "stdout",
     "output_type": "stream",
     "text": [
      "Words in first cleaned resume: ['skills', 'programming', 'languages', 'python', 'pandas', 'numpy', 'scipy', 'scikit', 'learn', 'matplotlib', 'java', 'javascript', 'jquery', 'machine', 'learning', 'regression', 'bayes', 'random', 'forest', 'decision', 'trees', 'boosting', 'techniques', 'cluster', 'analysis', 'word', 'embedding', 'sentiment', 'analysis', 'natural', 'language', 'processing', 'dimensionality', 'reduction', 'topic', 'modelling', 'neural', 'nets', 'database', 'visualizations', 'mysql', 'sqlserver', 'cassandra', 'hbase', 'elasticsearch', 'plotly', 'kibana', 'matplotlib', 'ggplot', 'tableau', 'others', 'regular', 'expression', 'html', 'angular', 'logstash', 'kafka', 'python', 'flask', 'docker', 'computer', 'vision', 'open', 'understanding', 'deep', 'learning', 'education', 'details', 'data', 'science', 'assurance', 'associate', 'data', 'science', 'assurance', 'associate', 'ernst', 'young', 'skill', 'details', 'javascript', 'exprience', 'months', 'jquery', 'exprience', 'months', 'python', 'exprience', 'monthscompany', 'details', 'company', 'ernst', 'young', 'description', 'fraud', 'investigations', 'dispute', 'services', 'assurance', 'technology', 'assisted', 'review', 'technology', 'assisted', 'review', 'assists', 'accelerating', 'review', 'process', 'analytics', 'generate', 'reports', 'core', 'member', 'team', 'helped', 'developing', 'automated', 'review', 'platform', 'tool', 'scratch', 'assisting', 'discovery', 'domain', 'tool', 'implements', 'predictive', 'coding', 'topic', 'modelling', 'automating', 'reviews', 'resulting', 'reduced', 'labor', 'costs', 'time', 'spent', 'lawyers', 'review', 'understand', 'flow', 'solution', 'research', 'development', 'classification', 'models', 'predictive', 'analysis', 'mining', 'information', 'present', 'text', 'data', 'worked', 'analyzing', 'outputs', 'precision', 'monitoring', 'entire', 'tool', 'assists', 'predictive', 'coding', 'topic', 'modelling', 'evidence', 'following', 'standards', 'developed', 'classifier', 'models', 'order', 'identify', 'flags', 'fraud', 'related', 'issues', 'tools', 'technologies', 'python', 'scikit', 'learn', 'tfidf', 'wordvec', 'docvec', 'cosine', 'similarity', 'bayes', 'topic', 'modelling', 'vader', 'text', 'blob', 'sentiment', 'analysis', 'matplot', 'tableau', 'dashboard', 'reporting', 'multiple', 'data', 'science', 'analytic', 'projects', 'clients', 'text', 'analytics', 'motor', 'vehicle', 'customer', 'review', 'data', 'received', 'customer', 'feedback', 'survey', 'data', 'past', 'year', 'performed', 'sentiment', 'positive', 'negative', 'neutral', 'time', 'series', 'analysis', 'customer', 'comments', 'across', 'categories', 'created', 'heat', 'terms', 'survey', 'category', 'based', 'frequency', 'words', 'extracted', 'positive', 'negative', 'words', 'across', 'survey', 'categories', 'plotted', 'word', 'cloud', 'created', 'customized', 'tableau', 'dashboards', 'effective', 'reporting', 'visualizations', 'chatbot', 'developed', 'user', 'friendly', 'chatbot', 'products', 'handle', 'simple', 'questions', 'hours', 'operation', 'reservation', 'options', 'chat', 'serves', 'entire', 'product', 'related', 'questions', 'giving', 'overview', 'tool', 'platform', 'also', 'give', 'recommendation', 'responses', 'user', 'question', 'build', 'chain', 'relevant', 'answer', 'intelligence', 'build', 'pipeline', 'questions', 'user', 'requirement', 'asks', 'relevant', 'recommended', 'questions', 'tools', 'technologies', 'python', 'natural', 'language', 'processing', 'nltk', 'spacy', 'topic', 'modelling', 'sentiment', 'analysis', 'word', 'embedding', 'scikit', 'learn', 'javascript', 'jquery', 'sqlserver', 'information', 'governance', 'organizations', 'make', 'informed', 'decisions', 'information', 'store', 'integrated', 'information', 'governance', 'portfolio', 'synthesizes', 'intelligence', 'across', 'unstructured', 'data', 'sources', 'facilitates', 'action', 'ensure', 'organizations', 'best', 'positioned', 'counter', 'information', 'risk', 'scan', 'data', 'multiple', 'sources', 'formats', 'parse', 'different', 'file', 'formats', 'extract', 'meta', 'data', 'information', 'push', 'results', 'indexing', 'elastic', 'search', 'created', 'customized', 'interactive', 'dashboards', 'using', 'kibana', 'preforming', 'analysis', 'data', 'give', 'information', 'data', 'helps', 'identify', 'content', 'either', 'redundant', 'outdated', 'trivial', 'preforming', 'full', 'text', 'search', 'analysis', 'elastic', 'search', 'predefined', 'methods', 'personally', 'identifiable', 'information', 'social', 'security', 'numbers', 'addresses', 'names', 'frequently', 'targeted', 'cyber', 'attacks', 'tools', 'technologies', 'python', 'flask', 'elastic', 'search', 'kibana', 'fraud', 'analytic', 'platform', 'fraud', 'analytics', 'investigative', 'platform', 'review', 'flag', 'cases', 'fraud', 'analytics', 'investigative', 'platform', 'inbuilt', 'case', 'manager', 'suite', 'analytics', 'various', 'systems', 'used', 'clients', 'interrogate', 'accounting', 'systems', 'identifying', 'anomalies', 'indicators', 'fraud', 'running', 'advanced', 'analytics', 'tools', 'technologies', 'html', 'javascript', 'sqlserver', 'jquery', 'bootstrap', 'node']\n"
     ]
    }
   ],
   "source": [
    "print(\"Words in first cleaned resume:\", df[\"clean_description\"].iloc[0].split())\n"
   ]
  },
  {
   "cell_type": "code",
   "execution_count": 77,
   "id": "6a998b33-f7ba-4fbf-8928-73feb225168c",
   "metadata": {},
   "outputs": [
    {
     "name": "stderr",
     "output_type": "stream",
     "text": [
      "[nltk_data] Downloading package stopwords to\n",
      "[nltk_data]     C:\\Users\\gopko\\AppData\\Roaming\\nltk_data...\n",
      "[nltk_data]   Package stopwords is already up-to-date!\n"
     ]
    },
    {
     "name": "stdout",
     "output_type": "stream",
     "text": [
      "Words in first cleaned resume: ['skills', 'programming', 'languages', 'python', 'pandas', 'numpy', 'scipy', 'scikit', 'learn', 'matplotlib', 'java', 'javascript', 'jquery', 'machine', 'learning', 'regression', 'bayes', 'random', 'forest', 'decision', 'trees', 'boosting', 'techniques', 'cluster', 'analysis', 'word', 'embedding', 'sentiment', 'analysis', 'natural', 'language', 'processing', 'dimensionality', 'reduction', 'topic', 'modelling', 'neural', 'nets', 'database', 'visualizations', 'mysql', 'sqlserver', 'cassandra', 'hbase', 'elasticsearch', 'plotly', 'kibana', 'matplotlib', 'ggplot', 'tableau', 'others', 'regular', 'expression', 'html', 'angular', 'logstash', 'kafka', 'python', 'flask', 'docker', 'computer', 'vision', 'open', 'understanding', 'deep', 'learning', 'education', 'details', 'data', 'science', 'assurance', 'associate', 'data', 'science', 'assurance', 'associate', 'ernst', 'young', 'skill', 'details', 'javascript', 'exprience', 'months', 'jquery', 'exprience', 'months', 'python', 'exprience', 'monthscompany', 'details', 'company', 'ernst', 'young', 'description', 'fraud', 'investigations', 'dispute', 'services', 'assurance', 'technology', 'assisted', 'review', 'technology', 'assisted', 'review', 'assists', 'accelerating', 'review', 'process', 'analytics', 'generate', 'reports', 'core', 'member', 'team', 'helped', 'developing', 'automated', 'review', 'platform', 'tool', 'scratch', 'assisting', 'discovery', 'domain', 'tool', 'implements', 'predictive', 'coding', 'topic', 'modelling', 'automating', 'reviews', 'resulting', 'reduced', 'labor', 'costs', 'time', 'spent', 'lawyers', 'review', 'understand', 'flow', 'solution', 'research', 'development', 'classification', 'models', 'predictive', 'analysis', 'mining', 'information', 'present', 'text', 'data', 'worked', 'analyzing', 'outputs', 'precision', 'monitoring', 'entire', 'tool', 'assists', 'predictive', 'coding', 'topic', 'modelling', 'evidence', 'following', 'standards', 'developed', 'classifier', 'models', 'order', 'identify', 'flags', 'fraud', 'related', 'issues', 'tools', 'technologies', 'python', 'scikit', 'learn', 'tfidf', 'wordvec', 'docvec', 'cosine', 'similarity', 'bayes', 'topic', 'modelling', 'vader', 'text', 'blob', 'sentiment', 'analysis', 'matplot', 'tableau', 'dashboard', 'reporting', 'multiple', 'data', 'science', 'analytic', 'projects', 'clients', 'text', 'analytics', 'motor', 'vehicle', 'customer', 'review', 'data', 'received', 'customer', 'feedback', 'survey', 'data', 'past', 'year', 'performed', 'sentiment', 'positive', 'negative', 'neutral', 'time', 'series', 'analysis', 'customer', 'comments', 'across', 'categories', 'created', 'heat', 'terms', 'survey', 'category', 'based', 'frequency', 'words', 'extracted', 'positive', 'negative', 'words', 'across', 'survey', 'categories', 'plotted', 'word', 'cloud', 'created', 'customized', 'tableau', 'dashboards', 'effective', 'reporting', 'visualizations', 'chatbot', 'developed', 'user', 'friendly', 'chatbot', 'products', 'handle', 'simple', 'questions', 'hours', 'operation', 'reservation', 'options', 'chat', 'serves', 'entire', 'product', 'related', 'questions', 'giving', 'overview', 'tool', 'platform', 'also', 'give', 'recommendation', 'responses', 'user', 'question', 'build', 'chain', 'relevant', 'answer', 'intelligence', 'build', 'pipeline', 'questions', 'user', 'requirement', 'asks', 'relevant', 'recommended', 'questions', 'tools', 'technologies', 'python', 'natural', 'language', 'processing', 'nltk', 'spacy', 'topic', 'modelling', 'sentiment', 'analysis', 'word', 'embedding', 'scikit', 'learn', 'javascript', 'jquery', 'sqlserver', 'information', 'governance', 'organizations', 'make', 'informed', 'decisions', 'information', 'store', 'integrated', 'information', 'governance', 'portfolio', 'synthesizes', 'intelligence', 'across', 'unstructured', 'data', 'sources', 'facilitates', 'action', 'ensure', 'organizations', 'best', 'positioned', 'counter', 'information', 'risk', 'scan', 'data', 'multiple', 'sources', 'formats', 'parse', 'different', 'file', 'formats', 'extract', 'meta', 'data', 'information', 'push', 'results', 'indexing', 'elastic', 'search', 'created', 'customized', 'interactive', 'dashboards', 'using', 'kibana', 'preforming', 'analysis', 'data', 'give', 'information', 'data', 'helps', 'identify', 'content', 'either', 'redundant', 'outdated', 'trivial', 'preforming', 'full', 'text', 'search', 'analysis', 'elastic', 'search', 'predefined', 'methods', 'personally', 'identifiable', 'information', 'social', 'security', 'numbers', 'addresses', 'names', 'frequently', 'targeted', 'cyber', 'attacks', 'tools', 'technologies', 'python', 'flask', 'elastic', 'search', 'kibana', 'fraud', 'analytic', 'platform', 'fraud', 'analytics', 'investigative', 'platform', 'review', 'flag', 'cases', 'fraud', 'analytics', 'investigative', 'platform', 'inbuilt', 'case', 'manager', 'suite', 'analytics', 'various', 'systems', 'used', 'clients', 'interrogate', 'accounting', 'systems', 'identifying', 'anomalies', 'indicators', 'fraud', 'running', 'advanced', 'analytics', 'tools', 'technologies', 'html', 'javascript', 'sqlserver', 'jquery', 'bootstrap', 'node']\n"
     ]
    }
   ],
   "source": [
    "import re\n",
    "import nltk\n",
    "from nltk.corpus import stopwords\n",
    "\n",
    "nltk.download(\"stopwords\")\n",
    "stop_words = set(stopwords.words(\"english\")).union(set([\n",
    "    \"abilities\", \"able\", \"academic\", \"academy\", \"accenture\", \"access\",\n",
    "    \"account\", \"accept\", \"acceptance\", \"accepted\", \"abridged\",\n",
    "    \"absence\", \"accessories\", \"accordance\", \"according\", \"accordingly\"\n",
    "]))\n",
    "\n",
    "def clean_text(text):\n",
    "    if not isinstance(text, str):\n",
    "        return \"Unknown\"  # Handle missing values\n",
    "    \n",
    "    text = text.lower()  # Convert to lowercase\n",
    "    text = re.sub(r\"\\d+\", \"\", text)  # Remove numbers\n",
    "    text = re.sub(r\"[^\\w\\s]\", \" \", text)  # Remove punctuation\n",
    "    text = re.sub(r\"\\s+\", \" \", text).strip()  # Remove extra spaces\n",
    "    words = [word for word in text.split() if word not in stop_words and len(word) > 3]  # Remove stopwords & short words\n",
    "    return \" \".join(words)\n",
    "\n",
    "# Reapply cleaning function\n",
    "df[\"clean_description\"] = df[\"clean_description\"].apply(clean_text)\n",
    "\n",
    "# Verify cleaning worked before TF-IDF\n",
    "print(\"Words in first cleaned resume:\", df[\"clean_description\"].iloc[0].split())\n"
   ]
  },
  {
   "cell_type": "code",
   "execution_count": 78,
   "id": "2103da0a-719a-434b-8619-13d31276f644",
   "metadata": {},
   "outputs": [
    {
     "name": "stdout",
     "output_type": "stream",
     "text": [
      "Top 20 Words in TF-IDF Feature List:\n",
      " ['accounting' 'accounts' 'accuracy' 'accurate' 'accurately' 'achieve'\n",
      " 'achieved' 'achievements' 'achieving' 'acquired' 'acquiring' 'action'\n",
      " 'actions' 'active' 'actively' 'activities' 'activity' 'actual' 'actuator'\n",
      " 'actuators']\n"
     ]
    }
   ],
   "source": [
    "from sklearn.feature_extraction.text import TfidfVectorizer\n",
    "\n",
    "vectorizer = TfidfVectorizer(\n",
    "    stop_words=\"english\",\n",
    "    max_features=3000,\n",
    "    min_df=15,  # Ignore words appearing in fewer than 15 resumes\n",
    "    max_df=0.85  # Ignore words appearing in more than 85% of resumes\n",
    ")\n",
    "\n",
    "# Apply TF-IDF again\n",
    "X = vectorizer.fit_transform(df[\"clean_description\"])\n",
    "\n",
    "# Print top words\n",
    "feature_names = vectorizer.get_feature_names_out()\n",
    "print(\"Top 20 Words in TF-IDF Feature List:\\n\", feature_names[:20])\n"
   ]
  },
  {
   "cell_type": "code",
   "execution_count": 79,
   "id": "bd9c38a3-31aa-47e5-8784-c446c9e4514c",
   "metadata": {},
   "outputs": [
    {
     "name": "stdout",
     "output_type": "stream",
     "text": [
      "Top 20 Words in TF-IDF Feature List:\n",
      " ['accounting' 'accounts' 'accuracy' 'accurate' 'accurately' 'achieve'\n",
      " 'achieved' 'achievements' 'achieving' 'acquired' 'acquiring' 'action'\n",
      " 'actions' 'active' 'actively' 'activities' 'activity' 'actual' 'actuator'\n",
      " 'actuators']\n"
     ]
    }
   ],
   "source": [
    "print(\"Top 20 Words in TF-IDF Feature List:\\n\", feature_names[:20])\n"
   ]
  },
  {
   "cell_type": "code",
   "execution_count": 80,
   "id": "54d14927-1067-40eb-87b9-e403f39a9fc5",
   "metadata": {},
   "outputs": [
    {
     "name": "stdout",
     "output_type": "stream",
     "text": [
      "Words in first cleaned resume: ['skills', 'programming', 'languages', 'python', 'pandas', 'numpy', 'scipy', 'scikit', 'learn', 'matplotlib', 'java', 'javascript', 'jquery', 'machine', 'learning', 'regression', 'bayes', 'random', 'forest', 'decision', 'trees', 'boosting', 'techniques', 'cluster', 'analysis', 'word', 'embedding', 'sentiment', 'analysis', 'natural']\n"
     ]
    }
   ],
   "source": [
    "print(\"Words in first cleaned resume:\", df[\"clean_description\"].iloc[0].split()[:30])\n"
   ]
  },
  {
   "cell_type": "code",
   "execution_count": 81,
   "id": "95794853-95f2-4235-a6b9-37810629c655",
   "metadata": {},
   "outputs": [
    {
     "name": "stderr",
     "output_type": "stream",
     "text": [
      "[nltk_data] Downloading package stopwords to\n",
      "[nltk_data]     C:\\Users\\gopko\\AppData\\Roaming\\nltk_data...\n",
      "[nltk_data]   Package stopwords is already up-to-date!\n"
     ]
    },
    {
     "name": "stdout",
     "output_type": "stream",
     "text": [
      "Words in first cleaned resume after stopword removal: ['skills', 'programming', 'languages', 'python', 'pandas', 'numpy', 'scipy', 'scikit', 'learn', 'matplotlib', 'java', 'javascript', 'jquery', 'machine', 'learning', 'regression', 'bayes', 'random', 'forest', 'decision', 'trees', 'boosting', 'techniques', 'cluster', 'analysis', 'word', 'embedding', 'sentiment', 'analysis', 'natural']\n"
     ]
    }
   ],
   "source": [
    "import re\n",
    "import nltk\n",
    "from nltk.corpus import stopwords\n",
    "\n",
    "nltk.download(\"stopwords\")\n",
    "custom_stop_words = set(stopwords.words(\"english\")).union(set([\n",
    "    \"accounting\", \"accounts\", \"accuracy\", \"accurate\", \"achieve\", \"achieved\",\n",
    "    \"achievements\", \"acquired\", \"action\", \"actions\", \"active\", \"actively\",\n",
    "    \"activities\", \"activity\", \"actual\", \"administration\", \"advisor\"\n",
    "]))\n",
    "\n",
    "def clean_text(text):\n",
    "    if not isinstance(text, str):\n",
    "        return \"Unknown\"  # Handle missing values\n",
    "    \n",
    "    text = text.lower()  # Convert to lowercase\n",
    "    text = re.sub(r\"\\d+\", \"\", text)  # Remove numbers\n",
    "    text = re.sub(r\"[^\\w\\s]\", \" \", text)  # Remove punctuation\n",
    "    text = re.sub(r\"\\s+\", \" \", text).strip()  # Remove extra spaces\n",
    "    words = [word for word in text.split() if word not in custom_stop_words and len(word) > 3]  # Remove stopwords & short words\n",
    "    return \" \".join(words)\n",
    "\n",
    "# Apply cleaning function\n",
    "df[\"clean_description\"] = df[\"clean_description\"].apply(clean_text)\n",
    "\n",
    "# Verify stopwords were removed\n",
    "print(\"Words in first cleaned resume after stopword removal:\", df[\"clean_description\"].iloc[0].split()[:30])\n"
   ]
  },
  {
   "cell_type": "code",
   "execution_count": 82,
   "id": "76de5055-19a8-4ff4-af4f-ae2fd8957d9b",
   "metadata": {},
   "outputs": [
    {
     "name": "stdout",
     "output_type": "stream",
     "text": [
      "Top 20 Words in TF-IDF Feature List:\n",
      " ['accurately' 'achieving' 'actuators' 'added' 'adding' 'additional'\n",
      " 'address' 'addressed' 'adherence' 'admin' 'administrative'\n",
      " 'administrator' 'advance' 'advanced' 'advertising' 'advocate' 'agents'\n",
      " 'agile' 'ajax' 'alarm']\n"
     ]
    }
   ],
   "source": [
    "from sklearn.feature_extraction.text import TfidfVectorizer\n",
    "\n",
    "vectorizer = TfidfVectorizer(\n",
    "    stop_words=\"english\",\n",
    "    max_features=3000,\n",
    "    min_df=20,  # Ignore words appearing in fewer than 20 resumes\n",
    "    max_df=0.85  # Ignore words appearing in more than 85% of resumes\n",
    ")\n",
    "\n",
    "# Apply TF-IDF again\n",
    "X = vectorizer.fit_transform(df[\"clean_description\"])\n",
    "\n",
    "# Print top words\n",
    "feature_names = vectorizer.get_feature_names_out()\n",
    "print(\"Top 20 Words in TF-IDF Feature List:\\n\", feature_names[:20])\n"
   ]
  },
  {
   "cell_type": "code",
   "execution_count": 83,
   "id": "393950cd-2215-4e18-af0f-3b193a7004bd",
   "metadata": {},
   "outputs": [
    {
     "name": "stdout",
     "output_type": "stream",
     "text": [
      "Top 20 Words in TF-IDF Feature List:\n",
      " ['accurately' 'achieving' 'actuators' 'added' 'adding' 'additional'\n",
      " 'address' 'addressed' 'adherence' 'admin' 'administrative'\n",
      " 'administrator' 'advance' 'advanced' 'advertising' 'advocate' 'agents'\n",
      " 'agile' 'ajax' 'alarm']\n"
     ]
    }
   ],
   "source": [
    "print(\"Top 20 Words in TF-IDF Feature List:\\n\", feature_names[:20])\n"
   ]
  },
  {
   "cell_type": "code",
   "execution_count": 84,
   "id": "cd61d560-65ba-4f70-9e72-0de86d5695fa",
   "metadata": {},
   "outputs": [
    {
     "name": "stdout",
     "output_type": "stream",
     "text": [
      "Top 20 Most Important Words in TF-IDF:\n",
      " [('exprience', np.float64(0.08799129665033294)), ('months', np.float64(0.07863752546699765)), ('project', np.float64(0.061287807535098195)), ('java', np.float64(0.04948886311595684)), ('year', np.float64(0.048336809545806186)), ('january', np.float64(0.04662000594086879)), ('data', np.float64(0.04611264817153065)), ('developer', np.float64(0.04366994003815385)), ('maharashtra', np.float64(0.04259710222451858)), ('pune', np.float64(0.038483407138450075)), ('management', np.float64(0.03666987618456666)), ('testing', np.float64(0.03597328177028684)), ('engineering', np.float64(0.03435391695576994)), ('team', np.float64(0.0335343025111765)), ('python', np.float64(0.033432491127299464)), ('database', np.float64(0.031625882389743634)), ('test', np.float64(0.02951204577068826)), ('college', np.float64(0.0289010123193091)), ('sales', np.float64(0.028427090239116708)), ('mumbai', np.float64(0.028339779497194274))]\n"
     ]
    }
   ],
   "source": [
    "import numpy as np\n",
    "\n",
    "# Get TF-IDF values for all words\n",
    "word_tfidf_values = np.asarray(X.mean(axis=0)).flatten()\n",
    "\n",
    "# Pair words with their TF-IDF importance\n",
    "word_tfidf_pairs = list(zip(vectorizer.get_feature_names_out(), word_tfidf_values))\n",
    "\n",
    "# Sort words by importance (highest first)\n",
    "word_tfidf_pairs = sorted(word_tfidf_pairs, key=lambda x: x[1], reverse=True)\n",
    "\n",
    "# Print top 20 most important words\n",
    "print(\"Top 20 Most Important Words in TF-IDF:\\n\", word_tfidf_pairs[:20])\n"
   ]
  },
  {
   "cell_type": "code",
   "execution_count": 85,
   "id": "17cae461-4984-440d-9ff8-41e49b8f7357",
   "metadata": {},
   "outputs": [
    {
     "ename": "InvalidParameterError",
     "evalue": "The 'stop_words' parameter of TfidfVectorizer must be a str among {'english'}, an instance of 'list' or None. Got {'accurately', 'administrator', 'alarm', 'admin', 'agents', 'added', 'address', 'analysis', 'additional', 'analytic', 'assist', 'apply', 'advance', 'administrative', 'advanced', 'advertising', 'advocate', 'achieving'} instead.",
     "output_type": "error",
     "traceback": [
      "\u001b[1;31m---------------------------------------------------------------------------\u001b[0m",
      "\u001b[1;31mInvalidParameterError\u001b[0m                     Traceback (most recent call last)",
      "Cell \u001b[1;32mIn[85], line 15\u001b[0m\n\u001b[0;32m      7\u001b[0m \u001b[38;5;66;03m# Re-run TF-IDF with updated stopwords\u001b[39;00m\n\u001b[0;32m      8\u001b[0m vectorizer \u001b[38;5;241m=\u001b[39m TfidfVectorizer(\n\u001b[0;32m      9\u001b[0m     stop_words\u001b[38;5;241m=\u001b[39mcustom_stop_words,\n\u001b[0;32m     10\u001b[0m     max_features\u001b[38;5;241m=\u001b[39m\u001b[38;5;241m3000\u001b[39m,\n\u001b[0;32m     11\u001b[0m     min_df\u001b[38;5;241m=\u001b[39m\u001b[38;5;241m25\u001b[39m,  \u001b[38;5;66;03m# Increase to remove even more rare words\u001b[39;00m\n\u001b[0;32m     12\u001b[0m     max_df\u001b[38;5;241m=\u001b[39m\u001b[38;5;241m0.85\u001b[39m\n\u001b[0;32m     13\u001b[0m )\n\u001b[1;32m---> 15\u001b[0m X \u001b[38;5;241m=\u001b[39m \u001b[43mvectorizer\u001b[49m\u001b[38;5;241;43m.\u001b[39;49m\u001b[43mfit_transform\u001b[49m\u001b[43m(\u001b[49m\u001b[43mdf\u001b[49m\u001b[43m[\u001b[49m\u001b[38;5;124;43m\"\u001b[39;49m\u001b[38;5;124;43mclean_description\u001b[39;49m\u001b[38;5;124;43m\"\u001b[39;49m\u001b[43m]\u001b[49m\u001b[43m)\u001b[49m\n\u001b[0;32m     17\u001b[0m \u001b[38;5;66;03m# Print new top words\u001b[39;00m\n\u001b[0;32m     18\u001b[0m feature_names \u001b[38;5;241m=\u001b[39m vectorizer\u001b[38;5;241m.\u001b[39mget_feature_names_out()\n",
      "File \u001b[1;32m~\\Documents\\GitHub\\ML-Resume-Classifier\\resume-ml-env\\Lib\\site-packages\\sklearn\\feature_extraction\\text.py:2104\u001b[0m, in \u001b[0;36mTfidfVectorizer.fit_transform\u001b[1;34m(self, raw_documents, y)\u001b[0m\n\u001b[0;32m   2097\u001b[0m \u001b[38;5;28mself\u001b[39m\u001b[38;5;241m.\u001b[39m_check_params()\n\u001b[0;32m   2098\u001b[0m \u001b[38;5;28mself\u001b[39m\u001b[38;5;241m.\u001b[39m_tfidf \u001b[38;5;241m=\u001b[39m TfidfTransformer(\n\u001b[0;32m   2099\u001b[0m     norm\u001b[38;5;241m=\u001b[39m\u001b[38;5;28mself\u001b[39m\u001b[38;5;241m.\u001b[39mnorm,\n\u001b[0;32m   2100\u001b[0m     use_idf\u001b[38;5;241m=\u001b[39m\u001b[38;5;28mself\u001b[39m\u001b[38;5;241m.\u001b[39muse_idf,\n\u001b[0;32m   2101\u001b[0m     smooth_idf\u001b[38;5;241m=\u001b[39m\u001b[38;5;28mself\u001b[39m\u001b[38;5;241m.\u001b[39msmooth_idf,\n\u001b[0;32m   2102\u001b[0m     sublinear_tf\u001b[38;5;241m=\u001b[39m\u001b[38;5;28mself\u001b[39m\u001b[38;5;241m.\u001b[39msublinear_tf,\n\u001b[0;32m   2103\u001b[0m )\n\u001b[1;32m-> 2104\u001b[0m X \u001b[38;5;241m=\u001b[39m \u001b[38;5;28;43msuper\u001b[39;49m\u001b[43m(\u001b[49m\u001b[43m)\u001b[49m\u001b[38;5;241;43m.\u001b[39;49m\u001b[43mfit_transform\u001b[49m\u001b[43m(\u001b[49m\u001b[43mraw_documents\u001b[49m\u001b[43m)\u001b[49m\n\u001b[0;32m   2105\u001b[0m \u001b[38;5;28mself\u001b[39m\u001b[38;5;241m.\u001b[39m_tfidf\u001b[38;5;241m.\u001b[39mfit(X)\n\u001b[0;32m   2106\u001b[0m \u001b[38;5;66;03m# X is already a transformed view of raw_documents so\u001b[39;00m\n\u001b[0;32m   2107\u001b[0m \u001b[38;5;66;03m# we set copy to False\u001b[39;00m\n",
      "File \u001b[1;32m~\\Documents\\GitHub\\ML-Resume-Classifier\\resume-ml-env\\Lib\\site-packages\\sklearn\\base.py:1382\u001b[0m, in \u001b[0;36m_fit_context.<locals>.decorator.<locals>.wrapper\u001b[1;34m(estimator, *args, **kwargs)\u001b[0m\n\u001b[0;32m   1377\u001b[0m partial_fit_and_fitted \u001b[38;5;241m=\u001b[39m (\n\u001b[0;32m   1378\u001b[0m     fit_method\u001b[38;5;241m.\u001b[39m\u001b[38;5;18m__name__\u001b[39m \u001b[38;5;241m==\u001b[39m \u001b[38;5;124m\"\u001b[39m\u001b[38;5;124mpartial_fit\u001b[39m\u001b[38;5;124m\"\u001b[39m \u001b[38;5;129;01mand\u001b[39;00m _is_fitted(estimator)\n\u001b[0;32m   1379\u001b[0m )\n\u001b[0;32m   1381\u001b[0m \u001b[38;5;28;01mif\u001b[39;00m \u001b[38;5;129;01mnot\u001b[39;00m global_skip_validation \u001b[38;5;129;01mand\u001b[39;00m \u001b[38;5;129;01mnot\u001b[39;00m partial_fit_and_fitted:\n\u001b[1;32m-> 1382\u001b[0m     \u001b[43mestimator\u001b[49m\u001b[38;5;241;43m.\u001b[39;49m\u001b[43m_validate_params\u001b[49m\u001b[43m(\u001b[49m\u001b[43m)\u001b[49m\n\u001b[0;32m   1384\u001b[0m \u001b[38;5;28;01mwith\u001b[39;00m config_context(\n\u001b[0;32m   1385\u001b[0m     skip_parameter_validation\u001b[38;5;241m=\u001b[39m(\n\u001b[0;32m   1386\u001b[0m         prefer_skip_nested_validation \u001b[38;5;129;01mor\u001b[39;00m global_skip_validation\n\u001b[0;32m   1387\u001b[0m     )\n\u001b[0;32m   1388\u001b[0m ):\n\u001b[0;32m   1389\u001b[0m     \u001b[38;5;28;01mreturn\u001b[39;00m fit_method(estimator, \u001b[38;5;241m*\u001b[39margs, \u001b[38;5;241m*\u001b[39m\u001b[38;5;241m*\u001b[39mkwargs)\n",
      "File \u001b[1;32m~\\Documents\\GitHub\\ML-Resume-Classifier\\resume-ml-env\\Lib\\site-packages\\sklearn\\base.py:436\u001b[0m, in \u001b[0;36mBaseEstimator._validate_params\u001b[1;34m(self)\u001b[0m\n\u001b[0;32m    428\u001b[0m \u001b[38;5;28;01mdef\u001b[39;00m\u001b[38;5;250m \u001b[39m\u001b[38;5;21m_validate_params\u001b[39m(\u001b[38;5;28mself\u001b[39m):\n\u001b[0;32m    429\u001b[0m \u001b[38;5;250m    \u001b[39m\u001b[38;5;124;03m\"\"\"Validate types and values of constructor parameters\u001b[39;00m\n\u001b[0;32m    430\u001b[0m \n\u001b[0;32m    431\u001b[0m \u001b[38;5;124;03m    The expected type and values must be defined in the `_parameter_constraints`\u001b[39;00m\n\u001b[1;32m   (...)\u001b[0m\n\u001b[0;32m    434\u001b[0m \u001b[38;5;124;03m    accepted constraints.\u001b[39;00m\n\u001b[0;32m    435\u001b[0m \u001b[38;5;124;03m    \"\"\"\u001b[39;00m\n\u001b[1;32m--> 436\u001b[0m     \u001b[43mvalidate_parameter_constraints\u001b[49m\u001b[43m(\u001b[49m\n\u001b[0;32m    437\u001b[0m \u001b[43m        \u001b[49m\u001b[38;5;28;43mself\u001b[39;49m\u001b[38;5;241;43m.\u001b[39;49m\u001b[43m_parameter_constraints\u001b[49m\u001b[43m,\u001b[49m\n\u001b[0;32m    438\u001b[0m \u001b[43m        \u001b[49m\u001b[38;5;28;43mself\u001b[39;49m\u001b[38;5;241;43m.\u001b[39;49m\u001b[43mget_params\u001b[49m\u001b[43m(\u001b[49m\u001b[43mdeep\u001b[49m\u001b[38;5;241;43m=\u001b[39;49m\u001b[38;5;28;43;01mFalse\u001b[39;49;00m\u001b[43m)\u001b[49m\u001b[43m,\u001b[49m\n\u001b[0;32m    439\u001b[0m \u001b[43m        \u001b[49m\u001b[43mcaller_name\u001b[49m\u001b[38;5;241;43m=\u001b[39;49m\u001b[38;5;28;43mself\u001b[39;49m\u001b[38;5;241;43m.\u001b[39;49m\u001b[38;5;18;43m__class__\u001b[39;49m\u001b[38;5;241;43m.\u001b[39;49m\u001b[38;5;18;43m__name__\u001b[39;49m\u001b[43m,\u001b[49m\n\u001b[0;32m    440\u001b[0m \u001b[43m    \u001b[49m\u001b[43m)\u001b[49m\n",
      "File \u001b[1;32m~\\Documents\\GitHub\\ML-Resume-Classifier\\resume-ml-env\\Lib\\site-packages\\sklearn\\utils\\_param_validation.py:98\u001b[0m, in \u001b[0;36mvalidate_parameter_constraints\u001b[1;34m(parameter_constraints, params, caller_name)\u001b[0m\n\u001b[0;32m     92\u001b[0m \u001b[38;5;28;01melse\u001b[39;00m:\n\u001b[0;32m     93\u001b[0m     constraints_str \u001b[38;5;241m=\u001b[39m (\n\u001b[0;32m     94\u001b[0m         \u001b[38;5;124mf\u001b[39m\u001b[38;5;124m\"\u001b[39m\u001b[38;5;132;01m{\u001b[39;00m\u001b[38;5;124m'\u001b[39m\u001b[38;5;124m, \u001b[39m\u001b[38;5;124m'\u001b[39m\u001b[38;5;241m.\u001b[39mjoin([\u001b[38;5;28mstr\u001b[39m(c)\u001b[38;5;250m \u001b[39m\u001b[38;5;28;01mfor\u001b[39;00m\u001b[38;5;250m \u001b[39mc\u001b[38;5;250m \u001b[39m\u001b[38;5;129;01min\u001b[39;00m\u001b[38;5;250m \u001b[39mconstraints[:\u001b[38;5;241m-\u001b[39m\u001b[38;5;241m1\u001b[39m]])\u001b[38;5;132;01m}\u001b[39;00m\u001b[38;5;124m or\u001b[39m\u001b[38;5;124m\"\u001b[39m\n\u001b[0;32m     95\u001b[0m         \u001b[38;5;124mf\u001b[39m\u001b[38;5;124m\"\u001b[39m\u001b[38;5;124m \u001b[39m\u001b[38;5;132;01m{\u001b[39;00mconstraints[\u001b[38;5;241m-\u001b[39m\u001b[38;5;241m1\u001b[39m]\u001b[38;5;132;01m}\u001b[39;00m\u001b[38;5;124m\"\u001b[39m\n\u001b[0;32m     96\u001b[0m     )\n\u001b[1;32m---> 98\u001b[0m \u001b[38;5;28;01mraise\u001b[39;00m InvalidParameterError(\n\u001b[0;32m     99\u001b[0m     \u001b[38;5;124mf\u001b[39m\u001b[38;5;124m\"\u001b[39m\u001b[38;5;124mThe \u001b[39m\u001b[38;5;132;01m{\u001b[39;00mparam_name\u001b[38;5;132;01m!r}\u001b[39;00m\u001b[38;5;124m parameter of \u001b[39m\u001b[38;5;132;01m{\u001b[39;00mcaller_name\u001b[38;5;132;01m}\u001b[39;00m\u001b[38;5;124m must be\u001b[39m\u001b[38;5;124m\"\u001b[39m\n\u001b[0;32m    100\u001b[0m     \u001b[38;5;124mf\u001b[39m\u001b[38;5;124m\"\u001b[39m\u001b[38;5;124m \u001b[39m\u001b[38;5;132;01m{\u001b[39;00mconstraints_str\u001b[38;5;132;01m}\u001b[39;00m\u001b[38;5;124m. Got \u001b[39m\u001b[38;5;132;01m{\u001b[39;00mparam_val\u001b[38;5;132;01m!r}\u001b[39;00m\u001b[38;5;124m instead.\u001b[39m\u001b[38;5;124m\"\u001b[39m\n\u001b[0;32m    101\u001b[0m )\n",
      "\u001b[1;31mInvalidParameterError\u001b[0m: The 'stop_words' parameter of TfidfVectorizer must be a str among {'english'}, an instance of 'list' or None. Got {'accurately', 'administrator', 'alarm', 'admin', 'agents', 'added', 'address', 'analysis', 'additional', 'analytic', 'assist', 'apply', 'advance', 'administrative', 'advanced', 'advertising', 'advocate', 'achieving'} instead."
     ]
    }
   ],
   "source": [
    "custom_stop_words = set([\n",
    "    \"accurately\", \"achieving\", \"added\", \"additional\", \"address\", \"admin\",\n",
    "    \"administrative\", \"administrator\", \"advance\", \"advanced\", \"advertising\",\n",
    "    \"advocate\", \"agents\", \"alarm\", \"analysis\", \"analytic\", \"apply\", \"assist\"\n",
    "])\n",
    "\n",
    "# Re-run TF-IDF with updated stopwords\n",
    "vectorizer = TfidfVectorizer(\n",
    "    stop_words=custom_stop_words,\n",
    "    max_features=3000,\n",
    "    min_df=25,  # Increase to remove even more rare words\n",
    "    max_df=0.85\n",
    ")\n",
    "\n",
    "X = vectorizer.fit_transform(df[\"clean_description\"])\n",
    "\n",
    "# Print new top words\n",
    "feature_names = vectorizer.get_feature_names_out()\n",
    "print(\"Top 20 Words in TF-IDF Feature List:\\n\", feature_names[:20])\n"
   ]
  },
  {
   "cell_type": "code",
   "execution_count": 86,
   "id": "12f4ee5c-80a1-4ad8-9c68-597af37ea452",
   "metadata": {},
   "outputs": [
    {
     "name": "stdout",
     "output_type": "stream",
     "text": [
      "Top 20 Words in TF-IDF Feature List:\n",
      " ['accurately' 'achieving' 'actuators' 'added' 'adding' 'additional'\n",
      " 'address' 'addressed' 'adherence' 'admin' 'administrative'\n",
      " 'administrator' 'advance' 'advanced' 'advertising' 'advocate' 'agents'\n",
      " 'agile' 'ajax' 'alarm']\n"
     ]
    }
   ],
   "source": [
    "print(\"Top 20 Words in TF-IDF Feature List:\\n\", feature_names[:20])\n"
   ]
  },
  {
   "cell_type": "code",
   "execution_count": 87,
   "id": "ca0161ab-03dc-4712-b45a-c35730ddbbf8",
   "metadata": {},
   "outputs": [
    {
     "name": "stdout",
     "output_type": "stream",
     "text": [
      "Top 20 Words in TF-IDF Feature List:\n",
      " ['across' 'adding' 'agile' 'ajax' 'alert' 'algorithm' 'algorithms' 'along'\n",
      " 'already' 'also' 'american' 'amravati' 'analyst' 'analysts' 'analytical'\n",
      " 'analytics' 'analyze' 'analyzed' 'analyzing' 'android']\n"
     ]
    }
   ],
   "source": [
    "from sklearn.feature_extraction.text import TfidfVectorizer\n",
    "\n",
    "# Convert stopword set to a list\n",
    "custom_stop_words = list([\n",
    "    \"accurately\", \"achieving\", \"added\", \"additional\", \"address\", \"admin\",\n",
    "    \"administrative\", \"administrator\", \"advance\", \"advanced\", \"advertising\",\n",
    "    \"advocate\", \"agents\", \"alarm\", \"analysis\", \"analytic\", \"apply\", \"assist\"\n",
    "])\n",
    "\n",
    "# Re-run TF-IDF with updated stopwords\n",
    "vectorizer = TfidfVectorizer(\n",
    "    stop_words=custom_stop_words,  # Now it's a list, not a set\n",
    "    max_features=3000,\n",
    "    min_df=25,  # Increase to remove even more rare words\n",
    "    max_df=0.85\n",
    ")\n",
    "\n",
    "X = vectorizer.fit_transform(df[\"clean_description\"])\n",
    "\n",
    "# Print new top words\n",
    "feature_names = vectorizer.get_feature_names_out()\n",
    "print(\"Top 20 Words in TF-IDF Feature List:\\n\", feature_names[:20])"
   ]
  },
  {
   "cell_type": "code",
   "execution_count": 88,
   "id": "84bdf542-0b37-4ea8-9164-d4407cc8b718",
   "metadata": {},
   "outputs": [
    {
     "name": "stdout",
     "output_type": "stream",
     "text": [
      "Words in first cleaned resume: ['skills', 'programming', 'languages', 'python', 'pandas', 'numpy', 'scipy', 'scikit', 'learn', 'matplotlib', 'java', 'javascript', 'jquery', 'machine', 'learning', 'regression', 'bayes', 'random', 'forest', 'decision', 'trees', 'boosting', 'techniques', 'cluster', 'analysis', 'word', 'embedding', 'sentiment', 'analysis', 'natural']\n"
     ]
    }
   ],
   "source": [
    "print(\"Words in first cleaned resume:\", df[\"clean_description\"].iloc[0].split()[:30])\n"
   ]
  },
  {
   "cell_type": "code",
   "execution_count": 89,
   "id": "41c9ec41-33b0-4a33-befb-c4b5e88ea075",
   "metadata": {},
   "outputs": [
    {
     "name": "stderr",
     "output_type": "stream",
     "text": [
      "[nltk_data] Downloading package stopwords to\n",
      "[nltk_data]     C:\\Users\\gopko\\AppData\\Roaming\\nltk_data...\n",
      "[nltk_data]   Package stopwords is already up-to-date!\n"
     ]
    },
    {
     "name": "stdout",
     "output_type": "stream",
     "text": [
      "Words in first cleaned resume after stopword removal: ['skills', 'programming', 'languages', 'python', 'pandas', 'numpy', 'scipy', 'scikit', 'learn', 'matplotlib', 'java', 'javascript', 'jquery', 'machine', 'learning', 'regression', 'bayes', 'random', 'forest', 'decision', 'trees', 'boosting', 'techniques', 'cluster', 'analysis', 'word', 'embedding', 'sentiment', 'analysis', 'natural']\n"
     ]
    }
   ],
   "source": [
    "import re\n",
    "import nltk\n",
    "from nltk.corpus import stopwords\n",
    "\n",
    "nltk.download(\"stopwords\")\n",
    "custom_stop_words = set(stopwords.words(\"english\")).union(set([\n",
    "    \"across\", \"adding\", \"agile\", \"ajax\", \"alert\", \"already\", \"also\",\n",
    "    \"amravati\", \"analyst\", \"analysts\", \"analytics\", \"american\", \"along\"\n",
    "]))\n",
    "\n",
    "def clean_text(text):\n",
    "    if not isinstance(text, str):\n",
    "        return \"Unknown\"  # Handle missing values\n",
    "    \n",
    "    text = text.lower()  # Convert to lowercase\n",
    "    text = re.sub(r\"\\d+\", \"\", text)  # Remove numbers\n",
    "    text = re.sub(r\"[^\\w\\s]\", \" \", text)  # Remove punctuation\n",
    "    text = re.sub(r\"\\s+\", \" \", text).strip()  # Remove extra spaces\n",
    "    words = [word for word in text.split() if word not in custom_stop_words and len(word) > 3]  # Remove stopwords & short words\n",
    "    return \" \".join(words)\n",
    "\n",
    "# Apply cleaning function again\n",
    "df[\"clean_description\"] = df[\"clean_description\"].apply(clean_text)\n",
    "\n",
    "# Verify cleaned resumes before TF-IDF\n",
    "print(\"Words in first cleaned resume after stopword removal:\", df[\"clean_description\"].iloc[0].split()[:30])\n"
   ]
  },
  {
   "cell_type": "code",
   "execution_count": 90,
   "id": "efd98a5a-0468-4044-ad3c-d9d21c06aa9d",
   "metadata": {},
   "outputs": [
    {
     "name": "stdout",
     "output_type": "stream",
     "text": [
      "Top 20 Words in TF-IDF Feature List:\n",
      " ['accurately' 'achieving' 'admin' 'administrative' 'administrator'\n",
      " 'advance' 'advanced' 'algorithms' 'analysis' 'analytical'\n",
      " 'analytical skills' 'analyze' 'analyzed' 'analyzing' 'android' 'angular'\n",
      " 'angular exprience' 'annual' 'apache' 'apache tomcat']\n"
     ]
    }
   ],
   "source": [
    "from sklearn.feature_extraction.text import TfidfVectorizer\n",
    "\n",
    "vectorizer = TfidfVectorizer(\n",
    "    stop_words=\"english\",\n",
    "    max_features=2000,  # Reduce vocabulary size further\n",
    "    min_df=30,  # Ignore words appearing in fewer than 30 resumes\n",
    "    max_df=0.8,  # Ignore words appearing in more than 80% of resumes\n",
    "    ngram_range=(1,2)  # Use word pairs (bigrams) to capture context\n",
    ")\n",
    "\n",
    "# Apply TF-IDF again\n",
    "X = vectorizer.fit_transform(df[\"clean_description\"])\n",
    "\n",
    "# Print new top words\n",
    "feature_names = vectorizer.get_feature_names_out()\n",
    "print(\"Top 20 Words in TF-IDF Feature List:\\n\", feature_names[:20])\n"
   ]
  },
  {
   "cell_type": "code",
   "execution_count": 91,
   "id": "5b58a52c-5eac-4949-8090-26f365043c29",
   "metadata": {},
   "outputs": [
    {
     "name": "stdout",
     "output_type": "stream",
     "text": [
      "Top 20 Words in TF-IDF Feature List:\n",
      " ['accurately' 'achieving' 'admin' 'administrative' 'administrator'\n",
      " 'advance' 'advanced' 'algorithms' 'analysis' 'analytical'\n",
      " 'analytical skills' 'analyze' 'analyzed' 'analyzing' 'android' 'angular'\n",
      " 'angular exprience' 'annual' 'apache' 'apache tomcat']\n"
     ]
    }
   ],
   "source": [
    "print(\"Top 20 Words in TF-IDF Feature List:\\n\", feature_names[:20])\n"
   ]
  },
  {
   "cell_type": "code",
   "execution_count": 92,
   "id": "bd942aa3-99e0-4eb3-938e-0f5b8cf2d876",
   "metadata": {},
   "outputs": [
    {
     "name": "stdout",
     "output_type": "stream",
     "text": [
      "Words in first cleaned resume before TF-IDF: ['skills', 'programming', 'languages', 'python', 'pandas', 'numpy', 'scipy', 'scikit', 'learn', 'matplotlib', 'java', 'javascript', 'jquery', 'machine', 'learning', 'regression', 'bayes', 'random', 'forest', 'decision', 'trees', 'boosting', 'techniques', 'cluster', 'analysis', 'word', 'embedding', 'sentiment', 'analysis', 'natural']\n"
     ]
    }
   ],
   "source": [
    "print(\"Words in first cleaned resume before TF-IDF:\", df[\"clean_description\"].iloc[0].split()[:30])\n"
   ]
  },
  {
   "cell_type": "code",
   "execution_count": 93,
   "id": "db0f27c8-0356-4e60-b6e7-4a84cf1aafa7",
   "metadata": {},
   "outputs": [
    {
     "name": "stderr",
     "output_type": "stream",
     "text": [
      "[nltk_data] Downloading package stopwords to\n",
      "[nltk_data]     C:\\Users\\gopko\\AppData\\Roaming\\nltk_data...\n",
      "[nltk_data]   Package stopwords is already up-to-date!\n"
     ]
    },
    {
     "name": "stdout",
     "output_type": "stream",
     "text": [
      "Words in first cleaned resume after stopword removal: ['programming', 'languages', 'python', 'pandas', 'numpy', 'scipy', 'scikit', 'learn', 'matplotlib', 'java', 'javascript', 'jquery', 'machine', 'learning', 'regression', 'bayes', 'random', 'forest', 'decision', 'trees', 'boosting', 'techniques', 'cluster', 'analysis', 'word', 'embedding', 'sentiment', 'analysis', 'natural', 'language']\n"
     ]
    }
   ],
   "source": [
    "import re\n",
    "import nltk\n",
    "from nltk.corpus import stopwords\n",
    "\n",
    "nltk.download(\"stopwords\")\n",
    "custom_stop_words = set(stopwords.words(\"english\")).union(set([\n",
    "    \"accurately\", \"achieving\", \"admin\", \"administrative\", \"administrator\",\n",
    "    \"advance\", \"advanced\", \"annual\", \"apply\", \"assist\", \"experience\",\n",
    "    \"knowledge\", \"skills\", \"ability\", \"responsible\", \"manage\", \"working\",\n",
    "    \"maintain\", \"ensure\", \"providing\", \"understanding\"\n",
    "]))\n",
    "\n",
    "def clean_text(text):\n",
    "    if not isinstance(text, str):\n",
    "        return \"Unknown\"  # Handle missing values\n",
    "    \n",
    "    text = text.lower()  # Convert to lowercase\n",
    "    text = re.sub(r\"\\d+\", \"\", text)  # Remove numbers\n",
    "    text = re.sub(r\"[^\\w\\s]\", \" \", text)  # Remove punctuation\n",
    "    text = re.sub(r\"\\s+\", \" \", text).strip()  # Remove extra spaces\n",
    "    words = [word for word in text.split() if word not in custom_stop_words and len(word) > 3]  # Remove stopwords & short words\n",
    "    return \" \".join(words)\n",
    "\n",
    "# Apply cleaning function again\n",
    "df[\"clean_description\"] = df[\"clean_description\"].apply(clean_text)\n",
    "\n",
    "# Verify stopwords were removed before TF-IDF\n",
    "print(\"Words in first cleaned resume after stopword removal:\", df[\"clean_description\"].iloc[0].split()[:30])\n"
   ]
  },
  {
   "cell_type": "code",
   "execution_count": 94,
   "id": "c1dc0a55-4d9b-489b-ba2b-dc940c156c2d",
   "metadata": {},
   "outputs": [
    {
     "name": "stdout",
     "output_type": "stream",
     "text": [
      "Top 20 Words in TF-IDF Feature List:\n",
      " ['algorithms' 'analysis' 'analytical' 'analyze' 'analyzing' 'android'\n",
      " 'angular' 'apache' 'application' 'applications' 'applying' 'appropriate'\n",
      " 'april' 'architect' 'architecture' 'area' 'areas' 'arts' 'assistant'\n",
      " 'assisting']\n"
     ]
    }
   ],
   "source": [
    "from sklearn.feature_extraction.text import TfidfVectorizer\n",
    "\n",
    "vectorizer = TfidfVectorizer(\n",
    "    stop_words=\"english\",\n",
    "    max_features=1500,  # Reduce vocabulary size further\n",
    "    min_df=40,  # Ignore words appearing in fewer than 40 resumes\n",
    "    max_df=0.75,  # Ignore words appearing in more than 75% of resumes\n",
    "    ngram_range=(1,2)  # Use word pairs (bigrams) to capture better context\n",
    ")\n",
    "\n",
    "# Apply TF-IDF again\n",
    "X = vectorizer.fit_transform(df[\"clean_description\"])\n",
    "\n",
    "# Print new top words\n",
    "feature_names = vectorizer.get_feature_names_out()\n",
    "print(\"Top 20 Words in TF-IDF Feature List:\\n\", feature_names[:20])\n"
   ]
  },
  {
   "cell_type": "code",
   "execution_count": 95,
   "id": "e569eba1-dbdd-417f-91e3-2175e258d704",
   "metadata": {},
   "outputs": [
    {
     "name": "stdout",
     "output_type": "stream",
     "text": [
      "Top 20 Words in TF-IDF Feature List:\n",
      " ['algorithms' 'analysis' 'analytical' 'analyze' 'analyzing' 'android'\n",
      " 'angular' 'apache' 'application' 'applications' 'applying' 'appropriate'\n",
      " 'april' 'architect' 'architecture' 'area' 'areas' 'arts' 'assistant'\n",
      " 'assisting']\n"
     ]
    }
   ],
   "source": [
    "print(\"Top 20 Words in TF-IDF Feature List:\\n\", feature_names[:20])\n"
   ]
  },
  {
   "cell_type": "code",
   "execution_count": 96,
   "id": "b74324a1-5539-4c2f-8f3d-be8d43cf6ada",
   "metadata": {},
   "outputs": [
    {
     "name": "stdout",
     "output_type": "stream",
     "text": [
      "Sample Resume (Cleaned Text):\n",
      " programming languages python pandas numpy scipy scikit learn matplotlib java javascript jquery machine learning regression bayes random forest decision trees boosting techniques cluster analysis word embedding sentiment analysis natural language processing dimensionality reduction topic modelling neural nets database visualizations mysql sqlserver cassandra hbase elasticsearch plotly kibana matplotlib ggplot tableau others regular expression html angular logstash kafka python flask docker computer vision open deep learning education details data science assurance associate data science assurance associate ernst young skill details javascript exprience months jquery exprience months python exprience monthscompany details company ernst young description fraud investigations dispute services assurance technology assisted review technology assisted review assists accelerating review process generate reports core member team helped developing automated review platform tool scratch assisting discovery domain tool implements predictive coding topic modelling automating reviews resulting reduced labor costs time spent lawyers review understand flow solution research development classification models predictive analysis mining information present text data worked analyzing outputs precision monitoring entire tool assists predictive coding topic modelling evidence following standards developed classifier models order identify flags fraud related issues tools technologies python scikit learn tfidf wordvec docvec cosine similarity bayes topic modelling vader text blob sentiment analysis matplot tableau dashboard reporting multiple data science analytic projects clients text motor vehicle customer review data received customer feedback survey data past year performed sentiment positive negative neutral time series analysis customer comments categories created heat terms survey category based frequency words extracted positive negative words survey categories plotted word cloud created customized tableau dashboards effective reporting visualizations chatbot developed user friendly chatbot products handle simple questions hours operation reservation options chat serves entire product related questions giving overview tool platform give recommendation responses user question build chain relevant answer intelligence build pipeline questions user requirement asks relevant recommended questions tools technologies python natural language processing nltk spacy topic modelling sentiment analysis word embedding scikit learn javascript jquery sqlserver information governance organizations make informed decisions information store integrated information governance portfolio synthesizes intelligence unstructured data sources facilitates organizations best positioned counter information risk scan data multiple sources formats parse different file formats extract meta data information push results indexing elastic search created customized interactive dashboards using kibana preforming analysis data give information data helps identify content either redundant outdated trivial preforming full text search analysis elastic search predefined methods personally identifiable information social security numbers addresses names frequently targeted cyber attacks tools technologies python flask elastic search kibana fraud analytic platform fraud investigative platform review flag cases fraud investigative platform inbuilt case manager suite various systems used clients interrogate systems identifying anomalies indicators fraud running tools technologies html javascript sqlserver jquery bootstrap node\n",
      "\n",
      "Another Sample Resume:\n",
      " education details rgpv data scientist data scientist matelabs skill details python exprience less year months statsmodels exprience months exprience less year months machine learning exprience less year months sklearn exprience less year months scipy exprience less year months keras exprience less year monthscompany details company matelabs description platform business professionals dummies enthusiasts koramangala block tasks behind sukh sagar bengaluru india developed deployed auto preprocessing steps machine learning mainly missing value treatment outlier detection encoding scaling feature selection dimensionality reduction deployed automated classification regression model linkedin aditya rathore reasearch deployed time series forecasting model arima sarimax holt winter prophet worked meta feature extracting problem github rathorology implemented state research paper outlier detection mixed attributes company matelabs description\n",
      "\n",
      "Another Sample Resume:\n",
      " areas interest deep learning control system design programming python electric machinery development technical hindustan aeronautics limited bangalore weeks guidance satish senior engineer hangar mirage fighter aircraft technical programming matlab python java labview python webframework django flask ltspice intermediate languages mipower intermediate github gitbash jupyter notebook xampp mysql basics python software packages interpreters anaconda python python pycharm java eclipse operating systems windows ubuntu debian kali linux education details january tech electrical electronics engineering manipal institute technology january deeksha center january little flower public school august manipal higher data science data science electrical enthusiast skill details data analysis exprience less year months excel exprience less year months machine learning exprience less year months mathematics exprience less year months python exprience less year months matlab exprience less year months electrical engineering exprience less year months exprience less year monthscompany details company themathcompany description currently casino based operator name disclosed macau need segment customers visit property based value patrons bring company basically prove segmentation done much better current system proper numbers back henceforth implement target marketing strategy attract customers value business\n"
     ]
    }
   ],
   "source": [
    "print(\"Sample Resume (Cleaned Text):\\n\", df[\"clean_description\"].iloc[0])\n",
    "print(\"\\nAnother Sample Resume:\\n\", df[\"clean_description\"].iloc[1])\n",
    "print(\"\\nAnother Sample Resume:\\n\", df[\"clean_description\"].iloc[2])\n"
   ]
  },
  {
   "cell_type": "code",
   "execution_count": 97,
   "id": "3d92f037-bfba-4448-818c-f8fc0b1621e8",
   "metadata": {},
   "outputs": [
    {
     "name": "stderr",
     "output_type": "stream",
     "text": [
      "[nltk_data] Downloading package stopwords to\n",
      "[nltk_data]     C:\\Users\\gopko\\AppData\\Roaming\\nltk_data...\n",
      "[nltk_data]   Package stopwords is already up-to-date!\n"
     ]
    },
    {
     "name": "stdout",
     "output_type": "stream",
     "text": [
      "Words in first cleaned resume: ['programming', 'languages', 'python', 'pandas', 'numpy', 'scipy', 'scikit', 'learn', 'matplotlib', 'java', 'javascript', 'jquery', 'machine', 'learning', 'regression', 'bayes', 'random', 'forest', 'decision', 'trees', 'boosting', 'techniques', 'cluster', 'analysis', 'word', 'embedding', 'sentiment', 'analysis', 'natural', 'language']\n"
     ]
    }
   ],
   "source": [
    "import re\n",
    "import nltk\n",
    "from nltk.corpus import stopwords\n",
    "\n",
    "nltk.download(\"stopwords\")\n",
    "custom_stop_words = set(stopwords.words(\"english\")).union(set([\n",
    "    \"application\", \"appropriate\", \"april\", \"assistant\", \"areas\", \"arts\",\n",
    "    \"analyze\", \"analyzing\", \"architect\", \"architecture\", \"apply\",\n",
    "    \"responsibilities\", \"responsible\", \"working\", \"experience\", \"knowledge\"\n",
    "]))\n",
    "\n",
    "def clean_text(text):\n",
    "    if not isinstance(text, str):\n",
    "        return \"Unknown\"  # Handle missing values\n",
    "    \n",
    "    text = text.lower()  # Convert to lowercase\n",
    "    text = re.sub(r\"\\d+\", \"\", text)  # Remove numbers\n",
    "    text = re.sub(r\"[^\\w\\s]\", \" \", text)  # Remove punctuation\n",
    "    text = re.sub(r\"\\b[a-zA-Z]{1,2}\\b\", \"\", text)  # Remove very short words (1-2 letters)\n",
    "    text = re.sub(r\"\\s+\", \" \", text).strip()  # Remove extra spaces\n",
    "    words = [word for word in text.split() if word not in custom_stop_words and len(word) > 3]  # Remove stopwords & short words\n",
    "    return \" \".join(words)\n",
    "\n",
    "# Apply the improved cleaning function\n",
    "df[\"clean_description\"] = df[\"clean_description\"].apply(clean_text)\n",
    "\n",
    "# Check if words are properly removed before TF-IDF\n",
    "print(\"Words in first cleaned resume:\", df[\"clean_description\"].iloc[0].split()[:30])\n"
   ]
  },
  {
   "cell_type": "code",
   "execution_count": 98,
   "id": "adb5226b-57d9-4d64-a7b9-f25d6c0571ce",
   "metadata": {},
   "outputs": [
    {
     "name": "stdout",
     "output_type": "stream",
     "text": [
      "Top 20 Words in TF-IDF Feature List:\n",
      " ['analysis' 'analytical' 'angular' 'apache' 'applications' 'applying'\n",
      " 'area' 'assisting' 'attending' 'attitude' 'audit' 'audits' 'august'\n",
      " 'auto' 'autocad' 'automated' 'automation' 'available' 'bachelor'\n",
      " 'bachelor engineering']\n"
     ]
    }
   ],
   "source": [
    "from sklearn.feature_extraction.text import TfidfVectorizer\n",
    "\n",
    "vectorizer = TfidfVectorizer(\n",
    "    stop_words=\"english\",\n",
    "    max_features=1000,  # Reduce vocabulary size further\n",
    "    min_df=50,  # Ignore words appearing in fewer than 50 resumes\n",
    "    max_df=0.7,  # Ignore words appearing in more than 70% of resumes\n",
    "    ngram_range=(1,2)  # Use bigrams to improve word context\n",
    ")\n",
    "\n",
    "# Apply TF-IDF again\n",
    "X = vectorizer.fit_transform(df[\"clean_description\"])\n",
    "\n",
    "# Print new top words\n",
    "feature_names = vectorizer.get_feature_names_out()\n",
    "print(\"Top 20 Words in TF-IDF Feature List:\\n\", feature_names[:20])\n"
   ]
  },
  {
   "cell_type": "code",
   "execution_count": 99,
   "id": "6dc00c09-45ce-4f19-9fdd-b8f173af285e",
   "metadata": {},
   "outputs": [
    {
     "name": "stdout",
     "output_type": "stream",
     "text": [
      "Top 20 Words in TF-IDF Feature List:\n",
      " ['analysis' 'analytical' 'angular' 'apache' 'applications' 'applying'\n",
      " 'area' 'assisting' 'attending' 'attitude' 'audit' 'audits' 'august'\n",
      " 'auto' 'autocad' 'automated' 'automation' 'available' 'bachelor'\n",
      " 'bachelor engineering']\n"
     ]
    }
   ],
   "source": [
    "print(\"Top 20 Words in TF-IDF Feature List:\\n\", feature_names[:20])\n"
   ]
  },
  {
   "cell_type": "code",
   "execution_count": null,
   "id": "3e182b33-79bb-423f-ad15-ac31956f1b11",
   "metadata": {},
   "outputs": [],
   "source": []
  },
  {
   "cell_type": "code",
   "execution_count": 100,
   "id": "02be4c08-37e0-4897-9061-da973b57b2ea",
   "metadata": {},
   "outputs": [
    {
     "name": "stdout",
     "output_type": "stream",
     "text": [
      "   Unnamed: 0             Job Title  \\\n",
      "0           0     Flutter Developer   \n",
      "1           1      Django Developer   \n",
      "2           2      Machine Learning   \n",
      "3           3         iOS Developer   \n",
      "4           4  Full Stack Developer   \n",
      "\n",
      "                                     Job Description  \n",
      "0  We are looking for hire experts flutter develo...  \n",
      "1  PYTHON/DJANGO (Developer/Lead) - Job Code(PDJ ...  \n",
      "2  Data Scientist (Contractor)\\n\\nBangalore, IN\\n...  \n",
      "3  JOB DESCRIPTION:\\n\\nStrong framework outside o...  \n",
      "4  job responsibility full stack engineer – react...  \n",
      "<class 'pandas.core.frame.DataFrame'>\n",
      "RangeIndex: 2277 entries, 0 to 2276\n",
      "Data columns (total 3 columns):\n",
      " #   Column           Non-Null Count  Dtype \n",
      "---  ------           --------------  ----- \n",
      " 0   Unnamed: 0       2277 non-null   int64 \n",
      " 1   Job Title        2277 non-null   object\n",
      " 2   Job Description  2277 non-null   object\n",
      "dtypes: int64(1), object(2)\n",
      "memory usage: 53.5+ KB\n",
      "None\n",
      "Columns in dataset: Index(['Unnamed: 0', 'Job Title', 'Job Description'], dtype='object')\n"
     ]
    }
   ],
   "source": [
    "import pandas as pd\n",
    "\n",
    "# Load the new dataset\n",
    "file_path = r\"C:\\Users\\gopko\\Documents\\GitHub\\ML-Resume-Classifier\\data\\resumeV3.csv\"\n",
    "df = pd.read_csv(file_path)\n",
    "\n",
    "# Show first few rows\n",
    "print(df.head())\n",
    "\n",
    "# Show dataset structure\n",
    "print(df.info())\n",
    "\n",
    "# Show column names\n",
    "print(\"Columns in dataset:\", df.columns)\n"
   ]
  },
  {
   "cell_type": "code",
   "execution_count": 101,
   "id": "831330ae-a06a-42e0-b298-de5913bf94bf",
   "metadata": {},
   "outputs": [
    {
     "name": "stdout",
     "output_type": "stream",
     "text": [
      "Index(['Unnamed: 0', 'Job Title', 'Job Description'], dtype='object')\n"
     ]
    }
   ],
   "source": [
    "print(df.columns)\n"
   ]
  },
  {
   "cell_type": "code",
   "execution_count": 102,
   "id": "e2f0dfa3-0e48-4877-a9a7-94293f72703c",
   "metadata": {},
   "outputs": [
    {
     "name": "stdout",
     "output_type": "stream",
     "text": [
      "Updated Columns: Index(['Unnamed: 0', 'Job Title', 'Job Description'], dtype='object')\n"
     ]
    }
   ],
   "source": [
    "df.rename(columns={\"actual_resume_column\": \"clean_description\", \"job_category_column\": \"category\"}, inplace=True)\n",
    "print(\"Updated Columns:\", df.columns)\n"
   ]
  },
  {
   "cell_type": "code",
   "execution_count": 103,
   "id": "630654fb-fb09-4f23-99c5-4e87d3403f6c",
   "metadata": {},
   "outputs": [
    {
     "name": "stderr",
     "output_type": "stream",
     "text": [
      "[nltk_data] Downloading package stopwords to\n",
      "[nltk_data]     C:\\Users\\gopko\\AppData\\Roaming\\nltk_data...\n",
      "[nltk_data]   Package stopwords is already up-to-date!\n"
     ]
    },
    {
     "ename": "KeyError",
     "evalue": "'clean_description'",
     "output_type": "error",
     "traceback": [
      "\u001b[1;31m---------------------------------------------------------------------------\u001b[0m",
      "\u001b[1;31mKeyError\u001b[0m                                  Traceback (most recent call last)",
      "File \u001b[1;32m~\\Documents\\GitHub\\ML-Resume-Classifier\\resume-ml-env\\Lib\\site-packages\\pandas\\core\\indexes\\base.py:3805\u001b[0m, in \u001b[0;36mIndex.get_loc\u001b[1;34m(self, key)\u001b[0m\n\u001b[0;32m   3804\u001b[0m \u001b[38;5;28;01mtry\u001b[39;00m:\n\u001b[1;32m-> 3805\u001b[0m     \u001b[38;5;28;01mreturn\u001b[39;00m \u001b[38;5;28;43mself\u001b[39;49m\u001b[38;5;241;43m.\u001b[39;49m\u001b[43m_engine\u001b[49m\u001b[38;5;241;43m.\u001b[39;49m\u001b[43mget_loc\u001b[49m\u001b[43m(\u001b[49m\u001b[43mcasted_key\u001b[49m\u001b[43m)\u001b[49m\n\u001b[0;32m   3806\u001b[0m \u001b[38;5;28;01mexcept\u001b[39;00m \u001b[38;5;167;01mKeyError\u001b[39;00m \u001b[38;5;28;01mas\u001b[39;00m err:\n",
      "File \u001b[1;32mindex.pyx:167\u001b[0m, in \u001b[0;36mpandas._libs.index.IndexEngine.get_loc\u001b[1;34m()\u001b[0m\n",
      "File \u001b[1;32mindex.pyx:196\u001b[0m, in \u001b[0;36mpandas._libs.index.IndexEngine.get_loc\u001b[1;34m()\u001b[0m\n",
      "File \u001b[1;32mpandas\\\\_libs\\\\hashtable_class_helper.pxi:7081\u001b[0m, in \u001b[0;36mpandas._libs.hashtable.PyObjectHashTable.get_item\u001b[1;34m()\u001b[0m\n",
      "File \u001b[1;32mpandas\\\\_libs\\\\hashtable_class_helper.pxi:7089\u001b[0m, in \u001b[0;36mpandas._libs.hashtable.PyObjectHashTable.get_item\u001b[1;34m()\u001b[0m\n",
      "\u001b[1;31mKeyError\u001b[0m: 'clean_description'",
      "\nThe above exception was the direct cause of the following exception:\n",
      "\u001b[1;31mKeyError\u001b[0m                                  Traceback (most recent call last)",
      "Cell \u001b[1;32mIn[103], line 24\u001b[0m\n\u001b[0;32m     21\u001b[0m     \u001b[38;5;28;01mreturn\u001b[39;00m \u001b[38;5;124m\"\u001b[39m\u001b[38;5;124m \u001b[39m\u001b[38;5;124m\"\u001b[39m\u001b[38;5;241m.\u001b[39mjoin(words)\n\u001b[0;32m     23\u001b[0m \u001b[38;5;66;03m# Apply the improved cleaning function\u001b[39;00m\n\u001b[1;32m---> 24\u001b[0m df[\u001b[38;5;124m\"\u001b[39m\u001b[38;5;124mclean_description\u001b[39m\u001b[38;5;124m\"\u001b[39m] \u001b[38;5;241m=\u001b[39m \u001b[43mdf\u001b[49m\u001b[43m[\u001b[49m\u001b[38;5;124;43m\"\u001b[39;49m\u001b[38;5;124;43mclean_description\u001b[39;49m\u001b[38;5;124;43m\"\u001b[39;49m\u001b[43m]\u001b[49m\u001b[38;5;241m.\u001b[39mapply(clean_text)\n\u001b[0;32m     26\u001b[0m \u001b[38;5;66;03m# Show cleaned text\u001b[39;00m\n\u001b[0;32m     27\u001b[0m \u001b[38;5;28mprint\u001b[39m(\u001b[38;5;124m\"\u001b[39m\u001b[38;5;124mWords in first cleaned resume:\u001b[39m\u001b[38;5;124m\"\u001b[39m, df[\u001b[38;5;124m\"\u001b[39m\u001b[38;5;124mclean_description\u001b[39m\u001b[38;5;124m\"\u001b[39m]\u001b[38;5;241m.\u001b[39miloc[\u001b[38;5;241m0\u001b[39m]\u001b[38;5;241m.\u001b[39msplit()[:\u001b[38;5;241m30\u001b[39m])\n",
      "File \u001b[1;32m~\\Documents\\GitHub\\ML-Resume-Classifier\\resume-ml-env\\Lib\\site-packages\\pandas\\core\\frame.py:4102\u001b[0m, in \u001b[0;36mDataFrame.__getitem__\u001b[1;34m(self, key)\u001b[0m\n\u001b[0;32m   4100\u001b[0m \u001b[38;5;28;01mif\u001b[39;00m \u001b[38;5;28mself\u001b[39m\u001b[38;5;241m.\u001b[39mcolumns\u001b[38;5;241m.\u001b[39mnlevels \u001b[38;5;241m>\u001b[39m \u001b[38;5;241m1\u001b[39m:\n\u001b[0;32m   4101\u001b[0m     \u001b[38;5;28;01mreturn\u001b[39;00m \u001b[38;5;28mself\u001b[39m\u001b[38;5;241m.\u001b[39m_getitem_multilevel(key)\n\u001b[1;32m-> 4102\u001b[0m indexer \u001b[38;5;241m=\u001b[39m \u001b[38;5;28;43mself\u001b[39;49m\u001b[38;5;241;43m.\u001b[39;49m\u001b[43mcolumns\u001b[49m\u001b[38;5;241;43m.\u001b[39;49m\u001b[43mget_loc\u001b[49m\u001b[43m(\u001b[49m\u001b[43mkey\u001b[49m\u001b[43m)\u001b[49m\n\u001b[0;32m   4103\u001b[0m \u001b[38;5;28;01mif\u001b[39;00m is_integer(indexer):\n\u001b[0;32m   4104\u001b[0m     indexer \u001b[38;5;241m=\u001b[39m [indexer]\n",
      "File \u001b[1;32m~\\Documents\\GitHub\\ML-Resume-Classifier\\resume-ml-env\\Lib\\site-packages\\pandas\\core\\indexes\\base.py:3812\u001b[0m, in \u001b[0;36mIndex.get_loc\u001b[1;34m(self, key)\u001b[0m\n\u001b[0;32m   3807\u001b[0m     \u001b[38;5;28;01mif\u001b[39;00m \u001b[38;5;28misinstance\u001b[39m(casted_key, \u001b[38;5;28mslice\u001b[39m) \u001b[38;5;129;01mor\u001b[39;00m (\n\u001b[0;32m   3808\u001b[0m         \u001b[38;5;28misinstance\u001b[39m(casted_key, abc\u001b[38;5;241m.\u001b[39mIterable)\n\u001b[0;32m   3809\u001b[0m         \u001b[38;5;129;01mand\u001b[39;00m \u001b[38;5;28many\u001b[39m(\u001b[38;5;28misinstance\u001b[39m(x, \u001b[38;5;28mslice\u001b[39m) \u001b[38;5;28;01mfor\u001b[39;00m x \u001b[38;5;129;01min\u001b[39;00m casted_key)\n\u001b[0;32m   3810\u001b[0m     ):\n\u001b[0;32m   3811\u001b[0m         \u001b[38;5;28;01mraise\u001b[39;00m InvalidIndexError(key)\n\u001b[1;32m-> 3812\u001b[0m     \u001b[38;5;28;01mraise\u001b[39;00m \u001b[38;5;167;01mKeyError\u001b[39;00m(key) \u001b[38;5;28;01mfrom\u001b[39;00m\u001b[38;5;250m \u001b[39m\u001b[38;5;21;01merr\u001b[39;00m\n\u001b[0;32m   3813\u001b[0m \u001b[38;5;28;01mexcept\u001b[39;00m \u001b[38;5;167;01mTypeError\u001b[39;00m:\n\u001b[0;32m   3814\u001b[0m     \u001b[38;5;66;03m# If we have a listlike key, _check_indexing_error will raise\u001b[39;00m\n\u001b[0;32m   3815\u001b[0m     \u001b[38;5;66;03m#  InvalidIndexError. Otherwise we fall through and re-raise\u001b[39;00m\n\u001b[0;32m   3816\u001b[0m     \u001b[38;5;66;03m#  the TypeError.\u001b[39;00m\n\u001b[0;32m   3817\u001b[0m     \u001b[38;5;28mself\u001b[39m\u001b[38;5;241m.\u001b[39m_check_indexing_error(key)\n",
      "\u001b[1;31mKeyError\u001b[0m: 'clean_description'"
     ]
    }
   ],
   "source": [
    "import re\n",
    "import nltk\n",
    "from nltk.corpus import stopwords\n",
    "\n",
    "nltk.download(\"stopwords\")\n",
    "custom_stop_words = set(stopwords.words(\"english\")).union(set([\n",
    "    \"experience\", \"skills\", \"knowledge\", \"worked\", \"expertise\", \"responsible\",\n",
    "    \"ability\", \"working\", \"proficient\", \"development\", \"team\", \"projects\"\n",
    "]))\n",
    "\n",
    "def clean_text(text):\n",
    "    if not isinstance(text, str):\n",
    "        return \"Unknown\"  # Handle missing values\n",
    "    \n",
    "    text = text.lower()  # Convert to lowercase\n",
    "    text = re.sub(r\"\\d+\", \"\", text)  # Remove numbers\n",
    "    text = re.sub(r\"[^\\w\\s]\", \" \", text)  # Remove punctuation\n",
    "    text = re.sub(r\"\\b[a-zA-Z]{1,2}\\b\", \"\", text)  # Remove very short words (1-2 letters)\n",
    "    text = re.sub(r\"\\s+\", \" \", text).strip()  # Remove extra spaces\n",
    "    words = [word for word in text.split() if word not in custom_stop_words and len(word) > 3]  # Remove stopwords & short words\n",
    "    return \" \".join(words)\n",
    "\n",
    "# Apply the improved cleaning function\n",
    "df[\"clean_description\"] = df[\"clean_description\"].apply(clean_text)\n",
    "\n",
    "# Show cleaned text\n",
    "print(\"Words in first cleaned resume:\", df[\"clean_description\"].iloc[0].split()[:30])\n"
   ]
  },
  {
   "cell_type": "code",
   "execution_count": 104,
   "id": "2dbe5bf1-6a25-4cb5-a8ff-7e8c1d6cd14d",
   "metadata": {},
   "outputs": [
    {
     "name": "stdout",
     "output_type": "stream",
     "text": [
      "Dataset Columns: Index(['Unnamed: 0', 'Job Title', 'Job Description'], dtype='object')\n"
     ]
    }
   ],
   "source": [
    "print(\"Dataset Columns:\", df.columns)\n"
   ]
  },
  {
   "cell_type": "code",
   "execution_count": 105,
   "id": "465cfa12-6281-4a09-86ef-46d3026b35da",
   "metadata": {},
   "outputs": [
    {
     "name": "stdout",
     "output_type": "stream",
     "text": [
      "Updated Columns: Index(['Unnamed: 0', 'Job Title', 'Job Description'], dtype='object')\n"
     ]
    }
   ],
   "source": [
    "df.rename(columns={\"actual_resume_column\": \"clean_description\"}, inplace=True)\n",
    "print(\"Updated Columns:\", df.columns)\n"
   ]
  },
  {
   "cell_type": "code",
   "execution_count": 106,
   "id": "19b3cb01-d1d4-4c38-bce7-27d1d7a81197",
   "metadata": {},
   "outputs": [
    {
     "name": "stdout",
     "output_type": "stream",
     "text": [
      "   Unnamed: 0             Job Title  \\\n",
      "0           0     Flutter Developer   \n",
      "1           1      Django Developer   \n",
      "2           2      Machine Learning   \n",
      "3           3         iOS Developer   \n",
      "4           4  Full Stack Developer   \n",
      "\n",
      "                                     Job Description  \n",
      "0  We are looking for hire experts flutter develo...  \n",
      "1  PYTHON/DJANGO (Developer/Lead) - Job Code(PDJ ...  \n",
      "2  Data Scientist (Contractor)\\n\\nBangalore, IN\\n...  \n",
      "3  JOB DESCRIPTION:\\n\\nStrong framework outside o...  \n",
      "4  job responsibility full stack engineer – react...  \n",
      "<class 'pandas.core.frame.DataFrame'>\n",
      "RangeIndex: 2277 entries, 0 to 2276\n",
      "Data columns (total 3 columns):\n",
      " #   Column           Non-Null Count  Dtype \n",
      "---  ------           --------------  ----- \n",
      " 0   Unnamed: 0       2277 non-null   int64 \n",
      " 1   Job Title        2277 non-null   object\n",
      " 2   Job Description  2277 non-null   object\n",
      "dtypes: int64(1), object(2)\n",
      "memory usage: 53.5+ KB\n",
      "None\n"
     ]
    }
   ],
   "source": [
    "print(df.head())  # Show first few rows\n",
    "print(df.info())  # Show data types and missing values\n"
   ]
  },
  {
   "cell_type": "code",
   "execution_count": 107,
   "id": "05566a82-fce4-4c81-8c66-c04e158ad7b2",
   "metadata": {},
   "outputs": [
    {
     "ename": "KeyError",
     "evalue": "'clean_description'",
     "output_type": "error",
     "traceback": [
      "\u001b[1;31m---------------------------------------------------------------------------\u001b[0m",
      "\u001b[1;31mKeyError\u001b[0m                                  Traceback (most recent call last)",
      "File \u001b[1;32m~\\Documents\\GitHub\\ML-Resume-Classifier\\resume-ml-env\\Lib\\site-packages\\pandas\\core\\indexes\\base.py:3805\u001b[0m, in \u001b[0;36mIndex.get_loc\u001b[1;34m(self, key)\u001b[0m\n\u001b[0;32m   3804\u001b[0m \u001b[38;5;28;01mtry\u001b[39;00m:\n\u001b[1;32m-> 3805\u001b[0m     \u001b[38;5;28;01mreturn\u001b[39;00m \u001b[38;5;28;43mself\u001b[39;49m\u001b[38;5;241;43m.\u001b[39;49m\u001b[43m_engine\u001b[49m\u001b[38;5;241;43m.\u001b[39;49m\u001b[43mget_loc\u001b[49m\u001b[43m(\u001b[49m\u001b[43mcasted_key\u001b[49m\u001b[43m)\u001b[49m\n\u001b[0;32m   3806\u001b[0m \u001b[38;5;28;01mexcept\u001b[39;00m \u001b[38;5;167;01mKeyError\u001b[39;00m \u001b[38;5;28;01mas\u001b[39;00m err:\n",
      "File \u001b[1;32mindex.pyx:167\u001b[0m, in \u001b[0;36mpandas._libs.index.IndexEngine.get_loc\u001b[1;34m()\u001b[0m\n",
      "File \u001b[1;32mindex.pyx:196\u001b[0m, in \u001b[0;36mpandas._libs.index.IndexEngine.get_loc\u001b[1;34m()\u001b[0m\n",
      "File \u001b[1;32mpandas\\\\_libs\\\\hashtable_class_helper.pxi:7081\u001b[0m, in \u001b[0;36mpandas._libs.hashtable.PyObjectHashTable.get_item\u001b[1;34m()\u001b[0m\n",
      "File \u001b[1;32mpandas\\\\_libs\\\\hashtable_class_helper.pxi:7089\u001b[0m, in \u001b[0;36mpandas._libs.hashtable.PyObjectHashTable.get_item\u001b[1;34m()\u001b[0m\n",
      "\u001b[1;31mKeyError\u001b[0m: 'clean_description'",
      "\nThe above exception was the direct cause of the following exception:\n",
      "\u001b[1;31mKeyError\u001b[0m                                  Traceback (most recent call last)",
      "Cell \u001b[1;32mIn[107], line 1\u001b[0m\n\u001b[1;32m----> 1\u001b[0m df[\u001b[38;5;124m\"\u001b[39m\u001b[38;5;124mclean_description\u001b[39m\u001b[38;5;124m\"\u001b[39m] \u001b[38;5;241m=\u001b[39m \u001b[43mdf\u001b[49m\u001b[43m[\u001b[49m\u001b[38;5;124;43m\"\u001b[39;49m\u001b[38;5;124;43mclean_description\u001b[39;49m\u001b[38;5;124;43m\"\u001b[39;49m\u001b[43m]\u001b[49m\u001b[38;5;241m.\u001b[39mastype(\u001b[38;5;28mstr\u001b[39m)\u001b[38;5;241m.\u001b[39mapply(clean_text)\n",
      "File \u001b[1;32m~\\Documents\\GitHub\\ML-Resume-Classifier\\resume-ml-env\\Lib\\site-packages\\pandas\\core\\frame.py:4102\u001b[0m, in \u001b[0;36mDataFrame.__getitem__\u001b[1;34m(self, key)\u001b[0m\n\u001b[0;32m   4100\u001b[0m \u001b[38;5;28;01mif\u001b[39;00m \u001b[38;5;28mself\u001b[39m\u001b[38;5;241m.\u001b[39mcolumns\u001b[38;5;241m.\u001b[39mnlevels \u001b[38;5;241m>\u001b[39m \u001b[38;5;241m1\u001b[39m:\n\u001b[0;32m   4101\u001b[0m     \u001b[38;5;28;01mreturn\u001b[39;00m \u001b[38;5;28mself\u001b[39m\u001b[38;5;241m.\u001b[39m_getitem_multilevel(key)\n\u001b[1;32m-> 4102\u001b[0m indexer \u001b[38;5;241m=\u001b[39m \u001b[38;5;28;43mself\u001b[39;49m\u001b[38;5;241;43m.\u001b[39;49m\u001b[43mcolumns\u001b[49m\u001b[38;5;241;43m.\u001b[39;49m\u001b[43mget_loc\u001b[49m\u001b[43m(\u001b[49m\u001b[43mkey\u001b[49m\u001b[43m)\u001b[49m\n\u001b[0;32m   4103\u001b[0m \u001b[38;5;28;01mif\u001b[39;00m is_integer(indexer):\n\u001b[0;32m   4104\u001b[0m     indexer \u001b[38;5;241m=\u001b[39m [indexer]\n",
      "File \u001b[1;32m~\\Documents\\GitHub\\ML-Resume-Classifier\\resume-ml-env\\Lib\\site-packages\\pandas\\core\\indexes\\base.py:3812\u001b[0m, in \u001b[0;36mIndex.get_loc\u001b[1;34m(self, key)\u001b[0m\n\u001b[0;32m   3807\u001b[0m     \u001b[38;5;28;01mif\u001b[39;00m \u001b[38;5;28misinstance\u001b[39m(casted_key, \u001b[38;5;28mslice\u001b[39m) \u001b[38;5;129;01mor\u001b[39;00m (\n\u001b[0;32m   3808\u001b[0m         \u001b[38;5;28misinstance\u001b[39m(casted_key, abc\u001b[38;5;241m.\u001b[39mIterable)\n\u001b[0;32m   3809\u001b[0m         \u001b[38;5;129;01mand\u001b[39;00m \u001b[38;5;28many\u001b[39m(\u001b[38;5;28misinstance\u001b[39m(x, \u001b[38;5;28mslice\u001b[39m) \u001b[38;5;28;01mfor\u001b[39;00m x \u001b[38;5;129;01min\u001b[39;00m casted_key)\n\u001b[0;32m   3810\u001b[0m     ):\n\u001b[0;32m   3811\u001b[0m         \u001b[38;5;28;01mraise\u001b[39;00m InvalidIndexError(key)\n\u001b[1;32m-> 3812\u001b[0m     \u001b[38;5;28;01mraise\u001b[39;00m \u001b[38;5;167;01mKeyError\u001b[39;00m(key) \u001b[38;5;28;01mfrom\u001b[39;00m\u001b[38;5;250m \u001b[39m\u001b[38;5;21;01merr\u001b[39;00m\n\u001b[0;32m   3813\u001b[0m \u001b[38;5;28;01mexcept\u001b[39;00m \u001b[38;5;167;01mTypeError\u001b[39;00m:\n\u001b[0;32m   3814\u001b[0m     \u001b[38;5;66;03m# If we have a listlike key, _check_indexing_error will raise\u001b[39;00m\n\u001b[0;32m   3815\u001b[0m     \u001b[38;5;66;03m#  InvalidIndexError. Otherwise we fall through and re-raise\u001b[39;00m\n\u001b[0;32m   3816\u001b[0m     \u001b[38;5;66;03m#  the TypeError.\u001b[39;00m\n\u001b[0;32m   3817\u001b[0m     \u001b[38;5;28mself\u001b[39m\u001b[38;5;241m.\u001b[39m_check_indexing_error(key)\n",
      "\u001b[1;31mKeyError\u001b[0m: 'clean_description'"
     ]
    }
   ],
   "source": [
    "df[\"clean_description\"] = df[\"clean_description\"].astype(str).apply(clean_text)\n"
   ]
  },
  {
   "cell_type": "code",
   "execution_count": 108,
   "id": "f1bad94a-fb3a-41b3-bd9a-bbae9ad03746",
   "metadata": {},
   "outputs": [
    {
     "name": "stdout",
     "output_type": "stream",
     "text": [
      "Dataset Columns: ['Unnamed: 0', 'Job Title', 'Job Description']\n"
     ]
    }
   ],
   "source": [
    "print(\"Dataset Columns:\", df.columns.tolist())\n"
   ]
  },
  {
   "cell_type": "code",
   "execution_count": 109,
   "id": "4b962493-d412-4f1c-949b-b8a7a6bd033a",
   "metadata": {},
   "outputs": [
    {
     "name": "stdout",
     "output_type": "stream",
     "text": [
      "Updated Columns: ['Unnamed: 0', 'Job Title', 'Job Description']\n"
     ]
    }
   ],
   "source": [
    "df.rename(columns={\"actual_resume_column\": \"clean_description\"}, inplace=True)\n",
    "print(\"Updated Columns:\", df.columns.tolist())\n"
   ]
  },
  {
   "cell_type": "code",
   "execution_count": 110,
   "id": "a0eb94da-b8e3-46d6-9061-6861cb6605bd",
   "metadata": {},
   "outputs": [
    {
     "name": "stdout",
     "output_type": "stream",
     "text": [
      "   Unnamed: 0             Job Title  \\\n",
      "0           0     Flutter Developer   \n",
      "1           1      Django Developer   \n",
      "2           2      Machine Learning   \n",
      "3           3         iOS Developer   \n",
      "4           4  Full Stack Developer   \n",
      "\n",
      "                                     Job Description  \n",
      "0  We are looking for hire experts flutter develo...  \n",
      "1  PYTHON/DJANGO (Developer/Lead) - Job Code(PDJ ...  \n",
      "2  Data Scientist (Contractor)\\n\\nBangalore, IN\\n...  \n",
      "3  JOB DESCRIPTION:\\n\\nStrong framework outside o...  \n",
      "4  job responsibility full stack engineer – react...  \n",
      "<class 'pandas.core.frame.DataFrame'>\n",
      "RangeIndex: 2277 entries, 0 to 2276\n",
      "Data columns (total 3 columns):\n",
      " #   Column           Non-Null Count  Dtype \n",
      "---  ------           --------------  ----- \n",
      " 0   Unnamed: 0       2277 non-null   int64 \n",
      " 1   Job Title        2277 non-null   object\n",
      " 2   Job Description  2277 non-null   object\n",
      "dtypes: int64(1), object(2)\n",
      "memory usage: 53.5+ KB\n",
      "None\n"
     ]
    }
   ],
   "source": [
    "print(df.head())  # Show first few rows\n",
    "print(df.info())  # Show data types and missing values\n"
   ]
  },
  {
   "cell_type": "code",
   "execution_count": 111,
   "id": "d9d31608-4f16-484e-9f83-4ac399b04c02",
   "metadata": {},
   "outputs": [
    {
     "ename": "KeyError",
     "evalue": "'clean_description'",
     "output_type": "error",
     "traceback": [
      "\u001b[1;31m---------------------------------------------------------------------------\u001b[0m",
      "\u001b[1;31mKeyError\u001b[0m                                  Traceback (most recent call last)",
      "File \u001b[1;32m~\\Documents\\GitHub\\ML-Resume-Classifier\\resume-ml-env\\Lib\\site-packages\\pandas\\core\\indexes\\base.py:3805\u001b[0m, in \u001b[0;36mIndex.get_loc\u001b[1;34m(self, key)\u001b[0m\n\u001b[0;32m   3804\u001b[0m \u001b[38;5;28;01mtry\u001b[39;00m:\n\u001b[1;32m-> 3805\u001b[0m     \u001b[38;5;28;01mreturn\u001b[39;00m \u001b[38;5;28;43mself\u001b[39;49m\u001b[38;5;241;43m.\u001b[39;49m\u001b[43m_engine\u001b[49m\u001b[38;5;241;43m.\u001b[39;49m\u001b[43mget_loc\u001b[49m\u001b[43m(\u001b[49m\u001b[43mcasted_key\u001b[49m\u001b[43m)\u001b[49m\n\u001b[0;32m   3806\u001b[0m \u001b[38;5;28;01mexcept\u001b[39;00m \u001b[38;5;167;01mKeyError\u001b[39;00m \u001b[38;5;28;01mas\u001b[39;00m err:\n",
      "File \u001b[1;32mindex.pyx:167\u001b[0m, in \u001b[0;36mpandas._libs.index.IndexEngine.get_loc\u001b[1;34m()\u001b[0m\n",
      "File \u001b[1;32mindex.pyx:196\u001b[0m, in \u001b[0;36mpandas._libs.index.IndexEngine.get_loc\u001b[1;34m()\u001b[0m\n",
      "File \u001b[1;32mpandas\\\\_libs\\\\hashtable_class_helper.pxi:7081\u001b[0m, in \u001b[0;36mpandas._libs.hashtable.PyObjectHashTable.get_item\u001b[1;34m()\u001b[0m\n",
      "File \u001b[1;32mpandas\\\\_libs\\\\hashtable_class_helper.pxi:7089\u001b[0m, in \u001b[0;36mpandas._libs.hashtable.PyObjectHashTable.get_item\u001b[1;34m()\u001b[0m\n",
      "\u001b[1;31mKeyError\u001b[0m: 'clean_description'",
      "\nThe above exception was the direct cause of the following exception:\n",
      "\u001b[1;31mKeyError\u001b[0m                                  Traceback (most recent call last)",
      "Cell \u001b[1;32mIn[111], line 1\u001b[0m\n\u001b[1;32m----> 1\u001b[0m df[\u001b[38;5;124m\"\u001b[39m\u001b[38;5;124mclean_description\u001b[39m\u001b[38;5;124m\"\u001b[39m] \u001b[38;5;241m=\u001b[39m \u001b[43mdf\u001b[49m\u001b[43m[\u001b[49m\u001b[38;5;124;43m\"\u001b[39;49m\u001b[38;5;124;43mclean_description\u001b[39;49m\u001b[38;5;124;43m\"\u001b[39;49m\u001b[43m]\u001b[49m\u001b[38;5;241m.\u001b[39mastype(\u001b[38;5;28mstr\u001b[39m)\u001b[38;5;241m.\u001b[39mapply(clean_text)\n",
      "File \u001b[1;32m~\\Documents\\GitHub\\ML-Resume-Classifier\\resume-ml-env\\Lib\\site-packages\\pandas\\core\\frame.py:4102\u001b[0m, in \u001b[0;36mDataFrame.__getitem__\u001b[1;34m(self, key)\u001b[0m\n\u001b[0;32m   4100\u001b[0m \u001b[38;5;28;01mif\u001b[39;00m \u001b[38;5;28mself\u001b[39m\u001b[38;5;241m.\u001b[39mcolumns\u001b[38;5;241m.\u001b[39mnlevels \u001b[38;5;241m>\u001b[39m \u001b[38;5;241m1\u001b[39m:\n\u001b[0;32m   4101\u001b[0m     \u001b[38;5;28;01mreturn\u001b[39;00m \u001b[38;5;28mself\u001b[39m\u001b[38;5;241m.\u001b[39m_getitem_multilevel(key)\n\u001b[1;32m-> 4102\u001b[0m indexer \u001b[38;5;241m=\u001b[39m \u001b[38;5;28;43mself\u001b[39;49m\u001b[38;5;241;43m.\u001b[39;49m\u001b[43mcolumns\u001b[49m\u001b[38;5;241;43m.\u001b[39;49m\u001b[43mget_loc\u001b[49m\u001b[43m(\u001b[49m\u001b[43mkey\u001b[49m\u001b[43m)\u001b[49m\n\u001b[0;32m   4103\u001b[0m \u001b[38;5;28;01mif\u001b[39;00m is_integer(indexer):\n\u001b[0;32m   4104\u001b[0m     indexer \u001b[38;5;241m=\u001b[39m [indexer]\n",
      "File \u001b[1;32m~\\Documents\\GitHub\\ML-Resume-Classifier\\resume-ml-env\\Lib\\site-packages\\pandas\\core\\indexes\\base.py:3812\u001b[0m, in \u001b[0;36mIndex.get_loc\u001b[1;34m(self, key)\u001b[0m\n\u001b[0;32m   3807\u001b[0m     \u001b[38;5;28;01mif\u001b[39;00m \u001b[38;5;28misinstance\u001b[39m(casted_key, \u001b[38;5;28mslice\u001b[39m) \u001b[38;5;129;01mor\u001b[39;00m (\n\u001b[0;32m   3808\u001b[0m         \u001b[38;5;28misinstance\u001b[39m(casted_key, abc\u001b[38;5;241m.\u001b[39mIterable)\n\u001b[0;32m   3809\u001b[0m         \u001b[38;5;129;01mand\u001b[39;00m \u001b[38;5;28many\u001b[39m(\u001b[38;5;28misinstance\u001b[39m(x, \u001b[38;5;28mslice\u001b[39m) \u001b[38;5;28;01mfor\u001b[39;00m x \u001b[38;5;129;01min\u001b[39;00m casted_key)\n\u001b[0;32m   3810\u001b[0m     ):\n\u001b[0;32m   3811\u001b[0m         \u001b[38;5;28;01mraise\u001b[39;00m InvalidIndexError(key)\n\u001b[1;32m-> 3812\u001b[0m     \u001b[38;5;28;01mraise\u001b[39;00m \u001b[38;5;167;01mKeyError\u001b[39;00m(key) \u001b[38;5;28;01mfrom\u001b[39;00m\u001b[38;5;250m \u001b[39m\u001b[38;5;21;01merr\u001b[39;00m\n\u001b[0;32m   3813\u001b[0m \u001b[38;5;28;01mexcept\u001b[39;00m \u001b[38;5;167;01mTypeError\u001b[39;00m:\n\u001b[0;32m   3814\u001b[0m     \u001b[38;5;66;03m# If we have a listlike key, _check_indexing_error will raise\u001b[39;00m\n\u001b[0;32m   3815\u001b[0m     \u001b[38;5;66;03m#  InvalidIndexError. Otherwise we fall through and re-raise\u001b[39;00m\n\u001b[0;32m   3816\u001b[0m     \u001b[38;5;66;03m#  the TypeError.\u001b[39;00m\n\u001b[0;32m   3817\u001b[0m     \u001b[38;5;28mself\u001b[39m\u001b[38;5;241m.\u001b[39m_check_indexing_error(key)\n",
      "\u001b[1;31mKeyError\u001b[0m: 'clean_description'"
     ]
    }
   ],
   "source": [
    "df[\"clean_description\"] = df[\"clean_description\"].astype(str).apply(clean_text)\n"
   ]
  },
  {
   "cell_type": "code",
   "execution_count": 112,
   "id": "0f5af101-658c-4f96-bece-16143d2a3406",
   "metadata": {},
   "outputs": [
    {
     "name": "stdout",
     "output_type": "stream",
     "text": [
      "Dataset Columns: ['Unnamed: 0', 'Job Title', 'Job Description']\n"
     ]
    }
   ],
   "source": [
    "print(\"Dataset Columns:\", df.columns.tolist())\n"
   ]
  },
  {
   "cell_type": "code",
   "execution_count": 113,
   "id": "08eb1296-0e84-4256-8b9a-1688f71aa79d",
   "metadata": {},
   "outputs": [
    {
     "name": "stdout",
     "output_type": "stream",
     "text": [
      "Updated Columns: ['Unnamed: 0', 'Job Title', 'Job Description']\n"
     ]
    }
   ],
   "source": [
    "df.rename(columns={\"Resume\": \"clean_description\"}, inplace=True)\n",
    "print(\"Updated Columns:\", df.columns.tolist())\n"
   ]
  },
  {
   "cell_type": "code",
   "execution_count": 114,
   "id": "8ae1059c-4f3b-4fbf-9405-6feebe9c32b0",
   "metadata": {},
   "outputs": [
    {
     "name": "stdout",
     "output_type": "stream",
     "text": [
      "   Unnamed: 0             Job Title  \\\n",
      "0           0     Flutter Developer   \n",
      "1           1      Django Developer   \n",
      "2           2      Machine Learning   \n",
      "3           3         iOS Developer   \n",
      "4           4  Full Stack Developer   \n",
      "\n",
      "                                     Job Description  \n",
      "0  We are looking for hire experts flutter develo...  \n",
      "1  PYTHON/DJANGO (Developer/Lead) - Job Code(PDJ ...  \n",
      "2  Data Scientist (Contractor)\\n\\nBangalore, IN\\n...  \n",
      "3  JOB DESCRIPTION:\\n\\nStrong framework outside o...  \n",
      "4  job responsibility full stack engineer – react...  \n",
      "<class 'pandas.core.frame.DataFrame'>\n",
      "RangeIndex: 2277 entries, 0 to 2276\n",
      "Data columns (total 3 columns):\n",
      " #   Column           Non-Null Count  Dtype \n",
      "---  ------           --------------  ----- \n",
      " 0   Unnamed: 0       2277 non-null   int64 \n",
      " 1   Job Title        2277 non-null   object\n",
      " 2   Job Description  2277 non-null   object\n",
      "dtypes: int64(1), object(2)\n",
      "memory usage: 53.5+ KB\n",
      "None\n"
     ]
    }
   ],
   "source": [
    "print(df.head())  # Show first few rows\n",
    "print(df.info())  # Show data types and missing values\n"
   ]
  },
  {
   "cell_type": "code",
   "execution_count": 115,
   "id": "cd798012-040c-4473-8261-55986b987071",
   "metadata": {},
   "outputs": [
    {
     "ename": "KeyError",
     "evalue": "'clean_description'",
     "output_type": "error",
     "traceback": [
      "\u001b[1;31m---------------------------------------------------------------------------\u001b[0m",
      "\u001b[1;31mKeyError\u001b[0m                                  Traceback (most recent call last)",
      "File \u001b[1;32m~\\Documents\\GitHub\\ML-Resume-Classifier\\resume-ml-env\\Lib\\site-packages\\pandas\\core\\indexes\\base.py:3805\u001b[0m, in \u001b[0;36mIndex.get_loc\u001b[1;34m(self, key)\u001b[0m\n\u001b[0;32m   3804\u001b[0m \u001b[38;5;28;01mtry\u001b[39;00m:\n\u001b[1;32m-> 3805\u001b[0m     \u001b[38;5;28;01mreturn\u001b[39;00m \u001b[38;5;28;43mself\u001b[39;49m\u001b[38;5;241;43m.\u001b[39;49m\u001b[43m_engine\u001b[49m\u001b[38;5;241;43m.\u001b[39;49m\u001b[43mget_loc\u001b[49m\u001b[43m(\u001b[49m\u001b[43mcasted_key\u001b[49m\u001b[43m)\u001b[49m\n\u001b[0;32m   3806\u001b[0m \u001b[38;5;28;01mexcept\u001b[39;00m \u001b[38;5;167;01mKeyError\u001b[39;00m \u001b[38;5;28;01mas\u001b[39;00m err:\n",
      "File \u001b[1;32mindex.pyx:167\u001b[0m, in \u001b[0;36mpandas._libs.index.IndexEngine.get_loc\u001b[1;34m()\u001b[0m\n",
      "File \u001b[1;32mindex.pyx:196\u001b[0m, in \u001b[0;36mpandas._libs.index.IndexEngine.get_loc\u001b[1;34m()\u001b[0m\n",
      "File \u001b[1;32mpandas\\\\_libs\\\\hashtable_class_helper.pxi:7081\u001b[0m, in \u001b[0;36mpandas._libs.hashtable.PyObjectHashTable.get_item\u001b[1;34m()\u001b[0m\n",
      "File \u001b[1;32mpandas\\\\_libs\\\\hashtable_class_helper.pxi:7089\u001b[0m, in \u001b[0;36mpandas._libs.hashtable.PyObjectHashTable.get_item\u001b[1;34m()\u001b[0m\n",
      "\u001b[1;31mKeyError\u001b[0m: 'clean_description'",
      "\nThe above exception was the direct cause of the following exception:\n",
      "\u001b[1;31mKeyError\u001b[0m                                  Traceback (most recent call last)",
      "Cell \u001b[1;32mIn[115], line 1\u001b[0m\n\u001b[1;32m----> 1\u001b[0m df[\u001b[38;5;124m\"\u001b[39m\u001b[38;5;124mclean_description\u001b[39m\u001b[38;5;124m\"\u001b[39m] \u001b[38;5;241m=\u001b[39m \u001b[43mdf\u001b[49m\u001b[43m[\u001b[49m\u001b[38;5;124;43m\"\u001b[39;49m\u001b[38;5;124;43mclean_description\u001b[39;49m\u001b[38;5;124;43m\"\u001b[39;49m\u001b[43m]\u001b[49m\u001b[38;5;241m.\u001b[39mastype(\u001b[38;5;28mstr\u001b[39m)\u001b[38;5;241m.\u001b[39mapply(clean_text)\n",
      "File \u001b[1;32m~\\Documents\\GitHub\\ML-Resume-Classifier\\resume-ml-env\\Lib\\site-packages\\pandas\\core\\frame.py:4102\u001b[0m, in \u001b[0;36mDataFrame.__getitem__\u001b[1;34m(self, key)\u001b[0m\n\u001b[0;32m   4100\u001b[0m \u001b[38;5;28;01mif\u001b[39;00m \u001b[38;5;28mself\u001b[39m\u001b[38;5;241m.\u001b[39mcolumns\u001b[38;5;241m.\u001b[39mnlevels \u001b[38;5;241m>\u001b[39m \u001b[38;5;241m1\u001b[39m:\n\u001b[0;32m   4101\u001b[0m     \u001b[38;5;28;01mreturn\u001b[39;00m \u001b[38;5;28mself\u001b[39m\u001b[38;5;241m.\u001b[39m_getitem_multilevel(key)\n\u001b[1;32m-> 4102\u001b[0m indexer \u001b[38;5;241m=\u001b[39m \u001b[38;5;28;43mself\u001b[39;49m\u001b[38;5;241;43m.\u001b[39;49m\u001b[43mcolumns\u001b[49m\u001b[38;5;241;43m.\u001b[39;49m\u001b[43mget_loc\u001b[49m\u001b[43m(\u001b[49m\u001b[43mkey\u001b[49m\u001b[43m)\u001b[49m\n\u001b[0;32m   4103\u001b[0m \u001b[38;5;28;01mif\u001b[39;00m is_integer(indexer):\n\u001b[0;32m   4104\u001b[0m     indexer \u001b[38;5;241m=\u001b[39m [indexer]\n",
      "File \u001b[1;32m~\\Documents\\GitHub\\ML-Resume-Classifier\\resume-ml-env\\Lib\\site-packages\\pandas\\core\\indexes\\base.py:3812\u001b[0m, in \u001b[0;36mIndex.get_loc\u001b[1;34m(self, key)\u001b[0m\n\u001b[0;32m   3807\u001b[0m     \u001b[38;5;28;01mif\u001b[39;00m \u001b[38;5;28misinstance\u001b[39m(casted_key, \u001b[38;5;28mslice\u001b[39m) \u001b[38;5;129;01mor\u001b[39;00m (\n\u001b[0;32m   3808\u001b[0m         \u001b[38;5;28misinstance\u001b[39m(casted_key, abc\u001b[38;5;241m.\u001b[39mIterable)\n\u001b[0;32m   3809\u001b[0m         \u001b[38;5;129;01mand\u001b[39;00m \u001b[38;5;28many\u001b[39m(\u001b[38;5;28misinstance\u001b[39m(x, \u001b[38;5;28mslice\u001b[39m) \u001b[38;5;28;01mfor\u001b[39;00m x \u001b[38;5;129;01min\u001b[39;00m casted_key)\n\u001b[0;32m   3810\u001b[0m     ):\n\u001b[0;32m   3811\u001b[0m         \u001b[38;5;28;01mraise\u001b[39;00m InvalidIndexError(key)\n\u001b[1;32m-> 3812\u001b[0m     \u001b[38;5;28;01mraise\u001b[39;00m \u001b[38;5;167;01mKeyError\u001b[39;00m(key) \u001b[38;5;28;01mfrom\u001b[39;00m\u001b[38;5;250m \u001b[39m\u001b[38;5;21;01merr\u001b[39;00m\n\u001b[0;32m   3813\u001b[0m \u001b[38;5;28;01mexcept\u001b[39;00m \u001b[38;5;167;01mTypeError\u001b[39;00m:\n\u001b[0;32m   3814\u001b[0m     \u001b[38;5;66;03m# If we have a listlike key, _check_indexing_error will raise\u001b[39;00m\n\u001b[0;32m   3815\u001b[0m     \u001b[38;5;66;03m#  InvalidIndexError. Otherwise we fall through and re-raise\u001b[39;00m\n\u001b[0;32m   3816\u001b[0m     \u001b[38;5;66;03m#  the TypeError.\u001b[39;00m\n\u001b[0;32m   3817\u001b[0m     \u001b[38;5;28mself\u001b[39m\u001b[38;5;241m.\u001b[39m_check_indexing_error(key)\n",
      "\u001b[1;31mKeyError\u001b[0m: 'clean_description'"
     ]
    }
   ],
   "source": [
    "df[\"clean_description\"] = df[\"clean_description\"].astype(str).apply(clean_text)\n"
   ]
  },
  {
   "cell_type": "code",
   "execution_count": 116,
   "id": "6d33aecb-5e0b-4b28-bc11-573ca17eb865",
   "metadata": {},
   "outputs": [
    {
     "name": "stdout",
     "output_type": "stream",
     "text": [
      "Updated Columns: ['category', 'clean_description']\n"
     ]
    }
   ],
   "source": [
    "df.rename(columns={\"Job Description\": \"clean_description\", \"Job Title\": \"category\"}, inplace=True)\n",
    "\n",
    "# Drop unnecessary index column\n",
    "df.drop(columns=[\"Unnamed: 0\"], inplace=True, errors=\"ignore\")\n",
    "\n",
    "print(\"Updated Columns:\", df.columns.tolist())\n"
   ]
  },
  {
   "cell_type": "code",
   "execution_count": 117,
   "id": "8050d659-8fc7-45f8-9891-4f9f744923d2",
   "metadata": {},
   "outputs": [
    {
     "name": "stdout",
     "output_type": "stream",
     "text": [
      "               category                                  clean_description\n",
      "0     Flutter Developer  We are looking for hire experts flutter develo...\n",
      "1      Django Developer  PYTHON/DJANGO (Developer/Lead) - Job Code(PDJ ...\n",
      "2      Machine Learning  Data Scientist (Contractor)\\n\\nBangalore, IN\\n...\n",
      "3         iOS Developer  JOB DESCRIPTION:\\n\\nStrong framework outside o...\n",
      "4  Full Stack Developer  job responsibility full stack engineer – react...\n",
      "<class 'pandas.core.frame.DataFrame'>\n",
      "RangeIndex: 2277 entries, 0 to 2276\n",
      "Data columns (total 2 columns):\n",
      " #   Column             Non-Null Count  Dtype \n",
      "---  ------             --------------  ----- \n",
      " 0   category           2277 non-null   object\n",
      " 1   clean_description  2277 non-null   object\n",
      "dtypes: object(2)\n",
      "memory usage: 35.7+ KB\n",
      "None\n"
     ]
    }
   ],
   "source": [
    "print(df.head())  # Show first few rows\n",
    "print(df.info())  # Show data types and missing values\n"
   ]
  },
  {
   "cell_type": "code",
   "execution_count": 118,
   "id": "5a1495eb-8349-4bb7-9280-e7b5fca4ab96",
   "metadata": {},
   "outputs": [
    {
     "name": "stderr",
     "output_type": "stream",
     "text": [
      "[nltk_data] Downloading package stopwords to\n",
      "[nltk_data]     C:\\Users\\gopko\\AppData\\Roaming\\nltk_data...\n",
      "[nltk_data]   Package stopwords is already up-to-date!\n"
     ]
    },
    {
     "name": "stdout",
     "output_type": "stream",
     "text": [
      "Words in first cleaned job description: ['hire', 'experts', 'flutter', 'developer', 'eligible', 'post', 'apply', 'resume', 'types', 'full', 'time', 'part', 'time', 'salary', 'month', 'benefits', 'flexible', 'schedule', 'food', 'allowance', 'schedule', 'shift', 'supplemental', 'joining', 'bonus', 'overtime', 'total', 'work', 'year', 'preferred']\n"
     ]
    }
   ],
   "source": [
    "import re\n",
    "import nltk\n",
    "from nltk.corpus import stopwords\n",
    "\n",
    "nltk.download(\"stopwords\")\n",
    "custom_stop_words = set(stopwords.words(\"english\")).union(set([\n",
    "    \"experience\", \"skills\", \"knowledge\", \"worked\", \"expertise\", \"responsible\",\n",
    "    \"ability\", \"working\", \"proficient\", \"development\", \"team\", \"projects\",\n",
    "    \"hiring\", \"looking\", \"job\", \"description\"\n",
    "]))\n",
    "\n",
    "def clean_text(text):\n",
    "    if not isinstance(text, str):\n",
    "        return \"Unknown\"  # Handle missing values\n",
    "    \n",
    "    text = text.lower()  # Convert to lowercase\n",
    "    text = re.sub(r\"\\d+\", \"\", text)  # Remove numbers\n",
    "    text = re.sub(r\"[^\\w\\s]\", \" \", text)  # Remove punctuation\n",
    "    text = re.sub(r\"\\b[a-zA-Z]{1,2}\\b\", \"\", text)  # Remove very short words (1-2 letters)\n",
    "    text = re.sub(r\"\\s+\", \" \", text).strip()  # Remove extra spaces\n",
    "    words = [word for word in text.split() if word not in custom_stop_words and len(word) > 3]  # Remove stopwords & short words\n",
    "    return \" \".join(words)\n",
    "\n",
    "# Apply the improved cleaning function\n",
    "df[\"clean_description\"] = df[\"clean_description\"].apply(clean_text)\n",
    "\n",
    "# Show cleaned text\n",
    "print(\"Words in first cleaned job description:\", df[\"clean_description\"].iloc[0].split()[:30])\n"
   ]
  },
  {
   "cell_type": "code",
   "execution_count": 119,
   "id": "2033243f-25c6-47da-80ee-07374c699164",
   "metadata": {},
   "outputs": [
    {
     "name": "stdout",
     "output_type": "stream",
     "text": [
      "Cleaned dataset saved successfully!\n"
     ]
    }
   ],
   "source": [
    "df.to_csv(r\"C:\\Users\\gopko\\Documents\\GitHub\\ML-Resume-Classifier\\data\\resumeV3_cleaned.csv\", index=False)\n",
    "print(\"Cleaned dataset saved successfully!\")\n"
   ]
  },
  {
   "cell_type": "code",
   "execution_count": 120,
   "id": "b5698a7e-b56b-4434-8dd4-f7dc754b6cfe",
   "metadata": {},
   "outputs": [
    {
     "name": "stdout",
     "output_type": "stream",
     "text": [
      "TF-IDF matrix shape: (2277, 1448)\n"
     ]
    }
   ],
   "source": [
    "from sklearn.feature_extraction.text import TfidfVectorizer\n",
    "\n",
    "vectorizer = TfidfVectorizer(\n",
    "    stop_words=\"english\",\n",
    "    max_features=2000,  # Reduce vocabulary size\n",
    "    min_df=50,  # Ignore words appearing in fewer than 50 resumes\n",
    "    max_df=0.7,  # Ignore words appearing in more than 70% of resumes\n",
    "    ngram_range=(1,2)  # Use bigrams for better context\n",
    ")\n",
    "\n",
    "# Convert cleaned job descriptions into numerical vectors\n",
    "X = vectorizer.fit_transform(df[\"clean_description\"])\n",
    "\n",
    "# Print the shape of transformed data\n",
    "print(\"TF-IDF matrix shape:\", X.shape)\n"
   ]
  },
  {
   "cell_type": "code",
   "execution_count": 121,
   "id": "d4592134-8ab8-4323-bf67-2a39f6045a2c",
   "metadata": {},
   "outputs": [
    {
     "name": "stdout",
     "output_type": "stream",
     "text": [
      "Top 20 Words in TF-IDF Feature List:\n",
      " ['abilities' 'able' 'able work' 'access' 'accessibility'\n",
      " 'accessibility security' 'accommodation' 'according' 'account' 'accurate'\n",
      " 'achieve' 'action' 'active' 'actively' 'activities' 'activity' 'adapt'\n",
      " 'added' 'added advantage' 'addition']\n"
     ]
    }
   ],
   "source": [
    "feature_names = vectorizer.get_feature_names_out()\n",
    "\n",
    "# Print the first 20 important words\n",
    "print(\"Top 20 Words in TF-IDF Feature List:\\n\", feature_names[:20])\n"
   ]
  },
  {
   "cell_type": "code",
   "execution_count": 122,
   "id": "056bdfc3-2f89-4b75-9218-0f1ed98927a4",
   "metadata": {},
   "outputs": [
    {
     "name": "stdout",
     "output_type": "stream",
     "text": [
      "Sample Job Description (Cleaned Text):\n",
      " hire experts flutter developer eligible post apply resume types full time part time salary month benefits flexible schedule food allowance schedule shift supplemental joining bonus overtime total work year preferred housing rent subsidy industry software work remotely temporarily covid\n",
      "\n",
      "Another Sample:\n",
      " python django developer lead code strong python rest frameworks django flask evaluating improving efficiency programs linux environment effectively handle multiple tasks high level accuracy attention detail good verbal written communication json preferred good automated unit testing using pyunit\n",
      "\n",
      "Another Sample:\n",
      " data scientist contractor bangalore responsibilities capable data scientist join analytics reporting locally india bangalore person responsibilities include research design machine learning deep learning algorithms tackle variety fraud oriented challenges data scientist work closely software engineers program managers deliver products including data collection scale analysis exploring different algorithmic approaches model assessment validation production qualifications least years hands complex machine learning models using modern frameworks tools ideally python based solid understanding statistics applied mathematics creative thinker proven tackle open problems apply trivial solutions software using python java similar language graduate computer science mathematics equivalent preferably machine learning write clean concise code quick learner independent methodical detail oriented player positive attitude collaborative good communication dedicated makes things happen flexible capable making decisions ambiguous changing environment advantages prior software developer data engineer advantage data advantage spark advantage deep learning frameworks pytorch tensorflow keras advantage telecommunication domain fraud prevention advantage\n"
     ]
    }
   ],
   "source": [
    "print(\"Sample Job Description (Cleaned Text):\\n\", df[\"clean_description\"].iloc[0])\n",
    "print(\"\\nAnother Sample:\\n\", df[\"clean_description\"].iloc[1])\n",
    "print(\"\\nAnother Sample:\\n\", df[\"clean_description\"].iloc[2])\n"
   ]
  },
  {
   "cell_type": "code",
   "execution_count": 123,
   "id": "1f2659fe-510b-4e66-9b1e-a91792236479",
   "metadata": {},
   "outputs": [
    {
     "name": "stderr",
     "output_type": "stream",
     "text": [
      "[nltk_data] Downloading package stopwords to\n",
      "[nltk_data]     C:\\Users\\gopko\\AppData\\Roaming\\nltk_data...\n",
      "[nltk_data]   Package stopwords is already up-to-date!\n"
     ]
    },
    {
     "name": "stdout",
     "output_type": "stream",
     "text": [
      "Words in first cleaned job description: ['hire', 'experts', 'flutter', 'developer', 'eligible', 'post', 'resume', 'types', 'full', 'time', 'part', 'time', 'salary', 'month', 'benefits', 'flexible', 'schedule', 'food', 'allowance', 'schedule', 'shift', 'supplemental', 'joining', 'bonus', 'overtime', 'total', 'work', 'year', 'preferred', 'housing']\n"
     ]
    }
   ],
   "source": [
    "import re\n",
    "import nltk\n",
    "from nltk.corpus import stopwords\n",
    "\n",
    "nltk.download(\"stopwords\")\n",
    "custom_stop_words = set(stopwords.words(\"english\")).union(set([\n",
    "    \"abilities\", \"able\", \"access\", \"accessibility\", \"account\", \"accurate\",\n",
    "    \"achieve\", \"action\", \"active\", \"activities\", \"activity\", \"adapt\",\n",
    "    \"added\", \"advantage\", \"addition\", \"applicant\", \"apply\", \"appropriate\",\n",
    "    \"assigned\", \"assistant\", \"collaborate\", \"communication\", \"company\",\n",
    "    \"competitive\", \"compliance\", \"concepts\", \"consider\", \"consulting\",\n",
    "    \"contribute\", \"coordinate\", \"corporate\", \"criteria\", \"customer\",\n",
    "    \"decision\", \"department\", \"demonstrated\", \"desirable\", \"detail\",\n",
    "    \"developed\", \"development\", \"duties\", \"education\", \"effective\",\n",
    "    \"efficiency\", \"employees\", \"ensure\", \"enhance\", \"environment\",\n",
    "    \"established\", \"evaluate\", \"execute\", \"expected\", \"experience\",\n",
    "    \"familiar\", \"focus\", \"function\", \"future\", \"gained\", \"general\",\n",
    "    \"goal\", \"group\", \"handling\", \"helping\", \"identified\", \"impact\",\n",
    "    \"important\", \"improve\", \"including\", \"independently\", \"individual\",\n",
    "    \"information\", \"initiatives\", \"interacting\", \"job\", \"join\", \"knowledge\",\n",
    "    \"leadership\", \"maintain\", \"making\", \"management\", \"manager\",\n",
    "    \"methodologies\", \"methods\", \"multiple\", \"needs\", \"offer\", \"office\",\n",
    "    \"opportunity\", \"organization\", \"participate\", \"perform\", \"performance\",\n",
    "    \"planning\", \"practices\", \"prepare\", \"process\", \"proficiency\",\n",
    "    \"program\", \"project\", \"providing\", \"related\", \"reporting\",\n",
    "    \"requirements\", \"resources\", \"responsibility\", \"role\", \"self\",\n",
    "    \"services\", \"skills\", \"solutions\", \"specialized\", \"strategic\",\n",
    "    \"strong\", \"successful\", \"support\", \"system\", \"team\", \"technical\",\n",
    "    \"technology\", \"track\", \"training\", \"understanding\", \"various\",\n",
    "    \"working\", \"workplace\", \"writing\"\n",
    "]))\n",
    "\n",
    "def clean_text(text):\n",
    "    if not isinstance(text, str):\n",
    "        return \"Unknown\"  # Handle missing values\n",
    "    \n",
    "    text = text.lower()  # Convert to lowercase\n",
    "    text = re.sub(r\"\\d+\", \"\", text)  # Remove numbers\n",
    "    text = re.sub(r\"[^\\w\\s]\", \" \", text)  # Remove punctuation\n",
    "    text = re.sub(r\"\\b[a-zA-Z]{1,2}\\b\", \"\", text)  # Remove very short words (1-2 letters)\n",
    "    text = re.sub(r\"\\s+\", \" \", text).strip()  # Remove extra spaces\n",
    "    words = [word for word in text.split() if word not in custom_stop_words and len(word) > 3]  # Remove stopwords & short words\n",
    "    return \" \".join(words)\n",
    "\n",
    "# Apply the improved cleaning function\n",
    "df[\"clean_description\"] = df[\"clean_description\"].apply(clean_text)\n",
    "\n",
    "# Check cleaned text again\n",
    "print(\"Words in first cleaned job description:\", df[\"clean_description\"].iloc[0].split()[:30])\n"
   ]
  },
  {
   "cell_type": "code",
   "execution_count": 124,
   "id": "deccb9cb-df23-4882-bed3-be3b61b448bf",
   "metadata": {},
   "outputs": [
    {
     "name": "stdout",
     "output_type": "stream",
     "text": [
      "Top 20 Words in TF-IDF Feature List:\n",
      " ['accommodation' 'actively' 'additional' 'address' 'administration'\n",
      " 'administrator' 'advanced' 'agile' 'agile scrum' 'ajax' 'algorithms'\n",
      " 'amazing' 'amazon' 'analysis' 'analytical' 'analytical problem'\n",
      " 'analytics' 'analyze' 'analyzing' 'android']\n"
     ]
    }
   ],
   "source": [
    "from sklearn.feature_extraction.text import TfidfVectorizer\n",
    "\n",
    "vectorizer = TfidfVectorizer(\n",
    "    stop_words=\"english\",\n",
    "    max_features=1000,  # Reduce vocabulary size further\n",
    "    min_df=60,  # Ignore words appearing in fewer than 60 job descriptions\n",
    "    max_df=0.65,  # Ignore words appearing in more than 65% of job descriptions\n",
    "    ngram_range=(1,2)  # Use bigrams to improve word context\n",
    ")\n",
    "\n",
    "# Apply TF-IDF again\n",
    "X = vectorizer.fit_transform(df[\"clean_description\"])\n",
    "\n",
    "# Print new top words\n",
    "feature_names = vectorizer.get_feature_names_out()\n",
    "print(\"Top 20 Words in TF-IDF Feature List:\\n\", feature_names[:20])\n"
   ]
  },
  {
   "cell_type": "code",
   "execution_count": 125,
   "id": "efa596f1-a875-411e-bd4e-a21188e61116",
   "metadata": {},
   "outputs": [
    {
     "name": "stdout",
     "output_type": "stream",
     "text": [
      "Top 20 Words in TF-IDF Feature List:\n",
      " ['accommodation' 'actively' 'additional' 'address' 'administration'\n",
      " 'administrator' 'advanced' 'agile' 'agile scrum' 'ajax' 'algorithms'\n",
      " 'amazing' 'amazon' 'analysis' 'analytical' 'analytical problem'\n",
      " 'analytics' 'analyze' 'analyzing' 'android']\n"
     ]
    }
   ],
   "source": [
    "print(\"Top 20 Words in TF-IDF Feature List:\\n\", feature_names[:20])\n"
   ]
  },
  {
   "cell_type": "code",
   "execution_count": 126,
   "id": "9766e2a2-9f2f-42d7-85b7-8fc9f22f56f6",
   "metadata": {},
   "outputs": [
    {
     "name": "stdout",
     "output_type": "stream",
     "text": [
      "Sample Job Description (Cleaned Text):\n",
      " hire experts flutter developer eligible post resume types full time part time salary month benefits flexible schedule food allowance schedule shift supplemental joining bonus overtime total work year preferred housing rent subsidy industry software work remotely temporarily covid\n",
      "\n",
      "Another Sample:\n",
      " python django developer lead code python rest frameworks django flask evaluating improving programs linux effectively handle tasks high level accuracy attention good verbal written json preferred good automated unit testing using pyunit\n",
      "\n",
      "Another Sample:\n",
      " data scientist contractor bangalore responsibilities capable data scientist analytics locally india bangalore person responsibilities include research design machine learning deep learning algorithms tackle variety fraud oriented challenges data scientist work closely software engineers managers deliver products data collection scale analysis exploring different algorithmic approaches model assessment validation production qualifications least years hands complex machine learning models using modern frameworks tools ideally python based solid statistics applied mathematics creative thinker proven tackle open problems trivial software using python java similar language graduate computer science mathematics equivalent preferably machine learning write clean concise code quick learner independent methodical oriented player positive attitude collaborative good dedicated makes things happen flexible capable decisions ambiguous changing advantages prior software developer data engineer data spark deep learning frameworks pytorch tensorflow keras telecommunication domain fraud prevention\n"
     ]
    }
   ],
   "source": [
    "print(\"Sample Job Description (Cleaned Text):\\n\", df[\"clean_description\"].iloc[0])\n",
    "print(\"\\nAnother Sample:\\n\", df[\"clean_description\"].iloc[1])\n",
    "print(\"\\nAnother Sample:\\n\", df[\"clean_description\"].iloc[2])\n"
   ]
  },
  {
   "cell_type": "code",
   "execution_count": 127,
   "id": "23bc3907-e0ce-4728-9211-627134a4bce4",
   "metadata": {},
   "outputs": [
    {
     "name": "stderr",
     "output_type": "stream",
     "text": [
      "[nltk_data] Downloading package stopwords to\n",
      "[nltk_data]     C:\\Users\\gopko\\AppData\\Roaming\\nltk_data...\n",
      "[nltk_data]   Package stopwords is already up-to-date!\n"
     ]
    },
    {
     "name": "stdout",
     "output_type": "stream",
     "text": [
      "Words in first cleaned job description: ['hire', 'experts', 'flutter', 'developer', 'eligible', 'post', 'resume', 'types', 'full', 'time', 'part', 'time', 'salary', 'month', 'benefits', 'flexible', 'schedule', 'food', 'allowance', 'schedule', 'shift', 'supplemental', 'joining', 'bonus', 'overtime', 'total', 'work', 'year', 'preferred', 'housing']\n"
     ]
    }
   ],
   "source": [
    "import re\n",
    "import nltk\n",
    "from nltk.corpus import stopwords\n",
    "\n",
    "nltk.download(\"stopwords\")\n",
    "custom_stop_words = set(stopwords.words(\"english\")).union(set([\n",
    "    \"accommodation\", \"actively\", \"additional\", \"address\", \"administration\",\n",
    "    \"administrator\", \"advanced\", \"amazing\", \"amazon\", \"analysis\", \"analytics\",\n",
    "    \"application\", \"apply\", \"assistant\", \"collaborate\", \"communication\",\n",
    "    \"company\", \"compliance\", \"customer\", \"department\", \"development\",\n",
    "    \"duties\", \"education\", \"effective\", \"employees\", \"ensure\", \"experience\",\n",
    "    \"general\", \"goal\", \"handling\", \"impact\", \"important\", \"including\",\n",
    "    \"independently\", \"individual\", \"information\", \"initiatives\", \"job\",\n",
    "    \"join\", \"knowledge\", \"leadership\", \"maintain\", \"making\", \"management\",\n",
    "    \"manager\", \"needs\", \"office\", \"opportunity\", \"organization\",\n",
    "    \"participate\", \"perform\", \"performance\", \"planning\", \"prepare\",\n",
    "    \"process\", \"project\", \"providing\", \"reporting\", \"requirements\",\n",
    "    \"responsibility\", \"role\", \"services\", \"skills\", \"solutions\",\n",
    "    \"successful\", \"support\", \"team\", \"technology\", \"training\", \"various\",\n",
    "    \"working\", \"workplace\", \"writing\"\n",
    "]))\n",
    "\n",
    "def clean_text(text):\n",
    "    if not isinstance(text, str):\n",
    "        return \"Unknown\"  # Handle missing values\n",
    "    \n",
    "    text = text.lower()  # Convert to lowercase\n",
    "    text = re.sub(r\"\\d+\", \"\", text)  # Remove numbers\n",
    "    text = re.sub(r\"[^\\w\\s]\", \" \", text)  # Remove punctuation\n",
    "    text = re.sub(r\"\\b[a-zA-Z]{1,2}\\b\", \"\", text)  # Remove very short words (1-2 letters)\n",
    "    text = re.sub(r\"\\s+\", \" \", text).strip()  # Remove extra spaces\n",
    "    words = [word for word in text.split() if word not in custom_stop_words and len(word) > 3]  # Remove stopwords & short words\n",
    "    return \" \".join(words)\n",
    "\n",
    "# Apply the improved cleaning function\n",
    "df[\"clean_description\"] = df[\"clean_description\"].apply(clean_text)\n",
    "\n",
    "# Check cleaned text again\n",
    "print(\"Words in first cleaned job description:\", df[\"clean_description\"].iloc[0].split()[:30])\n"
   ]
  },
  {
   "cell_type": "code",
   "execution_count": 128,
   "id": "dbbd2498-5d7c-4def-a804-aa9f9470c199",
   "metadata": {},
   "outputs": [
    {
     "name": "stdout",
     "output_type": "stream",
     "text": [
      "Top 20 Words in TF-IDF Feature List:\n",
      " ['agile' 'ajax' 'algorithms' 'analytical' 'analytical problem' 'analyze'\n",
      " 'android' 'angular' 'angularjs' 'ansible' 'apache' 'apis' 'applicable'\n",
      " 'applicants' 'applications' 'applications using' 'applying' 'approach'\n",
      " 'apps' 'architect']\n"
     ]
    }
   ],
   "source": [
    "from sklearn.feature_extraction.text import TfidfVectorizer\n",
    "\n",
    "vectorizer = TfidfVectorizer(\n",
    "    stop_words=\"english\",\n",
    "    max_features=800,  # Reduce vocabulary size even further\n",
    "    min_df=75,  # Ignore words appearing in fewer than 75 job descriptions\n",
    "    max_df=0.6,  # Ignore words appearing in more than 60% of job descriptions\n",
    "    ngram_range=(1,2)  # Use bigrams to improve word context\n",
    ")\n",
    "\n",
    "# Apply TF-IDF again\n",
    "X = vectorizer.fit_transform(df[\"clean_description\"])\n",
    "\n",
    "# Print new top words\n",
    "feature_names = vectorizer.get_feature_names_out()\n",
    "print(\"Top 20 Words in TF-IDF Feature List:\\n\", feature_names[:20])\n"
   ]
  },
  {
   "cell_type": "code",
   "execution_count": 129,
   "id": "23748232-11c3-460a-b831-63c68a376640",
   "metadata": {},
   "outputs": [
    {
     "name": "stdout",
     "output_type": "stream",
     "text": [
      "Top 20 Words in TF-IDF Feature List:\n",
      " ['agile' 'ajax' 'algorithms' 'analytical' 'analytical problem' 'analyze'\n",
      " 'android' 'angular' 'angularjs' 'ansible' 'apache' 'apis' 'applicable'\n",
      " 'applicants' 'applications' 'applications using' 'applying' 'approach'\n",
      " 'apps' 'architect']\n"
     ]
    }
   ],
   "source": [
    "print(\"Top 20 Words in TF-IDF Feature List:\\n\", feature_names[:20])\n"
   ]
  },
  {
   "cell_type": "code",
   "execution_count": 130,
   "id": "94d1ae9a-ae27-47e0-83c5-bd72b04de9c9",
   "metadata": {},
   "outputs": [
    {
     "name": "stdout",
     "output_type": "stream",
     "text": [
      "Sample Cleaned Job Description:\n",
      " hire experts flutter developer eligible post resume types full time part time salary month benefits flexible schedule food allowance schedule shift supplemental joining bonus overtime total work year preferred housing rent subsidy industry software work remotely temporarily covid\n",
      "\n",
      "Another Sample:\n",
      " python django developer lead code python rest frameworks django flask evaluating improving programs linux effectively handle tasks high level accuracy attention good verbal written json preferred good automated unit testing using pyunit\n",
      "\n",
      "Another Sample:\n",
      " data scientist contractor bangalore responsibilities capable data scientist locally india bangalore person responsibilities include research design machine learning deep learning algorithms tackle variety fraud oriented challenges data scientist work closely software engineers managers deliver products data collection scale exploring different algorithmic approaches model assessment validation production qualifications least years hands complex machine learning models using modern frameworks tools ideally python based solid statistics applied mathematics creative thinker proven tackle open problems trivial software using python java similar language graduate computer science mathematics equivalent preferably machine learning write clean concise code quick learner independent methodical oriented player positive attitude collaborative good dedicated makes things happen flexible capable decisions ambiguous changing advantages prior software developer data engineer data spark deep learning frameworks pytorch tensorflow keras telecommunication domain fraud prevention\n"
     ]
    }
   ],
   "source": [
    "print(\"Sample Cleaned Job Description:\\n\", df[\"clean_description\"].iloc[0])\n",
    "print(\"\\nAnother Sample:\\n\", df[\"clean_description\"].iloc[1])\n",
    "print(\"\\nAnother Sample:\\n\", df[\"clean_description\"].iloc[2])\n"
   ]
  },
  {
   "cell_type": "code",
   "execution_count": 131,
   "id": "78e5ef71-4eaa-4c8e-ad7e-08409677fbbc",
   "metadata": {},
   "outputs": [
    {
     "name": "stderr",
     "output_type": "stream",
     "text": [
      "[nltk_data] Downloading package stopwords to\n",
      "[nltk_data]     C:\\Users\\gopko\\AppData\\Roaming\\nltk_data...\n",
      "[nltk_data]   Package stopwords is already up-to-date!\n"
     ]
    },
    {
     "name": "stdout",
     "output_type": "stream",
     "text": [
      "Words in first cleaned job description: ['hire', 'experts', 'flutter', 'developer', 'eligible', 'post', 'resume', 'types', 'full', 'time', 'part', 'time', 'salary', 'month', 'benefits', 'flexible', 'schedule', 'food', 'allowance', 'schedule', 'shift', 'supplemental', 'joining', 'bonus', 'overtime', 'total', 'work', 'year', 'preferred', 'housing']\n"
     ]
    }
   ],
   "source": [
    "import re\n",
    "import nltk\n",
    "from nltk.corpus import stopwords\n",
    "\n",
    "nltk.download(\"stopwords\")\n",
    "custom_stop_words = set(stopwords.words(\"english\")).union(set([\n",
    "    \"ability\", \"able\", \"about\", \"across\", \"action\", \"activities\", \"added\",\n",
    "    \"additional\", \"address\", \"administration\", \"administrator\", \"advanced\",\n",
    "    \"agile\", \"ajax\", \"applicable\", \"applicants\", \"applications\", \"apply\",\n",
    "    \"approach\", \"assistant\", \"collaborate\", \"communication\", \"company\",\n",
    "    \"compliance\", \"concepts\", \"consider\", \"consulting\", \"contribute\",\n",
    "    \"coordinate\", \"corporate\", \"customer\", \"decision\", \"department\",\n",
    "    \"demonstrated\", \"detail\", \"developed\", \"development\", \"duties\",\n",
    "    \"education\", \"effective\", \"efficiency\", \"employees\", \"ensure\",\n",
    "    \"enhance\", \"environment\", \"established\", \"evaluate\", \"execute\",\n",
    "    \"expected\", \"experience\", \"familiar\", \"focus\", \"function\", \"future\",\n",
    "    \"gained\", \"general\", \"goal\", \"group\", \"handling\", \"helping\",\n",
    "    \"identified\", \"impact\", \"important\", \"improve\", \"including\",\n",
    "    \"independently\", \"individual\", \"information\", \"initiatives\", \"job\",\n",
    "    \"join\", \"knowledge\", \"leadership\", \"maintain\", \"making\", \"management\",\n",
    "    \"manager\", \"methodologies\", \"methods\", \"multiple\", \"needs\", \"offer\",\n",
    "    \"office\", \"opportunity\", \"organization\", \"participate\", \"perform\",\n",
    "    \"performance\", \"planning\", \"practices\", \"prepare\", \"process\",\n",
    "    \"proficiency\", \"program\", \"project\", \"providing\", \"related\",\n",
    "    \"reporting\", \"requirements\", \"resources\", \"responsibility\", \"role\",\n",
    "    \"self\", \"services\", \"skills\", \"solutions\", \"specialized\", \"strategic\",\n",
    "    \"strong\", \"successful\", \"support\", \"system\", \"team\", \"technical\",\n",
    "    \"technology\", \"track\", \"training\", \"understanding\", \"various\",\n",
    "    \"working\", \"workplace\", \"writing\"\n",
    "]))\n",
    "\n",
    "def clean_text(text):\n",
    "    if not isinstance(text, str):\n",
    "        return \"Unknown\"  # Handle missing values\n",
    "    \n",
    "    text = text.lower()  # Convert to lowercase\n",
    "    text = re.sub(r\"\\d+\", \"\", text)  # Remove numbers\n",
    "    text = re.sub(r\"[^\\w\\s]\", \" \", text)  # Remove punctuation\n",
    "    text = re.sub(r\"\\b[a-zA-Z]{1,2}\\b\", \"\", text)  # Remove very short words (1-2 letters)\n",
    "    text = re.sub(r\"\\s+\", \" \", text).strip()  # Remove extra spaces\n",
    "    words = [word for word in text.split() if word not in custom_stop_words and len(word) > 3]  # Remove stopwords & short words\n",
    "    return \" \".join(words)\n",
    "\n",
    "# Apply the improved cleaning function\n",
    "df[\"clean_description\"] = df[\"clean_description\"].apply(clean_text)\n",
    "\n",
    "# Check cleaned text again\n",
    "print(\"Words in first cleaned job description:\", df[\"clean_description\"].iloc[0].split()[:30])\n"
   ]
  },
  {
   "cell_type": "code",
   "execution_count": 132,
   "id": "a346fb60-1856-4279-a199-a304460f8180",
   "metadata": {},
   "outputs": [
    {
     "name": "stdout",
     "output_type": "stream",
     "text": [
      "Top 20 Words in TF-IDF Feature List:\n",
      " ['algorithms' 'analytical' 'analyze' 'android' 'angular' 'angularjs'\n",
      " 'ansible' 'apis' 'apps' 'architecture' 'architectures' 'area' 'areas'\n",
      " 'assist' 'attention' 'attitude' 'automated' 'automation' 'availability'\n",
      " 'available']\n"
     ]
    }
   ],
   "source": [
    "from sklearn.feature_extraction.text import TfidfVectorizer\n",
    "\n",
    "vectorizer = TfidfVectorizer(\n",
    "    stop_words=\"english\",\n",
    "    max_features=600,  # Reduce vocabulary size even further\n",
    "    min_df=80,  # Ignore words appearing in fewer than 80 job descriptions\n",
    "    max_df=0.55,  # Ignore words appearing in more than 55% of job descriptions\n",
    "    ngram_range=(1,2)  # Use bigrams to improve word context\n",
    ")\n",
    "\n",
    "# Apply TF-IDF again\n",
    "X = vectorizer.fit_transform(df[\"clean_description\"])\n",
    "\n",
    "# Print new top words\n",
    "feature_names = vectorizer.get_feature_names_out()\n",
    "print(\"Top 20 Words in TF-IDF Feature List:\\n\", feature_names[:20])\n"
   ]
  },
  {
   "cell_type": "code",
   "execution_count": 133,
   "id": "0cf7b04e-203a-4dad-8bae-4515489d3b52",
   "metadata": {},
   "outputs": [
    {
     "name": "stdout",
     "output_type": "stream",
     "text": [
      "Top 20 Words in TF-IDF Feature List:\n",
      " ['algorithms' 'analytical' 'analyze' 'android' 'angular' 'angularjs'\n",
      " 'ansible' 'apis' 'apps' 'architecture' 'architectures' 'area' 'areas'\n",
      " 'assist' 'attention' 'attitude' 'automated' 'automation' 'availability'\n",
      " 'available']\n"
     ]
    }
   ],
   "source": [
    "print(\"Top 20 Words in TF-IDF Feature List:\\n\", feature_names[:20])\n"
   ]
  },
  {
   "cell_type": "code",
   "execution_count": 134,
   "id": "1207d5a3-0298-40a7-a8a5-6227d1ba7b65",
   "metadata": {},
   "outputs": [
    {
     "name": "stdout",
     "output_type": "stream",
     "text": [
      "First Job Description (Cleaned):\n",
      " hire experts flutter developer eligible post resume types full time part time salary month benefits flexible schedule food allowance schedule shift supplemental joining bonus overtime total work year preferred housing rent subsidy industry software work remotely temporarily covid\n",
      "\n",
      "Second Job Description (Cleaned):\n",
      " python django developer lead code python rest frameworks django flask evaluating improving programs linux effectively handle tasks high level accuracy attention good verbal written json preferred good automated unit testing using pyunit\n",
      "\n",
      "Third Job Description (Cleaned):\n",
      " data scientist contractor bangalore responsibilities capable data scientist locally india bangalore person responsibilities include research design machine learning deep learning algorithms tackle variety fraud oriented challenges data scientist work closely software engineers managers deliver products data collection scale exploring different algorithmic approaches model assessment validation production qualifications least years hands complex machine learning models using modern frameworks tools ideally python based solid statistics applied mathematics creative thinker proven tackle open problems trivial software using python java similar language graduate computer science mathematics equivalent preferably machine learning write clean concise code quick learner independent methodical oriented player positive attitude collaborative good dedicated makes things happen flexible capable decisions ambiguous changing advantages prior software developer data engineer data spark deep learning frameworks pytorch tensorflow keras telecommunication domain fraud prevention\n"
     ]
    }
   ],
   "source": [
    "print(\"First Job Description (Cleaned):\\n\", df[\"clean_description\"].iloc[0])\n",
    "print(\"\\nSecond Job Description (Cleaned):\\n\", df[\"clean_description\"].iloc[1])\n",
    "print(\"\\nThird Job Description (Cleaned):\\n\", df[\"clean_description\"].iloc[2])\n"
   ]
  },
  {
   "cell_type": "code",
   "execution_count": 136,
   "id": "92df2dcc-1cf8-4f95-87bd-5cc8802945c3",
   "metadata": {},
   "outputs": [
    {
     "ename": "KeyboardInterrupt",
     "evalue": "",
     "output_type": "error",
     "traceback": [
      "\u001b[1;31m---------------------------------------------------------------------------\u001b[0m",
      "\u001b[1;31mKeyboardInterrupt\u001b[0m                         Traceback (most recent call last)",
      "Cell \u001b[1;32mIn[136], line 10\u001b[0m\n\u001b[0;32m      8\u001b[0m \u001b[38;5;66;03m# Train an LDA model to detect main topics\u001b[39;00m\n\u001b[0;32m      9\u001b[0m lda \u001b[38;5;241m=\u001b[39m LatentDirichletAllocation(n_components\u001b[38;5;241m=\u001b[39m\u001b[38;5;241m5\u001b[39m, random_state\u001b[38;5;241m=\u001b[39m\u001b[38;5;241m42\u001b[39m)\n\u001b[1;32m---> 10\u001b[0m \u001b[43mlda\u001b[49m\u001b[38;5;241;43m.\u001b[39;49m\u001b[43mfit\u001b[49m\u001b[43m(\u001b[49m\u001b[43mX\u001b[49m\u001b[43m)\u001b[49m\n\u001b[0;32m     12\u001b[0m \u001b[38;5;66;03m# Print most common words for each topic\u001b[39;00m\n\u001b[0;32m     13\u001b[0m words \u001b[38;5;241m=\u001b[39m vectorizer\u001b[38;5;241m.\u001b[39mget_feature_names_out()\n",
      "File \u001b[1;32m~\\Documents\\GitHub\\ML-Resume-Classifier\\resume-ml-env\\Lib\\site-packages\\sklearn\\base.py:1389\u001b[0m, in \u001b[0;36m_fit_context.<locals>.decorator.<locals>.wrapper\u001b[1;34m(estimator, *args, **kwargs)\u001b[0m\n\u001b[0;32m   1382\u001b[0m     estimator\u001b[38;5;241m.\u001b[39m_validate_params()\n\u001b[0;32m   1384\u001b[0m \u001b[38;5;28;01mwith\u001b[39;00m config_context(\n\u001b[0;32m   1385\u001b[0m     skip_parameter_validation\u001b[38;5;241m=\u001b[39m(\n\u001b[0;32m   1386\u001b[0m         prefer_skip_nested_validation \u001b[38;5;129;01mor\u001b[39;00m global_skip_validation\n\u001b[0;32m   1387\u001b[0m     )\n\u001b[0;32m   1388\u001b[0m ):\n\u001b[1;32m-> 1389\u001b[0m     \u001b[38;5;28;01mreturn\u001b[39;00m \u001b[43mfit_method\u001b[49m\u001b[43m(\u001b[49m\u001b[43mestimator\u001b[49m\u001b[43m,\u001b[49m\u001b[43m \u001b[49m\u001b[38;5;241;43m*\u001b[39;49m\u001b[43margs\u001b[49m\u001b[43m,\u001b[49m\u001b[43m \u001b[49m\u001b[38;5;241;43m*\u001b[39;49m\u001b[38;5;241;43m*\u001b[39;49m\u001b[43mkwargs\u001b[49m\u001b[43m)\u001b[49m\n",
      "File \u001b[1;32m~\\Documents\\GitHub\\ML-Resume-Classifier\\resume-ml-env\\Lib\\site-packages\\sklearn\\decomposition\\_lda.py:674\u001b[0m, in \u001b[0;36mLatentDirichletAllocation.fit\u001b[1;34m(self, X, y)\u001b[0m\n\u001b[0;32m    666\u001b[0m         \u001b[38;5;28mself\u001b[39m\u001b[38;5;241m.\u001b[39m_em_step(\n\u001b[0;32m    667\u001b[0m             X[idx_slice, :],\n\u001b[0;32m    668\u001b[0m             total_samples\u001b[38;5;241m=\u001b[39mn_samples,\n\u001b[0;32m    669\u001b[0m             batch_update\u001b[38;5;241m=\u001b[39m\u001b[38;5;28;01mFalse\u001b[39;00m,\n\u001b[0;32m    670\u001b[0m             parallel\u001b[38;5;241m=\u001b[39mparallel,\n\u001b[0;32m    671\u001b[0m         )\n\u001b[0;32m    672\u001b[0m \u001b[38;5;28;01melse\u001b[39;00m:\n\u001b[0;32m    673\u001b[0m     \u001b[38;5;66;03m# batch update\u001b[39;00m\n\u001b[1;32m--> 674\u001b[0m     \u001b[38;5;28;43mself\u001b[39;49m\u001b[38;5;241;43m.\u001b[39;49m\u001b[43m_em_step\u001b[49m\u001b[43m(\u001b[49m\n\u001b[0;32m    675\u001b[0m \u001b[43m        \u001b[49m\u001b[43mX\u001b[49m\u001b[43m,\u001b[49m\u001b[43m \u001b[49m\u001b[43mtotal_samples\u001b[49m\u001b[38;5;241;43m=\u001b[39;49m\u001b[43mn_samples\u001b[49m\u001b[43m,\u001b[49m\u001b[43m \u001b[49m\u001b[43mbatch_update\u001b[49m\u001b[38;5;241;43m=\u001b[39;49m\u001b[38;5;28;43;01mTrue\u001b[39;49;00m\u001b[43m,\u001b[49m\u001b[43m \u001b[49m\u001b[43mparallel\u001b[49m\u001b[38;5;241;43m=\u001b[39;49m\u001b[43mparallel\u001b[49m\n\u001b[0;32m    676\u001b[0m \u001b[43m    \u001b[49m\u001b[43m)\u001b[49m\n\u001b[0;32m    678\u001b[0m \u001b[38;5;66;03m# check perplexity\u001b[39;00m\n\u001b[0;32m    679\u001b[0m \u001b[38;5;28;01mif\u001b[39;00m evaluate_every \u001b[38;5;241m>\u001b[39m \u001b[38;5;241m0\u001b[39m \u001b[38;5;129;01mand\u001b[39;00m (i \u001b[38;5;241m+\u001b[39m \u001b[38;5;241m1\u001b[39m) \u001b[38;5;241m%\u001b[39m evaluate_every \u001b[38;5;241m==\u001b[39m \u001b[38;5;241m0\u001b[39m:\n",
      "File \u001b[1;32m~\\Documents\\GitHub\\ML-Resume-Classifier\\resume-ml-env\\Lib\\site-packages\\sklearn\\decomposition\\_lda.py:523\u001b[0m, in \u001b[0;36mLatentDirichletAllocation._em_step\u001b[1;34m(self, X, total_samples, batch_update, parallel)\u001b[0m\n\u001b[0;32m    496\u001b[0m \u001b[38;5;250m\u001b[39m\u001b[38;5;124;03m\"\"\"EM update for 1 iteration.\u001b[39;00m\n\u001b[0;32m    497\u001b[0m \n\u001b[0;32m    498\u001b[0m \u001b[38;5;124;03mupdate `_component` by batch VB or online VB.\u001b[39;00m\n\u001b[1;32m   (...)\u001b[0m\n\u001b[0;32m    519\u001b[0m \u001b[38;5;124;03m    Unnormalized document topic distribution.\u001b[39;00m\n\u001b[0;32m    520\u001b[0m \u001b[38;5;124;03m\"\"\"\u001b[39;00m\n\u001b[0;32m    522\u001b[0m \u001b[38;5;66;03m# E-step\u001b[39;00m\n\u001b[1;32m--> 523\u001b[0m _, suff_stats \u001b[38;5;241m=\u001b[39m \u001b[38;5;28;43mself\u001b[39;49m\u001b[38;5;241;43m.\u001b[39;49m\u001b[43m_e_step\u001b[49m\u001b[43m(\u001b[49m\n\u001b[0;32m    524\u001b[0m \u001b[43m    \u001b[49m\u001b[43mX\u001b[49m\u001b[43m,\u001b[49m\u001b[43m \u001b[49m\u001b[43mcal_sstats\u001b[49m\u001b[38;5;241;43m=\u001b[39;49m\u001b[38;5;28;43;01mTrue\u001b[39;49;00m\u001b[43m,\u001b[49m\u001b[43m \u001b[49m\u001b[43mrandom_init\u001b[49m\u001b[38;5;241;43m=\u001b[39;49m\u001b[38;5;28;43;01mTrue\u001b[39;49;00m\u001b[43m,\u001b[49m\u001b[43m \u001b[49m\u001b[43mparallel\u001b[49m\u001b[38;5;241;43m=\u001b[39;49m\u001b[43mparallel\u001b[49m\n\u001b[0;32m    525\u001b[0m \u001b[43m\u001b[49m\u001b[43m)\u001b[49m\n\u001b[0;32m    527\u001b[0m \u001b[38;5;66;03m# M-step\u001b[39;00m\n\u001b[0;32m    528\u001b[0m \u001b[38;5;28;01mif\u001b[39;00m batch_update:\n",
      "File \u001b[1;32m~\\Documents\\GitHub\\ML-Resume-Classifier\\resume-ml-env\\Lib\\site-packages\\sklearn\\decomposition\\_lda.py:466\u001b[0m, in \u001b[0;36mLatentDirichletAllocation._e_step\u001b[1;34m(self, X, cal_sstats, random_init, parallel)\u001b[0m\n\u001b[0;32m    464\u001b[0m \u001b[38;5;28;01mif\u001b[39;00m parallel \u001b[38;5;129;01mis\u001b[39;00m \u001b[38;5;28;01mNone\u001b[39;00m:\n\u001b[0;32m    465\u001b[0m     parallel \u001b[38;5;241m=\u001b[39m Parallel(n_jobs\u001b[38;5;241m=\u001b[39mn_jobs, verbose\u001b[38;5;241m=\u001b[39m\u001b[38;5;28mmax\u001b[39m(\u001b[38;5;241m0\u001b[39m, \u001b[38;5;28mself\u001b[39m\u001b[38;5;241m.\u001b[39mverbose \u001b[38;5;241m-\u001b[39m \u001b[38;5;241m1\u001b[39m))\n\u001b[1;32m--> 466\u001b[0m results \u001b[38;5;241m=\u001b[39m \u001b[43mparallel\u001b[49m\u001b[43m(\u001b[49m\n\u001b[0;32m    467\u001b[0m \u001b[43m    \u001b[49m\u001b[43mdelayed\u001b[49m\u001b[43m(\u001b[49m\u001b[43m_update_doc_distribution\u001b[49m\u001b[43m)\u001b[49m\u001b[43m(\u001b[49m\n\u001b[0;32m    468\u001b[0m \u001b[43m        \u001b[49m\u001b[43mX\u001b[49m\u001b[43m[\u001b[49m\u001b[43midx_slice\u001b[49m\u001b[43m,\u001b[49m\u001b[43m \u001b[49m\u001b[43m:\u001b[49m\u001b[43m]\u001b[49m\u001b[43m,\u001b[49m\n\u001b[0;32m    469\u001b[0m \u001b[43m        \u001b[49m\u001b[38;5;28;43mself\u001b[39;49m\u001b[38;5;241;43m.\u001b[39;49m\u001b[43mexp_dirichlet_component_\u001b[49m\u001b[43m,\u001b[49m\n\u001b[0;32m    470\u001b[0m \u001b[43m        \u001b[49m\u001b[38;5;28;43mself\u001b[39;49m\u001b[38;5;241;43m.\u001b[39;49m\u001b[43mdoc_topic_prior_\u001b[49m\u001b[43m,\u001b[49m\n\u001b[0;32m    471\u001b[0m \u001b[43m        \u001b[49m\u001b[38;5;28;43mself\u001b[39;49m\u001b[38;5;241;43m.\u001b[39;49m\u001b[43mmax_doc_update_iter\u001b[49m\u001b[43m,\u001b[49m\n\u001b[0;32m    472\u001b[0m \u001b[43m        \u001b[49m\u001b[38;5;28;43mself\u001b[39;49m\u001b[38;5;241;43m.\u001b[39;49m\u001b[43mmean_change_tol\u001b[49m\u001b[43m,\u001b[49m\n\u001b[0;32m    473\u001b[0m \u001b[43m        \u001b[49m\u001b[43mcal_sstats\u001b[49m\u001b[43m,\u001b[49m\n\u001b[0;32m    474\u001b[0m \u001b[43m        \u001b[49m\u001b[43mrandom_state\u001b[49m\u001b[43m,\u001b[49m\n\u001b[0;32m    475\u001b[0m \u001b[43m    \u001b[49m\u001b[43m)\u001b[49m\n\u001b[0;32m    476\u001b[0m \u001b[43m    \u001b[49m\u001b[38;5;28;43;01mfor\u001b[39;49;00m\u001b[43m \u001b[49m\u001b[43midx_slice\u001b[49m\u001b[43m \u001b[49m\u001b[38;5;129;43;01min\u001b[39;49;00m\u001b[43m \u001b[49m\u001b[43mgen_even_slices\u001b[49m\u001b[43m(\u001b[49m\u001b[43mX\u001b[49m\u001b[38;5;241;43m.\u001b[39;49m\u001b[43mshape\u001b[49m\u001b[43m[\u001b[49m\u001b[38;5;241;43m0\u001b[39;49m\u001b[43m]\u001b[49m\u001b[43m,\u001b[49m\u001b[43m \u001b[49m\u001b[43mn_jobs\u001b[49m\u001b[43m)\u001b[49m\n\u001b[0;32m    477\u001b[0m \u001b[43m\u001b[49m\u001b[43m)\u001b[49m\n\u001b[0;32m    479\u001b[0m \u001b[38;5;66;03m# merge result\u001b[39;00m\n\u001b[0;32m    480\u001b[0m doc_topics, sstats_list \u001b[38;5;241m=\u001b[39m \u001b[38;5;28mzip\u001b[39m(\u001b[38;5;241m*\u001b[39mresults)\n",
      "File \u001b[1;32m~\\Documents\\GitHub\\ML-Resume-Classifier\\resume-ml-env\\Lib\\site-packages\\sklearn\\utils\\parallel.py:77\u001b[0m, in \u001b[0;36mParallel.__call__\u001b[1;34m(self, iterable)\u001b[0m\n\u001b[0;32m     72\u001b[0m config \u001b[38;5;241m=\u001b[39m get_config()\n\u001b[0;32m     73\u001b[0m iterable_with_config \u001b[38;5;241m=\u001b[39m (\n\u001b[0;32m     74\u001b[0m     (_with_config(delayed_func, config), args, kwargs)\n\u001b[0;32m     75\u001b[0m     \u001b[38;5;28;01mfor\u001b[39;00m delayed_func, args, kwargs \u001b[38;5;129;01min\u001b[39;00m iterable\n\u001b[0;32m     76\u001b[0m )\n\u001b[1;32m---> 77\u001b[0m \u001b[38;5;28;01mreturn\u001b[39;00m \u001b[38;5;28;43msuper\u001b[39;49m\u001b[43m(\u001b[49m\u001b[43m)\u001b[49m\u001b[38;5;241;43m.\u001b[39;49m\u001b[38;5;21;43m__call__\u001b[39;49m\u001b[43m(\u001b[49m\u001b[43miterable_with_config\u001b[49m\u001b[43m)\u001b[49m\n",
      "File \u001b[1;32m~\\Documents\\GitHub\\ML-Resume-Classifier\\resume-ml-env\\Lib\\site-packages\\joblib\\parallel.py:1918\u001b[0m, in \u001b[0;36mParallel.__call__\u001b[1;34m(self, iterable)\u001b[0m\n\u001b[0;32m   1916\u001b[0m     output \u001b[38;5;241m=\u001b[39m \u001b[38;5;28mself\u001b[39m\u001b[38;5;241m.\u001b[39m_get_sequential_output(iterable)\n\u001b[0;32m   1917\u001b[0m     \u001b[38;5;28mnext\u001b[39m(output)\n\u001b[1;32m-> 1918\u001b[0m     \u001b[38;5;28;01mreturn\u001b[39;00m output \u001b[38;5;28;01mif\u001b[39;00m \u001b[38;5;28mself\u001b[39m\u001b[38;5;241m.\u001b[39mreturn_generator \u001b[38;5;28;01melse\u001b[39;00m \u001b[38;5;28mlist\u001b[39m(output)\n\u001b[0;32m   1920\u001b[0m \u001b[38;5;66;03m# Let's create an ID that uniquely identifies the current call. If the\u001b[39;00m\n\u001b[0;32m   1921\u001b[0m \u001b[38;5;66;03m# call is interrupted early and that the same instance is immediately\u001b[39;00m\n\u001b[0;32m   1922\u001b[0m \u001b[38;5;66;03m# re-used, this id will be used to prevent workers that were\u001b[39;00m\n\u001b[0;32m   1923\u001b[0m \u001b[38;5;66;03m# concurrently finalizing a task from the previous call to run the\u001b[39;00m\n\u001b[0;32m   1924\u001b[0m \u001b[38;5;66;03m# callback.\u001b[39;00m\n\u001b[0;32m   1925\u001b[0m \u001b[38;5;28;01mwith\u001b[39;00m \u001b[38;5;28mself\u001b[39m\u001b[38;5;241m.\u001b[39m_lock:\n",
      "File \u001b[1;32m~\\Documents\\GitHub\\ML-Resume-Classifier\\resume-ml-env\\Lib\\site-packages\\joblib\\parallel.py:1847\u001b[0m, in \u001b[0;36mParallel._get_sequential_output\u001b[1;34m(self, iterable)\u001b[0m\n\u001b[0;32m   1845\u001b[0m \u001b[38;5;28mself\u001b[39m\u001b[38;5;241m.\u001b[39mn_dispatched_batches \u001b[38;5;241m+\u001b[39m\u001b[38;5;241m=\u001b[39m \u001b[38;5;241m1\u001b[39m\n\u001b[0;32m   1846\u001b[0m \u001b[38;5;28mself\u001b[39m\u001b[38;5;241m.\u001b[39mn_dispatched_tasks \u001b[38;5;241m+\u001b[39m\u001b[38;5;241m=\u001b[39m \u001b[38;5;241m1\u001b[39m\n\u001b[1;32m-> 1847\u001b[0m res \u001b[38;5;241m=\u001b[39m \u001b[43mfunc\u001b[49m\u001b[43m(\u001b[49m\u001b[38;5;241;43m*\u001b[39;49m\u001b[43margs\u001b[49m\u001b[43m,\u001b[49m\u001b[43m \u001b[49m\u001b[38;5;241;43m*\u001b[39;49m\u001b[38;5;241;43m*\u001b[39;49m\u001b[43mkwargs\u001b[49m\u001b[43m)\u001b[49m\n\u001b[0;32m   1848\u001b[0m \u001b[38;5;28mself\u001b[39m\u001b[38;5;241m.\u001b[39mn_completed_tasks \u001b[38;5;241m+\u001b[39m\u001b[38;5;241m=\u001b[39m \u001b[38;5;241m1\u001b[39m\n\u001b[0;32m   1849\u001b[0m \u001b[38;5;28mself\u001b[39m\u001b[38;5;241m.\u001b[39mprint_progress()\n",
      "File \u001b[1;32m~\\Documents\\GitHub\\ML-Resume-Classifier\\resume-ml-env\\Lib\\site-packages\\sklearn\\utils\\parallel.py:139\u001b[0m, in \u001b[0;36m_FuncWrapper.__call__\u001b[1;34m(self, *args, **kwargs)\u001b[0m\n\u001b[0;32m    137\u001b[0m     config \u001b[38;5;241m=\u001b[39m {}\n\u001b[0;32m    138\u001b[0m \u001b[38;5;28;01mwith\u001b[39;00m config_context(\u001b[38;5;241m*\u001b[39m\u001b[38;5;241m*\u001b[39mconfig):\n\u001b[1;32m--> 139\u001b[0m     \u001b[38;5;28;01mreturn\u001b[39;00m \u001b[38;5;28;43mself\u001b[39;49m\u001b[38;5;241;43m.\u001b[39;49m\u001b[43mfunction\u001b[49m\u001b[43m(\u001b[49m\u001b[38;5;241;43m*\u001b[39;49m\u001b[43margs\u001b[49m\u001b[43m,\u001b[49m\u001b[43m \u001b[49m\u001b[38;5;241;43m*\u001b[39;49m\u001b[38;5;241;43m*\u001b[39;49m\u001b[43mkwargs\u001b[49m\u001b[43m)\u001b[49m\n",
      "File \u001b[1;32m~\\Documents\\GitHub\\ML-Resume-Classifier\\resume-ml-env\\Lib\\site-packages\\sklearn\\decomposition\\_lda.py:140\u001b[0m, in \u001b[0;36m_update_doc_distribution\u001b[1;34m(X, exp_topic_word_distr, doc_topic_prior, max_doc_update_iter, mean_change_tol, cal_sstats, random_state)\u001b[0m\n\u001b[0;32m    137\u001b[0m exp_topic_word_d \u001b[38;5;241m=\u001b[39m exp_topic_word_distr[:, ids]\n\u001b[0;32m    139\u001b[0m \u001b[38;5;66;03m# Iterate between `doc_topic_d` and `norm_phi` until convergence\u001b[39;00m\n\u001b[1;32m--> 140\u001b[0m \u001b[38;5;28;01mfor\u001b[39;00m _ \u001b[38;5;129;01min\u001b[39;00m \u001b[38;5;28mrange\u001b[39m(\u001b[38;5;241m0\u001b[39m, max_doc_update_iter):\n\u001b[0;32m    141\u001b[0m     last_d \u001b[38;5;241m=\u001b[39m doc_topic_d\n\u001b[0;32m    143\u001b[0m     \u001b[38;5;66;03m# The optimal phi_{dwk} is proportional to\u001b[39;00m\n\u001b[0;32m    144\u001b[0m     \u001b[38;5;66;03m# exp(E[log(theta_{dk})]) * exp(E[log(beta_{dw})]).\u001b[39;00m\n",
      "\u001b[1;31mKeyboardInterrupt\u001b[0m: "
     ]
    }
   ],
   "source": [
    "from sklearn.decomposition import LatentDirichletAllocation\n",
    "from sklearn.feature_extraction.text import CountVectorizer\n",
    "\n",
    "# Convert cleaned text into word frequency matrix\n",
    "vectorizer = CountVectorizer(stop_words=\"english\", max_features=1000)\n",
    "X = vectorizer.fit_transform(df[\"clean_description\"])\n",
    "\n",
    "# Train an LDA model to detect main topics\n",
    "lda = LatentDirichletAllocation(n_components=5, random_state=42)\n",
    "lda.fit(X)\n",
    "\n",
    "# Print most common words for each topic\n",
    "words = vectorizer.get_feature_names_out()\n",
    "for topic_idx, topic in enumerate(lda.components_):\n",
    "    print(f\"\\nTopic {topic_idx + 1}:\")\n",
    "    print(\" \".join([words[i] for i in topic.argsort()[:-15 - 1:-1]]))\n"
   ]
  },
  {
   "cell_type": "code",
   "execution_count": null,
   "id": "70c66182-9c26-461c-b9a3-92966fd75b22",
   "metadata": {},
   "outputs": [],
   "source": [
    "from sklearn.feature_extraction.text import TfidfVectorizer\n",
    "\n",
    "vectorizer = TfidfVectorizer(\n",
    "    stop_words=\"english\",\n",
    "    max_features=500,  # Limit vocabulary to strongest words\n",
    "    min_df=100,  # Ignore words appearing in fewer than 100 job descriptions\n",
    "    max_df=0.5,  # Ignore words appearing in more than 50% of job descriptions\n",
    "    ngram_range=(1,2)  # Use bigrams to improve word context\n",
    ")\n",
    "\n",
    "# Apply TF-IDF again\n",
    "X = vectorizer.fit_transform(df[\"clean_description\"])\n",
    "\n",
    "# Print new top words\n",
    "feature_names = vectorizer.get_feature_names_out()\n",
    "print(\"Top 20 Words in TF-IDF Feature List:\\n\", feature_names[:20])\n"
   ]
  },
  {
   "cell_type": "code",
   "execution_count": 137,
   "id": "fc562fda-2935-4d5a-ad03-87475ce209f0",
   "metadata": {},
   "outputs": [
    {
     "name": "stdout",
     "output_type": "stream",
     "text": [
      "Top 20 Words in TF-IDF Feature List:\n",
      " ['algorithms' 'analytical' 'analyze' 'android' 'angular' 'angularjs'\n",
      " 'ansible' 'apis' 'apps' 'architecture' 'architectures' 'area' 'areas'\n",
      " 'assist' 'attention' 'attitude' 'automated' 'automation' 'availability'\n",
      " 'available']\n"
     ]
    }
   ],
   "source": [
    "print(\"Top 20 Words in TF-IDF Feature List:\\n\", feature_names[:20])\n"
   ]
  },
  {
   "cell_type": "code",
   "execution_count": 138,
   "id": "f9728be6-a05b-4d87-8026-72f509cab7d0",
   "metadata": {},
   "outputs": [
    {
     "name": "stderr",
     "output_type": "stream",
     "text": [
      "[nltk_data] Downloading package stopwords to\n",
      "[nltk_data]     C:\\Users\\gopko\\AppData\\Roaming\\nltk_data...\n",
      "[nltk_data]   Package stopwords is already up-to-date!\n"
     ]
    },
    {
     "name": "stdout",
     "output_type": "stream",
     "text": [
      "Words in first cleaned job description: ['experts', 'flutter', 'post', 'time', 'time', 'month', 'flexible', 'food', 'allowance', 'shift', 'supplemental', 'joining', 'bonus', 'overtime', 'year', 'housing', 'rent', 'subsidy', 'temporarily', 'covid']\n"
     ]
    }
   ],
   "source": [
    "import re\n",
    "import nltk\n",
    "from nltk.corpus import stopwords\n",
    "\n",
    "nltk.download(\"stopwords\")\n",
    "custom_stop_words = set(stopwords.words(\"english\")).union(set([\n",
    "    \"hire\", \"developer\", \"eligible\", \"resume\", \"types\", \"full\", \"part\", \n",
    "    \"salary\", \"benefits\", \"schedule\", \"total\", \"industry\", \"software\", \"remotely\",\n",
    "    \"work\", \"high\", \"tasks\", \"experience\", \"good\", \"preferred\", \"proven\",\n",
    "    \"job\", \"preferred\", \"company\", \"managers\", \"handle\", \"accuracy\", \"verbal\",\n",
    "    \"written\", \"handle\", \"opportunity\", \"responsibilities\", \"schedule\", \"frameworks\",\n",
    "    \"skills\", \"python\", \"java\", \"developer\", \"data\", \"computer\", \"science\"\n",
    "]))\n",
    "\n",
    "def clean_text(text):\n",
    "    if not isinstance(text, str):\n",
    "        return \"Unknown\"  # Handle missing values\n",
    "    \n",
    "    text = text.lower()  # Convert to lowercase\n",
    "    text = re.sub(r\"\\d+\", \"\", text)  # Remove numbers\n",
    "    text = re.sub(r\"[^\\w\\s]\", \" \", text)  # Remove punctuation\n",
    "    text = re.sub(r\"\\b[a-zA-Z]{1,2}\\b\", \"\", text)  # Remove very short words (1-2 letters)\n",
    "    text = re.sub(r\"\\s+\", \" \", text).strip()  # Remove extra spaces\n",
    "    words = [word for word in text.split() if word not in custom_stop_words and len(word) > 3]  # Remove stopwords & short words\n",
    "    return \" \".join(words)\n",
    "\n",
    "# Apply the improved cleaning function\n",
    "df[\"clean_description\"] = df[\"clean_description\"].apply(clean_text)\n",
    "\n",
    "# Show cleaned descriptions again\n",
    "print(\"Words in first cleaned job description:\", df[\"clean_description\"].iloc[0].split()[:30])\n"
   ]
  },
  {
   "cell_type": "code",
   "execution_count": 139,
   "id": "4031fa80-cf89-4a9b-8689-c9813a0cf066",
   "metadata": {},
   "outputs": [
    {
     "name": "stdout",
     "output_type": "stream",
     "text": [
      "  address                                   career_objective  \\\n",
      "0     NaN  Big data analytics working and database wareho...   \n",
      "1     NaN  Fresher looking to join as a data analyst and ...   \n",
      "2     NaN                                                NaN   \n",
      "3     NaN  To obtain a position in a fast-paced business ...   \n",
      "4     NaN  Professional accountant with an outstanding wo...   \n",
      "\n",
      "                                              skills  \\\n",
      "0  ['Big Data', 'Hadoop', 'Hive', 'Python', 'Mapr...   \n",
      "1  ['Data Analysis', 'Data Analytics', 'Business ...   \n",
      "2  ['Software Development', 'Machine Learning', '...   \n",
      "3  ['accounts payables', 'accounts receivables', ...   \n",
      "4  ['Analytical reasoning', 'Compliance testing k...   \n",
      "\n",
      "                        educational_institution_name  \\\n",
      "0  ['The Amity School of Engineering & Technology...   \n",
      "1  ['Delhi University - Hansraj College', 'Delhi ...   \n",
      "2    ['Birla Institute of Technology (BIT), Ranchi']   \n",
      "3  ['Martinez Adult Education, Business Training ...   \n",
      "4                          ['Kent State University']   \n",
      "\n",
      "                                        degree_names     passing_years  \\\n",
      "0                                         ['B.Tech']          ['2019']   \n",
      "1    ['B.Sc (Maths)', 'M.Sc (Science) (Statistics)']  ['2015', '2018']   \n",
      "2                                         ['B.Tech']          ['2018']   \n",
      "3  ['Computer Applications Specialist Certificate...          ['2008']   \n",
      "4            ['Bachelor of Business Administration']            [None]   \n",
      "\n",
      "  educational_results    result_types             major_field_of_studies  \\\n",
      "0             ['N/A']          [None]                    ['Electronics']   \n",
      "1      ['N/A', 'N/A']  ['N/A', 'N/A']      ['Mathematics', 'Statistics']   \n",
      "2             ['N/A']         ['N/A']  ['Electronics/Telecommunication']   \n",
      "3              [None]          [None]          ['Computer Applications']   \n",
      "4            ['3.84']          [None]                     ['Accounting']   \n",
      "\n",
      "                          professional_company_names  ... online_links  \\\n",
      "0                                      ['Coca-COla']  ...          NaN   \n",
      "1                                ['BIB Consultancy']  ...          NaN   \n",
      "2                              ['Axis Bank Limited']  ...          NaN   \n",
      "3  ['Company Name ï¼ City , State', 'Company Name...  ...          NaN   \n",
      "4  ['Company Name', 'Company Name', 'Company Name...  ...       [None]   \n",
      "\n",
      "  issue_dates           expiry_dates  \\\n",
      "0         NaN                    NaN   \n",
      "1         NaN                    NaN   \n",
      "2         NaN                    NaN   \n",
      "3         NaN                    NaN   \n",
      "4      [None]  ['February 15, 2021']   \n",
      "\n",
      "                                  ﻿job_position_name  \\\n",
      "0                           Senior Software Engineer   \n",
      "1                     Machine Learning (ML) Engineer   \n",
      "2  Executive/ Senior Executive- Trade Marketing, ...   \n",
      "3                     Business Development Executive   \n",
      "4                                Senior iOS Engineer   \n",
      "\n",
      "                            educationaL_requirements experiencere_requirement  \\\n",
      "0  B.Sc in Computer Science & Engineering from a ...          At least 1 year   \n",
      "1  M.Sc in Computer Science & Engineering or in a...       At least 5 year(s)   \n",
      "2            Master of Business Administration (MBA)         At least 3 years   \n",
      "3                                    Bachelor/Honors             1 to 3 years   \n",
      "4      Bachelor of Science (BSc) in Computer Science         At least 4 years   \n",
      "\n",
      "      age_requirement                                 responsibilities.1  \\\n",
      "0                 NaN  Technical Support\\nTroubleshooting\\nCollaborat...   \n",
      "1                 NaN  Machine Learning Leadership\\nCross-Functional ...   \n",
      "2                 NaN  Trade Marketing Executive\\nBrand Visibility, S...   \n",
      "3  Age 22 to 30 years  Apparel Sourcing\\nQuality Garment Sourcing\\nRe...   \n",
      "4                 NaN  iOS Lifecycle\\nRequirement Analysis\\nNative Fr...   \n",
      "\n",
      "                                     skills_required matched_score  \n",
      "0                                                NaN      0.850000  \n",
      "1                                                NaN      0.750000  \n",
      "2  Brand Promotion\\nCampaign Management\\nField Su...      0.416667  \n",
      "3  Fast typing skill\\nIELTSInternet browsing & on...      0.760000  \n",
      "4  iOS\\niOS App Developer\\niOS Application Develo...      0.650000  \n",
      "\n",
      "[5 rows x 35 columns]\n",
      "<class 'pandas.core.frame.DataFrame'>\n",
      "RangeIndex: 9544 entries, 0 to 9543\n",
      "Data columns (total 35 columns):\n",
      " #   Column                               Non-Null Count  Dtype  \n",
      "---  ------                               --------------  -----  \n",
      " 0   address                              784 non-null    object \n",
      " 1   career_objective                     4740 non-null   object \n",
      " 2   skills                               9488 non-null   object \n",
      " 3   educational_institution_name         9460 non-null   object \n",
      " 4   degree_names                         9460 non-null   object \n",
      " 5   passing_years                        9460 non-null   object \n",
      " 6   educational_results                  9460 non-null   object \n",
      " 7   result_types                         9460 non-null   object \n",
      " 8   major_field_of_studies               9460 non-null   object \n",
      " 9   professional_company_names           9460 non-null   object \n",
      " 10  company_urls                         9460 non-null   object \n",
      " 11  start_dates                          9460 non-null   object \n",
      " 12  end_dates                            9460 non-null   object \n",
      " 13  related_skils_in_job                 9460 non-null   object \n",
      " 14  positions                            9460 non-null   object \n",
      " 15  locations                            9460 non-null   object \n",
      " 16  responsibilities                     9544 non-null   object \n",
      " 17  extra_curricular_activity_types      3426 non-null   object \n",
      " 18  extra_curricular_organization_names  3426 non-null   object \n",
      " 19  extra_curricular_organization_links  3426 non-null   object \n",
      " 20  role_positions                       3426 non-null   object \n",
      " 21  languages                            700 non-null    object \n",
      " 22  proficiency_levels                   700 non-null    object \n",
      " 23  certification_providers              2008 non-null   object \n",
      " 24  certification_skills                 2008 non-null   object \n",
      " 25  online_links                         2008 non-null   object \n",
      " 26  issue_dates                          2008 non-null   object \n",
      " 27  expiry_dates                         2008 non-null   object \n",
      " 28  ﻿job_position_name                   9544 non-null   object \n",
      " 29  educationaL_requirements             9544 non-null   object \n",
      " 30  experiencere_requirement             8180 non-null   object \n",
      " 31  age_requirement                      5457 non-null   object \n",
      " 32  responsibilities.1                   9544 non-null   object \n",
      " 33  skills_required                      7843 non-null   object \n",
      " 34  matched_score                        9544 non-null   float64\n",
      "dtypes: float64(1), object(34)\n",
      "memory usage: 2.5+ MB\n",
      "None\n",
      "Columns in dataset: Index(['address', 'career_objective', 'skills', 'educational_institution_name',\n",
      "       'degree_names', 'passing_years', 'educational_results', 'result_types',\n",
      "       'major_field_of_studies', 'professional_company_names', 'company_urls',\n",
      "       'start_dates', 'end_dates', 'related_skils_in_job', 'positions',\n",
      "       'locations', 'responsibilities', 'extra_curricular_activity_types',\n",
      "       'extra_curricular_organization_names',\n",
      "       'extra_curricular_organization_links', 'role_positions', 'languages',\n",
      "       'proficiency_levels', 'certification_providers', 'certification_skills',\n",
      "       'online_links', 'issue_dates', 'expiry_dates', '﻿job_position_name',\n",
      "       'educationaL_requirements', 'experiencere_requirement',\n",
      "       'age_requirement', 'responsibilities.1', 'skills_required',\n",
      "       'matched_score'],\n",
      "      dtype='object')\n"
     ]
    }
   ],
   "source": [
    "import pandas as pd\n",
    "\n",
    "# Load the new dataset\n",
    "file_path = r\"C:\\Users\\gopko\\Documents\\GitHub\\ML-Resume-Classifier\\data\\resumeV4.csv\"\n",
    "df = pd.read_csv(file_path)\n",
    "\n",
    "# Show first few rows\n",
    "print(df.head())\n",
    "\n",
    "# Show dataset structure\n",
    "print(df.info())\n",
    "\n",
    "# Show column names\n",
    "print(\"Columns in dataset:\", df.columns)\n"
   ]
  },
  {
   "cell_type": "code",
   "execution_count": 140,
   "id": "1ffea690-1728-4fe8-a242-686b35c1407f",
   "metadata": {},
   "outputs": [
    {
     "name": "stdout",
     "output_type": "stream",
     "text": [
      "Index(['address', 'career_objective', 'skills', 'educational_institution_name',\n",
      "       'degree_names', 'passing_years', 'educational_results', 'result_types',\n",
      "       'major_field_of_studies', 'professional_company_names', 'company_urls',\n",
      "       'start_dates', 'end_dates', 'related_skils_in_job', 'positions',\n",
      "       'locations', 'responsibilities', 'extra_curricular_activity_types',\n",
      "       'extra_curricular_organization_names',\n",
      "       'extra_curricular_organization_links', 'role_positions', 'languages',\n",
      "       'proficiency_levels', 'certification_providers', 'certification_skills',\n",
      "       'online_links', 'issue_dates', 'expiry_dates', '﻿job_position_name',\n",
      "       'educationaL_requirements', 'experiencere_requirement',\n",
      "       'age_requirement', 'responsibilities.1', 'skills_required',\n",
      "       'matched_score'],\n",
      "      dtype='object')\n"
     ]
    }
   ],
   "source": [
    "print(df.columns)\n"
   ]
  },
  {
   "cell_type": "code",
   "execution_count": 141,
   "id": "37f92943-0732-4c96-a322-7a0c4a8232ce",
   "metadata": {},
   "outputs": [
    {
     "name": "stdout",
     "output_type": "stream",
     "text": [
      "Updated Columns: Index(['address', 'career_objective', 'skills', 'educational_institution_name',\n",
      "       'degree_names', 'passing_years', 'educational_results', 'result_types',\n",
      "       'major_field_of_studies', 'professional_company_names', 'company_urls',\n",
      "       'start_dates', 'end_dates', 'related_skils_in_job', 'positions',\n",
      "       'locations', 'responsibilities', 'extra_curricular_activity_types',\n",
      "       'extra_curricular_organization_names',\n",
      "       'extra_curricular_organization_links', 'role_positions', 'languages',\n",
      "       'proficiency_levels', 'certification_providers', 'certification_skills',\n",
      "       'online_links', 'issue_dates', 'expiry_dates', '﻿job_position_name',\n",
      "       'educationaL_requirements', 'experiencere_requirement',\n",
      "       'age_requirement', 'responsibilities.1', 'skills_required',\n",
      "       'matched_score'],\n",
      "      dtype='object')\n"
     ]
    }
   ],
   "source": [
    "df.rename(columns={\"actual_resume_column\": \"clean_description\", \"job_category_column\": \"category\"}, inplace=True)\n",
    "print(\"Updated Columns:\", df.columns)\n"
   ]
  },
  {
   "cell_type": "code",
   "execution_count": 142,
   "id": "4d203af3-459d-4daa-a3cf-564e3a415f2b",
   "metadata": {},
   "outputs": [
    {
     "name": "stderr",
     "output_type": "stream",
     "text": [
      "[nltk_data] Downloading package stopwords to\n",
      "[nltk_data]     C:\\Users\\gopko\\AppData\\Roaming\\nltk_data...\n",
      "[nltk_data]   Package stopwords is already up-to-date!\n"
     ]
    },
    {
     "ename": "KeyError",
     "evalue": "'clean_description'",
     "output_type": "error",
     "traceback": [
      "\u001b[1;31m---------------------------------------------------------------------------\u001b[0m",
      "\u001b[1;31mKeyError\u001b[0m                                  Traceback (most recent call last)",
      "File \u001b[1;32m~\\Documents\\GitHub\\ML-Resume-Classifier\\resume-ml-env\\Lib\\site-packages\\pandas\\core\\indexes\\base.py:3805\u001b[0m, in \u001b[0;36mIndex.get_loc\u001b[1;34m(self, key)\u001b[0m\n\u001b[0;32m   3804\u001b[0m \u001b[38;5;28;01mtry\u001b[39;00m:\n\u001b[1;32m-> 3805\u001b[0m     \u001b[38;5;28;01mreturn\u001b[39;00m \u001b[38;5;28;43mself\u001b[39;49m\u001b[38;5;241;43m.\u001b[39;49m\u001b[43m_engine\u001b[49m\u001b[38;5;241;43m.\u001b[39;49m\u001b[43mget_loc\u001b[49m\u001b[43m(\u001b[49m\u001b[43mcasted_key\u001b[49m\u001b[43m)\u001b[49m\n\u001b[0;32m   3806\u001b[0m \u001b[38;5;28;01mexcept\u001b[39;00m \u001b[38;5;167;01mKeyError\u001b[39;00m \u001b[38;5;28;01mas\u001b[39;00m err:\n",
      "File \u001b[1;32mindex.pyx:167\u001b[0m, in \u001b[0;36mpandas._libs.index.IndexEngine.get_loc\u001b[1;34m()\u001b[0m\n",
      "File \u001b[1;32mindex.pyx:196\u001b[0m, in \u001b[0;36mpandas._libs.index.IndexEngine.get_loc\u001b[1;34m()\u001b[0m\n",
      "File \u001b[1;32mpandas\\\\_libs\\\\hashtable_class_helper.pxi:7081\u001b[0m, in \u001b[0;36mpandas._libs.hashtable.PyObjectHashTable.get_item\u001b[1;34m()\u001b[0m\n",
      "File \u001b[1;32mpandas\\\\_libs\\\\hashtable_class_helper.pxi:7089\u001b[0m, in \u001b[0;36mpandas._libs.hashtable.PyObjectHashTable.get_item\u001b[1;34m()\u001b[0m\n",
      "\u001b[1;31mKeyError\u001b[0m: 'clean_description'",
      "\nThe above exception was the direct cause of the following exception:\n",
      "\u001b[1;31mKeyError\u001b[0m                                  Traceback (most recent call last)",
      "Cell \u001b[1;32mIn[142], line 25\u001b[0m\n\u001b[0;32m     22\u001b[0m     \u001b[38;5;28;01mreturn\u001b[39;00m \u001b[38;5;124m\"\u001b[39m\u001b[38;5;124m \u001b[39m\u001b[38;5;124m\"\u001b[39m\u001b[38;5;241m.\u001b[39mjoin(words)\n\u001b[0;32m     24\u001b[0m \u001b[38;5;66;03m# Apply the improved cleaning function\u001b[39;00m\n\u001b[1;32m---> 25\u001b[0m df[\u001b[38;5;124m\"\u001b[39m\u001b[38;5;124mclean_description\u001b[39m\u001b[38;5;124m\"\u001b[39m] \u001b[38;5;241m=\u001b[39m \u001b[43mdf\u001b[49m\u001b[43m[\u001b[49m\u001b[38;5;124;43m\"\u001b[39;49m\u001b[38;5;124;43mclean_description\u001b[39;49m\u001b[38;5;124;43m\"\u001b[39;49m\u001b[43m]\u001b[49m\u001b[38;5;241m.\u001b[39mapply(clean_text)\n\u001b[0;32m     27\u001b[0m \u001b[38;5;66;03m# Show cleaned text\u001b[39;00m\n\u001b[0;32m     28\u001b[0m \u001b[38;5;28mprint\u001b[39m(\u001b[38;5;124m\"\u001b[39m\u001b[38;5;124mWords in first cleaned resume:\u001b[39m\u001b[38;5;124m\"\u001b[39m, df[\u001b[38;5;124m\"\u001b[39m\u001b[38;5;124mclean_description\u001b[39m\u001b[38;5;124m\"\u001b[39m]\u001b[38;5;241m.\u001b[39miloc[\u001b[38;5;241m0\u001b[39m]\u001b[38;5;241m.\u001b[39msplit()[:\u001b[38;5;241m30\u001b[39m])\n",
      "File \u001b[1;32m~\\Documents\\GitHub\\ML-Resume-Classifier\\resume-ml-env\\Lib\\site-packages\\pandas\\core\\frame.py:4102\u001b[0m, in \u001b[0;36mDataFrame.__getitem__\u001b[1;34m(self, key)\u001b[0m\n\u001b[0;32m   4100\u001b[0m \u001b[38;5;28;01mif\u001b[39;00m \u001b[38;5;28mself\u001b[39m\u001b[38;5;241m.\u001b[39mcolumns\u001b[38;5;241m.\u001b[39mnlevels \u001b[38;5;241m>\u001b[39m \u001b[38;5;241m1\u001b[39m:\n\u001b[0;32m   4101\u001b[0m     \u001b[38;5;28;01mreturn\u001b[39;00m \u001b[38;5;28mself\u001b[39m\u001b[38;5;241m.\u001b[39m_getitem_multilevel(key)\n\u001b[1;32m-> 4102\u001b[0m indexer \u001b[38;5;241m=\u001b[39m \u001b[38;5;28;43mself\u001b[39;49m\u001b[38;5;241;43m.\u001b[39;49m\u001b[43mcolumns\u001b[49m\u001b[38;5;241;43m.\u001b[39;49m\u001b[43mget_loc\u001b[49m\u001b[43m(\u001b[49m\u001b[43mkey\u001b[49m\u001b[43m)\u001b[49m\n\u001b[0;32m   4103\u001b[0m \u001b[38;5;28;01mif\u001b[39;00m is_integer(indexer):\n\u001b[0;32m   4104\u001b[0m     indexer \u001b[38;5;241m=\u001b[39m [indexer]\n",
      "File \u001b[1;32m~\\Documents\\GitHub\\ML-Resume-Classifier\\resume-ml-env\\Lib\\site-packages\\pandas\\core\\indexes\\base.py:3812\u001b[0m, in \u001b[0;36mIndex.get_loc\u001b[1;34m(self, key)\u001b[0m\n\u001b[0;32m   3807\u001b[0m     \u001b[38;5;28;01mif\u001b[39;00m \u001b[38;5;28misinstance\u001b[39m(casted_key, \u001b[38;5;28mslice\u001b[39m) \u001b[38;5;129;01mor\u001b[39;00m (\n\u001b[0;32m   3808\u001b[0m         \u001b[38;5;28misinstance\u001b[39m(casted_key, abc\u001b[38;5;241m.\u001b[39mIterable)\n\u001b[0;32m   3809\u001b[0m         \u001b[38;5;129;01mand\u001b[39;00m \u001b[38;5;28many\u001b[39m(\u001b[38;5;28misinstance\u001b[39m(x, \u001b[38;5;28mslice\u001b[39m) \u001b[38;5;28;01mfor\u001b[39;00m x \u001b[38;5;129;01min\u001b[39;00m casted_key)\n\u001b[0;32m   3810\u001b[0m     ):\n\u001b[0;32m   3811\u001b[0m         \u001b[38;5;28;01mraise\u001b[39;00m InvalidIndexError(key)\n\u001b[1;32m-> 3812\u001b[0m     \u001b[38;5;28;01mraise\u001b[39;00m \u001b[38;5;167;01mKeyError\u001b[39;00m(key) \u001b[38;5;28;01mfrom\u001b[39;00m\u001b[38;5;250m \u001b[39m\u001b[38;5;21;01merr\u001b[39;00m\n\u001b[0;32m   3813\u001b[0m \u001b[38;5;28;01mexcept\u001b[39;00m \u001b[38;5;167;01mTypeError\u001b[39;00m:\n\u001b[0;32m   3814\u001b[0m     \u001b[38;5;66;03m# If we have a listlike key, _check_indexing_error will raise\u001b[39;00m\n\u001b[0;32m   3815\u001b[0m     \u001b[38;5;66;03m#  InvalidIndexError. Otherwise we fall through and re-raise\u001b[39;00m\n\u001b[0;32m   3816\u001b[0m     \u001b[38;5;66;03m#  the TypeError.\u001b[39;00m\n\u001b[0;32m   3817\u001b[0m     \u001b[38;5;28mself\u001b[39m\u001b[38;5;241m.\u001b[39m_check_indexing_error(key)\n",
      "\u001b[1;31mKeyError\u001b[0m: 'clean_description'"
     ]
    }
   ],
   "source": [
    "import re\n",
    "import nltk\n",
    "from nltk.corpus import stopwords\n",
    "\n",
    "nltk.download(\"stopwords\")\n",
    "custom_stop_words = set(stopwords.words(\"english\")).union(set([\n",
    "    \"experience\", \"skills\", \"knowledge\", \"worked\", \"expertise\", \"responsible\",\n",
    "    \"ability\", \"working\", \"proficient\", \"development\", \"team\", \"projects\",\n",
    "    \"hiring\", \"looking\", \"job\", \"description\"\n",
    "]))\n",
    "\n",
    "def clean_text(text):\n",
    "    if not isinstance(text, str):\n",
    "        return \"Unknown\"  # Handle missing values\n",
    "    \n",
    "    text = text.lower()  # Convert to lowercase\n",
    "    text = re.sub(r\"\\d+\", \"\", text)  # Remove numbers\n",
    "    text = re.sub(r\"[^\\w\\s]\", \" \", text)  # Remove punctuation\n",
    "    text = re.sub(r\"\\b[a-zA-Z]{1,2}\\b\", \"\", text)  # Remove very short words (1-2 letters)\n",
    "    text = re.sub(r\"\\s+\", \" \", text).strip()  # Remove extra spaces\n",
    "    words = [word for word in text.split() if word not in custom_stop_words and len(word) > 3]  # Remove stopwords & short words\n",
    "    return \" \".join(words)\n",
    "\n",
    "# Apply the improved cleaning function\n",
    "df[\"clean_description\"] = df[\"clean_description\"].apply(clean_text)\n",
    "\n",
    "# Show cleaned text\n",
    "print(\"Words in first cleaned resume:\", df[\"clean_description\"].iloc[0].split()[:30])\n"
   ]
  },
  {
   "cell_type": "code",
   "execution_count": 143,
   "id": "94ac68d6-a05b-47bd-a69d-879a76b55ad9",
   "metadata": {},
   "outputs": [
    {
     "name": "stdout",
     "output_type": "stream",
     "text": [
      "Dataset Columns: ['address', 'career_objective', 'skills', 'educational_institution_name', 'degree_names', 'passing_years', 'educational_results', 'result_types', 'major_field_of_studies', 'professional_company_names', 'company_urls', 'start_dates', 'end_dates', 'related_skils_in_job', 'positions', 'locations', 'responsibilities', 'extra_curricular_activity_types', 'extra_curricular_organization_names', 'extra_curricular_organization_links', 'role_positions', 'languages', 'proficiency_levels', 'certification_providers', 'certification_skills', 'online_links', 'issue_dates', 'expiry_dates', '\\ufeffjob_position_name', 'educationaL_requirements', 'experiencere_requirement', 'age_requirement', 'responsibilities.1', 'skills_required', 'matched_score']\n"
     ]
    }
   ],
   "source": [
    "print(\"Dataset Columns:\", df.columns.tolist())\n"
   ]
  },
  {
   "cell_type": "code",
   "execution_count": 144,
   "id": "081619f6-bcc5-4707-9575-278a33879114",
   "metadata": {},
   "outputs": [
    {
     "name": "stdout",
     "output_type": "stream",
     "text": [
      "                                    career_objective  \\\n",
      "0  Big data analytics working and database wareho...   \n",
      "1  Fresher looking to join as a data analyst and ...   \n",
      "2                                                NaN   \n",
      "3  To obtain a position in a fast-paced business ...   \n",
      "4  Professional accountant with an outstanding wo...   \n",
      "\n",
      "                                    responsibilities  \\\n",
      "0  Technical Support\\nTroubleshooting\\nCollaborat...   \n",
      "1  Machine Learning Leadership\\nCross-Functional ...   \n",
      "2  Trade Marketing Executive\\nBrand Visibility, S...   \n",
      "3  Apparel Sourcing\\nQuality Garment Sourcing\\nRe...   \n",
      "4  iOS Lifecycle\\nRequirement Analysis\\nNative Fr...   \n",
      "\n",
      "                                              skills  \n",
      "0  ['Big Data', 'Hadoop', 'Hive', 'Python', 'Mapr...  \n",
      "1  ['Data Analysis', 'Data Analytics', 'Business ...  \n",
      "2  ['Software Development', 'Machine Learning', '...  \n",
      "3  ['accounts payables', 'accounts receivables', ...  \n",
      "4  ['Analytical reasoning', 'Compliance testing k...  \n"
     ]
    }
   ],
   "source": [
    "print(df[[\"career_objective\", \"responsibilities\", \"skills\"]].head(5))\n"
   ]
  },
  {
   "cell_type": "code",
   "execution_count": 145,
   "id": "1303fbb2-e439-4d00-919f-9c1ba20f08f9",
   "metadata": {},
   "outputs": [],
   "source": [
    "df.rename(columns={\"career_objective\": \"clean_description\"}, inplace=True)\n"
   ]
  },
  {
   "cell_type": "code",
   "execution_count": 146,
   "id": "b1808d85-708a-4333-a686-7270f131ff32",
   "metadata": {},
   "outputs": [],
   "source": [
    "df.rename(columns={\"responsibilities\": \"clean_description\"}, inplace=True)\n"
   ]
  },
  {
   "cell_type": "code",
   "execution_count": 147,
   "id": "ac55967f-f19a-4d77-8e89-9c02ae4b51ef",
   "metadata": {},
   "outputs": [
    {
     "ename": "KeyError",
     "evalue": "'career_objective'",
     "output_type": "error",
     "traceback": [
      "\u001b[1;31m---------------------------------------------------------------------------\u001b[0m",
      "\u001b[1;31mKeyError\u001b[0m                                  Traceback (most recent call last)",
      "File \u001b[1;32m~\\Documents\\GitHub\\ML-Resume-Classifier\\resume-ml-env\\Lib\\site-packages\\pandas\\core\\indexes\\base.py:3805\u001b[0m, in \u001b[0;36mIndex.get_loc\u001b[1;34m(self, key)\u001b[0m\n\u001b[0;32m   3804\u001b[0m \u001b[38;5;28;01mtry\u001b[39;00m:\n\u001b[1;32m-> 3805\u001b[0m     \u001b[38;5;28;01mreturn\u001b[39;00m \u001b[38;5;28;43mself\u001b[39;49m\u001b[38;5;241;43m.\u001b[39;49m\u001b[43m_engine\u001b[49m\u001b[38;5;241;43m.\u001b[39;49m\u001b[43mget_loc\u001b[49m\u001b[43m(\u001b[49m\u001b[43mcasted_key\u001b[49m\u001b[43m)\u001b[49m\n\u001b[0;32m   3806\u001b[0m \u001b[38;5;28;01mexcept\u001b[39;00m \u001b[38;5;167;01mKeyError\u001b[39;00m \u001b[38;5;28;01mas\u001b[39;00m err:\n",
      "File \u001b[1;32mindex.pyx:167\u001b[0m, in \u001b[0;36mpandas._libs.index.IndexEngine.get_loc\u001b[1;34m()\u001b[0m\n",
      "File \u001b[1;32mindex.pyx:191\u001b[0m, in \u001b[0;36mpandas._libs.index.IndexEngine.get_loc\u001b[1;34m()\u001b[0m\n",
      "File \u001b[1;32mindex.pyx:234\u001b[0m, in \u001b[0;36mpandas._libs.index.IndexEngine._get_loc_duplicates\u001b[1;34m()\u001b[0m\n",
      "File \u001b[1;32mindex.pyx:242\u001b[0m, in \u001b[0;36mpandas._libs.index.IndexEngine._maybe_get_bool_indexer\u001b[1;34m()\u001b[0m\n",
      "File \u001b[1;32mindex.pyx:134\u001b[0m, in \u001b[0;36mpandas._libs.index._unpack_bool_indexer\u001b[1;34m()\u001b[0m\n",
      "\u001b[1;31mKeyError\u001b[0m: 'career_objective'",
      "\nThe above exception was the direct cause of the following exception:\n",
      "\u001b[1;31mKeyError\u001b[0m                                  Traceback (most recent call last)",
      "Cell \u001b[1;32mIn[147], line 1\u001b[0m\n\u001b[1;32m----> 1\u001b[0m df[\u001b[38;5;124m\"\u001b[39m\u001b[38;5;124mclean_description\u001b[39m\u001b[38;5;124m\"\u001b[39m] \u001b[38;5;241m=\u001b[39m \u001b[43mdf\u001b[49m\u001b[43m[\u001b[49m\u001b[38;5;124;43m\"\u001b[39;49m\u001b[38;5;124;43mcareer_objective\u001b[39;49m\u001b[38;5;124;43m\"\u001b[39;49m\u001b[43m]\u001b[49m\u001b[38;5;241m.\u001b[39mfillna(\u001b[38;5;124m\"\u001b[39m\u001b[38;5;124m\"\u001b[39m) \u001b[38;5;241m+\u001b[39m \u001b[38;5;124m\"\u001b[39m\u001b[38;5;124m \u001b[39m\u001b[38;5;124m\"\u001b[39m \u001b[38;5;241m+\u001b[39m df[\u001b[38;5;124m\"\u001b[39m\u001b[38;5;124mresponsibilities\u001b[39m\u001b[38;5;124m\"\u001b[39m]\u001b[38;5;241m.\u001b[39mfillna(\u001b[38;5;124m\"\u001b[39m\u001b[38;5;124m\"\u001b[39m)\n",
      "File \u001b[1;32m~\\Documents\\GitHub\\ML-Resume-Classifier\\resume-ml-env\\Lib\\site-packages\\pandas\\core\\frame.py:4102\u001b[0m, in \u001b[0;36mDataFrame.__getitem__\u001b[1;34m(self, key)\u001b[0m\n\u001b[0;32m   4100\u001b[0m \u001b[38;5;28;01mif\u001b[39;00m \u001b[38;5;28mself\u001b[39m\u001b[38;5;241m.\u001b[39mcolumns\u001b[38;5;241m.\u001b[39mnlevels \u001b[38;5;241m>\u001b[39m \u001b[38;5;241m1\u001b[39m:\n\u001b[0;32m   4101\u001b[0m     \u001b[38;5;28;01mreturn\u001b[39;00m \u001b[38;5;28mself\u001b[39m\u001b[38;5;241m.\u001b[39m_getitem_multilevel(key)\n\u001b[1;32m-> 4102\u001b[0m indexer \u001b[38;5;241m=\u001b[39m \u001b[38;5;28;43mself\u001b[39;49m\u001b[38;5;241;43m.\u001b[39;49m\u001b[43mcolumns\u001b[49m\u001b[38;5;241;43m.\u001b[39;49m\u001b[43mget_loc\u001b[49m\u001b[43m(\u001b[49m\u001b[43mkey\u001b[49m\u001b[43m)\u001b[49m\n\u001b[0;32m   4103\u001b[0m \u001b[38;5;28;01mif\u001b[39;00m is_integer(indexer):\n\u001b[0;32m   4104\u001b[0m     indexer \u001b[38;5;241m=\u001b[39m [indexer]\n",
      "File \u001b[1;32m~\\Documents\\GitHub\\ML-Resume-Classifier\\resume-ml-env\\Lib\\site-packages\\pandas\\core\\indexes\\base.py:3812\u001b[0m, in \u001b[0;36mIndex.get_loc\u001b[1;34m(self, key)\u001b[0m\n\u001b[0;32m   3807\u001b[0m     \u001b[38;5;28;01mif\u001b[39;00m \u001b[38;5;28misinstance\u001b[39m(casted_key, \u001b[38;5;28mslice\u001b[39m) \u001b[38;5;129;01mor\u001b[39;00m (\n\u001b[0;32m   3808\u001b[0m         \u001b[38;5;28misinstance\u001b[39m(casted_key, abc\u001b[38;5;241m.\u001b[39mIterable)\n\u001b[0;32m   3809\u001b[0m         \u001b[38;5;129;01mand\u001b[39;00m \u001b[38;5;28many\u001b[39m(\u001b[38;5;28misinstance\u001b[39m(x, \u001b[38;5;28mslice\u001b[39m) \u001b[38;5;28;01mfor\u001b[39;00m x \u001b[38;5;129;01min\u001b[39;00m casted_key)\n\u001b[0;32m   3810\u001b[0m     ):\n\u001b[0;32m   3811\u001b[0m         \u001b[38;5;28;01mraise\u001b[39;00m InvalidIndexError(key)\n\u001b[1;32m-> 3812\u001b[0m     \u001b[38;5;28;01mraise\u001b[39;00m \u001b[38;5;167;01mKeyError\u001b[39;00m(key) \u001b[38;5;28;01mfrom\u001b[39;00m\u001b[38;5;250m \u001b[39m\u001b[38;5;21;01merr\u001b[39;00m\n\u001b[0;32m   3813\u001b[0m \u001b[38;5;28;01mexcept\u001b[39;00m \u001b[38;5;167;01mTypeError\u001b[39;00m:\n\u001b[0;32m   3814\u001b[0m     \u001b[38;5;66;03m# If we have a listlike key, _check_indexing_error will raise\u001b[39;00m\n\u001b[0;32m   3815\u001b[0m     \u001b[38;5;66;03m#  InvalidIndexError. Otherwise we fall through and re-raise\u001b[39;00m\n\u001b[0;32m   3816\u001b[0m     \u001b[38;5;66;03m#  the TypeError.\u001b[39;00m\n\u001b[0;32m   3817\u001b[0m     \u001b[38;5;28mself\u001b[39m\u001b[38;5;241m.\u001b[39m_check_indexing_error(key)\n",
      "\u001b[1;31mKeyError\u001b[0m: 'career_objective'"
     ]
    }
   ],
   "source": [
    "df[\"clean_description\"] = df[\"career_objective\"].fillna(\"\") + \" \" + df[\"responsibilities\"].fillna(\"\")\n"
   ]
  },
  {
   "cell_type": "code",
   "execution_count": 148,
   "id": "ffc02b68-ea4c-4a4b-89ab-7c4f91ece63a",
   "metadata": {},
   "outputs": [
    {
     "name": "stdout",
     "output_type": "stream",
     "text": [
      "Dataset Columns: ['address', 'clean_description', 'skills', 'educational_institution_name', 'degree_names', 'passing_years', 'educational_results', 'result_types', 'major_field_of_studies', 'professional_company_names', 'company_urls', 'start_dates', 'end_dates', 'related_skils_in_job', 'positions', 'locations', 'clean_description', 'extra_curricular_activity_types', 'extra_curricular_organization_names', 'extra_curricular_organization_links', 'role_positions', 'languages', 'proficiency_levels', 'certification_providers', 'certification_skills', 'online_links', 'issue_dates', 'expiry_dates', '\\ufeffjob_position_name', 'educationaL_requirements', 'experiencere_requirement', 'age_requirement', 'responsibilities.1', 'skills_required', 'matched_score']\n"
     ]
    }
   ],
   "source": [
    "print(\"Dataset Columns:\", df.columns.tolist())\n"
   ]
  },
  {
   "cell_type": "code",
   "execution_count": 149,
   "id": "801f582e-8920-4f27-85a8-2d25ba676967",
   "metadata": {},
   "outputs": [
    {
     "ename": "KeyError",
     "evalue": "\"['responsibilities'] not in index\"",
     "output_type": "error",
     "traceback": [
      "\u001b[1;31m---------------------------------------------------------------------------\u001b[0m",
      "\u001b[1;31mKeyError\u001b[0m                                  Traceback (most recent call last)",
      "Cell \u001b[1;32mIn[149], line 1\u001b[0m\n\u001b[1;32m----> 1\u001b[0m \u001b[38;5;28mprint\u001b[39m(\u001b[43mdf\u001b[49m\u001b[43m[\u001b[49m\u001b[43m[\u001b[49m\u001b[38;5;124;43m\"\u001b[39;49m\u001b[38;5;124;43mresponsibilities\u001b[39;49m\u001b[38;5;124;43m\"\u001b[39;49m\u001b[43m,\u001b[49m\u001b[43m \u001b[49m\u001b[38;5;124;43m\"\u001b[39;49m\u001b[38;5;124;43mskills\u001b[39;49m\u001b[38;5;124;43m\"\u001b[39;49m\u001b[43m,\u001b[49m\u001b[43m \u001b[49m\u001b[38;5;124;43m\"\u001b[39;49m\u001b[38;5;124;43mpositions\u001b[39;49m\u001b[38;5;124;43m\"\u001b[39;49m\u001b[43m]\u001b[49m\u001b[43m]\u001b[49m\u001b[38;5;241m.\u001b[39mhead(\u001b[38;5;241m5\u001b[39m))\n",
      "File \u001b[1;32m~\\Documents\\GitHub\\ML-Resume-Classifier\\resume-ml-env\\Lib\\site-packages\\pandas\\core\\frame.py:4108\u001b[0m, in \u001b[0;36mDataFrame.__getitem__\u001b[1;34m(self, key)\u001b[0m\n\u001b[0;32m   4106\u001b[0m     \u001b[38;5;28;01mif\u001b[39;00m is_iterator(key):\n\u001b[0;32m   4107\u001b[0m         key \u001b[38;5;241m=\u001b[39m \u001b[38;5;28mlist\u001b[39m(key)\n\u001b[1;32m-> 4108\u001b[0m     indexer \u001b[38;5;241m=\u001b[39m \u001b[38;5;28;43mself\u001b[39;49m\u001b[38;5;241;43m.\u001b[39;49m\u001b[43mcolumns\u001b[49m\u001b[38;5;241;43m.\u001b[39;49m\u001b[43m_get_indexer_strict\u001b[49m\u001b[43m(\u001b[49m\u001b[43mkey\u001b[49m\u001b[43m,\u001b[49m\u001b[43m \u001b[49m\u001b[38;5;124;43m\"\u001b[39;49m\u001b[38;5;124;43mcolumns\u001b[39;49m\u001b[38;5;124;43m\"\u001b[39;49m\u001b[43m)\u001b[49m[\u001b[38;5;241m1\u001b[39m]\n\u001b[0;32m   4110\u001b[0m \u001b[38;5;66;03m# take() does not accept boolean indexers\u001b[39;00m\n\u001b[0;32m   4111\u001b[0m \u001b[38;5;28;01mif\u001b[39;00m \u001b[38;5;28mgetattr\u001b[39m(indexer, \u001b[38;5;124m\"\u001b[39m\u001b[38;5;124mdtype\u001b[39m\u001b[38;5;124m\"\u001b[39m, \u001b[38;5;28;01mNone\u001b[39;00m) \u001b[38;5;241m==\u001b[39m \u001b[38;5;28mbool\u001b[39m:\n",
      "File \u001b[1;32m~\\Documents\\GitHub\\ML-Resume-Classifier\\resume-ml-env\\Lib\\site-packages\\pandas\\core\\indexes\\base.py:6200\u001b[0m, in \u001b[0;36mIndex._get_indexer_strict\u001b[1;34m(self, key, axis_name)\u001b[0m\n\u001b[0;32m   6197\u001b[0m \u001b[38;5;28;01melse\u001b[39;00m:\n\u001b[0;32m   6198\u001b[0m     keyarr, indexer, new_indexer \u001b[38;5;241m=\u001b[39m \u001b[38;5;28mself\u001b[39m\u001b[38;5;241m.\u001b[39m_reindex_non_unique(keyarr)\n\u001b[1;32m-> 6200\u001b[0m \u001b[38;5;28;43mself\u001b[39;49m\u001b[38;5;241;43m.\u001b[39;49m\u001b[43m_raise_if_missing\u001b[49m\u001b[43m(\u001b[49m\u001b[43mkeyarr\u001b[49m\u001b[43m,\u001b[49m\u001b[43m \u001b[49m\u001b[43mindexer\u001b[49m\u001b[43m,\u001b[49m\u001b[43m \u001b[49m\u001b[43maxis_name\u001b[49m\u001b[43m)\u001b[49m\n\u001b[0;32m   6202\u001b[0m keyarr \u001b[38;5;241m=\u001b[39m \u001b[38;5;28mself\u001b[39m\u001b[38;5;241m.\u001b[39mtake(indexer)\n\u001b[0;32m   6203\u001b[0m \u001b[38;5;28;01mif\u001b[39;00m \u001b[38;5;28misinstance\u001b[39m(key, Index):\n\u001b[0;32m   6204\u001b[0m     \u001b[38;5;66;03m# GH 42790 - Preserve name from an Index\u001b[39;00m\n",
      "File \u001b[1;32m~\\Documents\\GitHub\\ML-Resume-Classifier\\resume-ml-env\\Lib\\site-packages\\pandas\\core\\indexes\\base.py:6252\u001b[0m, in \u001b[0;36mIndex._raise_if_missing\u001b[1;34m(self, key, indexer, axis_name)\u001b[0m\n\u001b[0;32m   6249\u001b[0m     \u001b[38;5;28;01mraise\u001b[39;00m \u001b[38;5;167;01mKeyError\u001b[39;00m(\u001b[38;5;124mf\u001b[39m\u001b[38;5;124m\"\u001b[39m\u001b[38;5;124mNone of [\u001b[39m\u001b[38;5;132;01m{\u001b[39;00mkey\u001b[38;5;132;01m}\u001b[39;00m\u001b[38;5;124m] are in the [\u001b[39m\u001b[38;5;132;01m{\u001b[39;00maxis_name\u001b[38;5;132;01m}\u001b[39;00m\u001b[38;5;124m]\u001b[39m\u001b[38;5;124m\"\u001b[39m)\n\u001b[0;32m   6251\u001b[0m not_found \u001b[38;5;241m=\u001b[39m \u001b[38;5;28mlist\u001b[39m(ensure_index(key)[missing_mask\u001b[38;5;241m.\u001b[39mnonzero()[\u001b[38;5;241m0\u001b[39m]]\u001b[38;5;241m.\u001b[39munique())\n\u001b[1;32m-> 6252\u001b[0m \u001b[38;5;28;01mraise\u001b[39;00m \u001b[38;5;167;01mKeyError\u001b[39;00m(\u001b[38;5;124mf\u001b[39m\u001b[38;5;124m\"\u001b[39m\u001b[38;5;132;01m{\u001b[39;00mnot_found\u001b[38;5;132;01m}\u001b[39;00m\u001b[38;5;124m not in index\u001b[39m\u001b[38;5;124m\"\u001b[39m)\n",
      "\u001b[1;31mKeyError\u001b[0m: \"['responsibilities'] not in index\""
     ]
    }
   ],
   "source": [
    "print(df[[\"responsibilities\", \"skills\", \"positions\"]].head(5))\n"
   ]
  },
  {
   "cell_type": "code",
   "execution_count": 150,
   "id": "c75255d7-2053-40ab-925d-7d5c44d5e3e6",
   "metadata": {},
   "outputs": [
    {
     "name": "stdout",
     "output_type": "stream",
     "text": [
      "                                   clean_description  \\\n",
      "0  Big data analytics working and database wareho...   \n",
      "1  Fresher looking to join as a data analyst and ...   \n",
      "2                                                NaN   \n",
      "3  To obtain a position in a fast-paced business ...   \n",
      "4  Professional accountant with an outstanding wo...   \n",
      "\n",
      "                                   clean_description  \n",
      "0  Technical Support\\nTroubleshooting\\nCollaborat...  \n",
      "1  Machine Learning Leadership\\nCross-Functional ...  \n",
      "2  Trade Marketing Executive\\nBrand Visibility, S...  \n",
      "3  Apparel Sourcing\\nQuality Garment Sourcing\\nRe...  \n",
      "4  iOS Lifecycle\\nRequirement Analysis\\nNative Fr...  \n"
     ]
    }
   ],
   "source": [
    "print(df[[\"clean_description\"]].head(5))\n"
   ]
  },
  {
   "cell_type": "code",
   "execution_count": 151,
   "id": "531cea6c-25d4-4c32-8dfc-fb97cf736c58",
   "metadata": {},
   "outputs": [
    {
     "name": "stdout",
     "output_type": "stream",
     "text": [
      "Updated Columns: ['address', 'clean_description', 'skills', 'educational_institution_name', 'degree_names', 'passing_years', 'educational_results', 'result_types', 'major_field_of_studies', 'professional_company_names', 'company_urls', 'start_dates', 'end_dates', 'related_skils_in_job', 'positions', 'locations', 'extra_curricular_activity_types', 'extra_curricular_organization_names', 'extra_curricular_organization_links', 'role_positions', 'languages', 'proficiency_levels', 'certification_providers', 'certification_skills', 'online_links', 'issue_dates', 'expiry_dates', '\\ufeffjob_position_name', 'educationaL_requirements', 'experiencere_requirement', 'age_requirement', 'responsibilities.1', 'skills_required', 'matched_score']\n"
     ]
    }
   ],
   "source": [
    "df = df.loc[:, ~df.columns.duplicated()]\n",
    "print(\"Updated Columns:\", df.columns.tolist())\n"
   ]
  },
  {
   "cell_type": "code",
   "execution_count": 152,
   "id": "75c84884-4e80-4704-8101-b1dd5bb11af3",
   "metadata": {},
   "outputs": [
    {
     "name": "stdout",
     "output_type": "stream",
     "text": [
      "Final Dataset Columns: ['address', 'clean_description', 'skills', 'educational_institution_name', 'degree_names', 'passing_years', 'educational_results', 'result_types', 'major_field_of_studies', 'professional_company_names', 'company_urls', 'start_dates', 'end_dates', 'related_skils_in_job', 'positions', 'locations', 'extra_curricular_activity_types', 'extra_curricular_organization_names', 'extra_curricular_organization_links', 'role_positions', 'languages', 'proficiency_levels', 'certification_providers', 'certification_skills', 'online_links', 'issue_dates', 'expiry_dates', '\\ufeffjob_position_name', 'educationaL_requirements', 'experiencere_requirement', 'age_requirement', 'responsibilities.1', 'skills_required', 'matched_score']\n"
     ]
    }
   ],
   "source": [
    "print(\"Final Dataset Columns:\", df.columns.tolist())\n"
   ]
  },
  {
   "cell_type": "code",
   "execution_count": 153,
   "id": "11d81e64-6980-43b2-82d8-59799f33499e",
   "metadata": {},
   "outputs": [
    {
     "name": "stderr",
     "output_type": "stream",
     "text": [
      "C:\\Users\\gopko\\AppData\\Local\\Temp\\ipykernel_14132\\662830997.py:1: SettingWithCopyWarning: \n",
      "A value is trying to be set on a copy of a slice from a DataFrame\n",
      "\n",
      "See the caveats in the documentation: https://pandas.pydata.org/pandas-docs/stable/user_guide/indexing.html#returning-a-view-versus-a-copy\n",
      "  df.rename(columns={\"﻿job_position_name\": \"category\"}, inplace=True)\n"
     ]
    }
   ],
   "source": [
    "df.rename(columns={\"﻿job_position_name\": \"category\"}, inplace=True)\n"
   ]
  },
  {
   "cell_type": "code",
   "execution_count": 154,
   "id": "209b5344-c1b3-447c-ac24-390ee2c3f54b",
   "metadata": {},
   "outputs": [
    {
     "name": "stdout",
     "output_type": "stream",
     "text": [
      "Updated Columns: ['address', 'clean_description', 'skills', 'educational_institution_name', 'degree_names', 'passing_years', 'educational_results', 'result_types', 'major_field_of_studies', 'professional_company_names', 'company_urls', 'start_dates', 'end_dates', 'related_skils_in_job', 'positions', 'locations', 'extra_curricular_activity_types', 'extra_curricular_organization_names', 'extra_curricular_organization_links', 'role_positions', 'languages', 'proficiency_levels', 'certification_providers', 'certification_skills', 'online_links', 'issue_dates', 'expiry_dates', 'category', 'educationaL_requirements', 'experiencere_requirement', 'age_requirement', 'responsibilities.1', 'skills_required', 'matched_score']\n"
     ]
    }
   ],
   "source": [
    "df = df.copy()  # Ensures that df is an independent copy before modifying it\n",
    "\n",
    "# Rename the column\n",
    "df.rename(columns={\"﻿job_position_name\": \"category\"}, inplace=True)\n",
    "\n",
    "print(\"Updated Columns:\", df.columns.tolist())\n"
   ]
  },
  {
   "cell_type": "code",
   "execution_count": 155,
   "id": "4bc16a0b-4440-4689-b15e-dd6ac422a49c",
   "metadata": {},
   "outputs": [
    {
     "name": "stdout",
     "output_type": "stream",
     "text": [
      "Final Dataset Columns: ['address', 'clean_description', 'skills', 'educational_institution_name', 'degree_names', 'passing_years', 'educational_results', 'result_types', 'major_field_of_studies', 'professional_company_names', 'company_urls', 'start_dates', 'end_dates', 'related_skils_in_job', 'positions', 'locations', 'extra_curricular_activity_types', 'extra_curricular_organization_names', 'extra_curricular_organization_links', 'role_positions', 'languages', 'proficiency_levels', 'certification_providers', 'certification_skills', 'online_links', 'issue_dates', 'expiry_dates', 'category', 'educationaL_requirements', 'experiencere_requirement', 'age_requirement', 'responsibilities.1', 'skills_required', 'matched_score']\n"
     ]
    }
   ],
   "source": [
    "print(\"Final Dataset Columns:\", df.columns.tolist())\n"
   ]
  },
  {
   "cell_type": "code",
   "execution_count": 156,
   "id": "9fb38df3-ad6d-437c-b5e3-f46f908d0538",
   "metadata": {},
   "outputs": [
    {
     "name": "stdout",
     "output_type": "stream",
     "text": [
      "Updated Dataset Columns: ['clean_description', 'category']\n",
      "                                   clean_description  \\\n",
      "0  Big data analytics working and database wareho...   \n",
      "1  Fresher looking to join as a data analyst and ...   \n",
      "2                                                NaN   \n",
      "3  To obtain a position in a fast-paced business ...   \n",
      "4  Professional accountant with an outstanding wo...   \n",
      "\n",
      "                                            category  \n",
      "0                           Senior Software Engineer  \n",
      "1                     Machine Learning (ML) Engineer  \n",
      "2  Executive/ Senior Executive- Trade Marketing, ...  \n",
      "3                     Business Development Executive  \n",
      "4                                Senior iOS Engineer  \n"
     ]
    }
   ],
   "source": [
    "df = df[[\"clean_description\", \"category\"]]\n",
    "\n",
    "print(\"Updated Dataset Columns:\", df.columns.tolist())\n",
    "print(df.head())\n"
   ]
  },
  {
   "cell_type": "code",
   "execution_count": 157,
   "id": "1e458ced-af8c-495d-b65e-69bf00ba0f54",
   "metadata": {},
   "outputs": [
    {
     "name": "stderr",
     "output_type": "stream",
     "text": [
      "[nltk_data] Downloading package stopwords to\n",
      "[nltk_data]     C:\\Users\\gopko\\AppData\\Roaming\\nltk_data...\n",
      "[nltk_data]   Package stopwords is already up-to-date!\n"
     ]
    },
    {
     "name": "stdout",
     "output_type": "stream",
     "text": [
      "Words in first cleaned resume: ['data', 'analytics', 'database', 'warehouse', 'manager', 'robust', 'handling', 'kinds', 'data', 'also', 'used', 'multiple', 'cloud', 'infrastructure', 'services', 'well', 'acquainted', 'currently', 'search', 'role', 'offers']\n"
     ]
    }
   ],
   "source": [
    "import re\n",
    "import nltk\n",
    "from nltk.corpus import stopwords\n",
    "\n",
    "nltk.download(\"stopwords\")\n",
    "custom_stop_words = set(stopwords.words(\"english\")).union(set([\n",
    "    \"experience\", \"skills\", \"knowledge\", \"worked\", \"expertise\", \"responsible\",\n",
    "    \"ability\", \"working\", \"proficient\", \"development\", \"team\", \"projects\",\n",
    "    \"hiring\", \"looking\", \"job\", \"description\"\n",
    "]))\n",
    "\n",
    "def clean_text(text):\n",
    "    if not isinstance(text, str):\n",
    "        return \"Unknown\"  # Handle missing values\n",
    "    \n",
    "    text = text.lower()  # Convert to lowercase\n",
    "    text = re.sub(r\"\\d+\", \"\", text)  # Remove numbers\n",
    "    text = re.sub(r\"[^\\w\\s]\", \" \", text)  # Remove punctuation\n",
    "    text = re.sub(r\"\\b[a-zA-Z]{1,2}\\b\", \"\", text)  # Remove very short words (1-2 letters)\n",
    "    text = re.sub(r\"\\s+\", \" \", text).strip()  # Remove extra spaces\n",
    "    words = [word for word in text.split() if word not in custom_stop_words and len(word) > 3]  # Remove stopwords & short words\n",
    "    return \" \".join(words)\n",
    "\n",
    "# Apply text cleaning\n",
    "df[\"clean_description\"] = df[\"clean_description\"].apply(clean_text)\n",
    "\n",
    "# Show cleaned text\n",
    "print(\"Words in first cleaned resume:\", df[\"clean_description\"].iloc[0].split()[:30])\n"
   ]
  },
  {
   "cell_type": "code",
   "execution_count": 158,
   "id": "85145cb1-0712-4f27-91a8-e2ddb11de17f",
   "metadata": {},
   "outputs": [
    {
     "name": "stdout",
     "output_type": "stream",
     "text": [
      "Words in first cleaned resume: ['offers', 'acquainted', 'handling', 'search', 'also', 'manager', 'data', 'kinds', 'robust', 'warehouse', 'services', 'analytics', 'role', 'cloud', 'infrastructure', 'used', 'database', 'currently', 'well', 'multiple']\n"
     ]
    }
   ],
   "source": [
    "df[\"clean_description\"] = df[\"clean_description\"].apply(lambda x: \" \".join(set(x.split())))\n",
    "print(\"Words in first cleaned resume:\", df[\"clean_description\"].iloc[0].split()[:30])\n"
   ]
  },
  {
   "cell_type": "code",
   "execution_count": 159,
   "id": "bf435b77-c89c-472a-966c-67f7605f1a72",
   "metadata": {},
   "outputs": [
    {
     "name": "stdout",
     "output_type": "stream",
     "text": [
      "TF-IDF matrix shape: (9544, 308)\n"
     ]
    }
   ],
   "source": [
    "from sklearn.feature_extraction.text import TfidfVectorizer\n",
    "\n",
    "vectorizer = TfidfVectorizer(\n",
    "    stop_words=\"english\",\n",
    "    max_features=2000,  # Reduce vocabulary size\n",
    "    min_df=75,  # Ignore words appearing in fewer than 75 resumes\n",
    "    max_df=0.55,  # Ignore words appearing in more than 55% of resumes\n",
    "    ngram_range=(1,2)  # Use bigrams for better context\n",
    ")\n",
    "\n",
    "# Convert cleaned resumes into numerical vectors\n",
    "X = vectorizer.fit_transform(df[\"clean_description\"])\n",
    "\n",
    "# Print the shape of transformed data\n",
    "print(\"TF-IDF matrix shape:\", X.shape)"
   ]
  },
  {
   "cell_type": "code",
   "execution_count": 160,
   "id": "b790086c-1319-41fe-9c77-d5981c4d3c70",
   "metadata": {},
   "outputs": [
    {
     "name": "stdout",
     "output_type": "stream",
     "text": [
      "Top 20 Words in TF-IDF Feature List:\n",
      " ['abilities' 'accountant' 'accounting' 'achieve' 'acquainted'\n",
      " 'administration' 'advancement' 'algorithms' 'analysis' 'analyst'\n",
      " 'analyst like' 'analytical' 'analytics' 'analytics machine'\n",
      " 'analytics role' 'analytics seeking' 'analyzing' 'application'\n",
      " 'applications' 'apply']\n"
     ]
    }
   ],
   "source": [
    "feature_names = vectorizer.get_feature_names_out()\n",
    "\n",
    "# Print the first 20 important words\n",
    "print(\"Top 20 Words in TF-IDF Feature List:\\n\", feature_names[:20])\n"
   ]
  },
  {
   "cell_type": "code",
   "execution_count": 161,
   "id": "92162c84-139a-41c2-a7a3-f505edf393c7",
   "metadata": {},
   "outputs": [
    {
     "name": "stdout",
     "output_type": "stream",
     "text": [
      "Sample Resume Text Before TF-IDF:\n",
      " 0    offers acquainted handling search also manager...\n",
      "1    dashboards scientist creating experienced anal...\n",
      "2                                              Unknown\n",
      "3    technical office position organizational busin...\n",
      "4    communication ethic analytical computer organi...\n",
      "Name: clean_description, dtype: object\n"
     ]
    }
   ],
   "source": [
    "print(\"Sample Resume Text Before TF-IDF:\\n\", df[\"clean_description\"].iloc[:5])\n"
   ]
  },
  {
   "cell_type": "code",
   "execution_count": 162,
   "id": "b4897133-bc12-4ada-8c39-d321437900cd",
   "metadata": {},
   "outputs": [
    {
     "name": "stdout",
     "output_type": "stream",
     "text": [
      "Words in first cleaned resume: ['offers', 'acquainted', 'handling', 'search', 'also', 'manager', 'data', 'kinds', 'robust', 'warehouse', 'services', 'analytics', 'role', 'cloud', 'infrastructure', 'used', 'database', 'currently', 'well', 'multiple']\n"
     ]
    }
   ],
   "source": [
    "custom_stop_words = set(stopwords.words(\"english\")).union(set([\n",
    "    \"experience\", \"skills\", \"knowledge\", \"worked\", \"expertise\", \"responsible\",\n",
    "    \"ability\", \"working\", \"proficient\", \"development\", \"team\", \"projects\",\n",
    "    \"hiring\", \"looking\", \"job\", \"description\", \"like\", \"seeking\", \"apply\",\n",
    "    \"applications\", \"achieve\", \"administration\", \"advancement\", \"machine\"\n",
    "]))\n",
    "\n",
    "df[\"clean_description\"] = df[\"clean_description\"].apply(lambda text: \" \".join(\n",
    "    [word for word in text.split() if word not in custom_stop_words]\n",
    "))\n",
    "\n",
    "print(\"Words in first cleaned resume:\", df[\"clean_description\"].iloc[0].split()[:30])\n"
   ]
  },
  {
   "cell_type": "code",
   "execution_count": 163,
   "id": "208085eb-0840-4f72-b97d-c78838402f37",
   "metadata": {},
   "outputs": [
    {
     "ename": "InvalidParameterError",
     "evalue": "The 'stop_words' parameter of TfidfVectorizer must be a str among {'english'}, an instance of 'list' or None. Got {\"he'll\", 'what', 'didn', 'have', 'which', 'its', 'hasn', \"we'd\", 'a', 'shouldn', \"it's\", 'this', 'doing', 'he', 'couldn', 'more', \"didn't\", 'below', 'few', 'was', 'i', 'them', 'after', \"she's\", \"shouldn't\", 'an', 'theirs', \"he'd\", \"it'll\", \"they've\", 'itself', 'now', 'any', 't', \"couldn't\", 'should', 'themselves', 'projects', \"it'd\", 'same', \"she'd\", \"that'll\", \"should've\", \"we've\", 'don', 'apply', 'during', 'himself', 'can', 'herself', 'her', 'me', \"weren't\", 'll', 'most', 'such', 'there', 'through', 'd', \"i'd\", 'who', 'ain', 'not', 'yours', \"i've\", 'ours', 'hiring', 'like', 'if', 'with', 'in', 'these', 'she', 'they', 'that', 'about', 'working', \"don't\", \"aren't\", 'when', 'hadn', 'how', 'responsible', \"wasn't\", \"we'll\", 'mustn', 'shan', 'up', 'does', 'been', 'were', 'o', 'seeking', 'by', 'whom', 'for', \"i'm\", 'into', 'why', 'to', \"doesn't\", 'further', 'it', 'while', \"he's\", \"they're\", 'but', \"hadn't\", 'nor', 'proficient', 'my', 'achieve', 'on', 'experience', \"she'll\", 'no', \"they'll\", 'doesn', 'won', 'yourselves', 'expertise', 'skills', 'hers', 'out', 'their', 'yourself', 'once', 'as', \"wouldn't\", \"you've\", 'administration', 'your', 'very', \"you'll\", 'until', 'against', \"hasn't\", 'or', \"won't\", 'wasn', 'at', \"mustn't\", 'having', \"i'll\", 'between', 'myself', 'team', 'knowledge', 'machine', 'are', 'because', 'looking', 'job', 'ourselves', 'wouldn', 'here', 'being', \"haven't\", \"we're\", 'ma', 'needn', 'so', 'each', 'the', 'm', 'above', 'haven', 'his', 'is', 'all', 'will', 'do', 'isn', 'over', \"shan't\", 'before', 'be', \"mightn't\", 'aren', 'applications', 'of', 'from', 'just', 'mightn', 'under', 'ability', 'description', \"you'd\", 'those', 'our', \"isn't\", 'him', 'y', 'then', \"you're\", 'worked', \"needn't\", 'some', 'weren', 'development', 'where', 'both', 's', 'than', 'down', 'am', 'and', \"they'd\", 've', 'has', 'had', 'you', 're', 'only', 'too', 'we', 'advancement', 'did', 'again', 'other', 'off', 'own'} instead.",
     "output_type": "error",
     "traceback": [
      "\u001b[1;31m---------------------------------------------------------------------------\u001b[0m",
      "\u001b[1;31mInvalidParameterError\u001b[0m                     Traceback (most recent call last)",
      "Cell \u001b[1;32mIn[163], line 10\u001b[0m\n\u001b[0;32m      1\u001b[0m vectorizer \u001b[38;5;241m=\u001b[39m TfidfVectorizer(\n\u001b[0;32m      2\u001b[0m     stop_words\u001b[38;5;241m=\u001b[39mcustom_stop_words,\n\u001b[0;32m      3\u001b[0m     max_features\u001b[38;5;241m=\u001b[39m\u001b[38;5;241m1000\u001b[39m,  \u001b[38;5;66;03m# Reduce vocabulary size even further\u001b[39;00m\n\u001b[1;32m   (...)\u001b[0m\n\u001b[0;32m      6\u001b[0m     ngram_range\u001b[38;5;241m=\u001b[39m(\u001b[38;5;241m1\u001b[39m,\u001b[38;5;241m2\u001b[39m)  \u001b[38;5;66;03m# Use bigrams for better context\u001b[39;00m\n\u001b[0;32m      7\u001b[0m )\n\u001b[0;32m      9\u001b[0m \u001b[38;5;66;03m# Convert cleaned resumes into numerical vectors\u001b[39;00m\n\u001b[1;32m---> 10\u001b[0m X \u001b[38;5;241m=\u001b[39m \u001b[43mvectorizer\u001b[49m\u001b[38;5;241;43m.\u001b[39;49m\u001b[43mfit_transform\u001b[49m\u001b[43m(\u001b[49m\u001b[43mdf\u001b[49m\u001b[43m[\u001b[49m\u001b[38;5;124;43m\"\u001b[39;49m\u001b[38;5;124;43mclean_description\u001b[39;49m\u001b[38;5;124;43m\"\u001b[39;49m\u001b[43m]\u001b[49m\u001b[43m)\u001b[49m\n\u001b[0;32m     12\u001b[0m \u001b[38;5;66;03m# Print the shape of transformed data\u001b[39;00m\n\u001b[0;32m     13\u001b[0m \u001b[38;5;28mprint\u001b[39m(\u001b[38;5;124m\"\u001b[39m\u001b[38;5;124mTF-IDF matrix shape:\u001b[39m\u001b[38;5;124m\"\u001b[39m, X\u001b[38;5;241m.\u001b[39mshape)\n",
      "File \u001b[1;32m~\\Documents\\GitHub\\ML-Resume-Classifier\\resume-ml-env\\Lib\\site-packages\\sklearn\\feature_extraction\\text.py:2104\u001b[0m, in \u001b[0;36mTfidfVectorizer.fit_transform\u001b[1;34m(self, raw_documents, y)\u001b[0m\n\u001b[0;32m   2097\u001b[0m \u001b[38;5;28mself\u001b[39m\u001b[38;5;241m.\u001b[39m_check_params()\n\u001b[0;32m   2098\u001b[0m \u001b[38;5;28mself\u001b[39m\u001b[38;5;241m.\u001b[39m_tfidf \u001b[38;5;241m=\u001b[39m TfidfTransformer(\n\u001b[0;32m   2099\u001b[0m     norm\u001b[38;5;241m=\u001b[39m\u001b[38;5;28mself\u001b[39m\u001b[38;5;241m.\u001b[39mnorm,\n\u001b[0;32m   2100\u001b[0m     use_idf\u001b[38;5;241m=\u001b[39m\u001b[38;5;28mself\u001b[39m\u001b[38;5;241m.\u001b[39muse_idf,\n\u001b[0;32m   2101\u001b[0m     smooth_idf\u001b[38;5;241m=\u001b[39m\u001b[38;5;28mself\u001b[39m\u001b[38;5;241m.\u001b[39msmooth_idf,\n\u001b[0;32m   2102\u001b[0m     sublinear_tf\u001b[38;5;241m=\u001b[39m\u001b[38;5;28mself\u001b[39m\u001b[38;5;241m.\u001b[39msublinear_tf,\n\u001b[0;32m   2103\u001b[0m )\n\u001b[1;32m-> 2104\u001b[0m X \u001b[38;5;241m=\u001b[39m \u001b[38;5;28;43msuper\u001b[39;49m\u001b[43m(\u001b[49m\u001b[43m)\u001b[49m\u001b[38;5;241;43m.\u001b[39;49m\u001b[43mfit_transform\u001b[49m\u001b[43m(\u001b[49m\u001b[43mraw_documents\u001b[49m\u001b[43m)\u001b[49m\n\u001b[0;32m   2105\u001b[0m \u001b[38;5;28mself\u001b[39m\u001b[38;5;241m.\u001b[39m_tfidf\u001b[38;5;241m.\u001b[39mfit(X)\n\u001b[0;32m   2106\u001b[0m \u001b[38;5;66;03m# X is already a transformed view of raw_documents so\u001b[39;00m\n\u001b[0;32m   2107\u001b[0m \u001b[38;5;66;03m# we set copy to False\u001b[39;00m\n",
      "File \u001b[1;32m~\\Documents\\GitHub\\ML-Resume-Classifier\\resume-ml-env\\Lib\\site-packages\\sklearn\\base.py:1382\u001b[0m, in \u001b[0;36m_fit_context.<locals>.decorator.<locals>.wrapper\u001b[1;34m(estimator, *args, **kwargs)\u001b[0m\n\u001b[0;32m   1377\u001b[0m partial_fit_and_fitted \u001b[38;5;241m=\u001b[39m (\n\u001b[0;32m   1378\u001b[0m     fit_method\u001b[38;5;241m.\u001b[39m\u001b[38;5;18m__name__\u001b[39m \u001b[38;5;241m==\u001b[39m \u001b[38;5;124m\"\u001b[39m\u001b[38;5;124mpartial_fit\u001b[39m\u001b[38;5;124m\"\u001b[39m \u001b[38;5;129;01mand\u001b[39;00m _is_fitted(estimator)\n\u001b[0;32m   1379\u001b[0m )\n\u001b[0;32m   1381\u001b[0m \u001b[38;5;28;01mif\u001b[39;00m \u001b[38;5;129;01mnot\u001b[39;00m global_skip_validation \u001b[38;5;129;01mand\u001b[39;00m \u001b[38;5;129;01mnot\u001b[39;00m partial_fit_and_fitted:\n\u001b[1;32m-> 1382\u001b[0m     \u001b[43mestimator\u001b[49m\u001b[38;5;241;43m.\u001b[39;49m\u001b[43m_validate_params\u001b[49m\u001b[43m(\u001b[49m\u001b[43m)\u001b[49m\n\u001b[0;32m   1384\u001b[0m \u001b[38;5;28;01mwith\u001b[39;00m config_context(\n\u001b[0;32m   1385\u001b[0m     skip_parameter_validation\u001b[38;5;241m=\u001b[39m(\n\u001b[0;32m   1386\u001b[0m         prefer_skip_nested_validation \u001b[38;5;129;01mor\u001b[39;00m global_skip_validation\n\u001b[0;32m   1387\u001b[0m     )\n\u001b[0;32m   1388\u001b[0m ):\n\u001b[0;32m   1389\u001b[0m     \u001b[38;5;28;01mreturn\u001b[39;00m fit_method(estimator, \u001b[38;5;241m*\u001b[39margs, \u001b[38;5;241m*\u001b[39m\u001b[38;5;241m*\u001b[39mkwargs)\n",
      "File \u001b[1;32m~\\Documents\\GitHub\\ML-Resume-Classifier\\resume-ml-env\\Lib\\site-packages\\sklearn\\base.py:436\u001b[0m, in \u001b[0;36mBaseEstimator._validate_params\u001b[1;34m(self)\u001b[0m\n\u001b[0;32m    428\u001b[0m \u001b[38;5;28;01mdef\u001b[39;00m\u001b[38;5;250m \u001b[39m\u001b[38;5;21m_validate_params\u001b[39m(\u001b[38;5;28mself\u001b[39m):\n\u001b[0;32m    429\u001b[0m \u001b[38;5;250m    \u001b[39m\u001b[38;5;124;03m\"\"\"Validate types and values of constructor parameters\u001b[39;00m\n\u001b[0;32m    430\u001b[0m \n\u001b[0;32m    431\u001b[0m \u001b[38;5;124;03m    The expected type and values must be defined in the `_parameter_constraints`\u001b[39;00m\n\u001b[1;32m   (...)\u001b[0m\n\u001b[0;32m    434\u001b[0m \u001b[38;5;124;03m    accepted constraints.\u001b[39;00m\n\u001b[0;32m    435\u001b[0m \u001b[38;5;124;03m    \"\"\"\u001b[39;00m\n\u001b[1;32m--> 436\u001b[0m     \u001b[43mvalidate_parameter_constraints\u001b[49m\u001b[43m(\u001b[49m\n\u001b[0;32m    437\u001b[0m \u001b[43m        \u001b[49m\u001b[38;5;28;43mself\u001b[39;49m\u001b[38;5;241;43m.\u001b[39;49m\u001b[43m_parameter_constraints\u001b[49m\u001b[43m,\u001b[49m\n\u001b[0;32m    438\u001b[0m \u001b[43m        \u001b[49m\u001b[38;5;28;43mself\u001b[39;49m\u001b[38;5;241;43m.\u001b[39;49m\u001b[43mget_params\u001b[49m\u001b[43m(\u001b[49m\u001b[43mdeep\u001b[49m\u001b[38;5;241;43m=\u001b[39;49m\u001b[38;5;28;43;01mFalse\u001b[39;49;00m\u001b[43m)\u001b[49m\u001b[43m,\u001b[49m\n\u001b[0;32m    439\u001b[0m \u001b[43m        \u001b[49m\u001b[43mcaller_name\u001b[49m\u001b[38;5;241;43m=\u001b[39;49m\u001b[38;5;28;43mself\u001b[39;49m\u001b[38;5;241;43m.\u001b[39;49m\u001b[38;5;18;43m__class__\u001b[39;49m\u001b[38;5;241;43m.\u001b[39;49m\u001b[38;5;18;43m__name__\u001b[39;49m\u001b[43m,\u001b[49m\n\u001b[0;32m    440\u001b[0m \u001b[43m    \u001b[49m\u001b[43m)\u001b[49m\n",
      "File \u001b[1;32m~\\Documents\\GitHub\\ML-Resume-Classifier\\resume-ml-env\\Lib\\site-packages\\sklearn\\utils\\_param_validation.py:98\u001b[0m, in \u001b[0;36mvalidate_parameter_constraints\u001b[1;34m(parameter_constraints, params, caller_name)\u001b[0m\n\u001b[0;32m     92\u001b[0m \u001b[38;5;28;01melse\u001b[39;00m:\n\u001b[0;32m     93\u001b[0m     constraints_str \u001b[38;5;241m=\u001b[39m (\n\u001b[0;32m     94\u001b[0m         \u001b[38;5;124mf\u001b[39m\u001b[38;5;124m\"\u001b[39m\u001b[38;5;132;01m{\u001b[39;00m\u001b[38;5;124m'\u001b[39m\u001b[38;5;124m, \u001b[39m\u001b[38;5;124m'\u001b[39m\u001b[38;5;241m.\u001b[39mjoin([\u001b[38;5;28mstr\u001b[39m(c)\u001b[38;5;250m \u001b[39m\u001b[38;5;28;01mfor\u001b[39;00m\u001b[38;5;250m \u001b[39mc\u001b[38;5;250m \u001b[39m\u001b[38;5;129;01min\u001b[39;00m\u001b[38;5;250m \u001b[39mconstraints[:\u001b[38;5;241m-\u001b[39m\u001b[38;5;241m1\u001b[39m]])\u001b[38;5;132;01m}\u001b[39;00m\u001b[38;5;124m or\u001b[39m\u001b[38;5;124m\"\u001b[39m\n\u001b[0;32m     95\u001b[0m         \u001b[38;5;124mf\u001b[39m\u001b[38;5;124m\"\u001b[39m\u001b[38;5;124m \u001b[39m\u001b[38;5;132;01m{\u001b[39;00mconstraints[\u001b[38;5;241m-\u001b[39m\u001b[38;5;241m1\u001b[39m]\u001b[38;5;132;01m}\u001b[39;00m\u001b[38;5;124m\"\u001b[39m\n\u001b[0;32m     96\u001b[0m     )\n\u001b[1;32m---> 98\u001b[0m \u001b[38;5;28;01mraise\u001b[39;00m InvalidParameterError(\n\u001b[0;32m     99\u001b[0m     \u001b[38;5;124mf\u001b[39m\u001b[38;5;124m\"\u001b[39m\u001b[38;5;124mThe \u001b[39m\u001b[38;5;132;01m{\u001b[39;00mparam_name\u001b[38;5;132;01m!r}\u001b[39;00m\u001b[38;5;124m parameter of \u001b[39m\u001b[38;5;132;01m{\u001b[39;00mcaller_name\u001b[38;5;132;01m}\u001b[39;00m\u001b[38;5;124m must be\u001b[39m\u001b[38;5;124m\"\u001b[39m\n\u001b[0;32m    100\u001b[0m     \u001b[38;5;124mf\u001b[39m\u001b[38;5;124m\"\u001b[39m\u001b[38;5;124m \u001b[39m\u001b[38;5;132;01m{\u001b[39;00mconstraints_str\u001b[38;5;132;01m}\u001b[39;00m\u001b[38;5;124m. Got \u001b[39m\u001b[38;5;132;01m{\u001b[39;00mparam_val\u001b[38;5;132;01m!r}\u001b[39;00m\u001b[38;5;124m instead.\u001b[39m\u001b[38;5;124m\"\u001b[39m\n\u001b[0;32m    101\u001b[0m )\n",
      "\u001b[1;31mInvalidParameterError\u001b[0m: The 'stop_words' parameter of TfidfVectorizer must be a str among {'english'}, an instance of 'list' or None. Got {\"he'll\", 'what', 'didn', 'have', 'which', 'its', 'hasn', \"we'd\", 'a', 'shouldn', \"it's\", 'this', 'doing', 'he', 'couldn', 'more', \"didn't\", 'below', 'few', 'was', 'i', 'them', 'after', \"she's\", \"shouldn't\", 'an', 'theirs', \"he'd\", \"it'll\", \"they've\", 'itself', 'now', 'any', 't', \"couldn't\", 'should', 'themselves', 'projects', \"it'd\", 'same', \"she'd\", \"that'll\", \"should've\", \"we've\", 'don', 'apply', 'during', 'himself', 'can', 'herself', 'her', 'me', \"weren't\", 'll', 'most', 'such', 'there', 'through', 'd', \"i'd\", 'who', 'ain', 'not', 'yours', \"i've\", 'ours', 'hiring', 'like', 'if', 'with', 'in', 'these', 'she', 'they', 'that', 'about', 'working', \"don't\", \"aren't\", 'when', 'hadn', 'how', 'responsible', \"wasn't\", \"we'll\", 'mustn', 'shan', 'up', 'does', 'been', 'were', 'o', 'seeking', 'by', 'whom', 'for', \"i'm\", 'into', 'why', 'to', \"doesn't\", 'further', 'it', 'while', \"he's\", \"they're\", 'but', \"hadn't\", 'nor', 'proficient', 'my', 'achieve', 'on', 'experience', \"she'll\", 'no', \"they'll\", 'doesn', 'won', 'yourselves', 'expertise', 'skills', 'hers', 'out', 'their', 'yourself', 'once', 'as', \"wouldn't\", \"you've\", 'administration', 'your', 'very', \"you'll\", 'until', 'against', \"hasn't\", 'or', \"won't\", 'wasn', 'at', \"mustn't\", 'having', \"i'll\", 'between', 'myself', 'team', 'knowledge', 'machine', 'are', 'because', 'looking', 'job', 'ourselves', 'wouldn', 'here', 'being', \"haven't\", \"we're\", 'ma', 'needn', 'so', 'each', 'the', 'm', 'above', 'haven', 'his', 'is', 'all', 'will', 'do', 'isn', 'over', \"shan't\", 'before', 'be', \"mightn't\", 'aren', 'applications', 'of', 'from', 'just', 'mightn', 'under', 'ability', 'description', \"you'd\", 'those', 'our', \"isn't\", 'him', 'y', 'then', \"you're\", 'worked', \"needn't\", 'some', 'weren', 'development', 'where', 'both', 's', 'than', 'down', 'am', 'and', \"they'd\", 've', 'has', 'had', 'you', 're', 'only', 'too', 'we', 'advancement', 'did', 'again', 'other', 'off', 'own'} instead."
     ]
    }
   ],
   "source": [
    "vectorizer = TfidfVectorizer(\n",
    "    stop_words=custom_stop_words,\n",
    "    max_features=1000,  # Reduce vocabulary size even further\n",
    "    min_df=100,  # Ignore words appearing in fewer than 100 resumes\n",
    "    max_df=0.4,  # Ignore words appearing in more than 40% of resumes\n",
    "    ngram_range=(1,2)  # Use bigrams for better context\n",
    ")\n",
    "\n",
    "# Convert cleaned resumes into numerical vectors\n",
    "X = vectorizer.fit_transform(df[\"clean_description\"])\n",
    "\n",
    "# Print the shape of transformed data\n",
    "print(\"TF-IDF matrix shape:\", X.shape)\n",
    "\n",
    "# Print new top words\n",
    "feature_names = vectorizer.get_feature_names_out()\n",
    "print(\"Top 20 Words in TF-IDF Feature List:\\n\", feature_names[:20])\n"
   ]
  },
  {
   "cell_type": "code",
   "execution_count": 164,
   "id": "07ba7b27-50d8-4464-8029-4a9df7a5f8be",
   "metadata": {},
   "outputs": [
    {
     "ename": "NotFittedError",
     "evalue": "Vocabulary not fitted or provided",
     "output_type": "error",
     "traceback": [
      "\u001b[1;31m---------------------------------------------------------------------------\u001b[0m",
      "\u001b[1;31mNotFittedError\u001b[0m                            Traceback (most recent call last)",
      "Cell \u001b[1;32mIn[164], line 1\u001b[0m\n\u001b[1;32m----> 1\u001b[0m feature_names \u001b[38;5;241m=\u001b[39m \u001b[43mvectorizer\u001b[49m\u001b[38;5;241;43m.\u001b[39;49m\u001b[43mget_feature_names_out\u001b[49m\u001b[43m(\u001b[49m\u001b[43m)\u001b[49m\n\u001b[0;32m      2\u001b[0m \u001b[38;5;28mprint\u001b[39m(\u001b[38;5;124m\"\u001b[39m\u001b[38;5;124mNew Top 20 Words in TF-IDF Feature List:\u001b[39m\u001b[38;5;130;01m\\n\u001b[39;00m\u001b[38;5;124m\"\u001b[39m, feature_names[:\u001b[38;5;241m20\u001b[39m])\n",
      "File \u001b[1;32m~\\Documents\\GitHub\\ML-Resume-Classifier\\resume-ml-env\\Lib\\site-packages\\sklearn\\feature_extraction\\text.py:1472\u001b[0m, in \u001b[0;36mCountVectorizer.get_feature_names_out\u001b[1;34m(self, input_features)\u001b[0m\n\u001b[0;32m   1459\u001b[0m \u001b[38;5;28;01mdef\u001b[39;00m\u001b[38;5;250m \u001b[39m\u001b[38;5;21mget_feature_names_out\u001b[39m(\u001b[38;5;28mself\u001b[39m, input_features\u001b[38;5;241m=\u001b[39m\u001b[38;5;28;01mNone\u001b[39;00m):\n\u001b[0;32m   1460\u001b[0m \u001b[38;5;250m    \u001b[39m\u001b[38;5;124;03m\"\"\"Get output feature names for transformation.\u001b[39;00m\n\u001b[0;32m   1461\u001b[0m \n\u001b[0;32m   1462\u001b[0m \u001b[38;5;124;03m    Parameters\u001b[39;00m\n\u001b[1;32m   (...)\u001b[0m\n\u001b[0;32m   1470\u001b[0m \u001b[38;5;124;03m        Transformed feature names.\u001b[39;00m\n\u001b[0;32m   1471\u001b[0m \u001b[38;5;124;03m    \"\"\"\u001b[39;00m\n\u001b[1;32m-> 1472\u001b[0m     \u001b[38;5;28;43mself\u001b[39;49m\u001b[38;5;241;43m.\u001b[39;49m\u001b[43m_check_vocabulary\u001b[49m\u001b[43m(\u001b[49m\u001b[43m)\u001b[49m\n\u001b[0;32m   1473\u001b[0m     \u001b[38;5;28;01mreturn\u001b[39;00m np\u001b[38;5;241m.\u001b[39masarray(\n\u001b[0;32m   1474\u001b[0m         [t \u001b[38;5;28;01mfor\u001b[39;00m t, i \u001b[38;5;129;01min\u001b[39;00m \u001b[38;5;28msorted\u001b[39m(\u001b[38;5;28mself\u001b[39m\u001b[38;5;241m.\u001b[39mvocabulary_\u001b[38;5;241m.\u001b[39mitems(), key\u001b[38;5;241m=\u001b[39mitemgetter(\u001b[38;5;241m1\u001b[39m))],\n\u001b[0;32m   1475\u001b[0m         dtype\u001b[38;5;241m=\u001b[39m\u001b[38;5;28mobject\u001b[39m,\n\u001b[0;32m   1476\u001b[0m     )\n",
      "File \u001b[1;32m~\\Documents\\GitHub\\ML-Resume-Classifier\\resume-ml-env\\Lib\\site-packages\\sklearn\\feature_extraction\\text.py:501\u001b[0m, in \u001b[0;36m_VectorizerMixin._check_vocabulary\u001b[1;34m(self)\u001b[0m\n\u001b[0;32m    499\u001b[0m     \u001b[38;5;28mself\u001b[39m\u001b[38;5;241m.\u001b[39m_validate_vocabulary()\n\u001b[0;32m    500\u001b[0m     \u001b[38;5;28;01mif\u001b[39;00m \u001b[38;5;129;01mnot\u001b[39;00m \u001b[38;5;28mself\u001b[39m\u001b[38;5;241m.\u001b[39mfixed_vocabulary_:\n\u001b[1;32m--> 501\u001b[0m         \u001b[38;5;28;01mraise\u001b[39;00m NotFittedError(\u001b[38;5;124m\"\u001b[39m\u001b[38;5;124mVocabulary not fitted or provided\u001b[39m\u001b[38;5;124m\"\u001b[39m)\n\u001b[0;32m    503\u001b[0m \u001b[38;5;28;01mif\u001b[39;00m \u001b[38;5;28mlen\u001b[39m(\u001b[38;5;28mself\u001b[39m\u001b[38;5;241m.\u001b[39mvocabulary_) \u001b[38;5;241m==\u001b[39m \u001b[38;5;241m0\u001b[39m:\n\u001b[0;32m    504\u001b[0m     \u001b[38;5;28;01mraise\u001b[39;00m \u001b[38;5;167;01mValueError\u001b[39;00m(\u001b[38;5;124m\"\u001b[39m\u001b[38;5;124mVocabulary is empty\u001b[39m\u001b[38;5;124m\"\u001b[39m)\n",
      "\u001b[1;31mNotFittedError\u001b[0m: Vocabulary not fitted or provided"
     ]
    }
   ],
   "source": [
    "feature_names = vectorizer.get_feature_names_out()\n",
    "print(\"New Top 20 Words in TF-IDF Feature List:\\n\", feature_names[:20])\n"
   ]
  },
  {
   "cell_type": "code",
   "execution_count": 165,
   "id": "7115c78c-7118-4396-b239-0a85e94452f9",
   "metadata": {},
   "outputs": [
    {
     "name": "stdout",
     "output_type": "stream",
     "text": [
      "TF-IDF matrix shape: (9544, 190)\n",
      "Top 20 Words in TF-IDF Feature List:\n",
      " ['accountant' 'accounting' 'across' 'also' 'always' 'analysis' 'analyst'\n",
      " 'analytical' 'analytics' 'analytics role' 'analyzing' 'application'\n",
      " 'artificial' 'background' 'based' 'best' 'better' 'build' 'building'\n",
      " 'business']\n"
     ]
    }
   ],
   "source": [
    "# Convert set to list\n",
    "custom_stop_words_list = list(custom_stop_words)\n",
    "\n",
    "vectorizer = TfidfVectorizer(\n",
    "    stop_words=custom_stop_words_list,  # Fix: Convert to list\n",
    "    max_features=1000,  # Reduce vocabulary size even further\n",
    "    min_df=100,  # Ignore words appearing in fewer than 100 resumes\n",
    "    max_df=0.4,  # Ignore words appearing in more than 40% of resumes\n",
    "    ngram_range=(1,2)  # Use bigrams for better context\n",
    ")\n",
    "\n",
    "# Convert cleaned resumes into numerical vectors\n",
    "X = vectorizer.fit_transform(df[\"clean_description\"])\n",
    "\n",
    "# Print the shape of transformed data\n",
    "print(\"TF-IDF matrix shape:\", X.shape)\n",
    "\n",
    "# Print new top words\n",
    "feature_names = vectorizer.get_feature_names_out()\n",
    "print(\"Top 20 Words in TF-IDF Feature List:\\n\", feature_names[:20])"
   ]
  },
  {
   "cell_type": "code",
   "execution_count": 166,
   "id": "3bd4b999-7de6-46b2-9a07-5f3c2f507251",
   "metadata": {},
   "outputs": [
    {
     "name": "stdout",
     "output_type": "stream",
     "text": [
      "New TF-IDF matrix shape: (9544, 577)\n",
      "Top 20 Words in TF-IDF Feature List:\n",
      " ['abilities' 'able' 'accountant' 'accounting' 'accounting proven'\n",
      " 'achieving' 'acquainted' 'across' 'actively' 'advance' 'advanced'\n",
      " 'algorithms' 'algorithms data' 'allow' 'along' 'also' 'also desire'\n",
      " 'also problems' 'always' 'amazon']\n"
     ]
    }
   ],
   "source": [
    "vectorizer = TfidfVectorizer(\n",
    "    stop_words=custom_stop_words_list,  \n",
    "    max_features=3000,  # Increase vocabulary size\n",
    "    min_df=50,  # Lower threshold to capture more important words\n",
    "    max_df=0.5,  # Avoid very common words appearing in more than 50% of resumes\n",
    "    ngram_range=(1,2)  # Keep bigrams for better meaning\n",
    ")\n",
    "\n",
    "# Transform resumes into numerical vectors\n",
    "X = vectorizer.fit_transform(df[\"clean_description\"])\n",
    "\n",
    "# Print new shape\n",
    "print(\"New TF-IDF matrix shape:\", X.shape)\n",
    "\n",
    "# Show new top words\n",
    "feature_names = vectorizer.get_feature_names_out()\n",
    "print(\"Top 20 Words in TF-IDF Feature List:\\n\", feature_names[:20])\n"
   ]
  },
  {
   "cell_type": "code",
   "execution_count": 167,
   "id": "4937372e-ff51-46e9-adc2-54829f4352d6",
   "metadata": {},
   "outputs": [
    {
     "name": "stdout",
     "output_type": "stream",
     "text": [
      "First 5 cleaned resumes:\n",
      " 0    offers acquainted handling search also manager...\n",
      "1    dashboards scientist creating experienced anal...\n",
      "2                                              Unknown\n",
      "3    technical office position organizational busin...\n",
      "4    communication ethic analytical computer organi...\n",
      "Name: clean_description, dtype: object\n"
     ]
    }
   ],
   "source": [
    "print(\"First 5 cleaned resumes:\\n\", df[\"clean_description\"].head(5))\n"
   ]
  },
  {
   "cell_type": "code",
   "execution_count": 168,
   "id": "9971e46e-991b-44bc-ac10-a2fd50d76369",
   "metadata": {},
   "outputs": [
    {
     "name": "stdout",
     "output_type": "stream",
     "text": [
      "TF-IDF vectorizer saved successfully!\n"
     ]
    }
   ],
   "source": [
    "import joblib\n",
    "\n",
    "# Save the trained TF-IDF model\n",
    "joblib.dump(vectorizer, \"tfidf_vectorizer_v2.pkl\")\n",
    "\n",
    "print(\"TF-IDF vectorizer saved successfully!\")\n"
   ]
  },
  {
   "cell_type": "code",
   "execution_count": null,
   "id": "63f8da71-1837-4ce9-9f1d-461ec16c02d7",
   "metadata": {},
   "outputs": [],
   "source": []
  },
  {
   "cell_type": "code",
   "execution_count": null,
   "id": "928f51a6-5bb3-4438-8cd6-9cb21b1a83c6",
   "metadata": {},
   "outputs": [],
   "source": []
  }
 ],
 "metadata": {
  "kernelspec": {
   "display_name": "Python 3 (resume-ml-env)",
   "language": "python",
   "name": "resume-ml-env"
  },
  "language_info": {
   "codemirror_mode": {
    "name": "ipython",
    "version": 3
   },
   "file_extension": ".py",
   "mimetype": "text/x-python",
   "name": "python",
   "nbconvert_exporter": "python",
   "pygments_lexer": "ipython3",
   "version": "3.11.6"
  }
 },
 "nbformat": 4,
 "nbformat_minor": 5
}

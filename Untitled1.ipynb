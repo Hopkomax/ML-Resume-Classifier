{
 "cells": [
  {
   "cell_type": "code",
   "execution_count": 3,
   "id": "1390e717-4744-40db-ab40-58b10c275ad5",
   "metadata": {},
   "outputs": [],
   "source": [
    "# Essential libraries for data manipulation and analysis\n",
    "import pandas as pd\n",
    "import numpy as np\n",
    "\n",
    "# Read your CSV file\n",
    "# Replace 'your_file.csv' with your actual file name\n",
    "file_path = r\"C:\\Users\\gopko\\Documents\\GitHub\\ML-Resume-Classifier\\data\\resumeV5.csv\"\n",
    "df = pd.read_csv(file_path)"
   ]
  },
  {
   "cell_type": "code",
   "execution_count": 4,
   "id": "9cb47833-dfe2-4265-b6b2-df8e604a9603",
   "metadata": {},
   "outputs": [
    {
     "name": "stdout",
     "output_type": "stream",
     "text": [
      "   Unnamed: 0             Job Title  \\\n",
      "0           0     Flutter Developer   \n",
      "1           1      Django Developer   \n",
      "2           2      Machine Learning   \n",
      "3           3         iOS Developer   \n",
      "4           4  Full Stack Developer   \n",
      "\n",
      "                                     Job Description  \n",
      "0  We are looking for hire experts flutter develo...  \n",
      "1  PYTHON/DJANGO (Developer/Lead) - Job Code(PDJ ...  \n",
      "2  Data Scientist (Contractor)\\n\\nBangalore, IN\\n...  \n",
      "3  JOB DESCRIPTION:\\n\\nStrong framework outside o...  \n",
      "4  job responsibility full stack engineer – react...  \n",
      "<class 'pandas.core.frame.DataFrame'>\n",
      "RangeIndex: 2277 entries, 0 to 2276\n",
      "Data columns (total 3 columns):\n",
      " #   Column           Non-Null Count  Dtype \n",
      "---  ------           --------------  ----- \n",
      " 0   Unnamed: 0       2277 non-null   int64 \n",
      " 1   Job Title        2277 non-null   object\n",
      " 2   Job Description  2277 non-null   object\n",
      "dtypes: int64(1), object(2)\n",
      "memory usage: 53.5+ KB\n",
      "None\n",
      "        Unnamed: 0\n",
      "count  2277.000000\n",
      "mean   1187.974089\n",
      "std     694.438444\n",
      "min       0.000000\n",
      "25%     585.000000\n",
      "50%    1183.000000\n",
      "75%    1782.000000\n",
      "max    2403.000000\n"
     ]
    }
   ],
   "source": [
    "# View the first few rows of your dataset\n",
    "print(df.head())\n",
    "\n",
    "# Get basic information about your dataset\n",
    "print(df.info())\n",
    "\n",
    "# Get basic statistics of your numerical columns\n",
    "print(df.describe())"
   ]
  },
  {
   "cell_type": "code",
   "execution_count": 5,
   "id": "ce4cd7cc-dec7-4d14-8817-eb3ecdb8ed66",
   "metadata": {},
   "outputs": [
    {
     "name": "stdout",
     "output_type": "stream",
     "text": [
      "Number of unique job titles: 15\n",
      "\n",
      "Unique job titles:\n",
      " ['Flutter Developer' 'Django Developer' 'Machine Learning' 'iOS Developer'\n",
      " 'Full Stack Developer' 'Java Developer' 'JavaScript Developer'\n",
      " 'DevOps Engineer' 'Software Engineer' 'Database Administrator'\n",
      " 'Wordpress Developer' 'PHP Developer' 'Backend Developer'\n",
      " 'Network Administrator' 'Node js developer']\n"
     ]
    }
   ],
   "source": [
    "# Remove the unnecessary index column\n",
    "df = df.drop('Unnamed: 0', axis=1)\n",
    "\n",
    "# Let's look at the unique job titles to understand our classes\n",
    "print(\"Number of unique job titles:\", df['Job Title'].nunique())\n",
    "print(\"\\nUnique job titles:\\n\", df['Job Title'].unique())"
   ]
  },
  {
   "cell_type": "code",
   "execution_count": 10,
   "id": "2b031b5d-b8c7-476b-a8a9-b9a2e2dd6d90",
   "metadata": {},
   "outputs": [
    {
     "name": "stderr",
     "output_type": "stream",
     "text": [
      "[nltk_data] Downloading package punkt to\n",
      "[nltk_data]     C:\\Users\\gopko\\AppData\\Roaming\\nltk_data...\n",
      "[nltk_data]   Package punkt is already up-to-date!\n",
      "[nltk_data] Downloading package stopwords to\n",
      "[nltk_data]     C:\\Users\\gopko\\AppData\\Roaming\\nltk_data...\n",
      "[nltk_data]   Package stopwords is already up-to-date!\n"
     ]
    },
    {
     "ename": "LookupError",
     "evalue": "\n**********************************************************************\n  Resource \u001b[93mpunkt_tab\u001b[0m not found.\n  Please use the NLTK Downloader to obtain the resource:\n\n  \u001b[31m>>> import nltk\n  >>> nltk.download('punkt_tab')\n  \u001b[0m\n  For more information see: https://www.nltk.org/data.html\n\n  Attempted to load \u001b[93mtokenizers/punkt_tab/english/\u001b[0m\n\n  Searched in:\n    - 'C:\\\\Users\\\\gopko/nltk_data'\n    - 'C:\\\\Users\\\\gopko\\\\Documents\\\\GitHub\\\\ML-Resume-Classifier\\\\resume-ml-env\\\\nltk_data'\n    - 'C:\\\\Users\\\\gopko\\\\Documents\\\\GitHub\\\\ML-Resume-Classifier\\\\resume-ml-env\\\\share\\\\nltk_data'\n    - 'C:\\\\Users\\\\gopko\\\\Documents\\\\GitHub\\\\ML-Resume-Classifier\\\\resume-ml-env\\\\lib\\\\nltk_data'\n    - 'C:\\\\Users\\\\gopko\\\\AppData\\\\Roaming\\\\nltk_data'\n    - 'C:\\\\nltk_data'\n    - 'D:\\\\nltk_data'\n    - 'E:\\\\nltk_data'\n**********************************************************************\n",
     "output_type": "error",
     "traceback": [
      "\u001b[1;31m---------------------------------------------------------------------------\u001b[0m",
      "\u001b[1;31mLookupError\u001b[0m                               Traceback (most recent call last)",
      "Cell \u001b[1;32mIn[10], line 30\u001b[0m\n\u001b[0;32m     27\u001b[0m     \u001b[38;5;28;01mreturn\u001b[39;00m cleaned_text\n\u001b[0;32m     29\u001b[0m \u001b[38;5;66;03m# Apply the cleaning function to Job Description column\u001b[39;00m\n\u001b[1;32m---> 30\u001b[0m df[\u001b[38;5;124m'\u001b[39m\u001b[38;5;124mCleaned_Description\u001b[39m\u001b[38;5;124m'\u001b[39m] \u001b[38;5;241m=\u001b[39m \u001b[43mdf\u001b[49m\u001b[43m[\u001b[49m\u001b[38;5;124;43m'\u001b[39;49m\u001b[38;5;124;43mJob Description\u001b[39;49m\u001b[38;5;124;43m'\u001b[39;49m\u001b[43m]\u001b[49m\u001b[38;5;241;43m.\u001b[39;49m\u001b[43mapply\u001b[49m\u001b[43m(\u001b[49m\u001b[43mclean_text\u001b[49m\u001b[43m)\u001b[49m\n\u001b[0;32m     32\u001b[0m \u001b[38;5;66;03m# Display a sample of original and cleaned text\u001b[39;00m\n\u001b[0;32m     33\u001b[0m \u001b[38;5;28mprint\u001b[39m(\u001b[38;5;124m\"\u001b[39m\u001b[38;5;124mOriginal Description:\u001b[39m\u001b[38;5;130;01m\\n\u001b[39;00m\u001b[38;5;124m\"\u001b[39m)\n",
      "File \u001b[1;32m~\\Documents\\GitHub\\ML-Resume-Classifier\\resume-ml-env\\Lib\\site-packages\\pandas\\core\\series.py:4924\u001b[0m, in \u001b[0;36mSeries.apply\u001b[1;34m(self, func, convert_dtype, args, by_row, **kwargs)\u001b[0m\n\u001b[0;32m   4789\u001b[0m \u001b[38;5;28;01mdef\u001b[39;00m\u001b[38;5;250m \u001b[39m\u001b[38;5;21mapply\u001b[39m(\n\u001b[0;32m   4790\u001b[0m     \u001b[38;5;28mself\u001b[39m,\n\u001b[0;32m   4791\u001b[0m     func: AggFuncType,\n\u001b[1;32m   (...)\u001b[0m\n\u001b[0;32m   4796\u001b[0m     \u001b[38;5;241m*\u001b[39m\u001b[38;5;241m*\u001b[39mkwargs,\n\u001b[0;32m   4797\u001b[0m ) \u001b[38;5;241m-\u001b[39m\u001b[38;5;241m>\u001b[39m DataFrame \u001b[38;5;241m|\u001b[39m Series:\n\u001b[0;32m   4798\u001b[0m \u001b[38;5;250m    \u001b[39m\u001b[38;5;124;03m\"\"\"\u001b[39;00m\n\u001b[0;32m   4799\u001b[0m \u001b[38;5;124;03m    Invoke function on values of Series.\u001b[39;00m\n\u001b[0;32m   4800\u001b[0m \n\u001b[1;32m   (...)\u001b[0m\n\u001b[0;32m   4915\u001b[0m \u001b[38;5;124;03m    dtype: float64\u001b[39;00m\n\u001b[0;32m   4916\u001b[0m \u001b[38;5;124;03m    \"\"\"\u001b[39;00m\n\u001b[0;32m   4917\u001b[0m     \u001b[38;5;28;01mreturn\u001b[39;00m \u001b[43mSeriesApply\u001b[49m\u001b[43m(\u001b[49m\n\u001b[0;32m   4918\u001b[0m \u001b[43m        \u001b[49m\u001b[38;5;28;43mself\u001b[39;49m\u001b[43m,\u001b[49m\n\u001b[0;32m   4919\u001b[0m \u001b[43m        \u001b[49m\u001b[43mfunc\u001b[49m\u001b[43m,\u001b[49m\n\u001b[0;32m   4920\u001b[0m \u001b[43m        \u001b[49m\u001b[43mconvert_dtype\u001b[49m\u001b[38;5;241;43m=\u001b[39;49m\u001b[43mconvert_dtype\u001b[49m\u001b[43m,\u001b[49m\n\u001b[0;32m   4921\u001b[0m \u001b[43m        \u001b[49m\u001b[43mby_row\u001b[49m\u001b[38;5;241;43m=\u001b[39;49m\u001b[43mby_row\u001b[49m\u001b[43m,\u001b[49m\n\u001b[0;32m   4922\u001b[0m \u001b[43m        \u001b[49m\u001b[43margs\u001b[49m\u001b[38;5;241;43m=\u001b[39;49m\u001b[43margs\u001b[49m\u001b[43m,\u001b[49m\n\u001b[0;32m   4923\u001b[0m \u001b[43m        \u001b[49m\u001b[43mkwargs\u001b[49m\u001b[38;5;241;43m=\u001b[39;49m\u001b[43mkwargs\u001b[49m\u001b[43m,\u001b[49m\n\u001b[1;32m-> 4924\u001b[0m \u001b[43m    \u001b[49m\u001b[43m)\u001b[49m\u001b[38;5;241;43m.\u001b[39;49m\u001b[43mapply\u001b[49m\u001b[43m(\u001b[49m\u001b[43m)\u001b[49m\n",
      "File \u001b[1;32m~\\Documents\\GitHub\\ML-Resume-Classifier\\resume-ml-env\\Lib\\site-packages\\pandas\\core\\apply.py:1427\u001b[0m, in \u001b[0;36mSeriesApply.apply\u001b[1;34m(self)\u001b[0m\n\u001b[0;32m   1424\u001b[0m     \u001b[38;5;28;01mreturn\u001b[39;00m \u001b[38;5;28mself\u001b[39m\u001b[38;5;241m.\u001b[39mapply_compat()\n\u001b[0;32m   1426\u001b[0m \u001b[38;5;66;03m# self.func is Callable\u001b[39;00m\n\u001b[1;32m-> 1427\u001b[0m \u001b[38;5;28;01mreturn\u001b[39;00m \u001b[38;5;28;43mself\u001b[39;49m\u001b[38;5;241;43m.\u001b[39;49m\u001b[43mapply_standard\u001b[49m\u001b[43m(\u001b[49m\u001b[43m)\u001b[49m\n",
      "File \u001b[1;32m~\\Documents\\GitHub\\ML-Resume-Classifier\\resume-ml-env\\Lib\\site-packages\\pandas\\core\\apply.py:1507\u001b[0m, in \u001b[0;36mSeriesApply.apply_standard\u001b[1;34m(self)\u001b[0m\n\u001b[0;32m   1501\u001b[0m \u001b[38;5;66;03m# row-wise access\u001b[39;00m\n\u001b[0;32m   1502\u001b[0m \u001b[38;5;66;03m# apply doesn't have a `na_action` keyword and for backward compat reasons\u001b[39;00m\n\u001b[0;32m   1503\u001b[0m \u001b[38;5;66;03m# we need to give `na_action=\"ignore\"` for categorical data.\u001b[39;00m\n\u001b[0;32m   1504\u001b[0m \u001b[38;5;66;03m# TODO: remove the `na_action=\"ignore\"` when that default has been changed in\u001b[39;00m\n\u001b[0;32m   1505\u001b[0m \u001b[38;5;66;03m#  Categorical (GH51645).\u001b[39;00m\n\u001b[0;32m   1506\u001b[0m action \u001b[38;5;241m=\u001b[39m \u001b[38;5;124m\"\u001b[39m\u001b[38;5;124mignore\u001b[39m\u001b[38;5;124m\"\u001b[39m \u001b[38;5;28;01mif\u001b[39;00m \u001b[38;5;28misinstance\u001b[39m(obj\u001b[38;5;241m.\u001b[39mdtype, CategoricalDtype) \u001b[38;5;28;01melse\u001b[39;00m \u001b[38;5;28;01mNone\u001b[39;00m\n\u001b[1;32m-> 1507\u001b[0m mapped \u001b[38;5;241m=\u001b[39m \u001b[43mobj\u001b[49m\u001b[38;5;241;43m.\u001b[39;49m\u001b[43m_map_values\u001b[49m\u001b[43m(\u001b[49m\n\u001b[0;32m   1508\u001b[0m \u001b[43m    \u001b[49m\u001b[43mmapper\u001b[49m\u001b[38;5;241;43m=\u001b[39;49m\u001b[43mcurried\u001b[49m\u001b[43m,\u001b[49m\u001b[43m \u001b[49m\u001b[43mna_action\u001b[49m\u001b[38;5;241;43m=\u001b[39;49m\u001b[43maction\u001b[49m\u001b[43m,\u001b[49m\u001b[43m \u001b[49m\u001b[43mconvert\u001b[49m\u001b[38;5;241;43m=\u001b[39;49m\u001b[38;5;28;43mself\u001b[39;49m\u001b[38;5;241;43m.\u001b[39;49m\u001b[43mconvert_dtype\u001b[49m\n\u001b[0;32m   1509\u001b[0m \u001b[43m\u001b[49m\u001b[43m)\u001b[49m\n\u001b[0;32m   1511\u001b[0m \u001b[38;5;28;01mif\u001b[39;00m \u001b[38;5;28mlen\u001b[39m(mapped) \u001b[38;5;129;01mand\u001b[39;00m \u001b[38;5;28misinstance\u001b[39m(mapped[\u001b[38;5;241m0\u001b[39m], ABCSeries):\n\u001b[0;32m   1512\u001b[0m     \u001b[38;5;66;03m# GH#43986 Need to do list(mapped) in order to get treated as nested\u001b[39;00m\n\u001b[0;32m   1513\u001b[0m     \u001b[38;5;66;03m#  See also GH#25959 regarding EA support\u001b[39;00m\n\u001b[0;32m   1514\u001b[0m     \u001b[38;5;28;01mreturn\u001b[39;00m obj\u001b[38;5;241m.\u001b[39m_constructor_expanddim(\u001b[38;5;28mlist\u001b[39m(mapped), index\u001b[38;5;241m=\u001b[39mobj\u001b[38;5;241m.\u001b[39mindex)\n",
      "File \u001b[1;32m~\\Documents\\GitHub\\ML-Resume-Classifier\\resume-ml-env\\Lib\\site-packages\\pandas\\core\\base.py:921\u001b[0m, in \u001b[0;36mIndexOpsMixin._map_values\u001b[1;34m(self, mapper, na_action, convert)\u001b[0m\n\u001b[0;32m    918\u001b[0m \u001b[38;5;28;01mif\u001b[39;00m \u001b[38;5;28misinstance\u001b[39m(arr, ExtensionArray):\n\u001b[0;32m    919\u001b[0m     \u001b[38;5;28;01mreturn\u001b[39;00m arr\u001b[38;5;241m.\u001b[39mmap(mapper, na_action\u001b[38;5;241m=\u001b[39mna_action)\n\u001b[1;32m--> 921\u001b[0m \u001b[38;5;28;01mreturn\u001b[39;00m \u001b[43malgorithms\u001b[49m\u001b[38;5;241;43m.\u001b[39;49m\u001b[43mmap_array\u001b[49m\u001b[43m(\u001b[49m\u001b[43marr\u001b[49m\u001b[43m,\u001b[49m\u001b[43m \u001b[49m\u001b[43mmapper\u001b[49m\u001b[43m,\u001b[49m\u001b[43m \u001b[49m\u001b[43mna_action\u001b[49m\u001b[38;5;241;43m=\u001b[39;49m\u001b[43mna_action\u001b[49m\u001b[43m,\u001b[49m\u001b[43m \u001b[49m\u001b[43mconvert\u001b[49m\u001b[38;5;241;43m=\u001b[39;49m\u001b[43mconvert\u001b[49m\u001b[43m)\u001b[49m\n",
      "File \u001b[1;32m~\\Documents\\GitHub\\ML-Resume-Classifier\\resume-ml-env\\Lib\\site-packages\\pandas\\core\\algorithms.py:1743\u001b[0m, in \u001b[0;36mmap_array\u001b[1;34m(arr, mapper, na_action, convert)\u001b[0m\n\u001b[0;32m   1741\u001b[0m values \u001b[38;5;241m=\u001b[39m arr\u001b[38;5;241m.\u001b[39mastype(\u001b[38;5;28mobject\u001b[39m, copy\u001b[38;5;241m=\u001b[39m\u001b[38;5;28;01mFalse\u001b[39;00m)\n\u001b[0;32m   1742\u001b[0m \u001b[38;5;28;01mif\u001b[39;00m na_action \u001b[38;5;129;01mis\u001b[39;00m \u001b[38;5;28;01mNone\u001b[39;00m:\n\u001b[1;32m-> 1743\u001b[0m     \u001b[38;5;28;01mreturn\u001b[39;00m \u001b[43mlib\u001b[49m\u001b[38;5;241;43m.\u001b[39;49m\u001b[43mmap_infer\u001b[49m\u001b[43m(\u001b[49m\u001b[43mvalues\u001b[49m\u001b[43m,\u001b[49m\u001b[43m \u001b[49m\u001b[43mmapper\u001b[49m\u001b[43m,\u001b[49m\u001b[43m \u001b[49m\u001b[43mconvert\u001b[49m\u001b[38;5;241;43m=\u001b[39;49m\u001b[43mconvert\u001b[49m\u001b[43m)\u001b[49m\n\u001b[0;32m   1744\u001b[0m \u001b[38;5;28;01melse\u001b[39;00m:\n\u001b[0;32m   1745\u001b[0m     \u001b[38;5;28;01mreturn\u001b[39;00m lib\u001b[38;5;241m.\u001b[39mmap_infer_mask(\n\u001b[0;32m   1746\u001b[0m         values, mapper, mask\u001b[38;5;241m=\u001b[39misna(values)\u001b[38;5;241m.\u001b[39mview(np\u001b[38;5;241m.\u001b[39muint8), convert\u001b[38;5;241m=\u001b[39mconvert\n\u001b[0;32m   1747\u001b[0m     )\n",
      "File \u001b[1;32mlib.pyx:2972\u001b[0m, in \u001b[0;36mpandas._libs.lib.map_infer\u001b[1;34m()\u001b[0m\n",
      "Cell \u001b[1;32mIn[10], line 18\u001b[0m, in \u001b[0;36mclean_text\u001b[1;34m(text)\u001b[0m\n\u001b[0;32m     15\u001b[0m text \u001b[38;5;241m=\u001b[39m re\u001b[38;5;241m.\u001b[39msub(\u001b[38;5;124mr\u001b[39m\u001b[38;5;124m'\u001b[39m\u001b[38;5;124m[^a-zA-Z\u001b[39m\u001b[38;5;124m\\\u001b[39m\u001b[38;5;124ms]\u001b[39m\u001b[38;5;124m'\u001b[39m, \u001b[38;5;124m'\u001b[39m\u001b[38;5;124m'\u001b[39m, text)\n\u001b[0;32m     17\u001b[0m \u001b[38;5;66;03m# Tokenize the text\u001b[39;00m\n\u001b[1;32m---> 18\u001b[0m tokens \u001b[38;5;241m=\u001b[39m \u001b[43mword_tokenize\u001b[49m\u001b[43m(\u001b[49m\u001b[43mtext\u001b[49m\u001b[43m)\u001b[49m\n\u001b[0;32m     20\u001b[0m \u001b[38;5;66;03m# Remove stopwords\u001b[39;00m\n\u001b[0;32m     21\u001b[0m stop_words \u001b[38;5;241m=\u001b[39m \u001b[38;5;28mset\u001b[39m(stopwords\u001b[38;5;241m.\u001b[39mwords(\u001b[38;5;124m'\u001b[39m\u001b[38;5;124menglish\u001b[39m\u001b[38;5;124m'\u001b[39m))\n",
      "File \u001b[1;32m~\\Documents\\GitHub\\ML-Resume-Classifier\\resume-ml-env\\Lib\\site-packages\\nltk\\tokenize\\__init__.py:142\u001b[0m, in \u001b[0;36mword_tokenize\u001b[1;34m(text, language, preserve_line)\u001b[0m\n\u001b[0;32m    127\u001b[0m \u001b[38;5;28;01mdef\u001b[39;00m\u001b[38;5;250m \u001b[39m\u001b[38;5;21mword_tokenize\u001b[39m(text, language\u001b[38;5;241m=\u001b[39m\u001b[38;5;124m\"\u001b[39m\u001b[38;5;124menglish\u001b[39m\u001b[38;5;124m\"\u001b[39m, preserve_line\u001b[38;5;241m=\u001b[39m\u001b[38;5;28;01mFalse\u001b[39;00m):\n\u001b[0;32m    128\u001b[0m \u001b[38;5;250m    \u001b[39m\u001b[38;5;124;03m\"\"\"\u001b[39;00m\n\u001b[0;32m    129\u001b[0m \u001b[38;5;124;03m    Return a tokenized copy of *text*,\u001b[39;00m\n\u001b[0;32m    130\u001b[0m \u001b[38;5;124;03m    using NLTK's recommended word tokenizer\u001b[39;00m\n\u001b[1;32m   (...)\u001b[0m\n\u001b[0;32m    140\u001b[0m \u001b[38;5;124;03m    :type preserve_line: bool\u001b[39;00m\n\u001b[0;32m    141\u001b[0m \u001b[38;5;124;03m    \"\"\"\u001b[39;00m\n\u001b[1;32m--> 142\u001b[0m     sentences \u001b[38;5;241m=\u001b[39m [text] \u001b[38;5;28;01mif\u001b[39;00m preserve_line \u001b[38;5;28;01melse\u001b[39;00m \u001b[43msent_tokenize\u001b[49m\u001b[43m(\u001b[49m\u001b[43mtext\u001b[49m\u001b[43m,\u001b[49m\u001b[43m \u001b[49m\u001b[43mlanguage\u001b[49m\u001b[43m)\u001b[49m\n\u001b[0;32m    143\u001b[0m     \u001b[38;5;28;01mreturn\u001b[39;00m [\n\u001b[0;32m    144\u001b[0m         token \u001b[38;5;28;01mfor\u001b[39;00m sent \u001b[38;5;129;01min\u001b[39;00m sentences \u001b[38;5;28;01mfor\u001b[39;00m token \u001b[38;5;129;01min\u001b[39;00m _treebank_word_tokenizer\u001b[38;5;241m.\u001b[39mtokenize(sent)\n\u001b[0;32m    145\u001b[0m     ]\n",
      "File \u001b[1;32m~\\Documents\\GitHub\\ML-Resume-Classifier\\resume-ml-env\\Lib\\site-packages\\nltk\\tokenize\\__init__.py:119\u001b[0m, in \u001b[0;36msent_tokenize\u001b[1;34m(text, language)\u001b[0m\n\u001b[0;32m    109\u001b[0m \u001b[38;5;28;01mdef\u001b[39;00m\u001b[38;5;250m \u001b[39m\u001b[38;5;21msent_tokenize\u001b[39m(text, language\u001b[38;5;241m=\u001b[39m\u001b[38;5;124m\"\u001b[39m\u001b[38;5;124menglish\u001b[39m\u001b[38;5;124m\"\u001b[39m):\n\u001b[0;32m    110\u001b[0m \u001b[38;5;250m    \u001b[39m\u001b[38;5;124;03m\"\"\"\u001b[39;00m\n\u001b[0;32m    111\u001b[0m \u001b[38;5;124;03m    Return a sentence-tokenized copy of *text*,\u001b[39;00m\n\u001b[0;32m    112\u001b[0m \u001b[38;5;124;03m    using NLTK's recommended sentence tokenizer\u001b[39;00m\n\u001b[1;32m   (...)\u001b[0m\n\u001b[0;32m    117\u001b[0m \u001b[38;5;124;03m    :param language: the model name in the Punkt corpus\u001b[39;00m\n\u001b[0;32m    118\u001b[0m \u001b[38;5;124;03m    \"\"\"\u001b[39;00m\n\u001b[1;32m--> 119\u001b[0m     tokenizer \u001b[38;5;241m=\u001b[39m \u001b[43m_get_punkt_tokenizer\u001b[49m\u001b[43m(\u001b[49m\u001b[43mlanguage\u001b[49m\u001b[43m)\u001b[49m\n\u001b[0;32m    120\u001b[0m     \u001b[38;5;28;01mreturn\u001b[39;00m tokenizer\u001b[38;5;241m.\u001b[39mtokenize(text)\n",
      "File \u001b[1;32m~\\Documents\\GitHub\\ML-Resume-Classifier\\resume-ml-env\\Lib\\site-packages\\nltk\\tokenize\\__init__.py:105\u001b[0m, in \u001b[0;36m_get_punkt_tokenizer\u001b[1;34m(language)\u001b[0m\n\u001b[0;32m     96\u001b[0m \u001b[38;5;129m@functools\u001b[39m\u001b[38;5;241m.\u001b[39mlru_cache\n\u001b[0;32m     97\u001b[0m \u001b[38;5;28;01mdef\u001b[39;00m\u001b[38;5;250m \u001b[39m\u001b[38;5;21m_get_punkt_tokenizer\u001b[39m(language\u001b[38;5;241m=\u001b[39m\u001b[38;5;124m\"\u001b[39m\u001b[38;5;124menglish\u001b[39m\u001b[38;5;124m\"\u001b[39m):\n\u001b[0;32m     98\u001b[0m \u001b[38;5;250m    \u001b[39m\u001b[38;5;124;03m\"\"\"\u001b[39;00m\n\u001b[0;32m     99\u001b[0m \u001b[38;5;124;03m    A constructor for the PunktTokenizer that utilizes\u001b[39;00m\n\u001b[0;32m    100\u001b[0m \u001b[38;5;124;03m    a lru cache for performance.\u001b[39;00m\n\u001b[1;32m   (...)\u001b[0m\n\u001b[0;32m    103\u001b[0m \u001b[38;5;124;03m    :type language: str\u001b[39;00m\n\u001b[0;32m    104\u001b[0m \u001b[38;5;124;03m    \"\"\"\u001b[39;00m\n\u001b[1;32m--> 105\u001b[0m     \u001b[38;5;28;01mreturn\u001b[39;00m \u001b[43mPunktTokenizer\u001b[49m\u001b[43m(\u001b[49m\u001b[43mlanguage\u001b[49m\u001b[43m)\u001b[49m\n",
      "File \u001b[1;32m~\\Documents\\GitHub\\ML-Resume-Classifier\\resume-ml-env\\Lib\\site-packages\\nltk\\tokenize\\punkt.py:1744\u001b[0m, in \u001b[0;36mPunktTokenizer.__init__\u001b[1;34m(self, lang)\u001b[0m\n\u001b[0;32m   1742\u001b[0m \u001b[38;5;28;01mdef\u001b[39;00m\u001b[38;5;250m \u001b[39m\u001b[38;5;21m__init__\u001b[39m(\u001b[38;5;28mself\u001b[39m, lang\u001b[38;5;241m=\u001b[39m\u001b[38;5;124m\"\u001b[39m\u001b[38;5;124menglish\u001b[39m\u001b[38;5;124m\"\u001b[39m):\n\u001b[0;32m   1743\u001b[0m     PunktSentenceTokenizer\u001b[38;5;241m.\u001b[39m\u001b[38;5;21m__init__\u001b[39m(\u001b[38;5;28mself\u001b[39m)\n\u001b[1;32m-> 1744\u001b[0m     \u001b[38;5;28;43mself\u001b[39;49m\u001b[38;5;241;43m.\u001b[39;49m\u001b[43mload_lang\u001b[49m\u001b[43m(\u001b[49m\u001b[43mlang\u001b[49m\u001b[43m)\u001b[49m\n",
      "File \u001b[1;32m~\\Documents\\GitHub\\ML-Resume-Classifier\\resume-ml-env\\Lib\\site-packages\\nltk\\tokenize\\punkt.py:1749\u001b[0m, in \u001b[0;36mPunktTokenizer.load_lang\u001b[1;34m(self, lang)\u001b[0m\n\u001b[0;32m   1746\u001b[0m \u001b[38;5;28;01mdef\u001b[39;00m\u001b[38;5;250m \u001b[39m\u001b[38;5;21mload_lang\u001b[39m(\u001b[38;5;28mself\u001b[39m, lang\u001b[38;5;241m=\u001b[39m\u001b[38;5;124m\"\u001b[39m\u001b[38;5;124menglish\u001b[39m\u001b[38;5;124m\"\u001b[39m):\n\u001b[0;32m   1747\u001b[0m     \u001b[38;5;28;01mfrom\u001b[39;00m\u001b[38;5;250m \u001b[39m\u001b[38;5;21;01mnltk\u001b[39;00m\u001b[38;5;21;01m.\u001b[39;00m\u001b[38;5;21;01mdata\u001b[39;00m\u001b[38;5;250m \u001b[39m\u001b[38;5;28;01mimport\u001b[39;00m find\n\u001b[1;32m-> 1749\u001b[0m     lang_dir \u001b[38;5;241m=\u001b[39m \u001b[43mfind\u001b[49m\u001b[43m(\u001b[49m\u001b[38;5;124;43mf\u001b[39;49m\u001b[38;5;124;43m\"\u001b[39;49m\u001b[38;5;124;43mtokenizers/punkt_tab/\u001b[39;49m\u001b[38;5;132;43;01m{\u001b[39;49;00m\u001b[43mlang\u001b[49m\u001b[38;5;132;43;01m}\u001b[39;49;00m\u001b[38;5;124;43m/\u001b[39;49m\u001b[38;5;124;43m\"\u001b[39;49m\u001b[43m)\u001b[49m\n\u001b[0;32m   1750\u001b[0m     \u001b[38;5;28mself\u001b[39m\u001b[38;5;241m.\u001b[39m_params \u001b[38;5;241m=\u001b[39m load_punkt_params(lang_dir)\n\u001b[0;32m   1751\u001b[0m     \u001b[38;5;28mself\u001b[39m\u001b[38;5;241m.\u001b[39m_lang \u001b[38;5;241m=\u001b[39m lang\n",
      "File \u001b[1;32m~\\Documents\\GitHub\\ML-Resume-Classifier\\resume-ml-env\\Lib\\site-packages\\nltk\\data.py:579\u001b[0m, in \u001b[0;36mfind\u001b[1;34m(resource_name, paths)\u001b[0m\n\u001b[0;32m    577\u001b[0m sep \u001b[38;5;241m=\u001b[39m \u001b[38;5;124m\"\u001b[39m\u001b[38;5;124m*\u001b[39m\u001b[38;5;124m\"\u001b[39m \u001b[38;5;241m*\u001b[39m \u001b[38;5;241m70\u001b[39m\n\u001b[0;32m    578\u001b[0m resource_not_found \u001b[38;5;241m=\u001b[39m \u001b[38;5;124mf\u001b[39m\u001b[38;5;124m\"\u001b[39m\u001b[38;5;130;01m\\n\u001b[39;00m\u001b[38;5;132;01m{\u001b[39;00msep\u001b[38;5;132;01m}\u001b[39;00m\u001b[38;5;130;01m\\n\u001b[39;00m\u001b[38;5;132;01m{\u001b[39;00mmsg\u001b[38;5;132;01m}\u001b[39;00m\u001b[38;5;130;01m\\n\u001b[39;00m\u001b[38;5;132;01m{\u001b[39;00msep\u001b[38;5;132;01m}\u001b[39;00m\u001b[38;5;130;01m\\n\u001b[39;00m\u001b[38;5;124m\"\u001b[39m\n\u001b[1;32m--> 579\u001b[0m \u001b[38;5;28;01mraise\u001b[39;00m \u001b[38;5;167;01mLookupError\u001b[39;00m(resource_not_found)\n",
      "\u001b[1;31mLookupError\u001b[0m: \n**********************************************************************\n  Resource \u001b[93mpunkt_tab\u001b[0m not found.\n  Please use the NLTK Downloader to obtain the resource:\n\n  \u001b[31m>>> import nltk\n  >>> nltk.download('punkt_tab')\n  \u001b[0m\n  For more information see: https://www.nltk.org/data.html\n\n  Attempted to load \u001b[93mtokenizers/punkt_tab/english/\u001b[0m\n\n  Searched in:\n    - 'C:\\\\Users\\\\gopko/nltk_data'\n    - 'C:\\\\Users\\\\gopko\\\\Documents\\\\GitHub\\\\ML-Resume-Classifier\\\\resume-ml-env\\\\nltk_data'\n    - 'C:\\\\Users\\\\gopko\\\\Documents\\\\GitHub\\\\ML-Resume-Classifier\\\\resume-ml-env\\\\share\\\\nltk_data'\n    - 'C:\\\\Users\\\\gopko\\\\Documents\\\\GitHub\\\\ML-Resume-Classifier\\\\resume-ml-env\\\\lib\\\\nltk_data'\n    - 'C:\\\\Users\\\\gopko\\\\AppData\\\\Roaming\\\\nltk_data'\n    - 'C:\\\\nltk_data'\n    - 'D:\\\\nltk_data'\n    - 'E:\\\\nltk_data'\n**********************************************************************\n"
     ]
    }
   ],
   "source": [
    "import re\n",
    "from nltk.corpus import stopwords\n",
    "from nltk.tokenize import word_tokenize\n",
    "import nltk\n",
    "\n",
    "# Download required NLTK data\n",
    "nltk.download('punkt')\n",
    "nltk.download('stopwords')\n",
    "\n",
    "def clean_text(text):\n",
    "    # Convert to lowercase\n",
    "    text = text.lower()\n",
    "    \n",
    "    # Remove special characters and numbers\n",
    "    text = re.sub(r'[^a-zA-Z\\s]', '', text)\n",
    "    \n",
    "    # Tokenize the text\n",
    "    tokens = word_tokenize(text)\n",
    "    \n",
    "    # Remove stopwords\n",
    "    stop_words = set(stopwords.words('english'))\n",
    "    tokens = [token for token in tokens if token not in stop_words]\n",
    "    \n",
    "    # Join tokens back into text\n",
    "    cleaned_text = ' '.join(tokens)\n",
    "    \n",
    "    return cleaned_text\n",
    "\n",
    "# Apply the cleaning function to Job Description column\n",
    "df['Cleaned_Description'] = df['Job Description'].apply(clean_text)\n",
    "\n",
    "# Display a sample of original and cleaned text\n",
    "print(\"Original Description:\\n\")\n",
    "print(df['Job Description'].iloc[0])\n",
    "print(\"\\nCleaned Description:\\n\")\n",
    "print(df['Cleaned_Description'].iloc[0])"
   ]
  },
  {
   "cell_type": "code",
   "execution_count": 7,
   "id": "e0bedf22-90c1-458d-a0c2-f2cac11d5f40",
   "metadata": {},
   "outputs": [
    {
     "name": "stdout",
     "output_type": "stream",
     "text": [
      "Requirement already satisfied: nltk in c:\\users\\gopko\\documents\\github\\ml-resume-classifier\\resume-ml-env\\lib\\site-packages (3.9.1)\n",
      "Requirement already satisfied: pandas in c:\\users\\gopko\\documents\\github\\ml-resume-classifier\\resume-ml-env\\lib\\site-packages (2.2.3)\n",
      "Requirement already satisfied: numpy in c:\\users\\gopko\\documents\\github\\ml-resume-classifier\\resume-ml-env\\lib\\site-packages (2.0.2)\n",
      "Requirement already satisfied: click in c:\\users\\gopko\\documents\\github\\ml-resume-classifier\\resume-ml-env\\lib\\site-packages (from nltk) (8.1.8)\n",
      "Requirement already satisfied: joblib in c:\\users\\gopko\\documents\\github\\ml-resume-classifier\\resume-ml-env\\lib\\site-packages (from nltk) (1.4.2)\n",
      "Requirement already satisfied: regex>=2021.8.3 in c:\\users\\gopko\\documents\\github\\ml-resume-classifier\\resume-ml-env\\lib\\site-packages (from nltk) (2024.11.6)\n",
      "Requirement already satisfied: tqdm in c:\\users\\gopko\\documents\\github\\ml-resume-classifier\\resume-ml-env\\lib\\site-packages (from nltk) (4.67.1)\n",
      "Requirement already satisfied: python-dateutil>=2.8.2 in c:\\users\\gopko\\documents\\github\\ml-resume-classifier\\resume-ml-env\\lib\\site-packages (from pandas) (2.9.0.post0)\n",
      "Requirement already satisfied: pytz>=2020.1 in c:\\users\\gopko\\documents\\github\\ml-resume-classifier\\resume-ml-env\\lib\\site-packages (from pandas) (2025.1)\n",
      "Requirement already satisfied: tzdata>=2022.7 in c:\\users\\gopko\\documents\\github\\ml-resume-classifier\\resume-ml-env\\lib\\site-packages (from pandas) (2025.1)\n",
      "Requirement already satisfied: six>=1.5 in c:\\users\\gopko\\documents\\github\\ml-resume-classifier\\resume-ml-env\\lib\\site-packages (from python-dateutil>=2.8.2->pandas) (1.17.0)\n",
      "Requirement already satisfied: colorama in c:\\users\\gopko\\documents\\github\\ml-resume-classifier\\resume-ml-env\\lib\\site-packages (from click->nltk) (0.4.6)\n"
     ]
    }
   ],
   "source": [
    "# Install required libraries if you haven't already\n",
    "!pip install nltk pandas numpy\n",
    "\n"
   ]
  },
  {
   "cell_type": "code",
   "execution_count": 8,
   "id": "51de58b8-5dc4-468f-98f3-470d4c4de3a7",
   "metadata": {},
   "outputs": [
    {
     "name": "stdout",
     "output_type": "stream",
     "text": [
      "Libraries imported successfully!\n"
     ]
    },
    {
     "name": "stderr",
     "output_type": "stream",
     "text": [
      "[nltk_data] Downloading package punkt to\n",
      "[nltk_data]     C:\\Users\\gopko\\AppData\\Roaming\\nltk_data...\n",
      "[nltk_data]   Package punkt is already up-to-date!\n",
      "[nltk_data] Downloading package stopwords to\n",
      "[nltk_data]     C:\\Users\\gopko\\AppData\\Roaming\\nltk_data...\n",
      "[nltk_data]   Package stopwords is already up-to-date!\n"
     ]
    }
   ],
   "source": [
    "import pandas as pd\n",
    "import numpy as np\n",
    "import nltk\n",
    "from nltk.corpus import stopwords\n",
    "from nltk.tokenize import word_tokenize\n",
    "import re\n",
    "\n",
    "# Download NLTK data\n",
    "nltk.download('punkt')\n",
    "nltk.download('stopwords')\n",
    "\n",
    "# Print to confirm imports worked\n",
    "print(\"Libraries imported successfully!\")"
   ]
  },
  {
   "cell_type": "code",
   "execution_count": 9,
   "id": "75e30ea3-ef57-418f-a0d3-3724aa688211",
   "metadata": {},
   "outputs": [
    {
     "name": "stdout",
     "output_type": "stream",
     "text": [
      "First row of Job Description:\n",
      "\n",
      "We are looking for hire experts flutter developer. So you are eligible this post then apply your resume.\n",
      "Job Types: Full-time, Part-time\n",
      "Salary: ₹20,000.00 - ₹40,000.00 per month\n",
      "Benefits:\n",
      "Flexible schedule\n",
      "Food allowance\n",
      "Schedule:\n",
      "Day shift\n",
      "Supplemental Pay:\n",
      "Joining bonus\n",
      "Overtime pay\n",
      "Experience:\n",
      "total work: 1 year (Preferred)\n",
      "Housing rent subsidy:\n",
      "Yes\n",
      "Industry:\n",
      "Software Development\n",
      "Work Remotely:\n",
      "Temporarily due to COVID-19\n"
     ]
    }
   ],
   "source": [
    "print(\"First row of Job Description:\\n\")\n",
    "print(df['Job Description'].iloc[0])\n"
   ]
  },
  {
   "cell_type": "code",
   "execution_count": 11,
   "id": "e976b7c4-60a0-4aca-9d62-e9fa1a82c351",
   "metadata": {},
   "outputs": [
    {
     "name": "stderr",
     "output_type": "stream",
     "text": [
      "[nltk_data] Downloading package punkt to\n",
      "[nltk_data]     C:\\Users\\gopko\\AppData\\Roaming\\nltk_data...\n",
      "[nltk_data]   Package punkt is already up-to-date!\n",
      "[nltk_data] Downloading package stopwords to\n",
      "[nltk_data]     C:\\Users\\gopko\\AppData\\Roaming\\nltk_data...\n",
      "[nltk_data]   Package stopwords is already up-to-date!\n",
      "[nltk_data] Downloading package averaged_perceptron_tagger to\n",
      "[nltk_data]     C:\\Users\\gopko\\AppData\\Roaming\\nltk_data...\n"
     ]
    },
    {
     "name": "stdout",
     "output_type": "stream",
     "text": [
      "NLTK downloads completed!\n"
     ]
    },
    {
     "name": "stderr",
     "output_type": "stream",
     "text": [
      "[nltk_data]   Unzipping taggers\\averaged_perceptron_tagger.zip.\n"
     ]
    }
   ],
   "source": [
    "import nltk\n",
    "\n",
    "# Download required NLTK packages\n",
    "nltk.download('punkt')\n",
    "nltk.download('stopwords')\n",
    "nltk.download('averaged_perceptron_tagger')\n",
    "\n",
    "print(\"NLTK downloads completed!\")\n",
    "\n"
   ]
  },
  {
   "cell_type": "code",
   "execution_count": 12,
   "id": "8615cc50-32e4-44fb-acb2-756f952ec897",
   "metadata": {},
   "outputs": [
    {
     "name": "stdout",
     "output_type": "stream",
     "text": [
      "Original Description:\n",
      "\n",
      "We are looking for hire experts flutter developer. So you are eligible this post then apply your resume.\n",
      "Job Types: Full-time, Part-time\n",
      "Salary: ₹20,000.00 - ₹40,000.00 per month\n",
      "Benefits:\n",
      "Flexible schedule\n",
      "Food allowance\n",
      "Schedule:\n",
      "Day shift\n",
      "Supplemental Pay:\n",
      "Joining bonus\n",
      "Overtime pay\n",
      "Experience:\n",
      "total work: 1 year (Preferred)\n",
      "Housing rent subsidy:\n",
      "Yes\n",
      "Industry:\n",
      "Software Development\n",
      "Work Remotely:\n",
      "Temporarily due to COVID-19\n",
      "\n",
      "Cleaned Description:\n",
      "\n",
      "looking hire experts flutter developer eligible post apply resume job types fulltime parttime salary per month benefits flexible schedule food allowance schedule day shift supplemental pay joining bonus overtime pay experience total work year preferred housing rent subsidy yes industry software development work remotely temporarily due covid\n"
     ]
    }
   ],
   "source": [
    "import re\n",
    "from nltk.corpus import stopwords\n",
    "\n",
    "def clean_text(text):\n",
    "    # Convert to lowercase\n",
    "    text = text.lower()\n",
    "    \n",
    "    # Remove special characters and numbers\n",
    "    text = re.sub(r'[^a-zA-Z\\s]', '', text)\n",
    "    \n",
    "    # Split into words\n",
    "    words = text.split()\n",
    "    \n",
    "    # Remove stopwords\n",
    "    stop_words = set(stopwords.words('english'))\n",
    "    words = [word for word in words if word not in stop_words]\n",
    "    \n",
    "    # Join words back together\n",
    "    cleaned_text = ' '.join(words)\n",
    "    \n",
    "    return cleaned_text\n",
    "\n",
    "# Apply the cleaning function to Job Description column\n",
    "df['Cleaned_Description'] = df['Job Description'].apply(clean_text)\n",
    "\n",
    "# Show example of original and cleaned text\n",
    "print(\"Original Description:\\n\")\n",
    "print(df['Job Description'].iloc[0])\n",
    "print(\"\\nCleaned Description:\\n\")\n",
    "print(df['Cleaned_Description'].iloc[0])\n"
   ]
  },
  {
   "cell_type": "code",
   "execution_count": 13,
   "id": "5d11c254-a0fa-412b-ada4-838b9cf2a7d1",
   "metadata": {},
   "outputs": [
    {
     "name": "stdout",
     "output_type": "stream",
     "text": [
      "Dataset shape: (2277, 3)\n",
      "\n",
      "Columns: ['Job Title', 'Job Description', 'Cleaned_Description']\n",
      "\n",
      "Job title distribution:\n",
      "Job Title\n",
      "JavaScript Developer      166\n",
      "Java Developer            161\n",
      "Software Engineer         160\n",
      "Node js developer         160\n",
      "iOS Developer             159\n",
      "PHP Developer             156\n",
      "Flutter Developer         155\n",
      "DevOps Engineer           155\n",
      "Django Developer          152\n",
      "Machine Learning          152\n",
      "Backend Developer         147\n",
      "Network Administrator     145\n",
      "Database Administrator    139\n",
      "Full Stack Developer      138\n",
      "Wordpress Developer       132\n",
      "Name: count, dtype: int64\n",
      "\n",
      "Description length statistics:\n",
      "\n",
      "Original text length:\n",
      "count     2277.000000\n",
      "mean      1986.595520\n",
      "std       1442.771512\n",
      "min        116.000000\n",
      "25%        921.000000\n",
      "50%       1604.000000\n",
      "75%       2691.000000\n",
      "max      10802.000000\n",
      "Name: Original_Length, dtype: float64\n",
      "\n",
      "Cleaned text length:\n",
      "count    2277.000000\n",
      "mean     1634.038208\n",
      "std      1189.087356\n",
      "min        90.000000\n",
      "25%       743.000000\n",
      "50%      1314.000000\n",
      "75%      2235.000000\n",
      "max      8166.000000\n",
      "Name: Cleaned_Length, dtype: float64\n",
      "\n",
      "Random samples from different job titles:\n",
      "\n",
      "Job Title: Full Stack Developer\n",
      "Original first 100 chars: job responsibility full stack engineer – react role make impact petsmart transforming engineering te\n",
      "Cleaned first 100 chars: job responsibility full stack engineer react role make impact petsmart transforming engineering team\n",
      "\n",
      "Job Title: Flutter Developer\n",
      "Original first 100 chars: We are looking for hire experts flutter developer. So you are eligible this post then apply your res\n",
      "Cleaned first 100 chars: looking hire experts flutter developer eligible post apply resume job types fulltime parttime salary\n",
      "\n",
      "Job Title: Network Administrator\n",
      "Original first 100 chars: BE / BCA / any bachelor degree\n",
      "Certification: -\n",
      "CCNP, CCNA\n",
      "Experience\n",
      "1 + years of overall experienc\n",
      "Cleaned first 100 chars: bca bachelor degree certification ccnp ccna experience years overall experience network security eng\n"
     ]
    }
   ],
   "source": [
    "# Basic dataset information\n",
    "print(\"Dataset shape:\", df.shape)\n",
    "print(\"\\nColumns:\", df.columns.tolist())\n",
    "\n",
    "# Check distribution of job titles\n",
    "print(\"\\nJob title distribution:\")\n",
    "print(df['Job Title'].value_counts())\n",
    "\n",
    "# Look at average length of job descriptions before and after cleaning\n",
    "df['Original_Length'] = df['Job Description'].str.len()\n",
    "df['Cleaned_Length'] = df['Cleaned_Description'].str.len()\n",
    "\n",
    "print(\"\\nDescription length statistics:\")\n",
    "print(\"\\nOriginal text length:\")\n",
    "print(df['Original_Length'].describe())\n",
    "print(\"\\nCleaned text length:\")\n",
    "print(df['Cleaned_Length'].describe())\n",
    "\n",
    "# Check a few random samples\n",
    "print(\"\\nRandom samples from different job titles:\")\n",
    "for job_title in df['Job Title'].sample(3):\n",
    "    print(f\"\\nJob Title: {job_title}\")\n",
    "    idx = df[df['Job Title'] == job_title].index[0]\n",
    "    print(\"Original first 100 chars:\", df.loc[idx, 'Job Description'][:100])\n",
    "    print(\"Cleaned first 100 chars:\", df.loc[idx, 'Cleaned_Description'][:100])\n"
   ]
  },
  {
   "cell_type": "code",
   "execution_count": 14,
   "id": "209cf020-b076-45f1-b461-4307ac8ee43e",
   "metadata": {},
   "outputs": [
    {
     "name": "stdout",
     "output_type": "stream",
     "text": [
      "Number of features: 1000\n",
      "\n",
      "Sample of feature names:\n",
      "['ability', 'able', 'access', 'accessibility', 'accommodation', 'account', 'achieve', 'across', 'act', 'action']\n",
      "\n",
      "Training set shape: (1821, 1000)\n",
      "Testing set shape: (456, 1000)\n"
     ]
    }
   ],
   "source": [
    "from sklearn.feature_extraction.text import TfidfVectorizer\n",
    "from sklearn.model_selection import train_test_split\n",
    "\n",
    "# Create TF-IDF vectorizer\n",
    "vectorizer = TfidfVectorizer(max_features=1000)  # Limiting to top 1000 features\n",
    "\n",
    "# Convert text to TF-IDF features\n",
    "X = vectorizer.fit_transform(df['Cleaned_Description'])\n",
    "\n",
    "# Prepare labels (job titles)\n",
    "y = df['Job Title']\n",
    "\n",
    "# Split the data into training and testing sets\n",
    "X_train, X_test, y_train, y_test = train_test_split(X, y, test_size=0.2, random_state=42)\n",
    "\n",
    "# Print some information about our features\n",
    "print(\"Number of features:\", X.shape[1])\n",
    "print(\"\\nSample of feature names:\")\n",
    "print(list(vectorizer.get_feature_names_out())[:10])\n",
    "print(\"\\nTraining set shape:\", X_train.shape)\n",
    "print(\"Testing set shape:\", X_test.shape)\n"
   ]
  },
  {
   "cell_type": "code",
   "execution_count": 15,
   "id": "4a991d7b-da53-4a69-b078-f45daca4ea52",
   "metadata": {},
   "outputs": [
    {
     "name": "stdout",
     "output_type": "stream",
     "text": [
      "Logistic Regression Accuracy: 0.83\n",
      "\n",
      "Classification Report:\n",
      "                         precision    recall  f1-score   support\n",
      "\n",
      "     Backend Developer       0.50      0.41      0.45        32\n",
      "Database Administrator       0.93      1.00      0.96        26\n",
      "       DevOps Engineer       0.97      0.84      0.90        38\n",
      "      Django Developer       0.86      0.83      0.84        29\n",
      "     Flutter Developer       0.92      0.97      0.94        35\n",
      "  Full Stack Developer       1.00      0.96      0.98        23\n",
      "        Java Developer       0.75      0.71      0.73        38\n",
      "  JavaScript Developer       0.80      0.82      0.81        39\n",
      "      Machine Learning       0.92      0.86      0.89        28\n",
      " Network Administrator       0.81      0.94      0.87        18\n",
      "     Node js developer       0.90      0.79      0.84        34\n",
      "         PHP Developer       0.78      0.96      0.86        26\n",
      "     Software Engineer       0.54      0.78      0.64        32\n",
      "   Wordpress Developer       0.95      0.87      0.91        23\n",
      "         iOS Developer       1.00      0.86      0.92        35\n",
      "\n",
      "              accuracy                           0.83       456\n",
      "             macro avg       0.84      0.84      0.84       456\n",
      "          weighted avg       0.84      0.83      0.83       456\n",
      "\n"
     ]
    }
   ],
   "source": [
    "from sklearn.linear_model import LogisticRegression\n",
    "from sklearn.metrics import accuracy_score, classification_report\n",
    "\n",
    "# Initialize the Logistic Regression model\n",
    "log_reg = LogisticRegression(max_iter=1000, random_state=42)\n",
    "\n",
    "# Train the model on training data\n",
    "log_reg.fit(X_train, y_train)\n",
    "\n",
    "# Make predictions on test data\n",
    "y_pred = log_reg.predict(X_test)\n",
    "\n",
    "# Evaluate the model\n",
    "accuracy = accuracy_score(y_test, y_pred)\n",
    "print(f\"Logistic Regression Accuracy: {accuracy:.2f}\")\n",
    "\n",
    "# Show detailed classification report\n",
    "print(\"\\nClassification Report:\\n\", classification_report(y_test, y_pred))\n"
   ]
  },
  {
   "cell_type": "code",
   "execution_count": 16,
   "id": "5cf54712-02e0-481a-8ae5-f6f674c7f9de",
   "metadata": {},
   "outputs": [
    {
     "name": "stdout",
     "output_type": "stream",
     "text": [
      "Best Hyperparameters: {'C': 1, 'max_iter': 1000, 'penalty': 'l2', 'solver': 'lbfgs'}\n",
      "Optimized Logistic Regression Accuracy: 0.83\n",
      "\n",
      "Classification Report:\n",
      "                         precision    recall  f1-score   support\n",
      "\n",
      "     Backend Developer       0.50      0.41      0.45        32\n",
      "Database Administrator       0.93      1.00      0.96        26\n",
      "       DevOps Engineer       0.97      0.84      0.90        38\n",
      "      Django Developer       0.86      0.83      0.84        29\n",
      "     Flutter Developer       0.92      0.97      0.94        35\n",
      "  Full Stack Developer       1.00      0.96      0.98        23\n",
      "        Java Developer       0.75      0.71      0.73        38\n",
      "  JavaScript Developer       0.80      0.82      0.81        39\n",
      "      Machine Learning       0.92      0.86      0.89        28\n",
      " Network Administrator       0.81      0.94      0.87        18\n",
      "     Node js developer       0.90      0.79      0.84        34\n",
      "         PHP Developer       0.78      0.96      0.86        26\n",
      "     Software Engineer       0.54      0.78      0.64        32\n",
      "   Wordpress Developer       0.95      0.87      0.91        23\n",
      "         iOS Developer       1.00      0.86      0.92        35\n",
      "\n",
      "              accuracy                           0.83       456\n",
      "             macro avg       0.84      0.84      0.84       456\n",
      "          weighted avg       0.84      0.83      0.83       456\n",
      "\n"
     ]
    }
   ],
   "source": [
    "from sklearn.model_selection import GridSearchCV\n",
    "from sklearn.linear_model import LogisticRegression\n",
    "\n",
    "# Define the hyperparameter grid\n",
    "param_grid = {\n",
    "    'C': [0.01, 0.1, 1, 10, 100],  # Different regularization strengths\n",
    "    'penalty': ['l2'],  # L2 regularization (Ridge)\n",
    "    'solver': ['lbfgs', 'saga'],  # Optimizers\n",
    "    'max_iter': [1000, 2000]  # Ensure convergence\n",
    "}\n",
    "\n",
    "# Initialize Logistic Regression\n",
    "log_reg = LogisticRegression()\n",
    "\n",
    "# Use GridSearchCV to find the best parameters\n",
    "grid_search = GridSearchCV(log_reg, param_grid, cv=5, scoring='accuracy', n_jobs=-1)\n",
    "grid_search.fit(X_train, y_train)\n",
    "\n",
    "# Print the best hyperparameters\n",
    "print(\"Best Hyperparameters:\", grid_search.best_params_)\n",
    "\n",
    "# Train a new model using the best parameters\n",
    "best_log_reg = LogisticRegression(**grid_search.best_params_)\n",
    "best_log_reg.fit(X_train, y_train)\n",
    "\n",
    "# Make predictions\n",
    "y_pred = best_log_reg.predict(X_test)\n",
    "\n",
    "# Evaluate the optimized model\n",
    "from sklearn.metrics import accuracy_score, classification_report\n",
    "accuracy = accuracy_score(y_test, y_pred)\n",
    "print(f\"Optimized Logistic Regression Accuracy: {accuracy:.2f}\")\n",
    "\n",
    "# Show classification report\n",
    "print(\"\\nClassification Report:\\n\", classification_report(y_test, y_pred))\n"
   ]
  },
  {
   "cell_type": "code",
   "execution_count": 17,
   "id": "6aefe51e-752a-4415-b336-2b7967c20773",
   "metadata": {},
   "outputs": [
    {
     "name": "stdout",
     "output_type": "stream",
     "text": [
      "Job Category Distribution:\n",
      " Job Title\n",
      "JavaScript Developer      166\n",
      "Java Developer            161\n",
      "Software Engineer         160\n",
      "Node js developer         160\n",
      "iOS Developer             159\n",
      "PHP Developer             156\n",
      "Flutter Developer         155\n",
      "DevOps Engineer           155\n",
      "Django Developer          152\n",
      "Machine Learning          152\n",
      "Backend Developer         147\n",
      "Network Administrator     145\n",
      "Database Administrator    139\n",
      "Full Stack Developer      138\n",
      "Wordpress Developer       132\n",
      "Name: count, dtype: int64\n"
     ]
    },
    {
     "data": {
      "image/png": "[encoded data removed]",
      "text/plain": [
       "<Figure size 1200x600 with 1 Axes>"
      ]
     },
     "metadata": {},
     "output_type": "display_data"
    }
   ],
   "source": [
    "import matplotlib.pyplot as plt\n",
    "\n",
    "# Count occurrences of each job title\n",
    "job_counts = df['Job Title'].value_counts()\n",
    "\n",
    "# Display counts\n",
    "print(\"Job Category Distribution:\\n\", job_counts)\n",
    "\n",
    "# Plot class distribution\n",
    "plt.figure(figsize=(12, 6))\n",
    "job_counts.plot(kind='bar', color='skyblue')\n",
    "plt.xlabel(\"Job Title\")\n",
    "plt.ylabel(\"Number of Resumes\")\n",
    "plt.title(\"Resume Count per Job Category\")\n",
    "plt.xticks(rotation=90)\n",
    "plt.show()\n"
   ]
  },
  {
   "cell_type": "code",
   "execution_count": 18,
   "id": "a749b820-2f58-4b04-bb4a-4b15762ce12f",
   "metadata": {},
   "outputs": [
    {
     "ename": "ModuleNotFoundError",
     "evalue": "No module named 'imblearn'",
     "output_type": "error",
     "traceback": [
      "\u001b[1;31m---------------------------------------------------------------------------\u001b[0m",
      "\u001b[1;31mModuleNotFoundError\u001b[0m                       Traceback (most recent call last)",
      "Cell \u001b[1;32mIn[18], line 1\u001b[0m\n\u001b[1;32m----> 1\u001b[0m \u001b[38;5;28;01mfrom\u001b[39;00m\u001b[38;5;250m \u001b[39m\u001b[38;5;21;01mimblearn\u001b[39;00m\u001b[38;5;21;01m.\u001b[39;00m\u001b[38;5;21;01mover_sampling\u001b[39;00m\u001b[38;5;250m \u001b[39m\u001b[38;5;28;01mimport\u001b[39;00m SMOTE\n\u001b[0;32m      2\u001b[0m \u001b[38;5;28;01mfrom\u001b[39;00m\u001b[38;5;250m \u001b[39m\u001b[38;5;21;01mcollections\u001b[39;00m\u001b[38;5;250m \u001b[39m\u001b[38;5;28;01mimport\u001b[39;00m Counter\n\u001b[0;32m      4\u001b[0m \u001b[38;5;66;03m# Apply SMOTE to balance job categories\u001b[39;00m\n",
      "\u001b[1;31mModuleNotFoundError\u001b[0m: No module named 'imblearn'"
     ]
    }
   ],
   "source": [
    "from imblearn.over_sampling import SMOTE\n",
    "from collections import Counter\n",
    "\n",
    "# Apply SMOTE to balance job categories\n",
    "smote = SMOTE(random_state=42)\n",
    "X_train_balanced, y_train_balanced = smote.fit_resample(X_train, y_train)\n",
    "\n",
    "# Print new distribution\n",
    "print(\"Before SMOTE:\", Counter(y_train))\n",
    "print(\"After SMOTE:\", Counter(y_train_balanced))"
   ]
  },
  {
   "cell_type": "code",
   "execution_count": 19,
   "id": "8ff6e59e-e9fc-4dac-9f5a-d57b4f29b178",
   "metadata": {},
   "outputs": [
    {
     "name": "stdout",
     "output_type": "stream",
     "text": [
      "Collecting imbalanced-learn\n",
      "  Downloading imbalanced_learn-0.13.0-py3-none-any.whl.metadata (8.8 kB)\n",
      "Requirement already satisfied: numpy<3,>=1.24.3 in c:\\users\\gopko\\documents\\github\\ml-resume-classifier\\resume-ml-env\\lib\\site-packages (from imbalanced-learn) (2.0.2)\n",
      "Requirement already satisfied: scipy<2,>=1.10.1 in c:\\users\\gopko\\documents\\github\\ml-resume-classifier\\resume-ml-env\\lib\\site-packages (from imbalanced-learn) (1.15.2)\n",
      "Requirement already satisfied: scikit-learn<2,>=1.3.2 in c:\\users\\gopko\\documents\\github\\ml-resume-classifier\\resume-ml-env\\lib\\site-packages (from imbalanced-learn) (1.6.1)\n",
      "Collecting sklearn-compat<1,>=0.1 (from imbalanced-learn)\n",
      "  Downloading sklearn_compat-0.1.3-py3-none-any.whl.metadata (18 kB)\n",
      "Requirement already satisfied: joblib<2,>=1.1.1 in c:\\users\\gopko\\documents\\github\\ml-resume-classifier\\resume-ml-env\\lib\\site-packages (from imbalanced-learn) (1.4.2)\n",
      "Requirement already satisfied: threadpoolctl<4,>=2.0.0 in c:\\users\\gopko\\documents\\github\\ml-resume-classifier\\resume-ml-env\\lib\\site-packages (from imbalanced-learn) (3.5.0)\n",
      "Downloading imbalanced_learn-0.13.0-py3-none-any.whl (238 kB)\n",
      "Downloading sklearn_compat-0.1.3-py3-none-any.whl (18 kB)\n",
      "Installing collected packages: sklearn-compat, imbalanced-learn\n",
      "Successfully installed imbalanced-learn-0.13.0 sklearn-compat-0.1.3\n",
      "Note: you may need to restart the kernel to use updated packages.\n"
     ]
    }
   ],
   "source": [
    "pip install imbalanced-learn\n"
   ]
  },
  {
   "cell_type": "code",
   "execution_count": 20,
   "id": "b66c3d90-9efb-464b-8049-60d9cff59768",
   "metadata": {},
   "outputs": [
    {
     "name": "stdout",
     "output_type": "stream",
     "text": [
      "Requirement already satisfied: imbalanced-learn in c:\\users\\gopko\\documents\\github\\ml-resume-classifier\\resume-ml-env\\lib\\site-packages (0.13.0)\n",
      "Requirement already satisfied: numpy<3,>=1.24.3 in c:\\users\\gopko\\documents\\github\\ml-resume-classifier\\resume-ml-env\\lib\\site-packages (from imbalanced-learn) (2.0.2)\n",
      "Requirement already satisfied: scipy<2,>=1.10.1 in c:\\users\\gopko\\documents\\github\\ml-resume-classifier\\resume-ml-env\\lib\\site-packages (from imbalanced-learn) (1.15.2)\n",
      "Requirement already satisfied: scikit-learn<2,>=1.3.2 in c:\\users\\gopko\\documents\\github\\ml-resume-classifier\\resume-ml-env\\lib\\site-packages (from imbalanced-learn) (1.6.1)\n",
      "Requirement already satisfied: sklearn-compat<1,>=0.1 in c:\\users\\gopko\\documents\\github\\ml-resume-classifier\\resume-ml-env\\lib\\site-packages (from imbalanced-learn) (0.1.3)\n",
      "Requirement already satisfied: joblib<2,>=1.1.1 in c:\\users\\gopko\\documents\\github\\ml-resume-classifier\\resume-ml-env\\lib\\site-packages (from imbalanced-learn) (1.4.2)\n",
      "Requirement already satisfied: threadpoolctl<4,>=2.0.0 in c:\\users\\gopko\\documents\\github\\ml-resume-classifier\\resume-ml-env\\lib\\site-packages (from imbalanced-learn) (3.5.0)\n"
     ]
    }
   ],
   "source": [
    "!pip install imbalanced-learn\n"
   ]
  },
  {
   "cell_type": "code",
   "execution_count": 21,
   "id": "4b8f659e-c47a-43fe-8231-e8c4b097ff57",
   "metadata": {},
   "outputs": [
    {
     "name": "stdout",
     "output_type": "stream",
     "text": [
      "Imbalanced-learn version: 0.13.0\n"
     ]
    }
   ],
   "source": [
    "import imblearn\n",
    "print(\"Imbalanced-learn version:\", imblearn.__version__)\n"
   ]
  },
  {
   "cell_type": "code",
   "execution_count": 22,
   "id": "ee433d8e-168c-4fbb-a8df-eac37f047b44",
   "metadata": {},
   "outputs": [
    {
     "name": "stdout",
     "output_type": "stream",
     "text": [
      "Before SMOTE: Counter({'PHP Developer': 130, 'Software Engineer': 128, 'Network Administrator': 127, 'JavaScript Developer': 127, 'Node js developer': 126, 'Machine Learning': 124, 'iOS Developer': 124, 'Java Developer': 123, 'Django Developer': 123, 'Flutter Developer': 120, 'DevOps Engineer': 117, 'Backend Developer': 115, 'Full Stack Developer': 115, 'Database Administrator': 113, 'Wordpress Developer': 109})\n",
      "After SMOTE: Counter({'Backend Developer': 130, 'Network Administrator': 130, 'Machine Learning': 130, 'DevOps Engineer': 130, 'PHP Developer': 130, 'JavaScript Developer': 130, 'Software Engineer': 130, 'iOS Developer': 130, 'Java Developer': 130, 'Node js developer': 130, 'Django Developer': 130, 'Full Stack Developer': 130, 'Database Administrator': 130, 'Wordpress Developer': 130, 'Flutter Developer': 130})\n"
     ]
    }
   ],
   "source": [
    "from imblearn.over_sampling import SMOTE\n",
    "from collections import Counter\n",
    "\n",
    "# Apply SMOTE to balance job categories\n",
    "smote = SMOTE(random_state=42)\n",
    "X_train_balanced, y_train_balanced = smote.fit_resample(X_train, y_train)\n",
    "\n",
    "# Print new distribution\n",
    "print(\"Before SMOTE:\", Counter(y_train))\n",
    "print(\"After SMOTE:\", Counter(y_train_balanced))"
   ]
  },
  {
   "cell_type": "code",
   "execution_count": 23,
   "id": "8d9efa12-04ae-41eb-a5e1-c8c6363249e5",
   "metadata": {
    "scrolled": true
   },
   "outputs": [
    {
     "name": "stdout",
     "output_type": "stream",
     "text": [
      "Balanced Logistic Regression Accuracy: 0.83\n",
      "\n",
      "Classification Report:\n",
      "                         precision    recall  f1-score   support\n",
      "\n",
      "     Backend Developer       0.48      0.44      0.46        32\n",
      "Database Administrator       0.93      1.00      0.96        26\n",
      "       DevOps Engineer       0.97      0.84      0.90        38\n",
      "      Django Developer       0.85      0.79      0.82        29\n",
      "     Flutter Developer       0.94      0.97      0.96        35\n",
      "  Full Stack Developer       1.00      0.96      0.98        23\n",
      "        Java Developer       0.73      0.71      0.72        38\n",
      "  JavaScript Developer       0.80      0.82      0.81        39\n",
      "      Machine Learning       0.92      0.86      0.89        28\n",
      " Network Administrator       0.81      0.94      0.87        18\n",
      "     Node js developer       0.90      0.79      0.84        34\n",
      "         PHP Developer       0.78      0.96      0.86        26\n",
      "     Software Engineer       0.55      0.75      0.63        32\n",
      "   Wordpress Developer       0.95      0.87      0.91        23\n",
      "         iOS Developer       1.00      0.86      0.92        35\n",
      "\n",
      "              accuracy                           0.83       456\n",
      "             macro avg       0.84      0.84      0.84       456\n",
      "          weighted avg       0.84      0.83      0.83       456\n",
      "\n"
     ]
    }
   ],
   "source": [
    "# Train a new Logistic Regression model with balanced data\n",
    "best_log_reg_balanced = LogisticRegression(C=1, max_iter=1000, penalty='l2', solver='lbfgs')\n",
    "best_log_reg_balanced.fit(X_train_balanced, y_train_balanced)\n",
    "\n",
    "# Predict on test data\n",
    "y_pred_balanced = best_log_reg_balanced.predict(X_test)\n",
    "\n",
    "# Evaluate the balanced model\n",
    "accuracy_balanced = accuracy_score(y_test, y_pred_balanced)\n",
    "print(f\"Balanced Logistic Regression Accuracy: {accuracy_balanced:.2f}\")\n",
    "\n",
    "# Show classification report\n",
    "print(\"\\nClassification Report:\\n\", classification_report(y_test, y_pred_balanced))"
   ]
  },
  {
   "cell_type": "code",
   "execution_count": 25,
   "id": "40a04a90-04b1-4ff0-967a-ca49ffbff2be",
   "metadata": {},
   "outputs": [
    {
     "name": "stdout",
     "output_type": "stream",
     "text": [
      "\n",
      "🔍 Top Large Files:\n",
      "983.40 MB → .\\resume-ml-env\\Lib\\site-packages\\tensorflow\\python\\_pywrap_tensorflow_internal.pyd\n",
      "547.98 MB → .\\.git\\objects\\pack\\pack-741dae3e0bcaf9e7e39d31335aeadf02229a1c30.pack\n",
      "240.75 MB → .\\.git\\objects\\pack\\tmp_pack_eeZKK8\n",
      "80.10 MB → .\\resume-ml-env\\Lib\\site-packages\\clang\\native\\libclang.dll\n",
      "80.00 MB → .\\.git\\objects\\pack\\tmp_pack_D2znLc\n",
      "31.30 MB → .\\resume-ml-env\\Lib\\site-packages\\numpy.libs\\libscipy_openblas64_-caad452230ae4ddb57899b8b3a33c55c.dll\n",
      "29.07 MB → .\\resume-ml-env\\Lib\\site-packages\\pyarrow\\arrow.dll\n",
      "19.22 MB → .\\resume-ml-env\\Lib\\site-packages\\scipy.libs\\libscipy_openblas-f07f5a5d207a3a47104dca54d6d0c86a.dll\n",
      "16.22 MB → .\\data\\resumeV4.csv\n",
      "11.36 MB → .\\resume-ml-env\\Lib\\site-packages\\tensorflow\\compiler\\mlir\\stablehlo\\stablehlo_extension.pyd\n",
      "11.25 MB → .\\resume-ml-env\\Lib\\site-packages\\pydeck\\nbextension\\static\\index.js.map\n",
      "11.25 MB → .\\resume-ml-env\\share\\jupyter\\nbextensions\\pydeck\\index.js.map\n",
      "10.92 MB → .\\resume-ml-env\\Lib\\site-packages\\blis\\py.cp311-win_amd64.pyd\n",
      "10.74 MB → .\\resume-ml-env\\Lib\\site-packages\\blis\\cy.cp311-win_amd64.pyd\n",
      "10.17 MB → .\\resume-ml-env\\Lib\\site-packages\\pyarrow\\arrow_flight.dll\n",
      "9.79 MB → .\\resume-ml-env\\Lib\\site-packages\\tensorflow\\python\\_pywrap_tensorflow_internal.lib\n",
      "9.50 MB → .\\resume-ml-env\\Lib\\site-packages\\tensorflow\\compiler\\tf2xla\\ops\\_xla_ops.so\n",
      "8.88 MB → .\\resume-ml-env\\Lib\\site-packages\\grpc\\_cython\\cygrpc.cp311-win_amd64.pyd\n",
      "8.69 MB → .\\resume-ml-env\\Lib\\site-packages\\tensorflow\\python\\profiler\\internal\\_pywrap_profiler.pyd\n",
      "8.38 MB → .\\resume-ml-env\\Lib\\site-packages\\tensorflow\\include\\tensorflow\\compiler\\mlir\\tensorflow\\ir\\tf_all_ops.h.inc\n"
     ]
    }
   ],
   "source": [
    "import os\n",
    "\n",
    "def find_large_files(directory, num_files=20):\n",
    "    file_sizes = []\n",
    "    \n",
    "    for root, _, files in os.walk(directory):\n",
    "        for file in files:\n",
    "            filepath = os.path.join(root, file)\n",
    "            try:\n",
    "                size = os.path.getsize(filepath)\n",
    "                file_sizes.append((size, filepath))\n",
    "            except:\n",
    "                pass  # Ignore errors\n",
    "    \n",
    "    file_sizes.sort(reverse=True, key=lambda x: x[0])\n",
    "    \n",
    "    print(\"\\n🔍 Top Large Files:\")\n",
    "    for size, filepath in file_sizes[:num_files]:\n",
    "        print(f\"{size / (1024 * 1024):.2f} MB → {filepath}\")\n",
    "\n",
    "# Run this inside your project folder\n",
    "find_large_files(\".\")\n"
   ]
  },
  {
   "cell_type": "code",
   "execution_count": null,
   "id": "d88ea67f-dbc5-4c2d-8d61-508113c19b78",
   "metadata": {},
   "outputs": [],
   "source": []
  }
 ],
 "metadata": {
  "kernelspec": {
   "display_name": "Python 3 (resume-ml-env)",
   "language": "python",
   "name": "resume-ml-env"
  },
  "language_info": {
   "codemirror_mode": {
    "name": "ipython",
    "version": 3
   },
   "file_extension": ".py",
   "mimetype": "text/x-python",
   "name": "python",
   "nbconvert_exporter": "python",
   "pygments_lexer": "ipython3",
   "version": "3.11.6"
  }
 },
 "nbformat": 4,
 "nbformat_minor": 5
}
